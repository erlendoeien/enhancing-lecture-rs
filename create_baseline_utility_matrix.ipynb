{
 "cells": [
  {
   "cell_type": "code",
   "execution_count": 8,
   "id": "0e65e217-dbe1-4f76-ac44-3cd4a19119e8",
   "metadata": {
    "tags": []
   },
   "outputs": [],
   "source": [
    "import pandas as pd\n",
    "from scipy.sparse import csr_matrix, save_npz, load_npz\n",
    "from pathlib import Path\n",
    "import numpy as np\n",
    "from tqdm import tqdm\n",
    "import gc"
   ]
  },
  {
   "cell_type": "code",
   "execution_count": 9,
   "id": "f9759102-538d-46b8-9c67-f5b722441288",
   "metadata": {
    "tags": []
   },
   "outputs": [],
   "source": [
    "ednet_path = Path(\"ednet/conventional/all_scaled/\")\n",
    "mooc_path = Path(\"mooc/conventional/all_scaled/\")"
   ]
  },
  {
   "cell_type": "code",
   "execution_count": 10,
   "id": "36d5bce9-931c-4e2e-a3ca-62f4e81634a7",
   "metadata": {
    "tags": []
   },
   "outputs": [],
   "source": [
    "df_names = [\"train\", \"val\", \"test\", \"val_full\"]"
   ]
  },
  {
   "cell_type": "code",
   "execution_count": 11,
   "id": "9d6bc8ab-ba08-4934-b477-8e86580e4bf8",
   "metadata": {
    "tags": []
   },
   "outputs": [],
   "source": [
    "def read_ratings(path: Path):\n",
    "    return pd.read_parquet(path, columns=[\"item_id\"]).reset_index()[[\"user_id\", \"item_id\"]]\n",
    "\n",
    "def get_mappers(df):\n",
    "    item_id2int = {item_id: num for num, item_id in enumerate(df[\"item_id\"].unique())}\n",
    "    user_id2int = {user_id: num for num, user_id in enumerate(df[\"user_id\"].unique())}\n",
    "    return item_id2int, user_id2int\n",
    "    \n",
    "def encode_item_ids(df, item_mapper, user_mapper):\n",
    "    df = df.copy()\n",
    "    df[\"item_id\"] = df[\"item_id\"].map(item_mapper)\n",
    "    df[\"user_id\"] = df[\"user_id\"].map(user_mapper)\n",
    "    \n",
    "    return df\n",
    "\n",
    "def get_csr_matrix(sparse_matrix, df):\n",
    "    df_list = df.groupby(\"user_id\")[\"item_id\"].agg(set).apply(list).reset_index()[[\"user_id\", \"item_id\"]]\n",
    "    ratings = sparse_matrix.copy().astype(np.uint8).toarray()\n",
    "    for user_idx, items_idx in df_list.values.tolist():\n",
    "        ratings[user_idx, items_idx] = 1\n",
    "    return csr_matrix(ratings, dtype=float)"
   ]
  },
  {
   "cell_type": "markdown",
   "id": "abf2201e-9244-4360-8571-8b7d0ef71597",
   "metadata": {},
   "source": [
    "### Ednet"
   ]
  },
  {
   "cell_type": "code",
   "execution_count": 12,
   "id": "47aae4e3-4602-41a1-a62a-77be0a83314f",
   "metadata": {
    "tags": []
   },
   "outputs": [],
   "source": [
    "LOADED = False\n",
    "if all([(ednet_path / f\"{name}.npz\").exists() and (mooc_path / f\"{name}.npz\").exists() for name in df_names]):\n",
    "    print(\"CSR Rating matrices exists - Loading them\")\n",
    "    LOADED = True\n",
    "    ednet_ratings = {name: load_npz(ednet_path / f\"{name}.npz\") for name in df_names}\n",
    "    mooc_ratings = {name: load_npz(mooc_path / f\"{name}.npz\") for name in df_names}    "
   ]
  },
  {
   "cell_type": "code",
   "execution_count": 23,
   "id": "e92e9173-bf0d-4f39-99db-7b25ec6997ba",
   "metadata": {
    "tags": []
   },
   "outputs": [
    {
     "name": "stdout",
     "output_type": "stream",
     "text": [
      "CPU times: user 545 ms, sys: 94 ms, total: 639 ms\n",
      "Wall time: 750 ms\n"
     ]
    }
   ],
   "source": [
    "%%time\n",
    "if not LOADED:\n",
    "    ednet_full = read_ratings(ednet_path / \"test_full.parquet\")\n",
    "    ednet_item_mapper, ednet_user_mapper = get_mappers(ednet_full)\n",
    "    ednet_sparse = csr_matrix((ednet_full[\"user_id\"].nunique(), ednet_full[\"item_id\"].nunique())).tocsr()\n",
    "\n",
    "    del ednet_full\n",
    "\n",
    "    mooc_full = read_ratings(mooc_path / \"test_full.parquet\")\n",
    "    mooc_item_mapper, mooc_user_mapper = get_mappers(mooc_full)\n",
    "    mooc_sparse = csr_matrix((mooc_full[\"user_id\"].nunique(), mooc_full[\"item_id\"].nunique())).tocsr()\n",
    "    del mooc_full\n",
    "    gc.collect()"
   ]
  },
  {
   "cell_type": "code",
   "execution_count": 24,
   "id": "1b2db662-afb4-4bf9-baad-bc60e13a0179",
   "metadata": {
    "tags": []
   },
   "outputs": [
    {
     "name": "stderr",
     "output_type": "stream",
     "text": [
      "100%|████████████████████████████████████████████████████| 4/4 [00:01<00:00,  3.68it/s]\n"
     ]
    }
   ],
   "source": [
    "if not LOADED:\n",
    "    ednet_ratings = {name: get_csr_matrix(\n",
    "        ednet_sparse, encode_item_ids(\n",
    "            read_ratings(\n",
    "                ednet_path / f\"{name}.parquet\"\n",
    "            ), \n",
    "            ednet_item_mapper, \n",
    "            ednet_user_mapper\n",
    "        )\n",
    "    ) for name in tqdm(df_names)}"
   ]
  },
  {
   "cell_type": "code",
   "execution_count": 25,
   "id": "450b15d4-295f-42ad-a243-7b869f486176",
   "metadata": {
    "tags": []
   },
   "outputs": [],
   "source": [
    "if not LOADED:\n",
    "    for name, csr in ednet_ratings.items():\n",
    "        save_npz(ednet_path / f\"{name}.npz\", csr)"
   ]
  },
  {
   "cell_type": "code",
   "execution_count": 26,
   "id": "31aad32c-1a58-4348-886f-83d248f71f00",
   "metadata": {
    "tags": []
   },
   "outputs": [
    {
     "name": "stderr",
     "output_type": "stream",
     "text": [
      "100%|████████████████████████████████████████████████████| 4/4 [03:34<00:00, 53.74s/it]\n"
     ]
    }
   ],
   "source": [
    "if not LOADED:\n",
    "    mooc_ratings = {name: get_csr_matrix(\n",
    "        mooc_sparse, encode_item_ids(\n",
    "            read_ratings(\n",
    "                mooc_path / f\"{name}.parquet\"\n",
    "            ), \n",
    "            mooc_item_mapper, \n",
    "            mooc_user_mapper\n",
    "        )\n",
    "    ) for name in tqdm(df_names)}"
   ]
  },
  {
   "cell_type": "code",
   "execution_count": 27,
   "id": "cbc386f8-690b-4765-ab5d-8fc7c6dce13c",
   "metadata": {
    "tags": []
   },
   "outputs": [],
   "source": [
    "if not LOADED:\n",
    "    for name, csr in mooc_ratings.items():\n",
    "        save_npz(mooc_path / f\"{name}.npz\", csr)"
   ]
  },
  {
   "cell_type": "code",
   "execution_count": 28,
   "id": "a7f08ba0",
   "metadata": {
    "tags": []
   },
   "outputs": [
    {
     "data": {
      "text/plain": [
       "{'train': <18194x951 sparse matrix of type '<class 'numpy.float64'>'\n",
       " \twith 241624 stored elements in Compressed Sparse Row format>,\n",
       " 'val': <18194x951 sparse matrix of type '<class 'numpy.float64'>'\n",
       " \twith 18194 stored elements in Compressed Sparse Row format>,\n",
       " 'test': <18194x951 sparse matrix of type '<class 'numpy.float64'>'\n",
       " \twith 18194 stored elements in Compressed Sparse Row format>,\n",
       " 'val_full': <18194x951 sparse matrix of type '<class 'numpy.float64'>'\n",
       " \twith 257990 stored elements in Compressed Sparse Row format>}"
      ]
     },
     "execution_count": 28,
     "metadata": {},
     "output_type": "execute_result"
    }
   ],
   "source": [
    "ednet_ratings"
   ]
  },
  {
   "cell_type": "code",
   "execution_count": 29,
   "id": "f2d2c925-04f7-40b3-ad0a-7ca591bcad14",
   "metadata": {
    "tags": []
   },
   "outputs": [
    {
     "data": {
      "text/plain": [
       "{'train': <116661x158358 sparse matrix of type '<class 'numpy.float64'>'\n",
       " \twith 1077872 stored elements in Compressed Sparse Row format>,\n",
       " 'val': <116661x158358 sparse matrix of type '<class 'numpy.float64'>'\n",
       " \twith 116661 stored elements in Compressed Sparse Row format>,\n",
       " 'test': <116661x158358 sparse matrix of type '<class 'numpy.float64'>'\n",
       " \twith 116661 stored elements in Compressed Sparse Row format>,\n",
       " 'val_full': <116661x158358 sparse matrix of type '<class 'numpy.float64'>'\n",
       " \twith 1181258 stored elements in Compressed Sparse Row format>}"
      ]
     },
     "execution_count": 29,
     "metadata": {},
     "output_type": "execute_result"
    }
   ],
   "source": [
    "mooc_ratings"
   ]
  }
 ],
 "metadata": {
  "kernelspec": {
   "display_name": "Python 3 (ipykernel)",
   "language": "python",
   "name": "python3"
  },
  "language_info": {
   "codemirror_mode": {
    "name": "ipython",
    "version": 3
   },
   "file_extension": ".py",
   "mimetype": "text/x-python",
   "name": "python",
   "nbconvert_exporter": "python",
   "pygments_lexer": "ipython3",
   "version": "3.8.10"
  }
 },
 "nbformat": 4,
 "nbformat_minor": 5
}
