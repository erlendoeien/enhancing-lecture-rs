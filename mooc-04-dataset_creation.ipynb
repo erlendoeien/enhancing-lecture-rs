{
 "cells": [
  {
   "cell_type": "markdown",
   "id": "3512ccfd-7861-4c3b-92a0-8fcad861fd5e",
   "metadata": {},
   "source": [
    "# MOOCCubeX 03 - Dataset creation\n",
    "1. Remove cold users\n",
    "2. Slice sequences\n",
    "3. Explode, split and merge back in Concept ids to concept and field\n",
    "4. Encode and create embedding table\n",
    "4. Split datasets\n",
    "5. Feature scale test and validation based on training scales \n",
    "6. Listify"
   ]
  },
  {
   "cell_type": "code",
   "execution_count": 1,
   "id": "3d3338bd-2a15-4961-b24d-8d7436080b5b",
   "metadata": {
    "tags": []
   },
   "outputs": [],
   "source": [
    "import pandas as pd\n",
    "import numpy as np\n",
    "import matplotlib.pyplot as plt\n",
    "from pathlib import Path\n",
    "import dask.dataframe as dd\n",
    "import os\n",
    "from multiprocesspandas import applyparallel  # noqa\n",
    "from tqdm import tqdm\n",
    "tqdm.pandas()\n",
    "\n",
    "if (cpu_count:= int(os.environ.get(\"SLURM_JOB_CPUS_PER_NODE\"))) > 1:\n",
    "    print(f\"{cpu_count} cores are available -> Using multiprocesspandas\")\n",
    "    apply_fn = \"apply_parallel\"\n",
    "else:\n",
    "    apply_fn = \"progress_apply\"\n",
    "\n",
    "get_apply_op = lambda df: getattr(df, apply_fn)\n"
   ]
  },
  {
   "cell_type": "code",
   "execution_count": 2,
   "id": "f59f5c07-5d06-4f50-a0a5-d163256bcaf3",
   "metadata": {
    "tags": []
   },
   "outputs": [],
   "source": [
    "mooc_path = Path(\"~/fall_project/MOOCCubeX\")\n",
    "relations_path = mooc_path / \"relations\""
   ]
  },
  {
   "cell_type": "code",
   "execution_count": 3,
   "id": "f8f0fff8-afeb-4985-a1d3-c4d55d55e52b",
   "metadata": {
    "tags": []
   },
   "outputs": [],
   "source": [
    "ITEM_COL = \"item_id\"\n",
    "USER_COL = \"user_id\"\n",
    "TIME_COL = \"timestamp\"\n",
    "SESSION_COL = \"session_id\"\n",
    "CONSECUTIVE_COL = \"item_consecutive_id\""
   ]
  },
  {
   "cell_type": "code",
   "execution_count": 6,
   "id": "2e89bcd9-e8e8-4a83-b061-d8ca1f55eb00",
   "metadata": {
    "tags": []
   },
   "outputs": [
    {
     "name": "stdout",
     "output_type": "stream",
     "text": [
      "CPU times: user 4.77 s, sys: 1.14 s, total: 5.91 s\n",
      "Wall time: 7.02 s\n"
     ]
    },
    {
     "data": {
      "text/html": [
       "<div>\n",
       "<style scoped>\n",
       "    .dataframe tbody tr th:only-of-type {\n",
       "        vertical-align: middle;\n",
       "    }\n",
       "\n",
       "    .dataframe tbody tr th {\n",
       "        vertical-align: top;\n",
       "    }\n",
       "\n",
       "    .dataframe thead th {\n",
       "        text-align: right;\n",
       "    }\n",
       "</style>\n",
       "<table border=\"1\" class=\"dataframe\">\n",
       "  <thead>\n",
       "    <tr style=\"text-align: right;\">\n",
       "      <th></th>\n",
       "      <th></th>\n",
       "      <th></th>\n",
       "      <th>time_spent</th>\n",
       "      <th>num_forward</th>\n",
       "      <th>num_backward</th>\n",
       "      <th>num_pause</th>\n",
       "      <th>median_pause</th>\n",
       "      <th>std_speed</th>\n",
       "      <th>avg_speed</th>\n",
       "      <th>eff_speed</th>\n",
       "      <th>seg_rep_0</th>\n",
       "      <th>seg_rep_1</th>\n",
       "      <th>...</th>\n",
       "      <th>seg_rep_60</th>\n",
       "      <th>time_comp</th>\n",
       "      <th>time_played</th>\n",
       "      <th>replay_length</th>\n",
       "      <th>skipped_length</th>\n",
       "      <th>concept_id</th>\n",
       "      <th>item_id</th>\n",
       "      <th>ccid</th>\n",
       "      <th>timestamp</th>\n",
       "      <th>backward_gap</th>\n",
       "    </tr>\n",
       "    <tr>\n",
       "      <th>user_id</th>\n",
       "      <th>item_consecutive_id</th>\n",
       "      <th>session_id</th>\n",
       "      <th></th>\n",
       "      <th></th>\n",
       "      <th></th>\n",
       "      <th></th>\n",
       "      <th></th>\n",
       "      <th></th>\n",
       "      <th></th>\n",
       "      <th></th>\n",
       "      <th></th>\n",
       "      <th></th>\n",
       "      <th></th>\n",
       "      <th></th>\n",
       "      <th></th>\n",
       "      <th></th>\n",
       "      <th></th>\n",
       "      <th></th>\n",
       "      <th></th>\n",
       "      <th></th>\n",
       "      <th></th>\n",
       "      <th></th>\n",
       "      <th></th>\n",
       "    </tr>\n",
       "  </thead>\n",
       "  <tbody>\n",
       "    <tr>\n",
       "      <th rowspan=\"5\" valign=\"top\">U_10012383</th>\n",
       "      <th>1</th>\n",
       "      <th>0</th>\n",
       "      <td>4610.0</td>\n",
       "      <td>83.0</td>\n",
       "      <td>0.0</td>\n",
       "      <td>83.0</td>\n",
       "      <td>35.00</td>\n",
       "      <td>0.0</td>\n",
       "      <td>1.00</td>\n",
       "      <td>0.0</td>\n",
       "      <td>0.0</td>\n",
       "      <td>0.0</td>\n",
       "      <td>...</td>\n",
       "      <td>0.0</td>\n",
       "      <td>510.00</td>\n",
       "      <td>510.00</td>\n",
       "      <td>0.0</td>\n",
       "      <td>4100.00</td>\n",
       "      <td>[]</td>\n",
       "      <td>V_6043038</td>\n",
       "      <td>D5404B143F1DBF5F9C33DC5901307461</td>\n",
       "      <td>1597690842</td>\n",
       "      <td>10.0</td>\n",
       "    </tr>\n",
       "    <tr>\n",
       "      <th>2</th>\n",
       "      <th>0</th>\n",
       "      <td>4055.0</td>\n",
       "      <td>38.0</td>\n",
       "      <td>0.0</td>\n",
       "      <td>38.0</td>\n",
       "      <td>15.00</td>\n",
       "      <td>0.0</td>\n",
       "      <td>1.00</td>\n",
       "      <td>0.0</td>\n",
       "      <td>0.0</td>\n",
       "      <td>0.0</td>\n",
       "      <td>...</td>\n",
       "      <td>0.0</td>\n",
       "      <td>1905.00</td>\n",
       "      <td>1905.00</td>\n",
       "      <td>0.0</td>\n",
       "      <td>1139.00</td>\n",
       "      <td>[]</td>\n",
       "      <td>V_6043053</td>\n",
       "      <td>304D06F0510274079C33DC5901307461</td>\n",
       "      <td>1597713365</td>\n",
       "      <td>50.0</td>\n",
       "    </tr>\n",
       "    <tr>\n",
       "      <th>3</th>\n",
       "      <th>0</th>\n",
       "      <td>75.0</td>\n",
       "      <td>0.0</td>\n",
       "      <td>0.0</td>\n",
       "      <td>0.0</td>\n",
       "      <td>NaN</td>\n",
       "      <td>NaN</td>\n",
       "      <td>1.00</td>\n",
       "      <td>0.0</td>\n",
       "      <td>0.0</td>\n",
       "      <td>0.0</td>\n",
       "      <td>...</td>\n",
       "      <td>0.0</td>\n",
       "      <td>75.00</td>\n",
       "      <td>75.00</td>\n",
       "      <td>0.0</td>\n",
       "      <td>0.00</td>\n",
       "      <td>[]</td>\n",
       "      <td>V_6043035</td>\n",
       "      <td>107FD4E4305C0D599C33DC5901307461</td>\n",
       "      <td>1597720407</td>\n",
       "      <td>NaN</td>\n",
       "    </tr>\n",
       "    <tr>\n",
       "      <th>4</th>\n",
       "      <th>0</th>\n",
       "      <td>700.1</td>\n",
       "      <td>2.0</td>\n",
       "      <td>0.0</td>\n",
       "      <td>2.0</td>\n",
       "      <td>47.45</td>\n",
       "      <td>0.0</td>\n",
       "      <td>1.00</td>\n",
       "      <td>0.0</td>\n",
       "      <td>0.0</td>\n",
       "      <td>0.0</td>\n",
       "      <td>...</td>\n",
       "      <td>0.0</td>\n",
       "      <td>605.20</td>\n",
       "      <td>605.20</td>\n",
       "      <td>0.0</td>\n",
       "      <td>94.80</td>\n",
       "      <td>[]</td>\n",
       "      <td>V_6043036</td>\n",
       "      <td>C99194C4BF0F06189C33DC5901307461</td>\n",
       "      <td>1597743216</td>\n",
       "      <td>30.0</td>\n",
       "    </tr>\n",
       "    <tr>\n",
       "      <th>5</th>\n",
       "      <th>0</th>\n",
       "      <td>1540.5</td>\n",
       "      <td>5.0</td>\n",
       "      <td>0.0</td>\n",
       "      <td>5.0</td>\n",
       "      <td>30.00</td>\n",
       "      <td>0.0</td>\n",
       "      <td>1.00</td>\n",
       "      <td>0.0</td>\n",
       "      <td>0.0</td>\n",
       "      <td>0.0</td>\n",
       "      <td>...</td>\n",
       "      <td>0.0</td>\n",
       "      <td>1380.50</td>\n",
       "      <td>1380.50</td>\n",
       "      <td>0.0</td>\n",
       "      <td>160.00</td>\n",
       "      <td>[]</td>\n",
       "      <td>V_6010430</td>\n",
       "      <td>B6D85659921EC0759C33DC5901307461</td>\n",
       "      <td>1597747231</td>\n",
       "      <td>30.0</td>\n",
       "    </tr>\n",
       "    <tr>\n",
       "      <th>...</th>\n",
       "      <th>...</th>\n",
       "      <th>...</th>\n",
       "      <td>...</td>\n",
       "      <td>...</td>\n",
       "      <td>...</td>\n",
       "      <td>...</td>\n",
       "      <td>...</td>\n",
       "      <td>...</td>\n",
       "      <td>...</td>\n",
       "      <td>...</td>\n",
       "      <td>...</td>\n",
       "      <td>...</td>\n",
       "      <td>...</td>\n",
       "      <td>...</td>\n",
       "      <td>...</td>\n",
       "      <td>...</td>\n",
       "      <td>...</td>\n",
       "      <td>...</td>\n",
       "      <td>...</td>\n",
       "      <td>...</td>\n",
       "      <td>...</td>\n",
       "      <td>...</td>\n",
       "      <td>...</td>\n",
       "    </tr>\n",
       "    <tr>\n",
       "      <th rowspan=\"5\" valign=\"top\">U_99746</th>\n",
       "      <th>1</th>\n",
       "      <th>1</th>\n",
       "      <td>280.0</td>\n",
       "      <td>2.0</td>\n",
       "      <td>0.0</td>\n",
       "      <td>2.0</td>\n",
       "      <td>54.60</td>\n",
       "      <td>0.0</td>\n",
       "      <td>1.25</td>\n",
       "      <td>0.0</td>\n",
       "      <td>0.0</td>\n",
       "      <td>0.0</td>\n",
       "      <td>...</td>\n",
       "      <td>0.0</td>\n",
       "      <td>213.50</td>\n",
       "      <td>213.50</td>\n",
       "      <td>0.0</td>\n",
       "      <td>12.50</td>\n",
       "      <td>[]</td>\n",
       "      <td>V_4067716</td>\n",
       "      <td>550A64E8D92F96559C33DC5901307461</td>\n",
       "      <td>1597814088</td>\n",
       "      <td>1572.2</td>\n",
       "    </tr>\n",
       "    <tr>\n",
       "      <th>2</th>\n",
       "      <th>0</th>\n",
       "      <td>378.8</td>\n",
       "      <td>8.0</td>\n",
       "      <td>0.0</td>\n",
       "      <td>8.0</td>\n",
       "      <td>4.80</td>\n",
       "      <td>0.0</td>\n",
       "      <td>1.25</td>\n",
       "      <td>0.0</td>\n",
       "      <td>0.0</td>\n",
       "      <td>0.0</td>\n",
       "      <td>...</td>\n",
       "      <td>0.0</td>\n",
       "      <td>425.00</td>\n",
       "      <td>425.00</td>\n",
       "      <td>0.0</td>\n",
       "      <td>48.00</td>\n",
       "      <td>[]</td>\n",
       "      <td>V_4067719</td>\n",
       "      <td>AEEB26CD71B5F4D89C33DC5901307461</td>\n",
       "      <td>1597814435</td>\n",
       "      <td>5.2</td>\n",
       "    </tr>\n",
       "    <tr>\n",
       "      <th>3</th>\n",
       "      <th>0</th>\n",
       "      <td>536.4</td>\n",
       "      <td>4.0</td>\n",
       "      <td>0.0</td>\n",
       "      <td>4.0</td>\n",
       "      <td>37.40</td>\n",
       "      <td>0.0</td>\n",
       "      <td>1.25</td>\n",
       "      <td>0.0</td>\n",
       "      <td>0.0</td>\n",
       "      <td>0.0</td>\n",
       "      <td>...</td>\n",
       "      <td>0.0</td>\n",
       "      <td>330.00</td>\n",
       "      <td>330.00</td>\n",
       "      <td>0.0</td>\n",
       "      <td>27.00</td>\n",
       "      <td>[]</td>\n",
       "      <td>V_4067720</td>\n",
       "      <td>867644A875832E2F9C33DC5901307461</td>\n",
       "      <td>1598154494</td>\n",
       "      <td>192.4</td>\n",
       "    </tr>\n",
       "    <tr>\n",
       "      <th>4</th>\n",
       "      <th>0</th>\n",
       "      <td>324.8</td>\n",
       "      <td>1.0</td>\n",
       "      <td>0.0</td>\n",
       "      <td>1.0</td>\n",
       "      <td>279.60</td>\n",
       "      <td>0.0</td>\n",
       "      <td>1.25</td>\n",
       "      <td>0.0</td>\n",
       "      <td>0.0</td>\n",
       "      <td>0.0</td>\n",
       "      <td>...</td>\n",
       "      <td>0.0</td>\n",
       "      <td>56.50</td>\n",
       "      <td>56.50</td>\n",
       "      <td>0.0</td>\n",
       "      <td>15.75</td>\n",
       "      <td>[]</td>\n",
       "      <td>V_6188761</td>\n",
       "      <td>D292EAA78D90928C9C33DC5901307461</td>\n",
       "      <td>1601742546</td>\n",
       "      <td>279.6</td>\n",
       "    </tr>\n",
       "    <tr>\n",
       "      <th>5</th>\n",
       "      <th>0</th>\n",
       "      <td>25.0</td>\n",
       "      <td>0.0</td>\n",
       "      <td>0.0</td>\n",
       "      <td>0.0</td>\n",
       "      <td>NaN</td>\n",
       "      <td>NaN</td>\n",
       "      <td>1.25</td>\n",
       "      <td>0.0</td>\n",
       "      <td>0.0</td>\n",
       "      <td>0.0</td>\n",
       "      <td>...</td>\n",
       "      <td>0.0</td>\n",
       "      <td>31.25</td>\n",
       "      <td>31.25</td>\n",
       "      <td>0.0</td>\n",
       "      <td>0.00</td>\n",
       "      <td>[K_病证_临床中医学, K_气血津液理论_临床中医学, K_阴阳五行理论_临床中医学]</td>\n",
       "      <td>V_6268289</td>\n",
       "      <td>DFB73363F8E4A0429C33DC5901307461</td>\n",
       "      <td>1601743865</td>\n",
       "      <td>NaN</td>\n",
       "    </tr>\n",
       "  </tbody>\n",
       "</table>\n",
       "<p>2213674 rows × 30 columns</p>\n",
       "</div>"
      ],
      "text/plain": [
       "                                           time_spent  num_forward  \\\n",
       "user_id    item_consecutive_id session_id                            \n",
       "U_10012383 1                   0               4610.0         83.0   \n",
       "           2                   0               4055.0         38.0   \n",
       "           3                   0                 75.0          0.0   \n",
       "           4                   0                700.1          2.0   \n",
       "           5                   0               1540.5          5.0   \n",
       "...                                               ...          ...   \n",
       "U_99746    1                   1                280.0          2.0   \n",
       "           2                   0                378.8          8.0   \n",
       "           3                   0                536.4          4.0   \n",
       "           4                   0                324.8          1.0   \n",
       "           5                   0                 25.0          0.0   \n",
       "\n",
       "                                           num_backward  num_pause  \\\n",
       "user_id    item_consecutive_id session_id                            \n",
       "U_10012383 1                   0                    0.0       83.0   \n",
       "           2                   0                    0.0       38.0   \n",
       "           3                   0                    0.0        0.0   \n",
       "           4                   0                    0.0        2.0   \n",
       "           5                   0                    0.0        5.0   \n",
       "...                                                 ...        ...   \n",
       "U_99746    1                   1                    0.0        2.0   \n",
       "           2                   0                    0.0        8.0   \n",
       "           3                   0                    0.0        4.0   \n",
       "           4                   0                    0.0        1.0   \n",
       "           5                   0                    0.0        0.0   \n",
       "\n",
       "                                           median_pause  std_speed  avg_speed  \\\n",
       "user_id    item_consecutive_id session_id                                       \n",
       "U_10012383 1                   0                  35.00        0.0       1.00   \n",
       "           2                   0                  15.00        0.0       1.00   \n",
       "           3                   0                    NaN        NaN       1.00   \n",
       "           4                   0                  47.45        0.0       1.00   \n",
       "           5                   0                  30.00        0.0       1.00   \n",
       "...                                                 ...        ...        ...   \n",
       "U_99746    1                   1                  54.60        0.0       1.25   \n",
       "           2                   0                   4.80        0.0       1.25   \n",
       "           3                   0                  37.40        0.0       1.25   \n",
       "           4                   0                 279.60        0.0       1.25   \n",
       "           5                   0                    NaN        NaN       1.25   \n",
       "\n",
       "                                           eff_speed  seg_rep_0  seg_rep_1  \\\n",
       "user_id    item_consecutive_id session_id                                    \n",
       "U_10012383 1                   0                 0.0        0.0        0.0   \n",
       "           2                   0                 0.0        0.0        0.0   \n",
       "           3                   0                 0.0        0.0        0.0   \n",
       "           4                   0                 0.0        0.0        0.0   \n",
       "           5                   0                 0.0        0.0        0.0   \n",
       "...                                              ...        ...        ...   \n",
       "U_99746    1                   1                 0.0        0.0        0.0   \n",
       "           2                   0                 0.0        0.0        0.0   \n",
       "           3                   0                 0.0        0.0        0.0   \n",
       "           4                   0                 0.0        0.0        0.0   \n",
       "           5                   0                 0.0        0.0        0.0   \n",
       "\n",
       "                                           ...  seg_rep_60  time_comp  \\\n",
       "user_id    item_consecutive_id session_id  ...                          \n",
       "U_10012383 1                   0           ...         0.0     510.00   \n",
       "           2                   0           ...         0.0    1905.00   \n",
       "           3                   0           ...         0.0      75.00   \n",
       "           4                   0           ...         0.0     605.20   \n",
       "           5                   0           ...         0.0    1380.50   \n",
       "...                                        ...         ...        ...   \n",
       "U_99746    1                   1           ...         0.0     213.50   \n",
       "           2                   0           ...         0.0     425.00   \n",
       "           3                   0           ...         0.0     330.00   \n",
       "           4                   0           ...         0.0      56.50   \n",
       "           5                   0           ...         0.0      31.25   \n",
       "\n",
       "                                           time_played  replay_length  \\\n",
       "user_id    item_consecutive_id session_id                               \n",
       "U_10012383 1                   0                510.00            0.0   \n",
       "           2                   0               1905.00            0.0   \n",
       "           3                   0                 75.00            0.0   \n",
       "           4                   0                605.20            0.0   \n",
       "           5                   0               1380.50            0.0   \n",
       "...                                                ...            ...   \n",
       "U_99746    1                   1                213.50            0.0   \n",
       "           2                   0                425.00            0.0   \n",
       "           3                   0                330.00            0.0   \n",
       "           4                   0                 56.50            0.0   \n",
       "           5                   0                 31.25            0.0   \n",
       "\n",
       "                                           skipped_length  \\\n",
       "user_id    item_consecutive_id session_id                   \n",
       "U_10012383 1                   0                  4100.00   \n",
       "           2                   0                  1139.00   \n",
       "           3                   0                     0.00   \n",
       "           4                   0                    94.80   \n",
       "           5                   0                   160.00   \n",
       "...                                                   ...   \n",
       "U_99746    1                   1                    12.50   \n",
       "           2                   0                    48.00   \n",
       "           3                   0                    27.00   \n",
       "           4                   0                    15.75   \n",
       "           5                   0                     0.00   \n",
       "\n",
       "                                                                             concept_id  \\\n",
       "user_id    item_consecutive_id session_id                                                 \n",
       "U_10012383 1                   0                                                     []   \n",
       "           2                   0                                                     []   \n",
       "           3                   0                                                     []   \n",
       "           4                   0                                                     []   \n",
       "           5                   0                                                     []   \n",
       "...                                                                                 ...   \n",
       "U_99746    1                   1                                                     []   \n",
       "           2                   0                                                     []   \n",
       "           3                   0                                                     []   \n",
       "           4                   0                                                     []   \n",
       "           5                   0           [K_病证_临床中医学, K_气血津液理论_临床中医学, K_阴阳五行理论_临床中医学]   \n",
       "\n",
       "                                             item_id  \\\n",
       "user_id    item_consecutive_id session_id              \n",
       "U_10012383 1                   0           V_6043038   \n",
       "           2                   0           V_6043053   \n",
       "           3                   0           V_6043035   \n",
       "           4                   0           V_6043036   \n",
       "           5                   0           V_6010430   \n",
       "...                                              ...   \n",
       "U_99746    1                   1           V_4067716   \n",
       "           2                   0           V_4067719   \n",
       "           3                   0           V_4067720   \n",
       "           4                   0           V_6188761   \n",
       "           5                   0           V_6268289   \n",
       "\n",
       "                                                                       ccid  \\\n",
       "user_id    item_consecutive_id session_id                                     \n",
       "U_10012383 1                   0           D5404B143F1DBF5F9C33DC5901307461   \n",
       "           2                   0           304D06F0510274079C33DC5901307461   \n",
       "           3                   0           107FD4E4305C0D599C33DC5901307461   \n",
       "           4                   0           C99194C4BF0F06189C33DC5901307461   \n",
       "           5                   0           B6D85659921EC0759C33DC5901307461   \n",
       "...                                                                     ...   \n",
       "U_99746    1                   1           550A64E8D92F96559C33DC5901307461   \n",
       "           2                   0           AEEB26CD71B5F4D89C33DC5901307461   \n",
       "           3                   0           867644A875832E2F9C33DC5901307461   \n",
       "           4                   0           D292EAA78D90928C9C33DC5901307461   \n",
       "           5                   0           DFB73363F8E4A0429C33DC5901307461   \n",
       "\n",
       "                                            timestamp  backward_gap  \n",
       "user_id    item_consecutive_id session_id                            \n",
       "U_10012383 1                   0           1597690842          10.0  \n",
       "           2                   0           1597713365          50.0  \n",
       "           3                   0           1597720407           NaN  \n",
       "           4                   0           1597743216          30.0  \n",
       "           5                   0           1597747231          30.0  \n",
       "...                                               ...           ...  \n",
       "U_99746    1                   1           1597814088        1572.2  \n",
       "           2                   0           1597814435           5.2  \n",
       "           3                   0           1598154494         192.4  \n",
       "           4                   0           1601742546         279.6  \n",
       "           5                   0           1601743865           NaN  \n",
       "\n",
       "[2213674 rows x 30 columns]"
      ]
     },
     "execution_count": 6,
     "metadata": {},
     "output_type": "execute_result"
    }
   ],
   "source": [
    "%%time\n",
    "sessions_df = dd.read_parquet(relations_path / \"sessions_featured_fix\").drop(columns=[\"start\", \"end\", \"speed\", \"local_end_time\", \"forward_gap\", \"duration\", \"name\", \"length\", \"backward_gap_td\"]).rename(columns={\"video_id\": \"item_id\", \"local_start_time\": \"timestamp\"}).compute()\n",
    "sessions_df"
   ]
  },
  {
   "cell_type": "code",
   "execution_count": 7,
   "id": "5801c59f-a3a4-4f60-9994-1a39dc7f56ae",
   "metadata": {
    "tags": []
   },
   "outputs": [
    {
     "data": {
      "text/plain": [
       "(2213674, 304807, 186670)"
      ]
     },
     "execution_count": 7,
     "metadata": {},
     "output_type": "execute_result"
    }
   ],
   "source": [
    "sessions_df.shape[0], sessions_df.index.get_level_values(USER_COL).nunique(), sessions_df[ITEM_COL].nunique()"
   ]
  },
  {
   "cell_type": "markdown",
   "id": "fe80668b-b33d-477b-a1b2-5d793a41e305",
   "metadata": {},
   "source": [
    "# Dataset creation"
   ]
  },
  {
   "cell_type": "markdown",
   "id": "42d6a607-7ec4-442d-8f4b-e91576e9ec27",
   "metadata": {},
   "source": [
    "### Remove cold users"
   ]
  },
  {
   "cell_type": "code",
   "execution_count": 8,
   "id": "03a5af80-ba9d-451d-b02a-51bb1b739662",
   "metadata": {
    "tags": []
   },
   "outputs": [
    {
     "data": {
      "text/plain": [
       "user_id\n",
       "U_10001587     6\n",
       "U_10008027     6\n",
       "U_10012257     5\n",
       "U_10012383    18\n",
       "U_10013620     5\n",
       "              ..\n",
       "U_998508      21\n",
       "U_9988528     16\n",
       "U_9989964      6\n",
       "U_9996819      6\n",
       "U_9999820      6\n",
       "Length: 116661, dtype: int64"
      ]
     },
     "execution_count": 8,
     "metadata": {},
     "output_type": "execute_result"
    }
   ],
   "source": [
    "user_session_count = sessions_df.groupby(USER_COL).size()\n",
    "warm_thresh = 5\n",
    "warm_users = user_session_count[user_session_count >= warm_thresh]\n",
    "warm_users"
   ]
  },
  {
   "cell_type": "code",
   "execution_count": 9,
   "id": "30149589-e56b-4548-b50e-e00d5c32a22f",
   "metadata": {
    "tags": []
   },
   "outputs": [
    {
     "data": {
      "text/html": [
       "<div>\n",
       "<style scoped>\n",
       "    .dataframe tbody tr th:only-of-type {\n",
       "        vertical-align: middle;\n",
       "    }\n",
       "\n",
       "    .dataframe tbody tr th {\n",
       "        vertical-align: top;\n",
       "    }\n",
       "\n",
       "    .dataframe thead th {\n",
       "        text-align: right;\n",
       "    }\n",
       "</style>\n",
       "<table border=\"1\" class=\"dataframe\">\n",
       "  <thead>\n",
       "    <tr style=\"text-align: right;\">\n",
       "      <th></th>\n",
       "      <th></th>\n",
       "      <th></th>\n",
       "      <th>time_spent</th>\n",
       "      <th>num_forward</th>\n",
       "      <th>num_backward</th>\n",
       "      <th>num_pause</th>\n",
       "      <th>median_pause</th>\n",
       "      <th>std_speed</th>\n",
       "      <th>avg_speed</th>\n",
       "      <th>eff_speed</th>\n",
       "      <th>seg_rep_0</th>\n",
       "      <th>seg_rep_1</th>\n",
       "      <th>...</th>\n",
       "      <th>seg_rep_60</th>\n",
       "      <th>time_comp</th>\n",
       "      <th>time_played</th>\n",
       "      <th>replay_length</th>\n",
       "      <th>skipped_length</th>\n",
       "      <th>concept_id</th>\n",
       "      <th>item_id</th>\n",
       "      <th>ccid</th>\n",
       "      <th>timestamp</th>\n",
       "      <th>backward_gap</th>\n",
       "    </tr>\n",
       "    <tr>\n",
       "      <th>user_id</th>\n",
       "      <th>item_consecutive_id</th>\n",
       "      <th>session_id</th>\n",
       "      <th></th>\n",
       "      <th></th>\n",
       "      <th></th>\n",
       "      <th></th>\n",
       "      <th></th>\n",
       "      <th></th>\n",
       "      <th></th>\n",
       "      <th></th>\n",
       "      <th></th>\n",
       "      <th></th>\n",
       "      <th></th>\n",
       "      <th></th>\n",
       "      <th></th>\n",
       "      <th></th>\n",
       "      <th></th>\n",
       "      <th></th>\n",
       "      <th></th>\n",
       "      <th></th>\n",
       "      <th></th>\n",
       "      <th></th>\n",
       "      <th></th>\n",
       "    </tr>\n",
       "  </thead>\n",
       "  <tbody>\n",
       "    <tr>\n",
       "      <th rowspan=\"5\" valign=\"top\">U_10012383</th>\n",
       "      <th>1</th>\n",
       "      <th>0</th>\n",
       "      <td>4610.0</td>\n",
       "      <td>83.0</td>\n",
       "      <td>0.0</td>\n",
       "      <td>83.0</td>\n",
       "      <td>35.00</td>\n",
       "      <td>0.0</td>\n",
       "      <td>1.00</td>\n",
       "      <td>0.0</td>\n",
       "      <td>0.0</td>\n",
       "      <td>0.0</td>\n",
       "      <td>...</td>\n",
       "      <td>0.0</td>\n",
       "      <td>510.00</td>\n",
       "      <td>510.00</td>\n",
       "      <td>0.0</td>\n",
       "      <td>4100.00</td>\n",
       "      <td>[]</td>\n",
       "      <td>V_6043038</td>\n",
       "      <td>D5404B143F1DBF5F9C33DC5901307461</td>\n",
       "      <td>1597690842</td>\n",
       "      <td>10.0</td>\n",
       "    </tr>\n",
       "    <tr>\n",
       "      <th>2</th>\n",
       "      <th>0</th>\n",
       "      <td>4055.0</td>\n",
       "      <td>38.0</td>\n",
       "      <td>0.0</td>\n",
       "      <td>38.0</td>\n",
       "      <td>15.00</td>\n",
       "      <td>0.0</td>\n",
       "      <td>1.00</td>\n",
       "      <td>0.0</td>\n",
       "      <td>0.0</td>\n",
       "      <td>0.0</td>\n",
       "      <td>...</td>\n",
       "      <td>0.0</td>\n",
       "      <td>1905.00</td>\n",
       "      <td>1905.00</td>\n",
       "      <td>0.0</td>\n",
       "      <td>1139.00</td>\n",
       "      <td>[]</td>\n",
       "      <td>V_6043053</td>\n",
       "      <td>304D06F0510274079C33DC5901307461</td>\n",
       "      <td>1597713365</td>\n",
       "      <td>50.0</td>\n",
       "    </tr>\n",
       "    <tr>\n",
       "      <th>3</th>\n",
       "      <th>0</th>\n",
       "      <td>75.0</td>\n",
       "      <td>0.0</td>\n",
       "      <td>0.0</td>\n",
       "      <td>0.0</td>\n",
       "      <td>NaN</td>\n",
       "      <td>NaN</td>\n",
       "      <td>1.00</td>\n",
       "      <td>0.0</td>\n",
       "      <td>0.0</td>\n",
       "      <td>0.0</td>\n",
       "      <td>...</td>\n",
       "      <td>0.0</td>\n",
       "      <td>75.00</td>\n",
       "      <td>75.00</td>\n",
       "      <td>0.0</td>\n",
       "      <td>0.00</td>\n",
       "      <td>[]</td>\n",
       "      <td>V_6043035</td>\n",
       "      <td>107FD4E4305C0D599C33DC5901307461</td>\n",
       "      <td>1597720407</td>\n",
       "      <td>NaN</td>\n",
       "    </tr>\n",
       "    <tr>\n",
       "      <th>4</th>\n",
       "      <th>0</th>\n",
       "      <td>700.1</td>\n",
       "      <td>2.0</td>\n",
       "      <td>0.0</td>\n",
       "      <td>2.0</td>\n",
       "      <td>47.45</td>\n",
       "      <td>0.0</td>\n",
       "      <td>1.00</td>\n",
       "      <td>0.0</td>\n",
       "      <td>0.0</td>\n",
       "      <td>0.0</td>\n",
       "      <td>...</td>\n",
       "      <td>0.0</td>\n",
       "      <td>605.20</td>\n",
       "      <td>605.20</td>\n",
       "      <td>0.0</td>\n",
       "      <td>94.80</td>\n",
       "      <td>[]</td>\n",
       "      <td>V_6043036</td>\n",
       "      <td>C99194C4BF0F06189C33DC5901307461</td>\n",
       "      <td>1597743216</td>\n",
       "      <td>30.0</td>\n",
       "    </tr>\n",
       "    <tr>\n",
       "      <th>5</th>\n",
       "      <th>0</th>\n",
       "      <td>1540.5</td>\n",
       "      <td>5.0</td>\n",
       "      <td>0.0</td>\n",
       "      <td>5.0</td>\n",
       "      <td>30.00</td>\n",
       "      <td>0.0</td>\n",
       "      <td>1.00</td>\n",
       "      <td>0.0</td>\n",
       "      <td>0.0</td>\n",
       "      <td>0.0</td>\n",
       "      <td>...</td>\n",
       "      <td>0.0</td>\n",
       "      <td>1380.50</td>\n",
       "      <td>1380.50</td>\n",
       "      <td>0.0</td>\n",
       "      <td>160.00</td>\n",
       "      <td>[]</td>\n",
       "      <td>V_6010430</td>\n",
       "      <td>B6D85659921EC0759C33DC5901307461</td>\n",
       "      <td>1597747231</td>\n",
       "      <td>30.0</td>\n",
       "    </tr>\n",
       "    <tr>\n",
       "      <th>...</th>\n",
       "      <th>...</th>\n",
       "      <th>...</th>\n",
       "      <td>...</td>\n",
       "      <td>...</td>\n",
       "      <td>...</td>\n",
       "      <td>...</td>\n",
       "      <td>...</td>\n",
       "      <td>...</td>\n",
       "      <td>...</td>\n",
       "      <td>...</td>\n",
       "      <td>...</td>\n",
       "      <td>...</td>\n",
       "      <td>...</td>\n",
       "      <td>...</td>\n",
       "      <td>...</td>\n",
       "      <td>...</td>\n",
       "      <td>...</td>\n",
       "      <td>...</td>\n",
       "      <td>...</td>\n",
       "      <td>...</td>\n",
       "      <td>...</td>\n",
       "      <td>...</td>\n",
       "      <td>...</td>\n",
       "    </tr>\n",
       "    <tr>\n",
       "      <th rowspan=\"5\" valign=\"top\">U_99746</th>\n",
       "      <th>1</th>\n",
       "      <th>1</th>\n",
       "      <td>280.0</td>\n",
       "      <td>2.0</td>\n",
       "      <td>0.0</td>\n",
       "      <td>2.0</td>\n",
       "      <td>54.60</td>\n",
       "      <td>0.0</td>\n",
       "      <td>1.25</td>\n",
       "      <td>0.0</td>\n",
       "      <td>0.0</td>\n",
       "      <td>0.0</td>\n",
       "      <td>...</td>\n",
       "      <td>0.0</td>\n",
       "      <td>213.50</td>\n",
       "      <td>213.50</td>\n",
       "      <td>0.0</td>\n",
       "      <td>12.50</td>\n",
       "      <td>[]</td>\n",
       "      <td>V_4067716</td>\n",
       "      <td>550A64E8D92F96559C33DC5901307461</td>\n",
       "      <td>1597814088</td>\n",
       "      <td>1572.2</td>\n",
       "    </tr>\n",
       "    <tr>\n",
       "      <th>2</th>\n",
       "      <th>0</th>\n",
       "      <td>378.8</td>\n",
       "      <td>8.0</td>\n",
       "      <td>0.0</td>\n",
       "      <td>8.0</td>\n",
       "      <td>4.80</td>\n",
       "      <td>0.0</td>\n",
       "      <td>1.25</td>\n",
       "      <td>0.0</td>\n",
       "      <td>0.0</td>\n",
       "      <td>0.0</td>\n",
       "      <td>...</td>\n",
       "      <td>0.0</td>\n",
       "      <td>425.00</td>\n",
       "      <td>425.00</td>\n",
       "      <td>0.0</td>\n",
       "      <td>48.00</td>\n",
       "      <td>[]</td>\n",
       "      <td>V_4067719</td>\n",
       "      <td>AEEB26CD71B5F4D89C33DC5901307461</td>\n",
       "      <td>1597814435</td>\n",
       "      <td>5.2</td>\n",
       "    </tr>\n",
       "    <tr>\n",
       "      <th>3</th>\n",
       "      <th>0</th>\n",
       "      <td>536.4</td>\n",
       "      <td>4.0</td>\n",
       "      <td>0.0</td>\n",
       "      <td>4.0</td>\n",
       "      <td>37.40</td>\n",
       "      <td>0.0</td>\n",
       "      <td>1.25</td>\n",
       "      <td>0.0</td>\n",
       "      <td>0.0</td>\n",
       "      <td>0.0</td>\n",
       "      <td>...</td>\n",
       "      <td>0.0</td>\n",
       "      <td>330.00</td>\n",
       "      <td>330.00</td>\n",
       "      <td>0.0</td>\n",
       "      <td>27.00</td>\n",
       "      <td>[]</td>\n",
       "      <td>V_4067720</td>\n",
       "      <td>867644A875832E2F9C33DC5901307461</td>\n",
       "      <td>1598154494</td>\n",
       "      <td>192.4</td>\n",
       "    </tr>\n",
       "    <tr>\n",
       "      <th>4</th>\n",
       "      <th>0</th>\n",
       "      <td>324.8</td>\n",
       "      <td>1.0</td>\n",
       "      <td>0.0</td>\n",
       "      <td>1.0</td>\n",
       "      <td>279.60</td>\n",
       "      <td>0.0</td>\n",
       "      <td>1.25</td>\n",
       "      <td>0.0</td>\n",
       "      <td>0.0</td>\n",
       "      <td>0.0</td>\n",
       "      <td>...</td>\n",
       "      <td>0.0</td>\n",
       "      <td>56.50</td>\n",
       "      <td>56.50</td>\n",
       "      <td>0.0</td>\n",
       "      <td>15.75</td>\n",
       "      <td>[]</td>\n",
       "      <td>V_6188761</td>\n",
       "      <td>D292EAA78D90928C9C33DC5901307461</td>\n",
       "      <td>1601742546</td>\n",
       "      <td>279.6</td>\n",
       "    </tr>\n",
       "    <tr>\n",
       "      <th>5</th>\n",
       "      <th>0</th>\n",
       "      <td>25.0</td>\n",
       "      <td>0.0</td>\n",
       "      <td>0.0</td>\n",
       "      <td>0.0</td>\n",
       "      <td>NaN</td>\n",
       "      <td>NaN</td>\n",
       "      <td>1.25</td>\n",
       "      <td>0.0</td>\n",
       "      <td>0.0</td>\n",
       "      <td>0.0</td>\n",
       "      <td>...</td>\n",
       "      <td>0.0</td>\n",
       "      <td>31.25</td>\n",
       "      <td>31.25</td>\n",
       "      <td>0.0</td>\n",
       "      <td>0.00</td>\n",
       "      <td>[K_病证_临床中医学, K_气血津液理论_临床中医学, K_阴阳五行理论_临床中医学]</td>\n",
       "      <td>V_6268289</td>\n",
       "      <td>DFB73363F8E4A0429C33DC5901307461</td>\n",
       "      <td>1601743865</td>\n",
       "      <td>NaN</td>\n",
       "    </tr>\n",
       "  </tbody>\n",
       "</table>\n",
       "<p>1836070 rows × 30 columns</p>\n",
       "</div>"
      ],
      "text/plain": [
       "                                           time_spent  num_forward  \\\n",
       "user_id    item_consecutive_id session_id                            \n",
       "U_10012383 1                   0               4610.0         83.0   \n",
       "           2                   0               4055.0         38.0   \n",
       "           3                   0                 75.0          0.0   \n",
       "           4                   0                700.1          2.0   \n",
       "           5                   0               1540.5          5.0   \n",
       "...                                               ...          ...   \n",
       "U_99746    1                   1                280.0          2.0   \n",
       "           2                   0                378.8          8.0   \n",
       "           3                   0                536.4          4.0   \n",
       "           4                   0                324.8          1.0   \n",
       "           5                   0                 25.0          0.0   \n",
       "\n",
       "                                           num_backward  num_pause  \\\n",
       "user_id    item_consecutive_id session_id                            \n",
       "U_10012383 1                   0                    0.0       83.0   \n",
       "           2                   0                    0.0       38.0   \n",
       "           3                   0                    0.0        0.0   \n",
       "           4                   0                    0.0        2.0   \n",
       "           5                   0                    0.0        5.0   \n",
       "...                                                 ...        ...   \n",
       "U_99746    1                   1                    0.0        2.0   \n",
       "           2                   0                    0.0        8.0   \n",
       "           3                   0                    0.0        4.0   \n",
       "           4                   0                    0.0        1.0   \n",
       "           5                   0                    0.0        0.0   \n",
       "\n",
       "                                           median_pause  std_speed  avg_speed  \\\n",
       "user_id    item_consecutive_id session_id                                       \n",
       "U_10012383 1                   0                  35.00        0.0       1.00   \n",
       "           2                   0                  15.00        0.0       1.00   \n",
       "           3                   0                    NaN        NaN       1.00   \n",
       "           4                   0                  47.45        0.0       1.00   \n",
       "           5                   0                  30.00        0.0       1.00   \n",
       "...                                                 ...        ...        ...   \n",
       "U_99746    1                   1                  54.60        0.0       1.25   \n",
       "           2                   0                   4.80        0.0       1.25   \n",
       "           3                   0                  37.40        0.0       1.25   \n",
       "           4                   0                 279.60        0.0       1.25   \n",
       "           5                   0                    NaN        NaN       1.25   \n",
       "\n",
       "                                           eff_speed  seg_rep_0  seg_rep_1  \\\n",
       "user_id    item_consecutive_id session_id                                    \n",
       "U_10012383 1                   0                 0.0        0.0        0.0   \n",
       "           2                   0                 0.0        0.0        0.0   \n",
       "           3                   0                 0.0        0.0        0.0   \n",
       "           4                   0                 0.0        0.0        0.0   \n",
       "           5                   0                 0.0        0.0        0.0   \n",
       "...                                              ...        ...        ...   \n",
       "U_99746    1                   1                 0.0        0.0        0.0   \n",
       "           2                   0                 0.0        0.0        0.0   \n",
       "           3                   0                 0.0        0.0        0.0   \n",
       "           4                   0                 0.0        0.0        0.0   \n",
       "           5                   0                 0.0        0.0        0.0   \n",
       "\n",
       "                                           ...  seg_rep_60  time_comp  \\\n",
       "user_id    item_consecutive_id session_id  ...                          \n",
       "U_10012383 1                   0           ...         0.0     510.00   \n",
       "           2                   0           ...         0.0    1905.00   \n",
       "           3                   0           ...         0.0      75.00   \n",
       "           4                   0           ...         0.0     605.20   \n",
       "           5                   0           ...         0.0    1380.50   \n",
       "...                                        ...         ...        ...   \n",
       "U_99746    1                   1           ...         0.0     213.50   \n",
       "           2                   0           ...         0.0     425.00   \n",
       "           3                   0           ...         0.0     330.00   \n",
       "           4                   0           ...         0.0      56.50   \n",
       "           5                   0           ...         0.0      31.25   \n",
       "\n",
       "                                           time_played  replay_length  \\\n",
       "user_id    item_consecutive_id session_id                               \n",
       "U_10012383 1                   0                510.00            0.0   \n",
       "           2                   0               1905.00            0.0   \n",
       "           3                   0                 75.00            0.0   \n",
       "           4                   0                605.20            0.0   \n",
       "           5                   0               1380.50            0.0   \n",
       "...                                                ...            ...   \n",
       "U_99746    1                   1                213.50            0.0   \n",
       "           2                   0                425.00            0.0   \n",
       "           3                   0                330.00            0.0   \n",
       "           4                   0                 56.50            0.0   \n",
       "           5                   0                 31.25            0.0   \n",
       "\n",
       "                                           skipped_length  \\\n",
       "user_id    item_consecutive_id session_id                   \n",
       "U_10012383 1                   0                  4100.00   \n",
       "           2                   0                  1139.00   \n",
       "           3                   0                     0.00   \n",
       "           4                   0                    94.80   \n",
       "           5                   0                   160.00   \n",
       "...                                                   ...   \n",
       "U_99746    1                   1                    12.50   \n",
       "           2                   0                    48.00   \n",
       "           3                   0                    27.00   \n",
       "           4                   0                    15.75   \n",
       "           5                   0                     0.00   \n",
       "\n",
       "                                                                             concept_id  \\\n",
       "user_id    item_consecutive_id session_id                                                 \n",
       "U_10012383 1                   0                                                     []   \n",
       "           2                   0                                                     []   \n",
       "           3                   0                                                     []   \n",
       "           4                   0                                                     []   \n",
       "           5                   0                                                     []   \n",
       "...                                                                                 ...   \n",
       "U_99746    1                   1                                                     []   \n",
       "           2                   0                                                     []   \n",
       "           3                   0                                                     []   \n",
       "           4                   0                                                     []   \n",
       "           5                   0           [K_病证_临床中医学, K_气血津液理论_临床中医学, K_阴阳五行理论_临床中医学]   \n",
       "\n",
       "                                             item_id  \\\n",
       "user_id    item_consecutive_id session_id              \n",
       "U_10012383 1                   0           V_6043038   \n",
       "           2                   0           V_6043053   \n",
       "           3                   0           V_6043035   \n",
       "           4                   0           V_6043036   \n",
       "           5                   0           V_6010430   \n",
       "...                                              ...   \n",
       "U_99746    1                   1           V_4067716   \n",
       "           2                   0           V_4067719   \n",
       "           3                   0           V_4067720   \n",
       "           4                   0           V_6188761   \n",
       "           5                   0           V_6268289   \n",
       "\n",
       "                                                                       ccid  \\\n",
       "user_id    item_consecutive_id session_id                                     \n",
       "U_10012383 1                   0           D5404B143F1DBF5F9C33DC5901307461   \n",
       "           2                   0           304D06F0510274079C33DC5901307461   \n",
       "           3                   0           107FD4E4305C0D599C33DC5901307461   \n",
       "           4                   0           C99194C4BF0F06189C33DC5901307461   \n",
       "           5                   0           B6D85659921EC0759C33DC5901307461   \n",
       "...                                                                     ...   \n",
       "U_99746    1                   1           550A64E8D92F96559C33DC5901307461   \n",
       "           2                   0           AEEB26CD71B5F4D89C33DC5901307461   \n",
       "           3                   0           867644A875832E2F9C33DC5901307461   \n",
       "           4                   0           D292EAA78D90928C9C33DC5901307461   \n",
       "           5                   0           DFB73363F8E4A0429C33DC5901307461   \n",
       "\n",
       "                                            timestamp  backward_gap  \n",
       "user_id    item_consecutive_id session_id                            \n",
       "U_10012383 1                   0           1597690842          10.0  \n",
       "           2                   0           1597713365          50.0  \n",
       "           3                   0           1597720407           NaN  \n",
       "           4                   0           1597743216          30.0  \n",
       "           5                   0           1597747231          30.0  \n",
       "...                                               ...           ...  \n",
       "U_99746    1                   1           1597814088        1572.2  \n",
       "           2                   0           1597814435           5.2  \n",
       "           3                   0           1598154494         192.4  \n",
       "           4                   0           1601742546         279.6  \n",
       "           5                   0           1601743865           NaN  \n",
       "\n",
       "[1836070 rows x 30 columns]"
      ]
     },
     "execution_count": 9,
     "metadata": {},
     "output_type": "execute_result"
    }
   ],
   "source": [
    "sessions_warm_df = sessions_df[sessions_df.index.get_level_values(USER_COL).isin(warm_users.index)]\n",
    "sessions_warm_df"
   ]
  },
  {
   "cell_type": "code",
   "execution_count": 10,
   "id": "614162d7-3ed1-46a1-834e-e11dd01d5bb9",
   "metadata": {
    "tags": []
   },
   "outputs": [
    {
     "data": {
      "text/plain": [
       "(1836070, 116661, 165881)"
      ]
     },
     "execution_count": 10,
     "metadata": {},
     "output_type": "execute_result"
    }
   ],
   "source": [
    "sessions_warm_df.shape[0], sessions_warm_df.index.get_level_values(USER_COL).nunique(), sessions_warm_df[ITEM_COL].nunique()"
   ]
  },
  {
   "cell_type": "markdown",
   "id": "ba3f980a-4f82-4f3e-9d28-07b4413b0fc3",
   "metadata": {},
   "source": [
    "### Slice and fill na"
   ]
  },
  {
   "cell_type": "code",
   "execution_count": 4,
   "id": "60b94db7-ac07-4bea-b028-72087fc598e6",
   "metadata": {
    "tags": []
   },
   "outputs": [],
   "source": [
    "import scipy.stats as ss"
   ]
  },
  {
   "cell_type": "code",
   "execution_count": 4,
   "id": "0beda9ff-e52c-4a20-85b9-00a9f53e2bd4",
   "metadata": {
    "tags": []
   },
   "outputs": [],
   "source": [
    "from tqdm import tqdm\n",
    "tqdm.pandas()"
   ]
  },
  {
   "cell_type": "code",
   "execution_count": 5,
   "id": "93ac61fa-0107-4ca5-9f79-c05e69cb3067",
   "metadata": {
    "tags": []
   },
   "outputs": [],
   "source": [
    "MAX_SEQUENCE_LEN = 30"
   ]
  },
  {
   "cell_type": "code",
   "execution_count": 14,
   "id": "a0372a07-1582-4dc6-b4b1-8c97fb574848",
   "metadata": {
    "tags": []
   },
   "outputs": [
    {
     "data": {
      "text/plain": [
       "89.04046767985874"
      ]
     },
     "execution_count": 14,
     "metadata": {},
     "output_type": "execute_result"
    }
   ],
   "source": [
    "ss.percentileofscore(sessions_warm_df.reset_index(level=SESSION_COL).groupby([USER_COL]).size(),  MAX_SEQUENCE_LEN)"
   ]
  },
  {
   "cell_type": "code",
   "execution_count": 15,
   "id": "4cf5fd62-a1f0-4f58-9bc5-9c744920ab14",
   "metadata": {
    "tags": []
   },
   "outputs": [
    {
     "name": "stdout",
     "output_type": "stream",
     "text": [
      "CPU times: user 38.1 s, sys: 1.03 s, total: 39.1 s\n",
      "Wall time: 39.7 s\n"
     ]
    }
   ],
   "source": [
    "%%time\n",
    "sessions_group = sessions_warm_df.sort_values(TIME_COL).groupby(USER_COL, group_keys=False, sort=False)\n",
    "sessions_sliced = get_apply_op(sessions_group)(lambda group: group.head(MAX_SEQUENCE_LEN))"
   ]
  },
  {
   "cell_type": "code",
   "execution_count": 16,
   "id": "83607113-6916-40c6-b3f8-245923528d24",
   "metadata": {
    "tags": []
   },
   "outputs": [],
   "source": [
    "# Fillna for numerical columns and remove definetily unused columns\n",
    "sessions_filled = sessions_sliced.copy()#.drop(columns=[\"concept_id\"])\n",
    "sessions_filled.loc[:, [\"median_pause\", \"std_speed\", \"backward_gap\"]] = sessions_filled[[\"median_pause\", \"std_speed\", \"backward_gap\"]].fillna(0)"
   ]
  },
  {
   "cell_type": "code",
   "execution_count": 17,
   "id": "f92af477",
   "metadata": {
    "tags": []
   },
   "outputs": [
    {
     "data": {
      "text/plain": [
       "(1461684, 116661, 158358)"
      ]
     },
     "execution_count": 17,
     "metadata": {},
     "output_type": "execute_result"
    }
   ],
   "source": [
    "sessions_filled.shape[0], sessions_filled.index.get_level_values(USER_COL).nunique(), sessions_filled[ITEM_COL].nunique()"
   ]
  },
  {
   "cell_type": "markdown",
   "id": "2f7fbe1a-7508-41f6-bc5d-20008c50b4d4",
   "metadata": {},
   "source": [
    "### Embedding fields and concepts - MOOC Specific\n",
    "* Must aggregate concepts and fields -> Simple per-dim average\n",
    "* Not distinguishing between non-chineese concepts and not, which will then generate vectors also for OOV tokens"
   ]
  },
  {
   "cell_type": "markdown",
   "id": "0c0ca7cc-ca24-41b3-9eec-75d97c7ed667",
   "metadata": {},
   "source": [
    "#### Split concept ids"
   ]
  },
  {
   "cell_type": "code",
   "execution_count": 6,
   "id": "ca1ecaf2-1a9b-4954-9001-1abe6c537fce",
   "metadata": {
    "tags": []
   },
   "outputs": [],
   "source": [
    "CONCEPT_COL = \"concepts\"\n",
    "FIELD_COL = \"fields\""
   ]
  },
  {
   "cell_type": "code",
   "execution_count": 19,
   "id": "8c0942e6-3359-4940-9c04-cd72f5699865",
   "metadata": {
    "tags": []
   },
   "outputs": [
    {
     "name": "stdout",
     "output_type": "stream",
     "text": [
      "CPU times: user 1min 48s, sys: 4.04 s, total: 1min 52s\n",
      "Wall time: 1min 59s\n"
     ]
    },
    {
     "data": {
      "text/html": [
       "<div>\n",
       "<style scoped>\n",
       "    .dataframe tbody tr th:only-of-type {\n",
       "        vertical-align: middle;\n",
       "    }\n",
       "\n",
       "    .dataframe tbody tr th {\n",
       "        vertical-align: top;\n",
       "    }\n",
       "\n",
       "    .dataframe thead th {\n",
       "        text-align: right;\n",
       "    }\n",
       "</style>\n",
       "<table border=\"1\" class=\"dataframe\">\n",
       "  <thead>\n",
       "    <tr style=\"text-align: right;\">\n",
       "      <th></th>\n",
       "      <th></th>\n",
       "      <th></th>\n",
       "      <th>time_spent</th>\n",
       "      <th>num_forward</th>\n",
       "      <th>num_backward</th>\n",
       "      <th>num_pause</th>\n",
       "      <th>median_pause</th>\n",
       "      <th>std_speed</th>\n",
       "      <th>avg_speed</th>\n",
       "      <th>eff_speed</th>\n",
       "      <th>seg_rep_0</th>\n",
       "      <th>seg_rep_1</th>\n",
       "      <th>...</th>\n",
       "      <th>time_comp</th>\n",
       "      <th>time_played</th>\n",
       "      <th>replay_length</th>\n",
       "      <th>skipped_length</th>\n",
       "      <th>item_id</th>\n",
       "      <th>ccid</th>\n",
       "      <th>timestamp</th>\n",
       "      <th>backward_gap</th>\n",
       "      <th>concepts</th>\n",
       "      <th>fields</th>\n",
       "    </tr>\n",
       "    <tr>\n",
       "      <th>user_id</th>\n",
       "      <th>item_consecutive_id</th>\n",
       "      <th>session_id</th>\n",
       "      <th></th>\n",
       "      <th></th>\n",
       "      <th></th>\n",
       "      <th></th>\n",
       "      <th></th>\n",
       "      <th></th>\n",
       "      <th></th>\n",
       "      <th></th>\n",
       "      <th></th>\n",
       "      <th></th>\n",
       "      <th></th>\n",
       "      <th></th>\n",
       "      <th></th>\n",
       "      <th></th>\n",
       "      <th></th>\n",
       "      <th></th>\n",
       "      <th></th>\n",
       "      <th></th>\n",
       "      <th></th>\n",
       "      <th></th>\n",
       "      <th></th>\n",
       "    </tr>\n",
       "  </thead>\n",
       "  <tbody>\n",
       "    <tr>\n",
       "      <th rowspan=\"5\" valign=\"top\">U_10001587</th>\n",
       "      <th>1</th>\n",
       "      <th>0</th>\n",
       "      <td>306.90</td>\n",
       "      <td>0.0</td>\n",
       "      <td>0.0</td>\n",
       "      <td>0.0</td>\n",
       "      <td>0.000</td>\n",
       "      <td>0.000000</td>\n",
       "      <td>2.000000</td>\n",
       "      <td>0.000000</td>\n",
       "      <td>0.0</td>\n",
       "      <td>0.0</td>\n",
       "      <td>...</td>\n",
       "      <td>613.8</td>\n",
       "      <td>613.8</td>\n",
       "      <td>0.0</td>\n",
       "      <td>0.0</td>\n",
       "      <td>V_6043067</td>\n",
       "      <td>41C0E8B591E095359C33DC5901307461</td>\n",
       "      <td>1597743218</td>\n",
       "      <td>0.00</td>\n",
       "      <td>[nan]</td>\n",
       "      <td>[nan]</td>\n",
       "    </tr>\n",
       "    <tr>\n",
       "      <th>2</th>\n",
       "      <th>0</th>\n",
       "      <td>2743.00</td>\n",
       "      <td>14.0</td>\n",
       "      <td>2.0</td>\n",
       "      <td>16.0</td>\n",
       "      <td>30.000</td>\n",
       "      <td>0.242536</td>\n",
       "      <td>1.986347</td>\n",
       "      <td>-0.013653</td>\n",
       "      <td>4.0</td>\n",
       "      <td>4.0</td>\n",
       "      <td>...</td>\n",
       "      <td>3934.6</td>\n",
       "      <td>4028.3</td>\n",
       "      <td>93.7</td>\n",
       "      <td>367.4</td>\n",
       "      <td>V_6043065</td>\n",
       "      <td>5B96029FBD4A8CF09C33DC5901307461</td>\n",
       "      <td>1597811595</td>\n",
       "      <td>30.25</td>\n",
       "      <td>[nan]</td>\n",
       "      <td>[nan]</td>\n",
       "    </tr>\n",
       "    <tr>\n",
       "      <th rowspan=\"3\" valign=\"top\">3</th>\n",
       "      <th>0</th>\n",
       "      <td>20.00</td>\n",
       "      <td>0.0</td>\n",
       "      <td>0.0</td>\n",
       "      <td>0.0</td>\n",
       "      <td>0.000</td>\n",
       "      <td>0.000000</td>\n",
       "      <td>2.000000</td>\n",
       "      <td>0.000000</td>\n",
       "      <td>0.0</td>\n",
       "      <td>0.0</td>\n",
       "      <td>...</td>\n",
       "      <td>40.0</td>\n",
       "      <td>40.0</td>\n",
       "      <td>0.0</td>\n",
       "      <td>0.0</td>\n",
       "      <td>V_6012901</td>\n",
       "      <td>52EDC2D2B77883B99C33DC5901307461</td>\n",
       "      <td>1597815482</td>\n",
       "      <td>0.00</td>\n",
       "      <td>[nan]</td>\n",
       "      <td>[nan]</td>\n",
       "    </tr>\n",
       "    <tr>\n",
       "      <th>1</th>\n",
       "      <td>20.00</td>\n",
       "      <td>0.0</td>\n",
       "      <td>0.0</td>\n",
       "      <td>0.0</td>\n",
       "      <td>0.000</td>\n",
       "      <td>0.000000</td>\n",
       "      <td>2.000000</td>\n",
       "      <td>0.000000</td>\n",
       "      <td>0.0</td>\n",
       "      <td>0.0</td>\n",
       "      <td>...</td>\n",
       "      <td>40.0</td>\n",
       "      <td>40.0</td>\n",
       "      <td>0.0</td>\n",
       "      <td>0.0</td>\n",
       "      <td>V_6012901</td>\n",
       "      <td>52EDC2D2B77883B99C33DC5901307461</td>\n",
       "      <td>1597824712</td>\n",
       "      <td>9210.00</td>\n",
       "      <td>[nan]</td>\n",
       "      <td>[nan]</td>\n",
       "    </tr>\n",
       "    <tr>\n",
       "      <th>2</th>\n",
       "      <td>3452.75</td>\n",
       "      <td>4.0</td>\n",
       "      <td>1.0</td>\n",
       "      <td>4.0</td>\n",
       "      <td>488.175</td>\n",
       "      <td>0.516398</td>\n",
       "      <td>1.793915</td>\n",
       "      <td>0.793915</td>\n",
       "      <td>1.0</td>\n",
       "      <td>1.0</td>\n",
       "      <td>...</td>\n",
       "      <td>2501.7</td>\n",
       "      <td>2507.7</td>\n",
       "      <td>6.0</td>\n",
       "      <td>199.9</td>\n",
       "      <td>V_6012901</td>\n",
       "      <td>52EDC2D2B77883B99C33DC5901307461</td>\n",
       "      <td>1597829829</td>\n",
       "      <td>5097.00</td>\n",
       "      <td>[nan]</td>\n",
       "      <td>[nan]</td>\n",
       "    </tr>\n",
       "    <tr>\n",
       "      <th>...</th>\n",
       "      <th>...</th>\n",
       "      <th>...</th>\n",
       "      <td>...</td>\n",
       "      <td>...</td>\n",
       "      <td>...</td>\n",
       "      <td>...</td>\n",
       "      <td>...</td>\n",
       "      <td>...</td>\n",
       "      <td>...</td>\n",
       "      <td>...</td>\n",
       "      <td>...</td>\n",
       "      <td>...</td>\n",
       "      <td>...</td>\n",
       "      <td>...</td>\n",
       "      <td>...</td>\n",
       "      <td>...</td>\n",
       "      <td>...</td>\n",
       "      <td>...</td>\n",
       "      <td>...</td>\n",
       "      <td>...</td>\n",
       "      <td>...</td>\n",
       "      <td>...</td>\n",
       "      <td>...</td>\n",
       "    </tr>\n",
       "    <tr>\n",
       "      <th rowspan=\"5\" valign=\"top\">U_9999820</th>\n",
       "      <th>1</th>\n",
       "      <th>1</th>\n",
       "      <td>1010.00</td>\n",
       "      <td>4.0</td>\n",
       "      <td>0.0</td>\n",
       "      <td>4.0</td>\n",
       "      <td>30.000</td>\n",
       "      <td>0.000000</td>\n",
       "      <td>1.000000</td>\n",
       "      <td>0.000000</td>\n",
       "      <td>0.0</td>\n",
       "      <td>0.0</td>\n",
       "      <td>...</td>\n",
       "      <td>885.0</td>\n",
       "      <td>885.0</td>\n",
       "      <td>0.0</td>\n",
       "      <td>125.0</td>\n",
       "      <td>V_7386531</td>\n",
       "      <td>1BAE71E966D980C29C33DC5901307461</td>\n",
       "      <td>1601437095</td>\n",
       "      <td>2350.00</td>\n",
       "      <td>[nan]</td>\n",
       "      <td>[nan]</td>\n",
       "    </tr>\n",
       "    <tr>\n",
       "      <th>2</th>\n",
       "      <th>0</th>\n",
       "      <td>500.00</td>\n",
       "      <td>2.0</td>\n",
       "      <td>0.0</td>\n",
       "      <td>2.0</td>\n",
       "      <td>29.950</td>\n",
       "      <td>0.000000</td>\n",
       "      <td>1.000000</td>\n",
       "      <td>0.000000</td>\n",
       "      <td>0.0</td>\n",
       "      <td>0.0</td>\n",
       "      <td>...</td>\n",
       "      <td>440.1</td>\n",
       "      <td>440.1</td>\n",
       "      <td>0.0</td>\n",
       "      <td>59.9</td>\n",
       "      <td>V_7386532</td>\n",
       "      <td>AD99106BD3AD4A789C33DC5901307461</td>\n",
       "      <td>1601451341</td>\n",
       "      <td>29.90</td>\n",
       "      <td>[nan]</td>\n",
       "      <td>[nan]</td>\n",
       "    </tr>\n",
       "    <tr>\n",
       "      <th>3</th>\n",
       "      <th>0</th>\n",
       "      <td>260.00</td>\n",
       "      <td>0.0</td>\n",
       "      <td>0.0</td>\n",
       "      <td>0.0</td>\n",
       "      <td>0.000</td>\n",
       "      <td>0.000000</td>\n",
       "      <td>2.000000</td>\n",
       "      <td>0.000000</td>\n",
       "      <td>0.0</td>\n",
       "      <td>0.0</td>\n",
       "      <td>...</td>\n",
       "      <td>520.0</td>\n",
       "      <td>520.0</td>\n",
       "      <td>0.0</td>\n",
       "      <td>0.0</td>\n",
       "      <td>V_7386534</td>\n",
       "      <td>8D21D8DA741CBD639C33DC5901307461</td>\n",
       "      <td>1601468512</td>\n",
       "      <td>0.00</td>\n",
       "      <td>[nan]</td>\n",
       "      <td>[nan]</td>\n",
       "    </tr>\n",
       "    <tr>\n",
       "      <th>4</th>\n",
       "      <th>0</th>\n",
       "      <td>2150.00</td>\n",
       "      <td>4.0</td>\n",
       "      <td>0.0</td>\n",
       "      <td>4.0</td>\n",
       "      <td>45.000</td>\n",
       "      <td>0.000000</td>\n",
       "      <td>2.000000</td>\n",
       "      <td>0.000000</td>\n",
       "      <td>0.0</td>\n",
       "      <td>0.0</td>\n",
       "      <td>...</td>\n",
       "      <td>2650.0</td>\n",
       "      <td>2650.0</td>\n",
       "      <td>0.0</td>\n",
       "      <td>1650.0</td>\n",
       "      <td>V_7386535</td>\n",
       "      <td>81FDDCC818CF26339C33DC5901307461</td>\n",
       "      <td>1601474220</td>\n",
       "      <td>30.00</td>\n",
       "      <td>[nan]</td>\n",
       "      <td>[nan]</td>\n",
       "    </tr>\n",
       "    <tr>\n",
       "      <th>5</th>\n",
       "      <th>0</th>\n",
       "      <td>584.95</td>\n",
       "      <td>2.0</td>\n",
       "      <td>0.0</td>\n",
       "      <td>2.0</td>\n",
       "      <td>32.500</td>\n",
       "      <td>0.000000</td>\n",
       "      <td>2.000000</td>\n",
       "      <td>0.000000</td>\n",
       "      <td>0.0</td>\n",
       "      <td>0.0</td>\n",
       "      <td>...</td>\n",
       "      <td>1039.9</td>\n",
       "      <td>1039.9</td>\n",
       "      <td>0.0</td>\n",
       "      <td>130.0</td>\n",
       "      <td>V_7386536</td>\n",
       "      <td>3A63F361A53EE4979C33DC5901307461</td>\n",
       "      <td>1601518763</td>\n",
       "      <td>30.00</td>\n",
       "      <td>[nan]</td>\n",
       "      <td>[nan]</td>\n",
       "    </tr>\n",
       "  </tbody>\n",
       "</table>\n",
       "<p>1461684 rows × 31 columns</p>\n",
       "</div>"
      ],
      "text/plain": [
       "                                           time_spent  num_forward  \\\n",
       "user_id    item_consecutive_id session_id                            \n",
       "U_10001587 1                   0               306.90          0.0   \n",
       "           2                   0              2743.00         14.0   \n",
       "           3                   0                20.00          0.0   \n",
       "                               1                20.00          0.0   \n",
       "                               2              3452.75          4.0   \n",
       "...                                               ...          ...   \n",
       "U_9999820  1                   1              1010.00          4.0   \n",
       "           2                   0               500.00          2.0   \n",
       "           3                   0               260.00          0.0   \n",
       "           4                   0              2150.00          4.0   \n",
       "           5                   0               584.95          2.0   \n",
       "\n",
       "                                           num_backward  num_pause  \\\n",
       "user_id    item_consecutive_id session_id                            \n",
       "U_10001587 1                   0                    0.0        0.0   \n",
       "           2                   0                    2.0       16.0   \n",
       "           3                   0                    0.0        0.0   \n",
       "                               1                    0.0        0.0   \n",
       "                               2                    1.0        4.0   \n",
       "...                                                 ...        ...   \n",
       "U_9999820  1                   1                    0.0        4.0   \n",
       "           2                   0                    0.0        2.0   \n",
       "           3                   0                    0.0        0.0   \n",
       "           4                   0                    0.0        4.0   \n",
       "           5                   0                    0.0        2.0   \n",
       "\n",
       "                                           median_pause  std_speed  avg_speed  \\\n",
       "user_id    item_consecutive_id session_id                                       \n",
       "U_10001587 1                   0                  0.000   0.000000   2.000000   \n",
       "           2                   0                 30.000   0.242536   1.986347   \n",
       "           3                   0                  0.000   0.000000   2.000000   \n",
       "                               1                  0.000   0.000000   2.000000   \n",
       "                               2                488.175   0.516398   1.793915   \n",
       "...                                                 ...        ...        ...   \n",
       "U_9999820  1                   1                 30.000   0.000000   1.000000   \n",
       "           2                   0                 29.950   0.000000   1.000000   \n",
       "           3                   0                  0.000   0.000000   2.000000   \n",
       "           4                   0                 45.000   0.000000   2.000000   \n",
       "           5                   0                 32.500   0.000000   2.000000   \n",
       "\n",
       "                                           eff_speed  seg_rep_0  seg_rep_1  \\\n",
       "user_id    item_consecutive_id session_id                                    \n",
       "U_10001587 1                   0            0.000000        0.0        0.0   \n",
       "           2                   0           -0.013653        4.0        4.0   \n",
       "           3                   0            0.000000        0.0        0.0   \n",
       "                               1            0.000000        0.0        0.0   \n",
       "                               2            0.793915        1.0        1.0   \n",
       "...                                              ...        ...        ...   \n",
       "U_9999820  1                   1            0.000000        0.0        0.0   \n",
       "           2                   0            0.000000        0.0        0.0   \n",
       "           3                   0            0.000000        0.0        0.0   \n",
       "           4                   0            0.000000        0.0        0.0   \n",
       "           5                   0            0.000000        0.0        0.0   \n",
       "\n",
       "                                           ...  time_comp  time_played  \\\n",
       "user_id    item_consecutive_id session_id  ...                           \n",
       "U_10001587 1                   0           ...      613.8        613.8   \n",
       "           2                   0           ...     3934.6       4028.3   \n",
       "           3                   0           ...       40.0         40.0   \n",
       "                               1           ...       40.0         40.0   \n",
       "                               2           ...     2501.7       2507.7   \n",
       "...                                        ...        ...          ...   \n",
       "U_9999820  1                   1           ...      885.0        885.0   \n",
       "           2                   0           ...      440.1        440.1   \n",
       "           3                   0           ...      520.0        520.0   \n",
       "           4                   0           ...     2650.0       2650.0   \n",
       "           5                   0           ...     1039.9       1039.9   \n",
       "\n",
       "                                           replay_length  skipped_length  \\\n",
       "user_id    item_consecutive_id session_id                                  \n",
       "U_10001587 1                   0                     0.0             0.0   \n",
       "           2                   0                    93.7           367.4   \n",
       "           3                   0                     0.0             0.0   \n",
       "                               1                     0.0             0.0   \n",
       "                               2                     6.0           199.9   \n",
       "...                                                  ...             ...   \n",
       "U_9999820  1                   1                     0.0           125.0   \n",
       "           2                   0                     0.0            59.9   \n",
       "           3                   0                     0.0             0.0   \n",
       "           4                   0                     0.0          1650.0   \n",
       "           5                   0                     0.0           130.0   \n",
       "\n",
       "                                             item_id  \\\n",
       "user_id    item_consecutive_id session_id              \n",
       "U_10001587 1                   0           V_6043067   \n",
       "           2                   0           V_6043065   \n",
       "           3                   0           V_6012901   \n",
       "                               1           V_6012901   \n",
       "                               2           V_6012901   \n",
       "...                                              ...   \n",
       "U_9999820  1                   1           V_7386531   \n",
       "           2                   0           V_7386532   \n",
       "           3                   0           V_7386534   \n",
       "           4                   0           V_7386535   \n",
       "           5                   0           V_7386536   \n",
       "\n",
       "                                                                       ccid  \\\n",
       "user_id    item_consecutive_id session_id                                     \n",
       "U_10001587 1                   0           41C0E8B591E095359C33DC5901307461   \n",
       "           2                   0           5B96029FBD4A8CF09C33DC5901307461   \n",
       "           3                   0           52EDC2D2B77883B99C33DC5901307461   \n",
       "                               1           52EDC2D2B77883B99C33DC5901307461   \n",
       "                               2           52EDC2D2B77883B99C33DC5901307461   \n",
       "...                                                                     ...   \n",
       "U_9999820  1                   1           1BAE71E966D980C29C33DC5901307461   \n",
       "           2                   0           AD99106BD3AD4A789C33DC5901307461   \n",
       "           3                   0           8D21D8DA741CBD639C33DC5901307461   \n",
       "           4                   0           81FDDCC818CF26339C33DC5901307461   \n",
       "           5                   0           3A63F361A53EE4979C33DC5901307461   \n",
       "\n",
       "                                            timestamp  backward_gap  concepts  \\\n",
       "user_id    item_consecutive_id session_id                                       \n",
       "U_10001587 1                   0           1597743218          0.00     [nan]   \n",
       "           2                   0           1597811595         30.25     [nan]   \n",
       "           3                   0           1597815482          0.00     [nan]   \n",
       "                               1           1597824712       9210.00     [nan]   \n",
       "                               2           1597829829       5097.00     [nan]   \n",
       "...                                               ...           ...       ...   \n",
       "U_9999820  1                   1           1601437095       2350.00     [nan]   \n",
       "           2                   0           1601451341         29.90     [nan]   \n",
       "           3                   0           1601468512          0.00     [nan]   \n",
       "           4                   0           1601474220         30.00     [nan]   \n",
       "           5                   0           1601518763         30.00     [nan]   \n",
       "\n",
       "                                           fields  \n",
       "user_id    item_consecutive_id session_id          \n",
       "U_10001587 1                   0            [nan]  \n",
       "           2                   0            [nan]  \n",
       "           3                   0            [nan]  \n",
       "                               1            [nan]  \n",
       "                               2            [nan]  \n",
       "...                                           ...  \n",
       "U_9999820  1                   1            [nan]  \n",
       "           2                   0            [nan]  \n",
       "           3                   0            [nan]  \n",
       "           4                   0            [nan]  \n",
       "           5                   0            [nan]  \n",
       "\n",
       "[1461684 rows x 31 columns]"
      ]
     },
     "execution_count": 19,
     "metadata": {},
     "output_type": "execute_result"
    }
   ],
   "source": [
    "%%time\n",
    "sessions_concepts = sessions_filled.assign(**(sessions_filled[\"concept_id\"].explode()\n",
    "                                .str[2:].str.rsplit(\"_\", n=1, expand=True)\n",
    "                                .replace(\"\", np.nan).fillna(value=np.nan)\n",
    "                                .transform(lambda col: col.str.strip())\n",
    "                                .rename(columns={0:CONCEPT_COL, 1:FIELD_COL})\n",
    "                                .groupby(level=[0,1,2]).agg(list))\n",
    "                                           ).drop(columns=\"concept_id\")\n",
    "sessions_concepts"
   ]
  },
  {
   "cell_type": "markdown",
   "id": "9a3c3d0b-4beb-40e8-8a1d-1a6155070a23",
   "metadata": {},
   "source": [
    "### Create embedding tables\n",
    "Have to use the encoded strings as integer lookups in a manually created lookup table"
   ]
  },
  {
   "cell_type": "code",
   "execution_count": 8,
   "id": "8b7e8451-c451-4f85-b124-a217a4ec7744",
   "metadata": {
    "tags": []
   },
   "outputs": [],
   "source": [
    "import fasttext\n",
    "import pickle"
   ]
  },
  {
   "cell_type": "code",
   "execution_count": 21,
   "id": "d36f14cd-9a56-4bc0-8837-5aaf5f18f789",
   "metadata": {
    "tags": []
   },
   "outputs": [
    {
     "name": "stderr",
     "output_type": "stream",
     "text": [
      "Warning : `load_model` does not return WordVectorModel or SupervisedModel any more, but a `FastText` object which is very similar.\n"
     ]
    }
   ],
   "source": [
    "emb_table = fasttext.load_model(\"cc.zh.64.bin\")"
   ]
  },
  {
   "cell_type": "markdown",
   "id": "dab1b83d-dcd7-4fcf-965d-b274414f5949",
   "metadata": {},
   "source": [
    "`print-sentence-vectors` do not provide the given sentence -> THe order is given by the lines above"
   ]
  },
  {
   "cell_type": "code",
   "execution_count": 22,
   "id": "c1e9cad3-ec7b-4ebf-bfac-2bd0672261c2",
   "metadata": {
    "tags": []
   },
   "outputs": [
    {
     "name": "stdout",
     "output_type": "stream",
     "text": [
      "CPU times: user 3.69 s, sys: 171 ms, total: 3.87 s\n",
      "Wall time: 3.88 s\n"
     ]
    }
   ],
   "source": [
    "%%time\n",
    "unique_fields = sessions_concepts[FIELD_COL].explode().unique()\n",
    "unique_concepts = sessions_concepts[CONCEPT_COL].explode().unique()"
   ]
  },
  {
   "cell_type": "code",
   "execution_count": 23,
   "id": "1c319987-483a-411a-8821-aafe5d578007",
   "metadata": {
    "tags": []
   },
   "outputs": [
    {
     "data": {
      "text/plain": [
       "(73, 159319)"
      ]
     },
     "execution_count": 23,
     "metadata": {},
     "output_type": "execute_result"
    }
   ],
   "source": [
    "len(unique_fields), len(unique_concepts)"
   ]
  },
  {
   "cell_type": "markdown",
   "id": "7926e7dc-ced2-40be-8688-b6e2976a2aaa",
   "metadata": {},
   "source": [
    "#### Encoding of fields"
   ]
  },
  {
   "cell_type": "code",
   "execution_count": 24,
   "id": "7e2a1ed4-2458-4b7b-a4e1-d69982901251",
   "metadata": {
    "tags": []
   },
   "outputs": [],
   "source": [
    "# Standardize all nan-values to np.nan, e.g. None-type and drop unnecessary column \n",
    "sessions_concepts.loc[:,\"ccid\"] = sessions_concepts[\"ccid\"].fillna(value=np.nan)"
   ]
  },
  {
   "cell_type": "code",
   "execution_count": 25,
   "id": "b853b008-05e9-4760-84fc-d9567d09d7a6",
   "metadata": {
    "tags": []
   },
   "outputs": [
    {
     "name": "stdout",
     "output_type": "stream",
     "text": [
      "CPU times: user 339 ms, sys: 992 µs, total: 340 ms\n",
      "Wall time: 344 ms\n"
     ]
    }
   ],
   "source": [
    "%%time\n",
    "# Concept mapping, saving 0 for padding\n",
    "concept2int = {val: i for i, val in enumerate(unique_concepts, start=0)}\n",
    "# Manually map videos without related concepts to - Already included -> Start at 0 instead\n",
    "#concept2int[np.nan] = 0\n",
    "int2concept = {i: concept for concept, i in concept2int.items()}\n",
    "\n",
    "# Field mapping, saving 0 for padding\n",
    "field2int = {val: i for i, val in enumerate(unique_fields, start=0)}\n",
    "# Manually map videos without related concepts - Already included\n",
    "#field2int[np.nan] = 0\n",
    "int2field = {i: field for field, i in field2int.items()}\n",
    "\n",
    "# Video id mapping, saving 0 for padding\n",
    "video_id2int = {val: i for i, val in enumerate(sessions_concepts[ITEM_COL].unique(), start=1)}\n",
    "int2video_id = {i: video_id for video_id, i in video_id2int.items()}\n",
    "\n",
    "# CCID mapping, sorting to have np.nan at index 0\n",
    "ccid2int = {val: i for i, val in enumerate(sessions_concepts[\"ccid\"].dropna().unique(), start=1)}\n",
    "ccid2int[np.nan] = 0\n",
    "int2ccid = {i: ccid for ccid, i in ccid2int.items()}"
   ]
  },
  {
   "cell_type": "code",
   "execution_count": 26,
   "id": "9dca7f6b-ab8c-459d-8a10-82f660d11c74",
   "metadata": {
    "tags": []
   },
   "outputs": [
    {
     "data": {
      "text/plain": [
       "(158358, 78972, 159318, 72)"
      ]
     },
     "execution_count": 26,
     "metadata": {},
     "output_type": "execute_result"
    }
   ],
   "source": [
    "# Exlucdes np.nan which is mapped to 0 for concepts and fields\n",
    "MAX_VIDEO_ID, MAX_CONCEPT, MAX_FIELD, MAX_CCID = max(video_id2int.values()), max(concept2int.values()), max(field2int.values()), max(ccid2int.values())\n",
    "MAX_VIDEO_ID, MAX_CCID, MAX_CONCEPT, MAX_FIELD"
   ]
  },
  {
   "cell_type": "code",
   "execution_count": 11,
   "id": "484d2f31-f6fe-4000-8a10-3a7cd699ec3a",
   "metadata": {
    "tags": []
   },
   "outputs": [],
   "source": [
    "from utils.io import save_enc"
   ]
  },
  {
   "cell_type": "code",
   "execution_count": 28,
   "id": "7b041d7f-3732-452f-b2c4-9b30d16a705b",
   "metadata": {
    "tags": []
   },
   "outputs": [],
   "source": [
    "embeddings_path = Path(\"embeddings\")\n",
    "embeddings_path.mkdir(exist_ok=True)\n",
    "save_enc(concept2int, embeddings_path / \"concept2int.json\" )\n",
    "save_enc(field2int, embeddings_path / \"field2int.json\" )\n",
    "save_enc(video_id2int, embeddings_path / \"video_id2int.json\" )\n",
    "save_enc(ccid2int, embeddings_path / \"ccid2int.json\" )"
   ]
  },
  {
   "cell_type": "code",
   "execution_count": 7,
   "id": "2095300f-7c7b-4100-a424-fe246cbe99b5",
   "metadata": {
    "tags": []
   },
   "outputs": [],
   "source": [
    "TXT_EMBED_DIM = 64\n",
    "PAD_TOKEN = 0\n",
    "MAX_CONCEPT_LENGTH = 10"
   ]
  },
  {
   "cell_type": "markdown",
   "id": "d2f97643-4d1d-405a-a54f-d9b8b64c04b2",
   "metadata": {},
   "source": [
    "Some problems storing concepts as strings in file. Don't know why, but likely some encoding issue of some sort"
   ]
  },
  {
   "cell_type": "code",
   "execution_count": 30,
   "id": "db1e4be4-3d3a-4a1f-9669-a14ace3e69c6",
   "metadata": {
    "tags": []
   },
   "outputs": [],
   "source": [
    "# Checking to verify that all concepts and fields are stripped as expected\n",
    "assert all([isinstance(field, float) or field.strip() == field for field in unique_fields])\n",
    "assert all([isinstance(concept, float) or concept.strip() == concept for concept in unique_concepts])"
   ]
  },
  {
   "cell_type": "code",
   "execution_count": 31,
   "id": "4069cdc4-1f10-45ec-8079-c7f2043fd1a0",
   "metadata": {
    "tags": []
   },
   "outputs": [
    {
     "name": "stdout",
     "output_type": "stream",
     "text": [
      "CPU times: user 904 ms, sys: 1.07 ms, total: 905 ms\n",
      "Wall time: 908 ms\n"
     ]
    }
   ],
   "source": [
    "%%time\n",
    "# Skipping first, which is NaN\n",
    "embedded_concepts = np.array([emb_table.get_sentence_vector(concept) for concept in unique_concepts[1:]])\n",
    "embedded_fields = np.array([emb_table.get_sentence_vector(field) for field in unique_fields[1:]])"
   ]
  },
  {
   "cell_type": "code",
   "execution_count": 32,
   "id": "63721f31-351b-4c7f-9dfd-bf2f7e660e90",
   "metadata": {
    "tags": []
   },
   "outputs": [],
   "source": [
    "# Create explicit mapping between feature and embedding, ignoring np.nan\n",
    "field2float = dict(zip(unique_fields[1:], embedded_fields))\n",
    "concept2float = dict(zip(unique_concepts[1:], embedded_concepts))"
   ]
  },
  {
   "cell_type": "code",
   "execution_count": 33,
   "id": "3df5e31f-7dfa-4904-82ef-3d5df3c86a62",
   "metadata": {
    "tags": []
   },
   "outputs": [],
   "source": [
    "SAVE = True"
   ]
  },
  {
   "cell_type": "code",
   "execution_count": 34,
   "id": "666bf004-0e14-4c42-ab08-cad562de15c3",
   "metadata": {
    "tags": []
   },
   "outputs": [],
   "source": [
    "# Create explicit mapping between encoding and embedding + add pad token\n",
    "concept_enc2float = {concept2int[concept]: embed for concept, embed in concept2float.items()}\n",
    "concept_enc2float[PAD_TOKEN] = np.zeros(TXT_EMBED_DIM)\n",
    "field_enc2float = {field2int[field]: embed for field, embed in field2float.items()}\n",
    "field_enc2float[PAD_TOKEN] = np.zeros(TXT_EMBED_DIM)"
   ]
  },
  {
   "cell_type": "code",
   "execution_count": 35,
   "id": "ade0e57d-6eb0-4df9-a34b-f033ef40d141",
   "metadata": {
    "tags": []
   },
   "outputs": [],
   "source": [
    "if SAVE:\n",
    "    with open(embeddings_path / \"concept-enc-embedding-sentence.pickle\", \"wb\") as f:\n",
    "        pickle.dump(concept_enc2float, f)\n",
    "    with open(embeddings_path / \"field-enc-embedding-sentence.pickle\", \"wb\") as f:\n",
    "        pickle.dump(field_enc2float, f)"
   ]
  },
  {
   "cell_type": "code",
   "execution_count": 36,
   "id": "62e768bb-c123-415d-9587-d4618613dbd3",
   "metadata": {
    "tags": []
   },
   "outputs": [],
   "source": [
    "fields_as_list = list(sorted(field_enc2float.items(), key=lambda x: x[0]))\n",
    "concepts_as_list = list(sorted(concept_enc2float.items(), key=lambda x: x[0]))\n",
    "# Verify that the order is as expected\n",
    "assert all([(field_enc2float[idx] == val).all() for idx, val in fields_as_list])\n",
    "assert all([(concept_enc2float[idx] == val).all() for idx, val in concepts_as_list])"
   ]
  },
  {
   "cell_type": "code",
   "execution_count": 37,
   "id": "8ee7d14c-6438-42ce-84b2-9f2a472bb7e7",
   "metadata": {
    "tags": []
   },
   "outputs": [],
   "source": [
    "# Convert to embedding tables and store - Redundant but\n",
    "field_embed_table = np.concatenate(([[val] for idx, val in fields_as_list]))\n",
    "concept_embed_table = np.concatenate(([[val] for idx, val in concepts_as_list]))"
   ]
  },
  {
   "cell_type": "code",
   "execution_count": 38,
   "id": "f2ee80fa-563e-4651-972d-7c8fcade4b17",
   "metadata": {
    "tags": []
   },
   "outputs": [
    {
     "data": {
      "text/plain": [
       "((73, 64), (159319, 64))"
      ]
     },
     "execution_count": 38,
     "metadata": {},
     "output_type": "execute_result"
    }
   ],
   "source": [
    "field_embed_table.shape, concept_embed_table.shape"
   ]
  },
  {
   "cell_type": "code",
   "execution_count": 39,
   "id": "4153e2fb-626d-4ff6-8497-5939d3703618",
   "metadata": {
    "tags": []
   },
   "outputs": [],
   "source": [
    "from utils.io import save_embedding_table\n",
    "# Store the weight matrices themselves to be loaded - Each row corresponding to the encoded index\n",
    "if SAVE:\n",
    "    save_embedding_table(embeddings_path, CONCEPT_COL, concept_embed_table)\n",
    "    save_embedding_table(embeddings_path, FIELD_COL, field_embed_table)"
   ]
  },
  {
   "cell_type": "markdown",
   "id": "95ac1905-de3b-47ab-983c-6247a95bc21f",
   "metadata": {},
   "source": [
    "#### Encoding columns"
   ]
  },
  {
   "cell_type": "code",
   "execution_count": 40,
   "id": "da4be90a-28be-4ac9-8996-809ecedc508a",
   "metadata": {
    "tags": []
   },
   "outputs": [
    {
     "name": "stdout",
     "output_type": "stream",
     "text": [
      "CPU times: user 12.8 s, sys: 209 ms, total: 13 s\n",
      "Wall time: 13.3 s\n"
     ]
    }
   ],
   "source": [
    "%%time\n",
    "# Basic video_id, encoding, stripping as they where embedded cleanly\n",
    "sessions_encoded = sessions_concepts.copy()\n",
    "sessions_encoded.loc[:,ITEM_COL] = sessions_encoded[ITEM_COL].map(video_id2int)\n",
    "sessions_encoded.loc[:,\"ccid\"] = sessions_encoded[\"ccid\"].map(ccid2int)\n",
    "sessions_encoded.loc[:,CONCEPT_COL] = sessions_encoded[CONCEPT_COL].transform(lambda lst: [concept2int[concept] for concept in lst])\n",
    "sessions_encoded.loc[:,FIELD_COL] = sessions_encoded[FIELD_COL].transform(lambda lst: [field2int[field] for field in lst])"
   ]
  },
  {
   "cell_type": "code",
   "execution_count": 12,
   "id": "407cd5e2-8fb7-4394-90b2-7e4919bf27ef",
   "metadata": {
    "tags": []
   },
   "outputs": [],
   "source": [
    "def pad_and_slice(series, pad_token=0, max_length=MAX_CONCEPT_LENGTH):\n",
    "    \"\"\"Pads and slice a list with the given padding token and a given max length\"\"\"\n",
    "    return series.transform(lambda lst: (lst + [pad_token] * max_length)[:max_length])"
   ]
  },
  {
   "cell_type": "code",
   "execution_count": 42,
   "id": "84590a5e-71b1-40a9-ac53-5aa1a5c2945d",
   "metadata": {
    "tags": []
   },
   "outputs": [
    {
     "name": "stdout",
     "output_type": "stream",
     "text": [
      "CPU times: user 6.65 s, sys: 185 ms, total: 6.84 s\n",
      "Wall time: 6.96 s\n"
     ]
    }
   ],
   "source": [
    "%%time\n",
    "# Slice and pad concepts to avoid ragged list \n",
    "sessions_encoded.loc[:, [CONCEPT_COL, FIELD_COL]] = (sessions_encoded[[CONCEPT_COL, FIELD_COL]]\n",
    "                                                     .transform(pad_and_slice, max_length=MAX_CONCEPT_LENGTH, axis=0)\n",
    "                                                     # Convert to 2D array which is needed for embedding\n",
    "                                                     .transform(lambda series: series.transform(lambda lst: [lst])))"
   ]
  },
  {
   "cell_type": "code",
   "execution_count": 43,
   "id": "6ba4d972-201b-4b5b-95f3-124ba2552e9e",
   "metadata": {
    "tags": []
   },
   "outputs": [
    {
     "data": {
      "text/plain": [
       "(True, True)"
      ]
     },
     "execution_count": 43,
     "metadata": {},
     "output_type": "execute_result"
    }
   ],
   "source": [
    "(sessions_encoded[FIELD_COL].str[0].str.len() == MAX_CONCEPT_LENGTH).all(), (sessions_encoded[FIELD_COL].str.len() == 1).all()"
   ]
  },
  {
   "cell_type": "markdown",
   "id": "9ef2091a-74fa-43a9-9bc5-556a5befd712",
   "metadata": {},
   "source": [
    "#### Split"
   ]
  },
  {
   "cell_type": "code",
   "execution_count": 44,
   "id": "3a80754d-b645-45ea-bd28-f003123d237d",
   "metadata": {
    "tags": []
   },
   "outputs": [],
   "source": [
    "test_raw = sessions_encoded.copy()\n",
    "val_raw = get_apply_op(test_raw.groupby(USER_COL, group_keys=False, sort=False))(lambda group: group[:-1])\n",
    "train_raw = get_apply_op(val_raw.groupby(USER_COL, group_keys=False, sort=False))(lambda group: group[:-1])"
   ]
  },
  {
   "cell_type": "code",
   "execution_count": 45,
   "id": "3b2da50e-ed77-4fae-9144-f1595936ee38",
   "metadata": {
    "tags": []
   },
   "outputs": [],
   "source": [
    "num_users =116661 #116093 "
   ]
  },
  {
   "cell_type": "code",
   "execution_count": 46,
   "id": "93022b17-7d7b-4037-a1ee-3e579532fbfa",
   "metadata": {
    "tags": []
   },
   "outputs": [],
   "source": [
    "assert test_raw.shape[0] -1 * num_users  == val_raw.shape[0]\n",
    "assert test_raw.shape[0] - 2 * num_users  == train_raw.shape[0]"
   ]
  },
  {
   "cell_type": "markdown",
   "id": "00031e11-fb2b-498f-a3cf-c6bb93f8f544",
   "metadata": {},
   "source": [
    "#### Video normalize"
   ]
  },
  {
   "cell_type": "code",
   "execution_count": 8,
   "id": "9df2fa89-02cb-41dc-892b-a01eb7743e3c",
   "metadata": {
    "tags": []
   },
   "outputs": [],
   "source": [
    "from utils.pre_processing import norm_vid_feats"
   ]
  },
  {
   "cell_type": "code",
   "execution_count": 14,
   "id": "a17daa93-257b-44c7-9e5e-8b97325c0dcb",
   "metadata": {
    "tags": []
   },
   "outputs": [],
   "source": [
    "VIDEO_NORM_FEATS = [\"replay_length\", \"time_played\", \"time_comp\", \"skipped_length\", \"time_spent\"]"
   ]
  },
  {
   "cell_type": "code",
   "execution_count": 49,
   "id": "03476d1a-0217-47a7-a28c-e8348a16b8fb",
   "metadata": {
    "tags": []
   },
   "outputs": [
    {
     "data": {
      "text/html": [
       "<div>\n",
       "<style scoped>\n",
       "    .dataframe tbody tr th:only-of-type {\n",
       "        vertical-align: middle;\n",
       "    }\n",
       "\n",
       "    .dataframe tbody tr th {\n",
       "        vertical-align: top;\n",
       "    }\n",
       "\n",
       "    .dataframe thead th {\n",
       "        text-align: right;\n",
       "    }\n",
       "</style>\n",
       "<table border=\"1\" class=\"dataframe\">\n",
       "  <thead>\n",
       "    <tr style=\"text-align: right;\">\n",
       "      <th></th>\n",
       "      <th>replay_length</th>\n",
       "      <th>time_played</th>\n",
       "      <th>time_comp</th>\n",
       "      <th>skipped_length</th>\n",
       "      <th>time_spent</th>\n",
       "    </tr>\n",
       "  </thead>\n",
       "  <tbody>\n",
       "    <tr>\n",
       "      <th>1</th>\n",
       "      <td>49.0</td>\n",
       "      <td>7032.3</td>\n",
       "      <td>7032.3</td>\n",
       "      <td>6995.0</td>\n",
       "      <td>7734.100000</td>\n",
       "    </tr>\n",
       "    <tr>\n",
       "      <th>2</th>\n",
       "      <td>115.8</td>\n",
       "      <td>9313.0</td>\n",
       "      <td>9313.0</td>\n",
       "      <td>8565.0</td>\n",
       "      <td>9687.000000</td>\n",
       "    </tr>\n",
       "    <tr>\n",
       "      <th>3</th>\n",
       "      <td>16.0</td>\n",
       "      <td>2971.9</td>\n",
       "      <td>2971.9</td>\n",
       "      <td>2909.0</td>\n",
       "      <td>2840.000000</td>\n",
       "    </tr>\n",
       "    <tr>\n",
       "      <th>4</th>\n",
       "      <td>55.7</td>\n",
       "      <td>2420.0</td>\n",
       "      <td>2420.0</td>\n",
       "      <td>1360.0</td>\n",
       "      <td>2454.500000</td>\n",
       "    </tr>\n",
       "    <tr>\n",
       "      <th>5</th>\n",
       "      <td>6.2</td>\n",
       "      <td>4927.0</td>\n",
       "      <td>4927.0</td>\n",
       "      <td>4234.0</td>\n",
       "      <td>5817.700000</td>\n",
       "    </tr>\n",
       "    <tr>\n",
       "      <th>...</th>\n",
       "      <td>...</td>\n",
       "      <td>...</td>\n",
       "      <td>...</td>\n",
       "      <td>...</td>\n",
       "      <td>...</td>\n",
       "    </tr>\n",
       "    <tr>\n",
       "      <th>158354</th>\n",
       "      <td>37.3</td>\n",
       "      <td>1385.8</td>\n",
       "      <td>1348.5</td>\n",
       "      <td>270.4</td>\n",
       "      <td>2077.000000</td>\n",
       "    </tr>\n",
       "    <tr>\n",
       "      <th>158355</th>\n",
       "      <td>15.1</td>\n",
       "      <td>1259.2</td>\n",
       "      <td>1244.1</td>\n",
       "      <td>514.9</td>\n",
       "      <td>1240.133333</td>\n",
       "    </tr>\n",
       "    <tr>\n",
       "      <th>158356</th>\n",
       "      <td>0.0</td>\n",
       "      <td>380.0</td>\n",
       "      <td>380.0</td>\n",
       "      <td>49.2</td>\n",
       "      <td>841.533333</td>\n",
       "    </tr>\n",
       "    <tr>\n",
       "      <th>158357</th>\n",
       "      <td>0.0</td>\n",
       "      <td>119.9</td>\n",
       "      <td>119.9</td>\n",
       "      <td>0.0</td>\n",
       "      <td>119.900000</td>\n",
       "    </tr>\n",
       "    <tr>\n",
       "      <th>158358</th>\n",
       "      <td>0.0</td>\n",
       "      <td>320.6</td>\n",
       "      <td>320.6</td>\n",
       "      <td>47.9</td>\n",
       "      <td>595.466667</td>\n",
       "    </tr>\n",
       "  </tbody>\n",
       "</table>\n",
       "<p>158358 rows × 5 columns</p>\n",
       "</div>"
      ],
      "text/plain": [
       "        replay_length  time_played  time_comp  skipped_length   time_spent\n",
       "1                49.0       7032.3     7032.3          6995.0  7734.100000\n",
       "2               115.8       9313.0     9313.0          8565.0  9687.000000\n",
       "3                16.0       2971.9     2971.9          2909.0  2840.000000\n",
       "4                55.7       2420.0     2420.0          1360.0  2454.500000\n",
       "5                 6.2       4927.0     4927.0          4234.0  5817.700000\n",
       "...               ...          ...        ...             ...          ...\n",
       "158354           37.3       1385.8     1348.5           270.4  2077.000000\n",
       "158355           15.1       1259.2     1244.1           514.9  1240.133333\n",
       "158356            0.0        380.0      380.0            49.2   841.533333\n",
       "158357            0.0        119.9      119.9             0.0   119.900000\n",
       "158358            0.0        320.6      320.6            47.9   595.466667\n",
       "\n",
       "[158358 rows x 5 columns]"
      ]
     },
     "execution_count": 49,
     "metadata": {},
     "output_type": "execute_result"
    }
   ],
   "source": [
    "# Include OOV videos to the max video feature length index to properly handle missing videos\n",
    "video_max = train_raw.groupby(ITEM_COL)[VIDEO_NORM_FEATS].max().reindex(pd.Index(test_raw[ITEM_COL].unique()), fill_value=0).sort_index()\n",
    "video_max"
   ]
  },
  {
   "cell_type": "code",
   "execution_count": 50,
   "id": "cdd0027e-c1d9-4d4e-9e05-6f68b550ddd4",
   "metadata": {
    "tags": []
   },
   "outputs": [
    {
     "data": {
      "text/plain": [
       "replay_length      30261\n",
       "time_played       140747\n",
       "time_comp         140747\n",
       "skipped_length     89713\n",
       "time_spent        140747\n",
       "dtype: int64"
      ]
     },
     "execution_count": 50,
     "metadata": {},
     "output_type": "execute_result"
    }
   ],
   "source": [
    "video_max.astype(bool).sum()"
   ]
  },
  {
   "cell_type": "code",
   "execution_count": 51,
   "id": "ae217624-6cd6-407c-9ed1-6f90002bae12",
   "metadata": {
    "tags": []
   },
   "outputs": [
    {
     "name": "stderr",
     "output_type": "stream",
     "text": [
      "100%|████████████████████████████████████████| 158358/158358 [00:56<00:00, 2810.16it/s]\n",
      "100%|████████████████████████████████████████| 149922/149922 [00:54<00:00, 2727.28it/s]\n",
      "100%|████████████████████████████████████████| 140747/140747 [00:50<00:00, 2810.89it/s]\n"
     ]
    },
    {
     "name": "stdout",
     "output_type": "stream",
     "text": [
      "CPU times: user 2min 33s, sys: 3.95 s, total: 2min 36s\n",
      "Wall time: 2min 43s\n"
     ]
    }
   ],
   "source": [
    "%%time\n",
    "test_norm = norm_vid_feats(test_raw, max_lengths=video_max)\n",
    "val_norm = norm_vid_feats(val_raw, max_lengths=video_max)\n",
    "train_norm = norm_vid_feats(train_raw, max_lengths=video_max)"
   ]
  },
  {
   "cell_type": "code",
   "execution_count": 52,
   "id": "7abafc31",
   "metadata": {
    "tags": []
   },
   "outputs": [],
   "source": [
    "keep_last = lambda group: group.tail(1)"
   ]
  },
  {
   "cell_type": "code",
   "execution_count": 53,
   "id": "ab5db0f5-05fb-406a-8793-6ce106ecf9ca",
   "metadata": {
    "tags": []
   },
   "outputs": [
    {
     "name": "stdout",
     "output_type": "stream",
     "text": [
      "CPU times: user 53.7 s, sys: 1.38 s, total: 55.1 s\n",
      "Wall time: 57.4 s\n"
     ]
    }
   ],
   "source": [
    "%%time\n",
    "val_loo_norm = get_apply_op(val_raw.groupby(USER_COL, group_keys=False, sort=False))(keep_last)\n",
    "test_loo_norm = get_apply_op(test_norm.groupby(USER_COL, sort=False, group_keys=False))(keep_last)"
   ]
  },
  {
   "cell_type": "code",
   "execution_count": 9,
   "id": "b411a3d8",
   "metadata": {
    "tags": []
   },
   "outputs": [],
   "source": [
    "mooc_datasets_path = Path(\"mooc_fix\")\n",
    "conv_path = mooc_datasets_path / \"conventional\"\n",
    "seq_path = mooc_datasets_path / \"sequential\"\n",
    "conv_path.mkdir(exist_ok=True, parents=True)\n",
    "seq_path.mkdir(exist_ok=True, parents=True)"
   ]
  },
  {
   "cell_type": "code",
   "execution_count": 16,
   "id": "9547a0e9",
   "metadata": {
    "tags": []
   },
   "outputs": [],
   "source": [
    "conv_vid_norm_path = conv_path / \"video_normalized\"\n",
    "conv_vid_norm_path.mkdir(exist_ok=True, parents=True)"
   ]
  },
  {
   "cell_type": "code",
   "execution_count": 64,
   "id": "56617141-e2af-4dd2-bee3-407e7fd1dbba",
   "metadata": {
    "tags": []
   },
   "outputs": [],
   "source": [
    "train_norm.to_parquet(conv_vid_norm_path / \"train.parquet\")\n",
    "val_loo_norm.to_parquet(conv_vid_norm_path / \"val.parquet\")\n",
    "test_loo_norm.to_parquet(conv_vid_norm_path / \"test.parquet\")"
   ]
  },
  {
   "cell_type": "code",
   "execution_count": 65,
   "id": "7cbcafaa-6337-4030-bff4-80feeb7c362c",
   "metadata": {
    "tags": []
   },
   "outputs": [],
   "source": [
    "# Stored for ease of access for sequential methods, but not listified so stored in convential folders\n",
    "test_norm.to_parquet(conv_vid_norm_path / \"test_full.parquet\")\n",
    "val_norm.to_parquet(conv_vid_norm_path / \"val_full.parquet\")"
   ]
  },
  {
   "cell_type": "code",
   "execution_count": 66,
   "id": "698bbbf3-5059-499e-a4f5-3990a2303ca6",
   "metadata": {
    "tags": []
   },
   "outputs": [],
   "source": [
    "# Describes all features besides encoding of concepts and fields, which must be added manually\n",
    "test_norm.describe().to_parquet(conv_vid_norm_path / \"feature_stats.parquet\")"
   ]
  },
  {
   "cell_type": "markdown",
   "id": "09e78a82-276c-4388-af8b-b6a8327592ec",
   "metadata": {},
   "source": [
    "**Yeo Johnson all feature scaling/normalization**\n",
    "\n",
    "Using Train-dataset as basis for the normalization. Will apply zero-mean, unit-variance normalization"
   ]
  },
  {
   "cell_type": "code",
   "execution_count": 67,
   "id": "90e22233-2640-415a-b272-a233c92af93a",
   "metadata": {
    "tags": []
   },
   "outputs": [],
   "source": [
    "from sklearn.preprocessing import PowerTransformer"
   ]
  },
  {
   "cell_type": "code",
   "execution_count": 68,
   "id": "70f9ce83-f93c-4d9e-8148-3fb445db8cf4",
   "metadata": {
    "tags": []
   },
   "outputs": [
    {
     "data": {
      "text/plain": [
       "Index(['time_spent', 'num_forward', 'num_backward', 'num_pause',\n",
       "       'median_pause', 'std_speed', 'avg_speed', 'eff_speed', 'seg_rep_0',\n",
       "       'seg_rep_1', 'seg_rep_2', 'seg_rep_3', 'seg_rep_4', 'seg_rep_5',\n",
       "       'seg_rep_10', 'seg_rep_15', 'seg_rep_20', 'seg_rep_25', 'seg_rep_30',\n",
       "       'seg_rep_45', 'seg_rep_60', 'time_comp', 'time_played', 'replay_length',\n",
       "       'skipped_length'],\n",
       "      dtype='object')"
      ]
     },
     "execution_count": 68,
     "metadata": {},
     "output_type": "execute_result"
    }
   ],
   "source": [
    "# All numerical Feature normalize using Yeo-Johnson\n",
    "numeric_cols = train_norm.select_dtypes(include=\"number\").drop(columns=[ITEM_COL, \"ccid\", TIME_COL, \"backward_gap\"]).columns\n",
    "numeric_cols"
   ]
  },
  {
   "cell_type": "code",
   "execution_count": 69,
   "id": "c3301a3f-e333-4056-8757-5a31e2b481e3",
   "metadata": {
    "tags": []
   },
   "outputs": [],
   "source": [
    "pt = PowerTransformer(\"yeo-johnson\")"
   ]
  },
  {
   "cell_type": "code",
   "execution_count": 70,
   "id": "58ff0239-5079-450d-abf6-5dee7a59d309",
   "metadata": {
    "tags": []
   },
   "outputs": [
    {
     "name": "stdout",
     "output_type": "stream",
     "text": [
      "CPU times: user 18.7 s, sys: 497 ms, total: 19.2 s\n",
      "Wall time: 19.6 s\n"
     ]
    }
   ],
   "source": [
    "%%time\n",
    "train_scaled = train_norm.copy()\n",
    "train_scaled.loc[:,numeric_cols] = pt.fit_transform(train_norm[numeric_cols])\n",
    "val_scaled = val_loo_norm.copy()\n",
    "val_scaled.loc[:,numeric_cols]  = pt.transform(val_loo_norm[numeric_cols])\n",
    "test_scaled = test_loo_norm.copy()\n",
    "test_scaled.loc[:,numeric_cols]  = pt.transform(test_loo_norm[numeric_cols])"
   ]
  },
  {
   "cell_type": "code",
   "execution_count": 71,
   "id": "323821f4-f4b2-4938-bc5e-7126712428cd",
   "metadata": {
    "tags": []
   },
   "outputs": [
    {
     "name": "stdout",
     "output_type": "stream",
     "text": [
      "CPU times: user 6.97 s, sys: 886 ms, total: 7.85 s\n",
      "Wall time: 7.97 s\n"
     ]
    }
   ],
   "source": [
    "%%time\n",
    "# For Sequential dataset down stream\n",
    "val_full_scaled = val_norm.copy()\n",
    "val_full_scaled.loc[:,numeric_cols] = pt.transform(val_full_scaled[numeric_cols])\n",
    "test_full_scaled = test_norm.copy()\n",
    "test_full_scaled.loc[:,numeric_cols] = pt.transform(test_full_scaled[numeric_cols])"
   ]
  },
  {
   "cell_type": "code",
   "execution_count": 17,
   "id": "bf232631-6bd2-4898-a898-e63cb8d3a5db",
   "metadata": {
    "tags": []
   },
   "outputs": [],
   "source": [
    "conv_scaled_path = conv_path / \"all_scaled\"\n",
    "conv_scaled_path.mkdir(exist_ok=True, parents=True)"
   ]
  },
  {
   "cell_type": "code",
   "execution_count": 75,
   "id": "0c7fa881-462c-4809-b155-c554c8f788d7",
   "metadata": {
    "tags": []
   },
   "outputs": [],
   "source": [
    "train_scaled.to_parquet(conv_scaled_path / \"train.parquet\")\n",
    "val_scaled.to_parquet(conv_scaled_path / \"val.parquet\")\n",
    "test_scaled.to_parquet(conv_scaled_path / \"test.parquet\")"
   ]
  },
  {
   "cell_type": "code",
   "execution_count": 76,
   "id": "8b4d2d20-d5c9-456b-bfc5-cd2b0b37d901",
   "metadata": {
    "tags": []
   },
   "outputs": [],
   "source": [
    "# For Sequential datasets downstream\n",
    "val_full_scaled.to_parquet(conv_scaled_path / \"val_full.parquet\")\n",
    "test_full_scaled.to_parquet(conv_scaled_path / \"test_full.parquet\")"
   ]
  },
  {
   "cell_type": "code",
   "execution_count": 77,
   "id": "c37af848-a00b-439b-a236-057675a4cfa8",
   "metadata": {
    "tags": []
   },
   "outputs": [],
   "source": [
    "# storing min and mix of each continuous feature\n",
    "test_full_scaled.describe().to_parquet(conv_scaled_path / \"cont_feature_stats.parquet\")"
   ]
  },
  {
   "cell_type": "markdown",
   "id": "836e727f-c6c2-438c-bc4a-84d039bf2ebb",
   "metadata": {},
   "source": [
    "#### Bias adjusted and scaled"
   ]
  },
  {
   "cell_type": "code",
   "execution_count": 10,
   "id": "6c15f612-34b0-4a40-82d3-cbccf25ce3a2",
   "metadata": {
    "tags": []
   },
   "outputs": [],
   "source": [
    "from utils.pre_processing import adaptive_bias"
   ]
  },
  {
   "cell_type": "code",
   "execution_count": 79,
   "id": "5659e17f",
   "metadata": {
    "tags": []
   },
   "outputs": [],
   "source": [
    "# Load existing datasets\n",
    "if conv_vid_norm_path.exists():\n",
    "    train_norm = pd.read_parquet(conv_vid_norm_path / \"train.parquet\")\n",
    "    val_full_norm = pd.read_parquet(conv_vid_norm_path / \"val_full.parquet\")\n",
    "    test_full_norm = pd.read_parquet(conv_vid_norm_path / \"test_full.parquet\")\n",
    "    # All numerical Feature normalize using Yeo-Johnson\n",
    "    numeric_cols = train_norm.select_dtypes(include=\"number\").drop(columns=[ITEM_COL, \"ccid\", TIME_COL, \"backward_gap\"]).columns\n",
    "else:\n",
    "    raise RuntimeError(f\"Need to create {conv_vid_norm_path.name} datasets first\")"
   ]
  },
  {
   "cell_type": "code",
   "execution_count": 80,
   "id": "0cdbe029-da24-4dab-99d5-794d6749d1e8",
   "metadata": {
    "tags": []
   },
   "outputs": [
    {
     "data": {
      "text/plain": [
       "Index(['time_spent', 'num_forward', 'num_backward', 'num_pause',\n",
       "       'median_pause', 'std_speed', 'avg_speed', 'eff_speed', 'seg_rep_0',\n",
       "       'seg_rep_1', 'seg_rep_2', 'seg_rep_3', 'seg_rep_4', 'seg_rep_5',\n",
       "       'seg_rep_10', 'seg_rep_15', 'seg_rep_20', 'seg_rep_25', 'seg_rep_30',\n",
       "       'seg_rep_45', 'seg_rep_60', 'time_comp', 'time_played', 'replay_length',\n",
       "       'skipped_length'],\n",
       "      dtype='object')"
      ]
     },
     "execution_count": 80,
     "metadata": {},
     "output_type": "execute_result"
    }
   ],
   "source": [
    "numeric_cols"
   ]
  },
  {
   "cell_type": "code",
   "execution_count": 81,
   "id": "038d500c",
   "metadata": {
    "tags": []
   },
   "outputs": [],
   "source": [
    "pt2 = PowerTransformer(\"yeo-johnson\")"
   ]
  },
  {
   "cell_type": "code",
   "execution_count": 82,
   "id": "762c4962-8ecb-41a9-9634-aebe4f68bb90",
   "metadata": {
    "tags": []
   },
   "outputs": [
    {
     "name": "stdout",
     "output_type": "stream",
     "text": [
      "CPU times: user 256 ms, sys: 113 ms, total: 370 ms\n",
      "Wall time: 372 ms\n"
     ]
    }
   ],
   "source": [
    "%%time\n",
    "train_bias_adj = train_norm.copy()\n",
    "train_bias_adj_group = train_bias_adj.groupby(USER_COL, group_keys=False, sort=False)[numeric_cols]\n",
    "val_full_bias_adj = val_full_norm.copy()\n",
    "val_full_bias_adj_group = val_full_bias_adj.groupby(USER_COL, group_keys=False, sort=False)[numeric_cols]\n",
    "test_full_bias_adj = test_full_norm.copy()\n",
    "test_full_bias_adj_group = test_full_bias_adj.groupby(USER_COL, group_keys=False, sort=False)[numeric_cols]"
   ]
  },
  {
   "cell_type": "code",
   "execution_count": 83,
   "id": "fc020513-3c2e-49b9-8088-4b7dbc99e745",
   "metadata": {
    "tags": []
   },
   "outputs": [
    {
     "name": "stdout",
     "output_type": "stream",
     "text": [
      "CPU times: user 22min 3s, sys: 7.42 s, total: 22min 11s\n",
      "Wall time: 22min 41s\n"
     ]
    }
   ],
   "source": [
    "%%time\n",
    "# Since it is an expanding bias -> Doesn't make sense to apply it to the LOO splits\n",
    "# -> Must apply it to the full splits and then save it as LOO\n",
    "train_bias_adj.loc[:,numeric_cols] = pt2.fit_transform(get_apply_op(train_bias_adj_group)(lambda col: col.transform(adaptive_bias)))\n",
    "val_full_bias_adj.loc[:,numeric_cols] = pt2.transform(get_apply_op(val_full_bias_adj_group)(lambda col: col.transform(adaptive_bias)))\n",
    "test_full_bias_adj.loc[:,numeric_cols] = pt2.transform(get_apply_op(test_full_bias_adj_group)(lambda col: col.transform(adaptive_bias)))"
   ]
  },
  {
   "cell_type": "code",
   "execution_count": 12,
   "id": "212f628f-6e11-4e1b-8e3b-85885297cf2d",
   "metadata": {
    "tags": []
   },
   "outputs": [],
   "source": [
    "conv_scaled_bias_path = conv_path / \"bias_adj_all_scaled\"\n",
    "conv_scaled_bias_path.mkdir(exist_ok=True, parents=True)"
   ]
  },
  {
   "cell_type": "code",
   "execution_count": 85,
   "id": "874a842a-6b55-439c-9193-30cac42f539b",
   "metadata": {
    "tags": []
   },
   "outputs": [],
   "source": [
    "train_bias_adj.to_parquet(conv_scaled_bias_path / \"train.parquet\")\n",
    "# Had to calculate the bias based on the complete row -> Save only last (Includes features in the case of Simulation/feature prediction)\n",
    "(get_apply_op(val_full_bias_adj.groupby(USER_COL, sort=False, group_keys=False))(keep_last)).to_parquet(conv_scaled_bias_path / \"val.parquet\")\n",
    "(get_apply_op(test_full_bias_adj.groupby(USER_COL, sort=False, group_keys=False))(keep_last)).to_parquet(conv_scaled_bias_path / \"test.parquet\")"
   ]
  },
  {
   "cell_type": "code",
   "execution_count": 86,
   "id": "c0c97850-ffb3-4447-8a2b-ce50870fe049",
   "metadata": {
    "tags": []
   },
   "outputs": [],
   "source": [
    "# For Sequential datasets downstream\n",
    "val_full_bias_adj.to_parquet(conv_scaled_bias_path / \"val_full.parquet\")\n",
    "test_full_bias_adj.to_parquet(conv_scaled_bias_path / \"test_full.parquet\")"
   ]
  },
  {
   "cell_type": "code",
   "execution_count": 87,
   "id": "6769be02-ec91-4e93-b7db-a6ab16841d7f",
   "metadata": {
    "tags": []
   },
   "outputs": [],
   "source": [
    "# storing min and max of each numerical feature\n",
    "test_full_bias_adj.describe().to_parquet(conv_scaled_bias_path / \"feature_stats.parquet\")"
   ]
  },
  {
   "cell_type": "markdown",
   "id": "273ab9ad-3993-4371-b5df-f2bd3361c121",
   "metadata": {},
   "source": [
    "### Listify By user\n",
    "**Raw, without video_norm**"
   ]
  },
  {
   "cell_type": "code",
   "execution_count": 11,
   "id": "db3457f5-e663-4919-b86f-b5ae03e9f438",
   "metadata": {
    "tags": []
   },
   "outputs": [],
   "source": [
    "import importlib\n",
    "utils = importlib.import_module(\"utils\")\n",
    "importlib.reload(utils)\n",
    "from utils.pre_processing import bulk_listify, bulk_pad_split, save_splits"
   ]
  },
  {
   "cell_type": "markdown",
   "id": "4e5412ff-79e0-4997-a180-877007b4dda7",
   "metadata": {},
   "source": [
    "**Raw sequential dataset**"
   ]
  },
  {
   "cell_type": "code",
   "execution_count": 11,
   "id": "0302caa3-af96-423f-99a9-17916e52832f",
   "metadata": {
    "tags": []
   },
   "outputs": [],
   "source": [
    "#%%time\n",
    "#train_raw_seq_pad, val_raw_seq_pad, test_raw_seq_pad =  bulk_pad_split(\n",
    "#                                                            *bulk_listify(train_raw, val_raw, test_raw, time_col=TIME_COL), \n",
    "#                                                            reg_cols=REG_COLS,\n",
    "#                                                            list_cols=LIST_COLS,\n",
    "#                                                            max_list_length=MAX_CONCEPT_LENGTH\n",
    "#                                                        )"
   ]
  },
  {
   "cell_type": "code",
   "execution_count": 12,
   "id": "f7c750e8-5c82-4d4f-b4a7-8d5fa0a9e285",
   "metadata": {
    "tags": []
   },
   "outputs": [],
   "source": [
    "#%%time\n",
    "#raw_seq_splits = {\n",
    "#    \"train\": train_raw_seq_pad.drop(columns=\"concept_id\"),\n",
    "#    \"val\": val_raw_seq_pad.drop(columns=\"concept_id\"),\n",
    "#    \"test\": test_raw_seq_pad.drop(columns=\"concept_id\")\n",
    "#}\n",
    "#seq_raw_path = seq_path / \"raw_dataset\"\n",
    "#save_splits(seq_raw_path, raw_seq_splits)\n",
    "#test_raw.describe().to_parquet(seq_raw_path / \"feature_stats.parquet\")"
   ]
  },
  {
   "cell_type": "markdown",
   "id": "bfe47e04-74ba-43e7-8f1b-7a087d54e031",
   "metadata": {},
   "source": [
    "**Sequential Video Normalized**"
   ]
  },
  {
   "cell_type": "code",
   "execution_count": 22,
   "id": "6b3e27f7-833c-4e8b-b5fb-cc5fff7e2e03",
   "metadata": {
    "tags": []
   },
   "outputs": [],
   "source": [
    "train_norm = pd.read_parquet(conv_vid_norm_path / \"train.parquet\")\n",
    "val_norm = pd.read_parquet(conv_vid_norm_path / \"val_full.parquet\")\n",
    "test_norm = pd.read_parquet(conv_vid_norm_path / \"test_full.parquet\")"
   ]
  },
  {
   "cell_type": "code",
   "execution_count": 16,
   "id": "d501fd6a-8d27-41a3-9346-f2d080795d49",
   "metadata": {
    "tags": []
   },
   "outputs": [],
   "source": [
    "LIST_COLS = [FIELD_COL, CONCEPT_COL]\n",
    "REG_COLS = list(set(train_bias_adj.reset_index().drop(columns=[\"user_id\"]).columns) - set(LIST_COLS))"
   ]
  },
  {
   "cell_type": "code",
   "execution_count": 25,
   "id": "defb1064-cd47-4463-9eda-d0df53a0b088",
   "metadata": {
    "tags": []
   },
   "outputs": [
    {
     "name": "stdout",
     "output_type": "stream",
     "text": [
      "CPU times: user 1min 22s, sys: 4.02 s, total: 1min 26s\n",
      "Wall time: 1min 27s\n"
     ]
    }
   ],
   "source": [
    "%%time\n",
    "train_norm_seq_pad, val_norm_seq_pad, test_norm_seq_pad =  bulk_pad_split(\n",
    "                                                            *bulk_listify(train_norm, val_norm, test_norm, time_col=TIME_COL), \n",
    "                                                            reg_cols=REG_COLS,\n",
    "                                                            list_cols=LIST_COLS,\n",
    "                                                            max_list_length=MAX_CONCEPT_LENGTH\n",
    "    \n",
    "                                                        )"
   ]
  },
  {
   "cell_type": "code",
   "execution_count": 26,
   "id": "166ba837-28b1-4d53-96d8-390290f3b52e",
   "metadata": {
    "tags": []
   },
   "outputs": [
    {
     "name": "stdout",
     "output_type": "stream",
     "text": [
      "CPU times: user 30.8 s, sys: 2.49 s, total: 33.3 s\n",
      "Wall time: 33.7 s\n"
     ]
    }
   ],
   "source": [
    "%%time\n",
    "norm_seq_splits = {\n",
    "    \"train\": train_norm_seq_pad,#.drop(columns=\"concept_id\"),\n",
    "    \"val\": val_norm_seq_pad,#.drop(columns=\"concept_id\"),\n",
    "    \"test\": test_norm_seq_pad,#.drop(columns=\"concept_id\")\n",
    "}\n",
    "seq_video_norm_path = seq_path / \"video_normalized\"\n",
    "seq_video_norm_path.mkdir(exist_ok=True, parents=True)\n",
    "save_splits(seq_video_norm_path, norm_seq_splits)\n",
    "test_norm.describe().to_parquet(seq_video_norm_path / \"feature_stats.parquet\")"
   ]
  },
  {
   "cell_type": "markdown",
   "id": "cddc1685-74f2-4849-81b4-6c7bee9c8772",
   "metadata": {},
   "source": [
    "###"
   ]
  },
  {
   "cell_type": "markdown",
   "id": "1fbdc01f-eba8-4b7a-8a47-ab78e4acb746",
   "metadata": {},
   "source": [
    "**Sequential All features scaled**"
   ]
  },
  {
   "cell_type": "code",
   "execution_count": 27,
   "id": "4796c015-1ada-4f51-a88c-0fcf3d7eccca",
   "metadata": {
    "tags": []
   },
   "outputs": [],
   "source": [
    "train_scaled = pd.read_parquet(conv_scaled_path / \"train.parquet\")\n",
    "val_full_scaled = pd.read_parquet(conv_scaled_path / \"val_full.parquet\")\n",
    "test_full_scaled = pd.read_parquet(conv_scaled_path / \"test_full.parquet\")"
   ]
  },
  {
   "cell_type": "code",
   "execution_count": 28,
   "id": "d0e97a8d-7cd6-4e12-9539-1debe5bb5a62",
   "metadata": {
    "tags": []
   },
   "outputs": [
    {
     "name": "stdout",
     "output_type": "stream",
     "text": [
      "CPU times: user 1min 29s, sys: 7.02 s, total: 1min 36s\n",
      "Wall time: 1min 36s\n"
     ]
    }
   ],
   "source": [
    "%%time\n",
    "train_scaled_seq, val_scaled_seq, test_scaled_seq =  bulk_pad_split(\n",
    "                                                            *bulk_listify(train_scaled, val_full_scaled, test_full_scaled, time_col=TIME_COL), \n",
    "                                                            reg_cols=REG_COLS,\n",
    "                                                            list_cols=LIST_COLS,\n",
    "                                                            max_list_length=MAX_CONCEPT_LENGTH\n",
    "                                                        )"
   ]
  },
  {
   "cell_type": "code",
   "execution_count": 29,
   "id": "1e30f069-77b5-40bb-834c-4ed306314dcc",
   "metadata": {
    "tags": []
   },
   "outputs": [
    {
     "name": "stdout",
     "output_type": "stream",
     "text": [
      "CPU times: user 31.3 s, sys: 2.32 s, total: 33.6 s\n",
      "Wall time: 33.7 s\n"
     ]
    }
   ],
   "source": [
    "%%time\n",
    "scaled_seq_splits = {\n",
    "    \"train\": train_scaled_seq,#.drop(columns=\"concept_id\"),\n",
    "    \"val\": val_scaled_seq,#.drop(columns=\"concept_id\"),\n",
    "    \"test\": test_scaled_seq,#.drop(columns=\"concept_id\")\n",
    "}\n",
    "seq_scaled_path = seq_path / \"all_scaled\"\n",
    "seq_scaled_path.mkdir(exist_ok=True, parents=True)\n",
    "save_splits(seq_scaled_path, scaled_seq_splits)\n",
    "test_full_scaled.describe().to_parquet(seq_scaled_path / \"feature_stats.parquet\")"
   ]
  },
  {
   "cell_type": "markdown",
   "id": "e9302528-cb35-4827-8b31-3950c3ed1bd1",
   "metadata": {},
   "source": [
    "**Sequential Expanding bias adjustment**"
   ]
  },
  {
   "cell_type": "code",
   "execution_count": 13,
   "id": "c037710d-039c-4f37-8a2d-d4cf8fe1dadf",
   "metadata": {
    "tags": []
   },
   "outputs": [],
   "source": [
    "train_bias_adj = pd.read_parquet(conv_scaled_bias_path / \"train.parquet\")\n",
    "val_full_bias_adj = pd.read_parquet(conv_scaled_bias_path / \"val_full.parquet\")\n",
    "test_full_bias_adj = pd.read_parquet(conv_scaled_bias_path / \"test_full.parquet\")"
   ]
  },
  {
   "cell_type": "code",
   "execution_count": 17,
   "id": "28d06d1d-c9e9-43fa-84f8-cab570c41415",
   "metadata": {
    "tags": []
   },
   "outputs": [
    {
     "name": "stdout",
     "output_type": "stream",
     "text": [
      "CPU times: user 1min 25s, sys: 5.53 s, total: 1min 30s\n",
      "Wall time: 1min 31s\n"
     ]
    }
   ],
   "source": [
    "%%time\n",
    "train_scaled_bias_adj_seq, val_scaled_bias_adj_seq, test_scaled_bias_adj_seq =  bulk_pad_split(\n",
    "                                                            *bulk_listify(train_bias_adj, val_full_bias_adj, test_full_bias_adj, time_col=TIME_COL), \n",
    "                                                            reg_cols=REG_COLS,\n",
    "                                                            list_cols=LIST_COLS,\n",
    "                                                            max_list_length=MAX_CONCEPT_LENGTH\n",
    "                                                        )"
   ]
  },
  {
   "cell_type": "code",
   "execution_count": 18,
   "id": "7cc93653-1d13-4ae9-b9e1-1c8409a3f284",
   "metadata": {
    "tags": []
   },
   "outputs": [
    {
     "name": "stdout",
     "output_type": "stream",
     "text": [
      "CPU times: user 31.2 s, sys: 2.22 s, total: 33.4 s\n",
      "Wall time: 33.5 s\n"
     ]
    }
   ],
   "source": [
    "%%time\n",
    "scaled_bias_seq_splits = {\n",
    "    \"train\": train_scaled_bias_adj_seq,#.drop(columns=\"concept_id\"),\n",
    "    \"val\": val_scaled_bias_adj_seq,#.drop(columns=\"concept_id\"),\n",
    "    \"test\": test_scaled_bias_adj_seq,#.drop(columns=\"concept_id\")\n",
    "}\n",
    "seq_scaled_bias_adj_path = seq_path / \"bias_adj_all_scaled\"\n",
    "seq_scaled_bias_adj_path.mkdir(exist_ok=True, parents=True)\n",
    "save_splits(seq_scaled_bias_adj_path, scaled_bias_seq_splits)\n",
    "test_full_bias_adj.describe().to_parquet(seq_scaled_bias_adj_path / \"feature_stats.parquet\")"
   ]
  }
 ],
 "metadata": {
  "kernelspec": {
   "display_name": "Python 3 (ipykernel)",
   "language": "python",
   "name": "python3"
  },
  "language_info": {
   "codemirror_mode": {
    "name": "ipython",
    "version": 3
   },
   "file_extension": ".py",
   "mimetype": "text/x-python",
   "name": "python",
   "nbconvert_exporter": "python",
   "pygments_lexer": "ipython3",
   "version": "3.9.13"
  }
 },
 "nbformat": 4,
 "nbformat_minor": 5
}
