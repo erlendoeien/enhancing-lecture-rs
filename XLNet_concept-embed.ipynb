{
 "cells": [
  {
   "cell_type": "markdown",
   "id": "8611b913-a8c2-4ded-baa7-ae08f7643ce9",
   "metadata": {},
   "source": [
    "# XLNet with Multi-concepts embedded\n",
    "Trying to make it work with an embedding module of the fields and concepts"
   ]
  },
  {
   "cell_type": "code",
   "execution_count": 1,
   "id": "53eb0a11-f1da-40be-9128-5b004694fb33",
   "metadata": {},
   "outputs": [],
   "source": [
    "import pandas as pd\n",
    "import numpy as np\n",
    "from pathlib import Path\n",
    "import fasttext\n",
    "import pickle"
   ]
  },
  {
   "cell_type": "code",
   "execution_count": 2,
   "id": "c7f06571-f325-4129-897e-cb9e7a319513",
   "metadata": {},
   "outputs": [],
   "source": [
    "base_path = Path(\"~/fall_project/MOOCCubeX/\")\n",
    "results_path = Path(\"./results\")\n",
    "relations_path = base_path / \"relations\"\n",
    "session2video_id_path = relations_path / \"sessions_w_concepts\""
   ]
  },
  {
   "cell_type": "code",
   "execution_count": 3,
   "id": "04097f75-3d5d-4116-af7a-0a2ba2768ff5",
   "metadata": {},
   "outputs": [
    {
     "name": "stdout",
     "output_type": "stream",
     "text": [
      "CPU times: user 28.8 s, sys: 3.36 s, total: 32.2 s\n",
      "Wall time: 32.5 s\n"
     ]
    }
   ],
   "source": [
    "%%time\n",
    "sessions = pd.read_parquet(session2video_id_path)"
   ]
  },
  {
   "cell_type": "code",
   "execution_count": 4,
   "id": "ef920222-0b9e-4d58-a7e5-88880bd3b1f0",
   "metadata": {},
   "outputs": [
    {
     "data": {
      "text/html": [
       "<div>\n",
       "<style scoped>\n",
       "    .dataframe tbody tr th:only-of-type {\n",
       "        vertical-align: middle;\n",
       "    }\n",
       "\n",
       "    .dataframe tbody tr th {\n",
       "        vertical-align: top;\n",
       "    }\n",
       "\n",
       "    .dataframe thead th {\n",
       "        text-align: right;\n",
       "    }\n",
       "</style>\n",
       "<table border=\"1\" class=\"dataframe\">\n",
       "  <thead>\n",
       "    <tr style=\"text-align: right;\">\n",
       "      <th></th>\n",
       "      <th>user_id</th>\n",
       "      <th>video_consecutive_id</th>\n",
       "      <th>session_id</th>\n",
       "      <th>seg_rep_count</th>\n",
       "      <th>video_id</th>\n",
       "      <th>local_start_time</th>\n",
       "      <th>ccid</th>\n",
       "      <th>concept_ids</th>\n",
       "      <th>concepts</th>\n",
       "      <th>fields</th>\n",
       "      <th>interaction_session</th>\n",
       "    </tr>\n",
       "  </thead>\n",
       "  <tbody>\n",
       "    <tr>\n",
       "      <th>0</th>\n",
       "      <td>U_1002476</td>\n",
       "      <td>1</td>\n",
       "      <td>0</td>\n",
       "      <td>0</td>\n",
       "      <td>V_1353266</td>\n",
       "      <td>1598971366</td>\n",
       "      <td>D8EC8658CD3FC45D9C33DC5901307461</td>\n",
       "      <td>[K_边界的受力_物理学, K_变量_物理学, K_单形_物理学, K_动量矩方程_物理学,...</td>\n",
       "      <td>[边界的受力, 变量, 单形, 动量矩方程, 观察, 轨道, 阶, 理论力学, 力的平衡，,...</td>\n",
       "      <td>[物理学, 物理学, 物理学, 物理学, 物理学, 物理学, 物理学, 物理学, 物理学, ...</td>\n",
       "      <td>U_1002476-1-0</td>\n",
       "    </tr>\n",
       "    <tr>\n",
       "      <th>1</th>\n",
       "      <td>U_1002476</td>\n",
       "      <td>2</td>\n",
       "      <td>0</td>\n",
       "      <td>0</td>\n",
       "      <td>V_6258948</td>\n",
       "      <td>1601736654</td>\n",
       "      <td>1D4D20B05FD0D8B99C33DC5901307461</td>\n",
       "      <td>[K_包含已知直线_机械工程, K_辅助平面法_机械工程, K_辅助平面法求直线和平面交点_...</td>\n",
       "      <td>[包含已知直线, 辅助平面法, 辅助平面法求直线和平面交点, 辅助平面, 积聚性, 几何元素...</td>\n",
       "      <td>[机械工程, 机械工程, 机械工程, 机械工程, 机械工程, 机械工程, 机械工程, 机械工...</td>\n",
       "      <td>U_1002476-2-0</td>\n",
       "    </tr>\n",
       "    <tr>\n",
       "      <th>2</th>\n",
       "      <td>U_1002476</td>\n",
       "      <td>3</td>\n",
       "      <td>0</td>\n",
       "      <td>0</td>\n",
       "      <td>V_6258951</td>\n",
       "      <td>1601736952</td>\n",
       "      <td>292B73EF985AE70A9C33DC5901307461</td>\n",
       "      <td>[K_z坐标轴_机械工程, K_包含已知直线_机械工程, K_侧面投影_机械工程, K_辅助...</td>\n",
       "      <td>[z坐标轴, 包含已知直线, 侧面投影, 辅助平面法求直线和平面交点, 辅助平面, 几何学原...</td>\n",
       "      <td>[机械工程, 机械工程, 机械工程, 机械工程, 机械工程, 机械工程, 机械工程, 机械工...</td>\n",
       "      <td>U_1002476-3-0</td>\n",
       "    </tr>\n",
       "    <tr>\n",
       "      <th>3</th>\n",
       "      <td>U_10027765</td>\n",
       "      <td>1</td>\n",
       "      <td>0</td>\n",
       "      <td>1</td>\n",
       "      <td>V_7704153</td>\n",
       "      <td>1601717800</td>\n",
       "      <td>2C72189286FF3EF99C33DC5901307461</td>\n",
       "      <td>[]</td>\n",
       "      <td>[]</td>\n",
       "      <td>[]</td>\n",
       "      <td>U_10027765-1-0</td>\n",
       "    </tr>\n",
       "    <tr>\n",
       "      <th>4</th>\n",
       "      <td>U_10027765</td>\n",
       "      <td>2</td>\n",
       "      <td>0</td>\n",
       "      <td>1</td>\n",
       "      <td>V_8186213</td>\n",
       "      <td>1604113273</td>\n",
       "      <td>DC81374DA06F06D89C33DC5901307461</td>\n",
       "      <td>[]</td>\n",
       "      <td>[]</td>\n",
       "      <td>[]</td>\n",
       "      <td>U_10027765-2-0</td>\n",
       "    </tr>\n",
       "    <tr>\n",
       "      <th>...</th>\n",
       "      <td>...</td>\n",
       "      <td>...</td>\n",
       "      <td>...</td>\n",
       "      <td>...</td>\n",
       "      <td>...</td>\n",
       "      <td>...</td>\n",
       "      <td>...</td>\n",
       "      <td>...</td>\n",
       "      <td>...</td>\n",
       "      <td>...</td>\n",
       "      <td>...</td>\n",
       "    </tr>\n",
       "    <tr>\n",
       "      <th>2009151</th>\n",
       "      <td>U_9999820</td>\n",
       "      <td>1</td>\n",
       "      <td>0</td>\n",
       "      <td>0</td>\n",
       "      <td>V_7386531</td>\n",
       "      <td>1601434095</td>\n",
       "      <td>1BAE71E966D980C29C33DC5901307461</td>\n",
       "      <td>[]</td>\n",
       "      <td>[]</td>\n",
       "      <td>[]</td>\n",
       "      <td>U_9999820-1-0</td>\n",
       "    </tr>\n",
       "    <tr>\n",
       "      <th>2009152</th>\n",
       "      <td>U_9999820</td>\n",
       "      <td>2</td>\n",
       "      <td>0</td>\n",
       "      <td>0</td>\n",
       "      <td>V_7386532</td>\n",
       "      <td>1601451341</td>\n",
       "      <td>AD99106BD3AD4A789C33DC5901307461</td>\n",
       "      <td>[]</td>\n",
       "      <td>[]</td>\n",
       "      <td>[]</td>\n",
       "      <td>U_9999820-2-0</td>\n",
       "    </tr>\n",
       "    <tr>\n",
       "      <th>2009153</th>\n",
       "      <td>U_9999820</td>\n",
       "      <td>3</td>\n",
       "      <td>0</td>\n",
       "      <td>0</td>\n",
       "      <td>V_7386534</td>\n",
       "      <td>1601468512</td>\n",
       "      <td>8D21D8DA741CBD639C33DC5901307461</td>\n",
       "      <td>[]</td>\n",
       "      <td>[]</td>\n",
       "      <td>[]</td>\n",
       "      <td>U_9999820-3-0</td>\n",
       "    </tr>\n",
       "    <tr>\n",
       "      <th>2009154</th>\n",
       "      <td>U_9999820</td>\n",
       "      <td>4</td>\n",
       "      <td>0</td>\n",
       "      <td>0</td>\n",
       "      <td>V_7386535</td>\n",
       "      <td>1601474220</td>\n",
       "      <td>81FDDCC818CF26339C33DC5901307461</td>\n",
       "      <td>[]</td>\n",
       "      <td>[]</td>\n",
       "      <td>[]</td>\n",
       "      <td>U_9999820-4-0</td>\n",
       "    </tr>\n",
       "    <tr>\n",
       "      <th>2009155</th>\n",
       "      <td>U_9999820</td>\n",
       "      <td>5</td>\n",
       "      <td>0</td>\n",
       "      <td>0</td>\n",
       "      <td>V_7386536</td>\n",
       "      <td>1601518763</td>\n",
       "      <td>3A63F361A53EE4979C33DC5901307461</td>\n",
       "      <td>[]</td>\n",
       "      <td>[]</td>\n",
       "      <td>[]</td>\n",
       "      <td>U_9999820-5-0</td>\n",
       "    </tr>\n",
       "  </tbody>\n",
       "</table>\n",
       "<p>2009156 rows × 11 columns</p>\n",
       "</div>"
      ],
      "text/plain": [
       "            user_id  video_consecutive_id  session_id  seg_rep_count  \\\n",
       "0         U_1002476                     1           0              0   \n",
       "1         U_1002476                     2           0              0   \n",
       "2         U_1002476                     3           0              0   \n",
       "3        U_10027765                     1           0              1   \n",
       "4        U_10027765                     2           0              1   \n",
       "...             ...                   ...         ...            ...   \n",
       "2009151   U_9999820                     1           0              0   \n",
       "2009152   U_9999820                     2           0              0   \n",
       "2009153   U_9999820                     3           0              0   \n",
       "2009154   U_9999820                     4           0              0   \n",
       "2009155   U_9999820                     5           0              0   \n",
       "\n",
       "          video_id  local_start_time                              ccid  \\\n",
       "0        V_1353266        1598971366  D8EC8658CD3FC45D9C33DC5901307461   \n",
       "1        V_6258948        1601736654  1D4D20B05FD0D8B99C33DC5901307461   \n",
       "2        V_6258951        1601736952  292B73EF985AE70A9C33DC5901307461   \n",
       "3        V_7704153        1601717800  2C72189286FF3EF99C33DC5901307461   \n",
       "4        V_8186213        1604113273  DC81374DA06F06D89C33DC5901307461   \n",
       "...            ...               ...                               ...   \n",
       "2009151  V_7386531        1601434095  1BAE71E966D980C29C33DC5901307461   \n",
       "2009152  V_7386532        1601451341  AD99106BD3AD4A789C33DC5901307461   \n",
       "2009153  V_7386534        1601468512  8D21D8DA741CBD639C33DC5901307461   \n",
       "2009154  V_7386535        1601474220  81FDDCC818CF26339C33DC5901307461   \n",
       "2009155  V_7386536        1601518763  3A63F361A53EE4979C33DC5901307461   \n",
       "\n",
       "                                               concept_ids  \\\n",
       "0        [K_边界的受力_物理学, K_变量_物理学, K_单形_物理学, K_动量矩方程_物理学,...   \n",
       "1        [K_包含已知直线_机械工程, K_辅助平面法_机械工程, K_辅助平面法求直线和平面交点_...   \n",
       "2        [K_z坐标轴_机械工程, K_包含已知直线_机械工程, K_侧面投影_机械工程, K_辅助...   \n",
       "3                                                       []   \n",
       "4                                                       []   \n",
       "...                                                    ...   \n",
       "2009151                                                 []   \n",
       "2009152                                                 []   \n",
       "2009153                                                 []   \n",
       "2009154                                                 []   \n",
       "2009155                                                 []   \n",
       "\n",
       "                                                  concepts  \\\n",
       "0        [边界的受力, 变量, 单形, 动量矩方程, 观察, 轨道, 阶, 理论力学, 力的平衡，,...   \n",
       "1        [包含已知直线, 辅助平面法, 辅助平面法求直线和平面交点, 辅助平面, 积聚性, 几何元素...   \n",
       "2        [z坐标轴, 包含已知直线, 侧面投影, 辅助平面法求直线和平面交点, 辅助平面, 几何学原...   \n",
       "3                                                       []   \n",
       "4                                                       []   \n",
       "...                                                    ...   \n",
       "2009151                                                 []   \n",
       "2009152                                                 []   \n",
       "2009153                                                 []   \n",
       "2009154                                                 []   \n",
       "2009155                                                 []   \n",
       "\n",
       "                                                    fields interaction_session  \n",
       "0        [物理学, 物理学, 物理学, 物理学, 物理学, 物理学, 物理学, 物理学, 物理学, ...       U_1002476-1-0  \n",
       "1        [机械工程, 机械工程, 机械工程, 机械工程, 机械工程, 机械工程, 机械工程, 机械工...       U_1002476-2-0  \n",
       "2        [机械工程, 机械工程, 机械工程, 机械工程, 机械工程, 机械工程, 机械工程, 机械工...       U_1002476-3-0  \n",
       "3                                                       []      U_10027765-1-0  \n",
       "4                                                       []      U_10027765-2-0  \n",
       "...                                                    ...                 ...  \n",
       "2009151                                                 []       U_9999820-1-0  \n",
       "2009152                                                 []       U_9999820-2-0  \n",
       "2009153                                                 []       U_9999820-3-0  \n",
       "2009154                                                 []       U_9999820-4-0  \n",
       "2009155                                                 []       U_9999820-5-0  \n",
       "\n",
       "[2009156 rows x 11 columns]"
      ]
     },
     "execution_count": 4,
     "metadata": {},
     "output_type": "execute_result"
    }
   ],
   "source": [
    "sessions"
   ]
  },
  {
   "cell_type": "code",
   "execution_count": 3,
   "id": "4c73e68a-1002-4d9a-99af-5aba9b2a9d7e",
   "metadata": {},
   "outputs": [],
   "source": [
    "ITEM_COL = \"video_id\"\n",
    "USER_COL = \"user_id\"\n",
    "CONTINUOUS_COL = \"seg_rep_count\"\n",
    "CONCEPT_COL = \"concepts\"\n",
    "FIELD_COL = \"fields\"\n",
    "TIMESTAMP_COL = \"local_start_time\""
   ]
  },
  {
   "cell_type": "markdown",
   "id": "5dea7c47-f64b-4b92-8cba-6f5cb49782aa",
   "metadata": {},
   "source": [
    "### Embedding fields and concepts\n",
    "* Must aggregate concepts and fields -> Simple per-dim average\n",
    "* Some fields might be the same -> Must use the set first\n",
    "* **Currently** - `not-field` fields are embedded the same way as regular fields"
   ]
  },
  {
   "cell_type": "code",
   "execution_count": 6,
   "id": "25a3366b-f596-4b7b-8f78-3e45e1ab3334",
   "metadata": {},
   "outputs": [
    {
     "name": "stderr",
     "output_type": "stream",
     "text": [
      "Warning : `load_model` does not return WordVectorModel or SupervisedModel any more, but a `FastText` object which is very similar.\n"
     ]
    }
   ],
   "source": [
    "# Later - Download the tokenizer bin and nltk seperatiely to avoid installing it in the container\n",
    "emb_table = fasttext.load_model(\"cc.zh.300.bin\")"
   ]
  },
  {
   "cell_type": "code",
   "execution_count": null,
   "id": "54952858-aed0-49d7-8991-74fda90cdea5",
   "metadata": {},
   "outputs": [],
   "source": [
    "# Deprecated - Only encoding, embeddings come later on\n",
    "def embed_lst(lst):\n",
    "    \"\"\"Embeds and takes the average for each dimension of the embedding across the items\"\"\"\n",
    "    unique_items = set(lst)\n",
    "    if len(lst)==0:\n",
    "        return np.array([[0]*TXT_EMBED_DIM])\n",
    "    # Must be returned as list to due to nested errors with Pyarrow\n",
    "    return np.array([emb_table.get_word_vector(item) for item in unique_items]).mean(axis=0, keepdims=True).tolist()"
   ]
  },
  {
   "cell_type": "markdown",
   "id": "9a33f486-437b-4621-a228-d4b3d72847ce",
   "metadata": {},
   "source": [
    "`print-sentence-vectors` do not provide the given sentence -> THe order is given by the lines above"
   ]
  },
  {
   "cell_type": "markdown",
   "id": "bd59364f-ff99-487e-af2e-dc5240e2ed93",
   "metadata": {},
   "source": [
    "### Create embedding tables\n",
    "Have to use the encoded strings as integer lookups in a manually created lookup table"
   ]
  },
  {
   "cell_type": "markdown",
   "id": "8eb5f090-ccd1-4f20-a689-bb0bfa796895",
   "metadata": {},
   "source": [
    "#### Encoding of fields"
   ]
  },
  {
   "cell_type": "code",
   "execution_count": 8,
   "id": "513a49be-bdb9-46b1-ab1e-7f07a6f9ea09",
   "metadata": {},
   "outputs": [],
   "source": [
    "unique_concepts = sessions[CONCEPT_COL].explode().dropna().str.strip().unique()\n",
    "unique_fields = sessions[FIELD_COL].explode().dropna().str.strip().unique()"
   ]
  },
  {
   "cell_type": "code",
   "execution_count": 9,
   "id": "73bdd204-5d76-4712-b75f-df48ef3390ee",
   "metadata": {},
   "outputs": [
    {
     "name": "stdout",
     "output_type": "stream",
     "text": [
      "CPU times: user 199 ms, sys: 9.73 ms, total: 209 ms\n",
      "Wall time: 213 ms\n"
     ]
    }
   ],
   "source": [
    "%%time\n",
    "# Concept mapping, saving 0 for padding\n",
    "concept2int = {val: i for i, val in enumerate(unique_concepts, start=1)}\n",
    "# Manually map videos without related concepts to \n",
    "concept2int[np.nan] = 0\n",
    "int2concept = {i: concept for concept, i in concept2int.items()}\n",
    "\n",
    "# Field mapping, saving 0 for padding\n",
    "field2int = {val: i for i, val in enumerate(unique_fields, start=1)}\n",
    "# Manually map videos without related concepts\n",
    "field2int[np.nan] = 0\n",
    "int2field = {i: field for field, i in field2int.items()}\n",
    "\n",
    "# Video id mapping, saving 0 for padding\n",
    "video_id2int = {val: i for i, val in enumerate(sessions[ITEM_COL].unique(), start=1)}\n",
    "int2video_id = {i: video_id for video_id, i in video_id2int.items()}"
   ]
  },
  {
   "cell_type": "code",
   "execution_count": 10,
   "id": "c5b76011-25d8-4754-a479-cb1791349f41",
   "metadata": {},
   "outputs": [
    {
     "name": "stdout",
     "output_type": "stream",
     "text": [
      "('边界的受力', 1)\n",
      "('变量', 2)\n",
      "('单形', 3)\n",
      "('动量矩方程', 4)\n",
      "('观察', 5)\n",
      "('轨道', 6)\n",
      "('阶', 7)\n",
      "('理论力学', 8)\n",
      "('力的平衡，', 9)\n",
      "('力学', 10)\n"
     ]
    }
   ],
   "source": [
    "print(*list(concept2int.items())[:10], sep=\"\\n\")"
   ]
  },
  {
   "cell_type": "code",
   "execution_count": 11,
   "id": "64337ce1-dc63-436f-8606-1acae574c0f9",
   "metadata": {},
   "outputs": [
    {
     "data": {
      "text/plain": [
       "(185637, 171411, 74)"
      ]
     },
     "execution_count": 11,
     "metadata": {},
     "output_type": "execute_result"
    }
   ],
   "source": [
    "# Exlucdes np.nan which is mapped to 0 for concepts and fields\n",
    "MAX_VIDEO_ID, MAX_CONCEPT, MAX_FIELD = max(video_id2int.values()), max(concept2int.values()), max(field2int.values())\n",
    "MAX_VIDEO_ID, MAX_CONCEPT, MAX_FIELD"
   ]
  },
  {
   "cell_type": "code",
   "execution_count": 4,
   "id": "e109d29b-3697-4d60-8094-769e6e3d1456",
   "metadata": {},
   "outputs": [],
   "source": [
    "TXT_EMBED_DIM = 300\n",
    "PAD_TOKEN = 0\n",
    "MAX_CONCEPT_LENGTH = 10"
   ]
  },
  {
   "cell_type": "markdown",
   "id": "dbf1271c-7f7b-4d48-9c6a-fdaac188f435",
   "metadata": {},
   "source": [
    "Some problems storing concepts as strings in file. Don't know why, but likely some encoding issue of some sort"
   ]
  },
  {
   "cell_type": "code",
   "execution_count": 13,
   "id": "e36797cf-9dcc-4997-9b34-9209279430f7",
   "metadata": {},
   "outputs": [
    {
     "name": "stdout",
     "output_type": "stream",
     "text": [
      "CPU times: user 1.57 s, sys: 140 ms, total: 1.71 s\n",
      "Wall time: 1.72 s\n"
     ]
    }
   ],
   "source": [
    "%%time\n",
    "embedded_concepts = np.array([emb_table.get_sentence_vector(concept) for concept in unique_concepts])"
   ]
  },
  {
   "cell_type": "code",
   "execution_count": 14,
   "id": "60a8584a-216b-4477-8796-cd941d0a567b",
   "metadata": {},
   "outputs": [],
   "source": [
    "embedded_fields = np.array([emb_table.get_sentence_vector(field) for field in unique_fields])"
   ]
  },
  {
   "cell_type": "code",
   "execution_count": 15,
   "id": "161d07c2-ab4a-468d-8ff7-de4e07cc38d7",
   "metadata": {},
   "outputs": [],
   "source": [
    "# Create explicit mapping between feature and embedding\n",
    "field2float = dict(zip(unique_fields, embedded_fields))\n",
    "concept2float = dict(zip(unique_concepts, embedded_concepts))"
   ]
  },
  {
   "cell_type": "code",
   "execution_count": 5,
   "id": "4ba40b6c-b407-4614-a225-87c5e9341c08",
   "metadata": {},
   "outputs": [],
   "source": [
    "SAVE = False"
   ]
  },
  {
   "cell_type": "code",
   "execution_count": 28,
   "id": "567de70d-0e8d-4ae5-8acd-37a24fa7b3bf",
   "metadata": {},
   "outputs": [],
   "source": [
    "# Verifying that concept2embedding matrices are equal\n",
    "try: \n",
    "    with open(\"nlp/concept-embedding-sentence.pickle\", \"rb\") as f:\n",
    "        test_concept_dict = pickle.load(f)\n",
    "    assert all([(concept2float[concept] == embed).all() for concept, embed in test_concept_dict.items()]), \"The stored concept embeddings do not match the generated ones\"\n",
    "    with open(\"nlp/field-embedding-sentence.pickle\", \"rb\") as f:\n",
    "        test_field_dict = pickle.load(f)\n",
    "    assert all([(field2float[field] == embed).all() for field, embed in test_field_dict.items()]), \"The stored field embeddings do not match the generated ones\"\n",
    "except AssertionError:\n",
    "    print(\"Stored and newly created embeddings do not match\")\n",
    "    if SAVE:\n",
    "        print(\"Overriding with new embeddings\")\n",
    "        with open(\"nlp/concept-embedding-sentence.pickle\", \"wb\") as f:\n",
    "            pickle.dump(field2float, f)\n",
    "        with open(\"nlp/field-embedding-sentence.pickle\", \"wb\") as f:\n",
    "            pickle.dump(concept2float, f)"
   ]
  },
  {
   "cell_type": "code",
   "execution_count": 23,
   "id": "1ca4acba-b7b4-40a8-9254-eb4a8f5e6906",
   "metadata": {},
   "outputs": [],
   "source": [
    "# Create explicit mapping between encoding and embedding + add pad token\n",
    "concept_enc2float = {concept2int[concept]: embed for concept, embed in concept2float.items()}\n",
    "concept_enc2float[PAD_TOKEN] = np.zeros(TXT_EMBED_DIM)\n",
    "field_enc2float = {field2int[field]: embed for field, embed in field2float.items()}\n",
    "field_enc2float[PAD_TOKEN] = np.zeros(TXT_EMBED_DIM)"
   ]
  },
  {
   "cell_type": "code",
   "execution_count": 29,
   "id": "d40d3287-cd51-4cfd-b00a-7417721c9ef6",
   "metadata": {},
   "outputs": [],
   "source": [
    "if SAVE:\n",
    "    with open(\"nlp/concept-enc-embedding-sentence.pickle\", \"wb\") as f:\n",
    "        pickle.dump(concept_enc2float, f)\n",
    "    with open(\"nlp/field-enc-embedding-sentence.pickle\", \"wb\") as f:\n",
    "        pickle.dump(field_enc2float, f)"
   ]
  },
  {
   "cell_type": "code",
   "execution_count": 24,
   "id": "3b7115c3-d713-4b5f-b9c5-212191f577d3",
   "metadata": {},
   "outputs": [],
   "source": [
    "fields_as_list = list(sorted(field_enc2float.items(), key=lambda x: x[0]))\n",
    "concepts_as_list = list(sorted(concept_enc2float.items(), key=lambda x: x[0]))\n",
    "# Verify that the order is as expected\n",
    "assert all([(field_enc2float[idx] == val).all() for idx, val in fields_as_list])\n",
    "assert all([(concept_enc2float[idx] == val).all() for idx, val in concepts_as_list])"
   ]
  },
  {
   "cell_type": "code",
   "execution_count": 13,
   "id": "01a749a4-5c68-4c23-8950-3bc1277824ca",
   "metadata": {},
   "outputs": [],
   "source": [
    "def save_embedding_table(feature_name, embedding_table):\n",
    "    \"\"\"Store embedding tables as numpy matrices\"\"\"\n",
    "    out_name = f\"embeddings/session_{feature_name}.npy\"\n",
    "    with open(out_name, \"wb\") as file:\n",
    "        np.save(file, embedding_table)\n",
    "        \n",
    "def load_embedding_table(feature_name):\n",
    "    \"\"\"Store embedding tables as numpy matrices\"\"\"\n",
    "    in_name = f\"embeddings/session_{feature_name}.npy\"\n",
    "    with open(in_name, \"rb\") as file:\n",
    "        emb_table = np.load(file)\n",
    "    return emb_table"
   ]
  },
  {
   "cell_type": "code",
   "execution_count": 31,
   "id": "7732acfd-e1bb-4ccd-8b26-02ebd8e3112a",
   "metadata": {},
   "outputs": [],
   "source": [
    "# Convert to embedding tables and store - Redundant but\n",
    "field_embed_table = np.concatenate(([[val] for idx, val in fields_as_list]))\n",
    "concept_embed_table = np.concatenate(([[val] for idx, val in concepts_as_list]))"
   ]
  },
  {
   "cell_type": "code",
   "execution_count": 32,
   "id": "f31580e2-562d-4e11-9bd5-10eb76e48a5d",
   "metadata": {},
   "outputs": [
    {
     "data": {
      "text/plain": [
       "((75, 300), (171412, 300))"
      ]
     },
     "execution_count": 32,
     "metadata": {},
     "output_type": "execute_result"
    }
   ],
   "source": [
    "field_embed_table.shape, concept_embed_table.shape"
   ]
  },
  {
   "cell_type": "code",
   "execution_count": 33,
   "id": "d8a38b82-88b9-4a09-9c61-9a905fe7e940",
   "metadata": {},
   "outputs": [],
   "source": [
    "# Store the weight matrices themselves to be loaded - Each row corresponding to the encoded index\n",
    "if SAVE:\n",
    "    save_embedding_table(CONCEPT_COL, concept_embed_table)\n",
    "    save_embedding_table(FIELD_COL, field_embed_table)"
   ]
  },
  {
   "cell_type": "code",
   "execution_count": 385,
   "id": "2eb9358f-d802-4606-8699-df7d9c627e79",
   "metadata": {},
   "outputs": [],
   "source": [
    "# Deprecated due text problems with chinese\n",
    "def create_embedding_table(feature_name, pad_value=0, embed_dim=TXT_EMBED_DIM):\n",
    "    \"\"\"Loads a generate embedding table from `print-sentence-vectors` and \n",
    "    manually adds a padding token at index 0 (TODO: change to pad token index)\n",
    "    \"\"\"\n",
    "    in_name = f\"nlp/session_{feature_name}_embed_sentence.txt\"\n",
    "    emb_table = np.loadtxt(in_name)\n",
    "    \"\"\"\n",
    "    emb_table = np.array([record.split() for record in feature_embed])\n",
    "    oov_mask = np.isin(emb_table[:, 0], list(feature2int.keys()))\n",
    "    num_oov = np.sum(~oov_mask)\n",
    "    print(\"Number of OOV:\", num_oov)\n",
    "    # Encode feature indice - vectorize is pretty much as fast as it gets\n",
    "    feats2enc = np.vectorize(lambda x: feature2int.get(x, -1))\n",
    "    emb_table[:, 0] = feats2enc(emb_table[:, 0])\n",
    "    # Invalidate OOV features - Pad token and value is set to be equal, if other than zero, be careful\n",
    "    emb_table[~oov_mask, 1:] = (np.ones((num_oov, embed_dim)) * pad_value)\n",
    "    \"\"\"\n",
    "    # Add manual 0 entry\n",
    "    return np.concatenate(([[0] * embed_dim ], emb_table))\n",
    "    \"\"\"\n",
    "    sorted_index = emb_table[:, 0].astype(int).argsort()\n",
    "    sorted_table = emb_table[sorted_index]\n",
    "    print((sorted_table[:,0] == \"-1\").sum())\n",
    "    #assert (sorted_table[:,0].astype(int) == list(range(len(feature2int)))).all()\n",
    "    print(sorted_table)\n",
    "    return sorted_table[:, 1:].astype(float)\n",
    "    \"\"\"\n"
   ]
  },
  {
   "cell_type": "markdown",
   "id": "3354b297-e5a8-40d6-bade-cd1dab13f791",
   "metadata": {},
   "source": [
    "### Encode table"
   ]
  },
  {
   "cell_type": "code",
   "execution_count": 34,
   "id": "8ca8cf4a-23b5-45e5-b146-dbb461887176",
   "metadata": {},
   "outputs": [
    {
     "name": "stdout",
     "output_type": "stream",
     "text": [
      "CPU times: user 11.3 s, sys: 383 ms, total: 11.7 s\n",
      "Wall time: 11.7 s\n"
     ]
    }
   ],
   "source": [
    "%%time\n",
    "# Basic video_id, encoding, stripping as they where embedded cleanly\n",
    "sessions_encoded = sessions.copy()\n",
    "sessions_encoded.loc[:,ITEM_COL] = sessions_encoded[ITEM_COL].map(video_id2int)\n",
    "sessions_encoded.loc[:,CONCEPT_COL] = sessions_encoded[CONCEPT_COL].transform(lambda lst: [concept2int[concept.strip()] for concept in lst])\n",
    "sessions_encoded.loc[:,FIELD_COL] = sessions_encoded[FIELD_COL].transform(lambda lst: [field2int[field.strip()] for field in lst])"
   ]
  },
  {
   "cell_type": "code",
   "execution_count": 35,
   "id": "478a1f3a-b63c-4da2-9c79-6474f4a77c1a",
   "metadata": {},
   "outputs": [],
   "source": [
    "def slice_and_pad(series, pad_token=0, max_length=MAX_CONCEPT_LENGTH):\n",
    "    return series.transform(lambda lst: (lst + [pad_token] * max_length)[:max_length])"
   ]
  },
  {
   "cell_type": "code",
   "execution_count": 36,
   "id": "fe49f605-e10e-48b0-8da6-0c482299c615",
   "metadata": {},
   "outputs": [
    {
     "name": "stdout",
     "output_type": "stream",
     "text": [
      "CPU times: user 8.27 s, sys: 400 ms, total: 8.67 s\n",
      "Wall time: 8.73 s\n"
     ]
    }
   ],
   "source": [
    "%%time\n",
    "# Slice and pad concepts to avoid ragged list \n",
    "sessions_encoded.loc[:, [CONCEPT_COL, FIELD_COL]] = (sessions_encoded[[CONCEPT_COL, FIELD_COL]]\n",
    "                                                     .transform(slice_and_pad, max_length=MAX_CONCEPT_LENGTH, axis=0)\n",
    "                                                     # Convert to 2D array which is needed for embedding\n",
    "                                                     .transform(lambda series: series.transform(lambda lst: [lst])))"
   ]
  },
  {
   "cell_type": "code",
   "execution_count": 38,
   "id": "d78bae02-931b-422c-8297-6d2160dcc0f8",
   "metadata": {},
   "outputs": [
    {
     "data": {
      "text/plain": [
       "0                   [[1, 2, 3, 4, 5, 6, 7, 8, 9, 10]]\n",
       "1          [[26, 27, 28, 29, 30, 31, 32, 33, 34, 35]]\n",
       "2          [[70, 26, 71, 28, 29, 72, 73, 74, 75, 76]]\n",
       "3                    [[0, 0, 0, 0, 0, 0, 0, 0, 0, 0]]\n",
       "4                    [[0, 0, 0, 0, 0, 0, 0, 0, 0, 0]]\n",
       "                              ...                    \n",
       "2009151              [[0, 0, 0, 0, 0, 0, 0, 0, 0, 0]]\n",
       "2009152              [[0, 0, 0, 0, 0, 0, 0, 0, 0, 0]]\n",
       "2009153              [[0, 0, 0, 0, 0, 0, 0, 0, 0, 0]]\n",
       "2009154              [[0, 0, 0, 0, 0, 0, 0, 0, 0, 0]]\n",
       "2009155              [[0, 0, 0, 0, 0, 0, 0, 0, 0, 0]]\n",
       "Name: concepts, Length: 2009156, dtype: object"
      ]
     },
     "execution_count": 38,
     "metadata": {},
     "output_type": "execute_result"
    }
   ],
   "source": [
    "sessions_encoded[CONCEPT_COL]"
   ]
  },
  {
   "cell_type": "markdown",
   "id": "6fee97ff-90a2-42cc-9bd1-7c039186656b",
   "metadata": {},
   "source": [
    "#### Listify and process segment repetition"
   ]
  },
  {
   "cell_type": "code",
   "execution_count": 39,
   "id": "8a42dd9a-f7da-4539-92d3-3942ca780e1e",
   "metadata": {},
   "outputs": [],
   "source": [
    "# Functions for pre processing\n",
    "def minmax_norm(series):\n",
    "    if not series.any():\n",
    "        return series\n",
    "    return ((series - series.min())/(series.max() - series.min())).fillna(0)\n",
    "def adaptive_z_score(series):\n",
    "    \"\"\"Adaptively standardizes the segment repetition as one learns more about the user's repetition behaviour.\n",
    "    First repetition is deemed as 0. Alternative, lookinto it as 1\"\"\"\n",
    "    if not series.any():\n",
    "        return series\n",
    "    expanding_window = series.expanding(1)\n",
    "    return ((series - expanding_window.mean())/expanding_window.std()).fillna(0)"
   ]
  },
  {
   "cell_type": "code",
   "execution_count": 40,
   "id": "e1c473cc-3b11-4ed8-b158-2754a8f18559",
   "metadata": {},
   "outputs": [
    {
     "name": "stdout",
     "output_type": "stream",
     "text": [
      "CPU times: user 29.2 s, sys: 148 ms, total: 29.4 s\n",
      "Wall time: 29.6 s\n"
     ]
    }
   ],
   "source": [
    "%%time\n",
    "# Pre-process and group to lists\n",
    "sessions_list = (sessions_encoded.sort_values(TIMESTAMP_COL)\n",
    "                     .groupby(USER_COL)\n",
    "                     .agg({ITEM_COL: list, \n",
    "                           CONCEPT_COL: list,\n",
    "                           FIELD_COL: list,\n",
    "                           CONTINUOUS_COL: lambda series: minmax_norm(series).tolist()}))\n",
    "sessions_list_hot_5 = sessions_list[sessions_list[ITEM_COL].str.len() >= 5]"
   ]
  },
  {
   "cell_type": "code",
   "execution_count": 41,
   "id": "61dcbe37-b4b0-4d49-9bf1-f057b1fefda9",
   "metadata": {},
   "outputs": [
    {
     "data": {
      "text/plain": [
       "(1, 10)"
      ]
     },
     "execution_count": 41,
     "metadata": {},
     "output_type": "execute_result"
    }
   ],
   "source": [
    "np.array(sessions_list_hot_5[CONCEPT_COL][0][0]).shape"
   ]
  },
  {
   "cell_type": "code",
   "execution_count": 42,
   "id": "ecb642de-e6b4-47b0-b69d-db9b7ebeb162",
   "metadata": {},
   "outputs": [
    {
     "data": {
      "text/html": [
       "<div>\n",
       "<style scoped>\n",
       "    .dataframe tbody tr th:only-of-type {\n",
       "        vertical-align: middle;\n",
       "    }\n",
       "\n",
       "    .dataframe tbody tr th {\n",
       "        vertical-align: top;\n",
       "    }\n",
       "\n",
       "    .dataframe thead th {\n",
       "        text-align: right;\n",
       "    }\n",
       "</style>\n",
       "<table border=\"1\" class=\"dataframe\">\n",
       "  <thead>\n",
       "    <tr style=\"text-align: right;\">\n",
       "      <th></th>\n",
       "      <th>video_id</th>\n",
       "      <th>concepts</th>\n",
       "      <th>fields</th>\n",
       "      <th>seg_rep_count</th>\n",
       "    </tr>\n",
       "    <tr>\n",
       "      <th>user_id</th>\n",
       "      <th></th>\n",
       "      <th></th>\n",
       "      <th></th>\n",
       "      <th></th>\n",
       "    </tr>\n",
       "  </thead>\n",
       "  <tbody>\n",
       "    <tr>\n",
       "      <th>U_10001587</th>\n",
       "      <td>[11923, 11993, 11924, 11924, 11924, 12024]</td>\n",
       "      <td>[[[0, 0, 0, 0, 0, 0, 0, 0, 0, 0]], [[0, 0, 0, ...</td>\n",
       "      <td>[[[0, 0, 0, 0, 0, 0, 0, 0, 0, 0]], [[0, 0, 0, ...</td>\n",
       "      <td>[0.0, 1.0, 0.0, 0.0, 0.25, 0.0]</td>\n",
       "    </tr>\n",
       "    <tr>\n",
       "      <th>U_10008027</th>\n",
       "      <td>[12082, 34059, 12145, 12031, 12036, 11924]</td>\n",
       "      <td>[[[0, 0, 0, 0, 0, 0, 0, 0, 0, 0]], [[0, 0, 0, ...</td>\n",
       "      <td>[[[0, 0, 0, 0, 0, 0, 0, 0, 0, 0]], [[0, 0, 0, ...</td>\n",
       "      <td>[0, 0, 0, 0, 0, 0]</td>\n",
       "    </tr>\n",
       "    <tr>\n",
       "      <th>U_10012383</th>\n",
       "      <td>[12147, 12143, 12082, 12080, 34059, 12145, 121...</td>\n",
       "      <td>[[[0, 0, 0, 0, 0, 0, 0, 0, 0, 0]], [[0, 0, 0, ...</td>\n",
       "      <td>[[[0, 0, 0, 0, 0, 0, 0, 0, 0, 0]], [[0, 0, 0, ...</td>\n",
       "      <td>[0.0, 0.0, 0.0, 0.0, 0.0, 0.0, 0.0, 0.0, 0.0, ...</td>\n",
       "    </tr>\n",
       "    <tr>\n",
       "      <th>U_10018910</th>\n",
       "      <td>[2766, 2762, 2763, 2764, 2765, 2768]</td>\n",
       "      <td>[[[0, 0, 0, 0, 0, 0, 0, 0, 0, 0]], [[0, 0, 0, ...</td>\n",
       "      <td>[[[0, 0, 0, 0, 0, 0, 0, 0, 0, 0]], [[0, 0, 0, ...</td>\n",
       "      <td>[0, 0, 0, 0, 0, 0]</td>\n",
       "    </tr>\n",
       "    <tr>\n",
       "      <th>U_100203</th>\n",
       "      <td>[142499, 142500, 87277, 125176, 125177, 142500...</td>\n",
       "      <td>[[[22186, 2450, 39251, 47053, 4908, 4915, 0, 0...</td>\n",
       "      <td>[[[6, 6, 6, 6, 6, 6, 0, 0, 0, 0]], [[6, 6, 6, ...</td>\n",
       "      <td>[0.0, 0.0, 0.0, 1.0, 0.0, 0.0, 0.0, 0.0, 0.0, ...</td>\n",
       "    </tr>\n",
       "    <tr>\n",
       "      <th>...</th>\n",
       "      <td>...</td>\n",
       "      <td>...</td>\n",
       "      <td>...</td>\n",
       "      <td>...</td>\n",
       "    </tr>\n",
       "    <tr>\n",
       "      <th>U_9979639</th>\n",
       "      <td>[2769, 2766, 2762, 2763, 2764, 2768]</td>\n",
       "      <td>[[[0, 0, 0, 0, 0, 0, 0, 0, 0, 0]], [[0, 0, 0, ...</td>\n",
       "      <td>[[[0, 0, 0, 0, 0, 0, 0, 0, 0, 0]], [[0, 0, 0, ...</td>\n",
       "      <td>[0, 0, 0, 0, 0, 0]</td>\n",
       "    </tr>\n",
       "    <tr>\n",
       "      <th>U_998508</th>\n",
       "      <td>[25718, 2221, 2222, 2223, 2953, 2953, 28783, 7...</td>\n",
       "      <td>[[[2577, 2579, 59554, 59555, 2649, 7814, 35747...</td>\n",
       "      <td>[[[18, 18, 18, 18, 18, 18, 18, 18, 19, 18]], [...</td>\n",
       "      <td>[0.0, 0.0, 0.0, 1.0, 0.0, 0.0, 0.0, 0.0, 0.0, ...</td>\n",
       "    </tr>\n",
       "    <tr>\n",
       "      <th>U_9988528</th>\n",
       "      <td>[160890, 160891, 160891, 160892, 160892, 16089...</td>\n",
       "      <td>[[[0, 0, 0, 0, 0, 0, 0, 0, 0, 0]], [[0, 0, 0, ...</td>\n",
       "      <td>[[[0, 0, 0, 0, 0, 0, 0, 0, 0, 0]], [[0, 0, 0, ...</td>\n",
       "      <td>[0.3333333333333333, 0.0, 0.3333333333333333, ...</td>\n",
       "    </tr>\n",
       "    <tr>\n",
       "      <th>U_9996819</th>\n",
       "      <td>[2769, 2766, 2762, 2764, 2764, 2765]</td>\n",
       "      <td>[[[0, 0, 0, 0, 0, 0, 0, 0, 0, 0]], [[0, 0, 0, ...</td>\n",
       "      <td>[[[0, 0, 0, 0, 0, 0, 0, 0, 0, 0]], [[0, 0, 0, ...</td>\n",
       "      <td>[0, 0, 0, 0, 0, 0]</td>\n",
       "    </tr>\n",
       "    <tr>\n",
       "      <th>U_9999820</th>\n",
       "      <td>[2769, 2766, 2763, 2764, 2765]</td>\n",
       "      <td>[[[0, 0, 0, 0, 0, 0, 0, 0, 0, 0]], [[0, 0, 0, ...</td>\n",
       "      <td>[[[0, 0, 0, 0, 0, 0, 0, 0, 0, 0]], [[0, 0, 0, ...</td>\n",
       "      <td>[0, 0, 0, 0, 0]</td>\n",
       "    </tr>\n",
       "  </tbody>\n",
       "</table>\n",
       "<p>114150 rows × 4 columns</p>\n",
       "</div>"
      ],
      "text/plain": [
       "                                                     video_id  \\\n",
       "user_id                                                         \n",
       "U_10001587         [11923, 11993, 11924, 11924, 11924, 12024]   \n",
       "U_10008027         [12082, 34059, 12145, 12031, 12036, 11924]   \n",
       "U_10012383  [12147, 12143, 12082, 12080, 34059, 12145, 121...   \n",
       "U_10018910               [2766, 2762, 2763, 2764, 2765, 2768]   \n",
       "U_100203    [142499, 142500, 87277, 125176, 125177, 142500...   \n",
       "...                                                       ...   \n",
       "U_9979639                [2769, 2766, 2762, 2763, 2764, 2768]   \n",
       "U_998508    [25718, 2221, 2222, 2223, 2953, 2953, 28783, 7...   \n",
       "U_9988528   [160890, 160891, 160891, 160892, 160892, 16089...   \n",
       "U_9996819                [2769, 2766, 2762, 2764, 2764, 2765]   \n",
       "U_9999820                      [2769, 2766, 2763, 2764, 2765]   \n",
       "\n",
       "                                                     concepts  \\\n",
       "user_id                                                         \n",
       "U_10001587  [[[0, 0, 0, 0, 0, 0, 0, 0, 0, 0]], [[0, 0, 0, ...   \n",
       "U_10008027  [[[0, 0, 0, 0, 0, 0, 0, 0, 0, 0]], [[0, 0, 0, ...   \n",
       "U_10012383  [[[0, 0, 0, 0, 0, 0, 0, 0, 0, 0]], [[0, 0, 0, ...   \n",
       "U_10018910  [[[0, 0, 0, 0, 0, 0, 0, 0, 0, 0]], [[0, 0, 0, ...   \n",
       "U_100203    [[[22186, 2450, 39251, 47053, 4908, 4915, 0, 0...   \n",
       "...                                                       ...   \n",
       "U_9979639   [[[0, 0, 0, 0, 0, 0, 0, 0, 0, 0]], [[0, 0, 0, ...   \n",
       "U_998508    [[[2577, 2579, 59554, 59555, 2649, 7814, 35747...   \n",
       "U_9988528   [[[0, 0, 0, 0, 0, 0, 0, 0, 0, 0]], [[0, 0, 0, ...   \n",
       "U_9996819   [[[0, 0, 0, 0, 0, 0, 0, 0, 0, 0]], [[0, 0, 0, ...   \n",
       "U_9999820   [[[0, 0, 0, 0, 0, 0, 0, 0, 0, 0]], [[0, 0, 0, ...   \n",
       "\n",
       "                                                       fields  \\\n",
       "user_id                                                         \n",
       "U_10001587  [[[0, 0, 0, 0, 0, 0, 0, 0, 0, 0]], [[0, 0, 0, ...   \n",
       "U_10008027  [[[0, 0, 0, 0, 0, 0, 0, 0, 0, 0]], [[0, 0, 0, ...   \n",
       "U_10012383  [[[0, 0, 0, 0, 0, 0, 0, 0, 0, 0]], [[0, 0, 0, ...   \n",
       "U_10018910  [[[0, 0, 0, 0, 0, 0, 0, 0, 0, 0]], [[0, 0, 0, ...   \n",
       "U_100203    [[[6, 6, 6, 6, 6, 6, 0, 0, 0, 0]], [[6, 6, 6, ...   \n",
       "...                                                       ...   \n",
       "U_9979639   [[[0, 0, 0, 0, 0, 0, 0, 0, 0, 0]], [[0, 0, 0, ...   \n",
       "U_998508    [[[18, 18, 18, 18, 18, 18, 18, 18, 19, 18]], [...   \n",
       "U_9988528   [[[0, 0, 0, 0, 0, 0, 0, 0, 0, 0]], [[0, 0, 0, ...   \n",
       "U_9996819   [[[0, 0, 0, 0, 0, 0, 0, 0, 0, 0]], [[0, 0, 0, ...   \n",
       "U_9999820   [[[0, 0, 0, 0, 0, 0, 0, 0, 0, 0]], [[0, 0, 0, ...   \n",
       "\n",
       "                                                seg_rep_count  \n",
       "user_id                                                        \n",
       "U_10001587                    [0.0, 1.0, 0.0, 0.0, 0.25, 0.0]  \n",
       "U_10008027                                 [0, 0, 0, 0, 0, 0]  \n",
       "U_10012383  [0.0, 0.0, 0.0, 0.0, 0.0, 0.0, 0.0, 0.0, 0.0, ...  \n",
       "U_10018910                                 [0, 0, 0, 0, 0, 0]  \n",
       "U_100203    [0.0, 0.0, 0.0, 1.0, 0.0, 0.0, 0.0, 0.0, 0.0, ...  \n",
       "...                                                       ...  \n",
       "U_9979639                                  [0, 0, 0, 0, 0, 0]  \n",
       "U_998508    [0.0, 0.0, 0.0, 1.0, 0.0, 0.0, 0.0, 0.0, 0.0, ...  \n",
       "U_9988528   [0.3333333333333333, 0.0, 0.3333333333333333, ...  \n",
       "U_9996819                                  [0, 0, 0, 0, 0, 0]  \n",
       "U_9999820                                     [0, 0, 0, 0, 0]  \n",
       "\n",
       "[114150 rows x 4 columns]"
      ]
     },
     "execution_count": 42,
     "metadata": {},
     "output_type": "execute_result"
    }
   ],
   "source": [
    "sessions_list_hot_5"
   ]
  },
  {
   "cell_type": "code",
   "execution_count": 43,
   "id": "4f3fd724-dec2-4aa3-a239-c752bb122be3",
   "metadata": {},
   "outputs": [
    {
     "data": {
      "text/plain": [
       "count    114150.000000\n",
       "mean         14.279877\n",
       "std          15.113597\n",
       "min           5.000000\n",
       "50%           9.000000\n",
       "55%          10.000000\n",
       "60%          11.000000\n",
       "65%          12.000000\n",
       "70%          14.000000\n",
       "75%          16.000000\n",
       "80%          18.000000\n",
       "85%          23.000000\n",
       "90%          30.000000\n",
       "95%          44.000000\n",
       "max         570.000000\n",
       "Name: video_id, dtype: float64"
      ]
     },
     "execution_count": 43,
     "metadata": {},
     "output_type": "execute_result"
    }
   ],
   "source": [
    "sessions_list_hot_5[ITEM_COL].str.len().describe(percentiles=np.arange(.5, 1, 0.05))"
   ]
  },
  {
   "cell_type": "code",
   "execution_count": 6,
   "id": "90fbfae2-32b4-41ed-84e9-6bf6e6d4328a",
   "metadata": {},
   "outputs": [],
   "source": [
    "MAX_SEQUENCE_LENGTH = 50\n",
    "#pad_token = 0"
   ]
  },
  {
   "cell_type": "code",
   "execution_count": 17,
   "id": "ce7c39b8-8acc-4469-92eb-3335bb7d2cde",
   "metadata": {},
   "outputs": [
    {
     "ename": "NameError",
     "evalue": "name 'sessions_list_hot_5' is not defined",
     "output_type": "error",
     "traceback": [
      "\u001b[0;31m---------------------------------------------------------------------------\u001b[0m",
      "\u001b[0;31mNameError\u001b[0m                                 Traceback (most recent call last)",
      "Cell \u001b[0;32mIn[17], line 2\u001b[0m\n\u001b[1;32m      1\u001b[0m LIST_COLS \u001b[38;5;241m=\u001b[39m [FIELD_COL, CONCEPT_COL]\n\u001b[0;32m----> 2\u001b[0m REG_COLS \u001b[38;5;241m=\u001b[39m \u001b[38;5;28mlist\u001b[39m(\u001b[38;5;28mset\u001b[39m(\u001b[43msessions_list_hot_5\u001b[49m\u001b[38;5;241m.\u001b[39mcolumns) \u001b[38;5;241m-\u001b[39m \u001b[38;5;28mset\u001b[39m(LIST_COLS))\n",
      "\u001b[0;31mNameError\u001b[0m: name 'sessions_list_hot_5' is not defined"
     ]
    }
   ],
   "source": [
    "LIST_COLS = [FIELD_COL, CONCEPT_COL]\n",
    "REG_COLS = list(set(sessions_list_hot_5.columns) - set(LIST_COLS))"
   ]
  },
  {
   "cell_type": "markdown",
   "id": "0f18d7ed-545a-4826-87d1-ca6289536a7e",
   "metadata": {},
   "source": [
    "#### Slice and pad sequences"
   ]
  },
  {
   "cell_type": "code",
   "execution_count": 98,
   "id": "719899d5-e9b5-4b12-95cd-e0caa272bc49",
   "metadata": {},
   "outputs": [
    {
     "name": "stdout",
     "output_type": "stream",
     "text": [
      "CPU times: user 2.41 s, sys: 173 ms, total: 2.58 s\n",
      "Wall time: 2.61 s\n"
     ]
    }
   ],
   "source": [
    "%%time\n",
    "sessions_list_h5_sliced = sessions_list_hot_5.copy()\n",
    "# Slice and pad with 0\n",
    "sessions_list_h5_sliced.loc[:, REG_COLS] = sessions_list_h5_sliced[REG_COLS].transform(slice_and_pad, max_length=MAX_SEQUENCE_LENGTH, axis=0)\n",
    "# Must pad with nested list - as (1, MAX_CONCEPT_LENGTH) attempt\n",
    "sessions_list_h5_sliced.loc[:, LIST_COLS] = sessions_list_h5_sliced[LIST_COLS].transform(slice_and_pad, \n",
    "                                                                                     pad_token=[[PAD_TOKEN]*MAX_CONCEPT_LENGTH],\n",
    "                                                                                     max_length=MAX_SEQUENCE_LENGTH, axis=0)"
   ]
  },
  {
   "cell_type": "code",
   "execution_count": 99,
   "id": "66e87bfc-64ca-4ed4-b21d-dfbfb1b49abf",
   "metadata": {},
   "outputs": [
    {
     "data": {
      "text/plain": [
       "array([[ 11923,  11993,  11924, ...,      0,      0,      0],\n",
       "       [ 12082,  34059,  12145, ...,      0,      0,      0],\n",
       "       [ 12147,  12143,  12082, ...,      0,      0,      0],\n",
       "       ...,\n",
       "       [160890, 160891, 160891, ...,      0,      0,      0],\n",
       "       [  2769,   2766,   2762, ...,      0,      0,      0],\n",
       "       [  2769,   2766,   2763, ...,      0,      0,      0]])"
      ]
     },
     "execution_count": 99,
     "metadata": {},
     "output_type": "execute_result"
    }
   ],
   "source": [
    "raw_lists = np.array(sessions_list_h5_sliced[ITEM_COL].tolist())\n",
    "raw_lists"
   ]
  },
  {
   "cell_type": "code",
   "execution_count": 100,
   "id": "86fb25e3-8bb0-419d-bace-003cd5ae8317",
   "metadata": {},
   "outputs": [],
   "source": [
    "# First encountered zero\n",
    "target_idx = (raw_lists==0).argmax(1, keepdims=True) - 1 \n",
    "test_values = raw_lists"
   ]
  },
  {
   "cell_type": "code",
   "execution_count": 101,
   "id": "471bdd44-b05b-4bf2-9161-58dc6244b3d5",
   "metadata": {},
   "outputs": [],
   "source": [
    "# Fill in the value which is hidden\n",
    "# ->Split into train, validation and test with last and second-to-last items\n",
    "\n",
    "val_values = test_values.copy()\n",
    "np.put_along_axis(val_values, target_idx, PAD_TOKEN, axis=1)\n",
    "train_values = val_values.copy()\n",
    "train_mask_idx = target_idx - 1 \n",
    "np.put_along_axis(train_values, train_mask_idx, PAD_TOKEN, axis=1)"
   ]
  },
  {
   "cell_type": "code",
   "execution_count": 102,
   "id": "b4dd8f28-be7b-4427-a8c3-90b1cc120d6d",
   "metadata": {},
   "outputs": [],
   "source": [
    "test = sessions_list_h5_sliced[[ITEM_COL]]#.to_frame()\n",
    "val = pd.Series(list(val_values), index=sessions_list_h5_sliced.index, name=ITEM_COL)#.to_frame()\n",
    "train = pd.Series(list(train_values), index=sessions_list_h5_sliced.index, name=ITEM_COL)#.to_frame()"
   ]
  },
  {
   "cell_type": "code",
   "execution_count": 103,
   "id": "ef1cdaf7-4af8-4cfc-a96d-e8d78e97cad5",
   "metadata": {},
   "outputs": [],
   "source": [
    "base_df = sessions_list_h5_sliced[[CONTINUOUS_COL, CONCEPT_COL, FIELD_COL]]\n",
    "test_df = base_df.merge(test, on=USER_COL)\n",
    "val_df = base_df.merge(val, on=USER_COL)\n",
    "train_df = base_df.merge(train, on=USER_COL)"
   ]
  },
  {
   "cell_type": "code",
   "execution_count": 104,
   "id": "dd0dd35d-1f67-4b7a-9926-44de6e75804a",
   "metadata": {},
   "outputs": [
    {
     "data": {
      "text/html": [
       "<div>\n",
       "<style scoped>\n",
       "    .dataframe tbody tr th:only-of-type {\n",
       "        vertical-align: middle;\n",
       "    }\n",
       "\n",
       "    .dataframe tbody tr th {\n",
       "        vertical-align: top;\n",
       "    }\n",
       "\n",
       "    .dataframe thead th {\n",
       "        text-align: right;\n",
       "    }\n",
       "</style>\n",
       "<table border=\"1\" class=\"dataframe\">\n",
       "  <thead>\n",
       "    <tr style=\"text-align: right;\">\n",
       "      <th></th>\n",
       "      <th>seg_rep_count</th>\n",
       "      <th>concepts</th>\n",
       "      <th>fields</th>\n",
       "      <th>video_id</th>\n",
       "    </tr>\n",
       "    <tr>\n",
       "      <th>user_id</th>\n",
       "      <th></th>\n",
       "      <th></th>\n",
       "      <th></th>\n",
       "      <th></th>\n",
       "    </tr>\n",
       "  </thead>\n",
       "  <tbody>\n",
       "    <tr>\n",
       "      <th>U_10001587</th>\n",
       "      <td>[0.0, 1.0, 0.0, 0.0, 0.25, 0.0, 0, 0, 0, 0, 0,...</td>\n",
       "      <td>[[[0, 0, 0, 0, 0, 0, 0, 0, 0, 0]], [[0, 0, 0, ...</td>\n",
       "      <td>[[[0, 0, 0, 0, 0, 0, 0, 0, 0, 0]], [[0, 0, 0, ...</td>\n",
       "      <td>[11923, 11993, 11924, 11924, 11924, 0, 0, 0, 0...</td>\n",
       "    </tr>\n",
       "    <tr>\n",
       "      <th>U_10008027</th>\n",
       "      <td>[0, 0, 0, 0, 0, 0, 0, 0, 0, 0, 0, 0, 0, 0, 0, ...</td>\n",
       "      <td>[[[0, 0, 0, 0, 0, 0, 0, 0, 0, 0]], [[0, 0, 0, ...</td>\n",
       "      <td>[[[0, 0, 0, 0, 0, 0, 0, 0, 0, 0]], [[0, 0, 0, ...</td>\n",
       "      <td>[12082, 34059, 12145, 12031, 12036, 0, 0, 0, 0...</td>\n",
       "    </tr>\n",
       "    <tr>\n",
       "      <th>U_10012383</th>\n",
       "      <td>[0.0, 0.0, 0.0, 0.0, 0.0, 0.0, 0.0, 0.0, 0.0, ...</td>\n",
       "      <td>[[[0, 0, 0, 0, 0, 0, 0, 0, 0, 0]], [[0, 0, 0, ...</td>\n",
       "      <td>[[[0, 0, 0, 0, 0, 0, 0, 0, 0, 0]], [[0, 0, 0, ...</td>\n",
       "      <td>[12147, 12143, 12082, 12080, 34059, 12145, 121...</td>\n",
       "    </tr>\n",
       "    <tr>\n",
       "      <th>U_10018910</th>\n",
       "      <td>[0, 0, 0, 0, 0, 0, 0, 0, 0, 0, 0, 0, 0, 0, 0, ...</td>\n",
       "      <td>[[[0, 0, 0, 0, 0, 0, 0, 0, 0, 0]], [[0, 0, 0, ...</td>\n",
       "      <td>[[[0, 0, 0, 0, 0, 0, 0, 0, 0, 0]], [[0, 0, 0, ...</td>\n",
       "      <td>[2766, 2762, 2763, 2764, 2765, 0, 0, 0, 0, 0, ...</td>\n",
       "    </tr>\n",
       "    <tr>\n",
       "      <th>U_100203</th>\n",
       "      <td>[0.0, 0.0, 0.0, 1.0, 0.0, 0.0, 0.0, 0.0, 0.0, ...</td>\n",
       "      <td>[[[22186, 2450, 39251, 47053, 4908, 4915, 0, 0...</td>\n",
       "      <td>[[[6, 6, 6, 6, 6, 6, 0, 0, 0, 0]], [[6, 6, 6, ...</td>\n",
       "      <td>[142499, 142500, 87277, 125176, 125177, 142500...</td>\n",
       "    </tr>\n",
       "    <tr>\n",
       "      <th>...</th>\n",
       "      <td>...</td>\n",
       "      <td>...</td>\n",
       "      <td>...</td>\n",
       "      <td>...</td>\n",
       "    </tr>\n",
       "    <tr>\n",
       "      <th>U_9979639</th>\n",
       "      <td>[0, 0, 0, 0, 0, 0, 0, 0, 0, 0, 0, 0, 0, 0, 0, ...</td>\n",
       "      <td>[[[0, 0, 0, 0, 0, 0, 0, 0, 0, 0]], [[0, 0, 0, ...</td>\n",
       "      <td>[[[0, 0, 0, 0, 0, 0, 0, 0, 0, 0]], [[0, 0, 0, ...</td>\n",
       "      <td>[2769, 2766, 2762, 2763, 2764, 0, 0, 0, 0, 0, ...</td>\n",
       "    </tr>\n",
       "    <tr>\n",
       "      <th>U_998508</th>\n",
       "      <td>[0.0, 0.0, 0.0, 1.0, 0.0, 0.0, 0.0, 0.0, 0.0, ...</td>\n",
       "      <td>[[[2577, 2579, 59554, 59555, 2649, 7814, 35747...</td>\n",
       "      <td>[[[18, 18, 18, 18, 18, 18, 18, 18, 19, 18]], [...</td>\n",
       "      <td>[25718, 2221, 2222, 2223, 2953, 2953, 28783, 7...</td>\n",
       "    </tr>\n",
       "    <tr>\n",
       "      <th>U_9988528</th>\n",
       "      <td>[0.3333333333333333, 0.0, 0.3333333333333333, ...</td>\n",
       "      <td>[[[0, 0, 0, 0, 0, 0, 0, 0, 0, 0]], [[0, 0, 0, ...</td>\n",
       "      <td>[[[0, 0, 0, 0, 0, 0, 0, 0, 0, 0]], [[0, 0, 0, ...</td>\n",
       "      <td>[160890, 160891, 160891, 160892, 160892, 16089...</td>\n",
       "    </tr>\n",
       "    <tr>\n",
       "      <th>U_9996819</th>\n",
       "      <td>[0, 0, 0, 0, 0, 0, 0, 0, 0, 0, 0, 0, 0, 0, 0, ...</td>\n",
       "      <td>[[[0, 0, 0, 0, 0, 0, 0, 0, 0, 0]], [[0, 0, 0, ...</td>\n",
       "      <td>[[[0, 0, 0, 0, 0, 0, 0, 0, 0, 0]], [[0, 0, 0, ...</td>\n",
       "      <td>[2769, 2766, 2762, 2764, 2764, 0, 0, 0, 0, 0, ...</td>\n",
       "    </tr>\n",
       "    <tr>\n",
       "      <th>U_9999820</th>\n",
       "      <td>[0, 0, 0, 0, 0, 0, 0, 0, 0, 0, 0, 0, 0, 0, 0, ...</td>\n",
       "      <td>[[[0, 0, 0, 0, 0, 0, 0, 0, 0, 0]], [[0, 0, 0, ...</td>\n",
       "      <td>[[[0, 0, 0, 0, 0, 0, 0, 0, 0, 0]], [[0, 0, 0, ...</td>\n",
       "      <td>[2769, 2766, 2763, 2764, 0, 0, 0, 0, 0, 0, 0, ...</td>\n",
       "    </tr>\n",
       "  </tbody>\n",
       "</table>\n",
       "<p>114150 rows × 4 columns</p>\n",
       "</div>"
      ],
      "text/plain": [
       "                                                seg_rep_count  \\\n",
       "user_id                                                         \n",
       "U_10001587  [0.0, 1.0, 0.0, 0.0, 0.25, 0.0, 0, 0, 0, 0, 0,...   \n",
       "U_10008027  [0, 0, 0, 0, 0, 0, 0, 0, 0, 0, 0, 0, 0, 0, 0, ...   \n",
       "U_10012383  [0.0, 0.0, 0.0, 0.0, 0.0, 0.0, 0.0, 0.0, 0.0, ...   \n",
       "U_10018910  [0, 0, 0, 0, 0, 0, 0, 0, 0, 0, 0, 0, 0, 0, 0, ...   \n",
       "U_100203    [0.0, 0.0, 0.0, 1.0, 0.0, 0.0, 0.0, 0.0, 0.0, ...   \n",
       "...                                                       ...   \n",
       "U_9979639   [0, 0, 0, 0, 0, 0, 0, 0, 0, 0, 0, 0, 0, 0, 0, ...   \n",
       "U_998508    [0.0, 0.0, 0.0, 1.0, 0.0, 0.0, 0.0, 0.0, 0.0, ...   \n",
       "U_9988528   [0.3333333333333333, 0.0, 0.3333333333333333, ...   \n",
       "U_9996819   [0, 0, 0, 0, 0, 0, 0, 0, 0, 0, 0, 0, 0, 0, 0, ...   \n",
       "U_9999820   [0, 0, 0, 0, 0, 0, 0, 0, 0, 0, 0, 0, 0, 0, 0, ...   \n",
       "\n",
       "                                                     concepts  \\\n",
       "user_id                                                         \n",
       "U_10001587  [[[0, 0, 0, 0, 0, 0, 0, 0, 0, 0]], [[0, 0, 0, ...   \n",
       "U_10008027  [[[0, 0, 0, 0, 0, 0, 0, 0, 0, 0]], [[0, 0, 0, ...   \n",
       "U_10012383  [[[0, 0, 0, 0, 0, 0, 0, 0, 0, 0]], [[0, 0, 0, ...   \n",
       "U_10018910  [[[0, 0, 0, 0, 0, 0, 0, 0, 0, 0]], [[0, 0, 0, ...   \n",
       "U_100203    [[[22186, 2450, 39251, 47053, 4908, 4915, 0, 0...   \n",
       "...                                                       ...   \n",
       "U_9979639   [[[0, 0, 0, 0, 0, 0, 0, 0, 0, 0]], [[0, 0, 0, ...   \n",
       "U_998508    [[[2577, 2579, 59554, 59555, 2649, 7814, 35747...   \n",
       "U_9988528   [[[0, 0, 0, 0, 0, 0, 0, 0, 0, 0]], [[0, 0, 0, ...   \n",
       "U_9996819   [[[0, 0, 0, 0, 0, 0, 0, 0, 0, 0]], [[0, 0, 0, ...   \n",
       "U_9999820   [[[0, 0, 0, 0, 0, 0, 0, 0, 0, 0]], [[0, 0, 0, ...   \n",
       "\n",
       "                                                       fields  \\\n",
       "user_id                                                         \n",
       "U_10001587  [[[0, 0, 0, 0, 0, 0, 0, 0, 0, 0]], [[0, 0, 0, ...   \n",
       "U_10008027  [[[0, 0, 0, 0, 0, 0, 0, 0, 0, 0]], [[0, 0, 0, ...   \n",
       "U_10012383  [[[0, 0, 0, 0, 0, 0, 0, 0, 0, 0]], [[0, 0, 0, ...   \n",
       "U_10018910  [[[0, 0, 0, 0, 0, 0, 0, 0, 0, 0]], [[0, 0, 0, ...   \n",
       "U_100203    [[[6, 6, 6, 6, 6, 6, 0, 0, 0, 0]], [[6, 6, 6, ...   \n",
       "...                                                       ...   \n",
       "U_9979639   [[[0, 0, 0, 0, 0, 0, 0, 0, 0, 0]], [[0, 0, 0, ...   \n",
       "U_998508    [[[18, 18, 18, 18, 18, 18, 18, 18, 19, 18]], [...   \n",
       "U_9988528   [[[0, 0, 0, 0, 0, 0, 0, 0, 0, 0]], [[0, 0, 0, ...   \n",
       "U_9996819   [[[0, 0, 0, 0, 0, 0, 0, 0, 0, 0]], [[0, 0, 0, ...   \n",
       "U_9999820   [[[0, 0, 0, 0, 0, 0, 0, 0, 0, 0]], [[0, 0, 0, ...   \n",
       "\n",
       "                                                     video_id  \n",
       "user_id                                                        \n",
       "U_10001587  [11923, 11993, 11924, 11924, 11924, 0, 0, 0, 0...  \n",
       "U_10008027  [12082, 34059, 12145, 12031, 12036, 0, 0, 0, 0...  \n",
       "U_10012383  [12147, 12143, 12082, 12080, 34059, 12145, 121...  \n",
       "U_10018910  [2766, 2762, 2763, 2764, 2765, 0, 0, 0, 0, 0, ...  \n",
       "U_100203    [142499, 142500, 87277, 125176, 125177, 142500...  \n",
       "...                                                       ...  \n",
       "U_9979639   [2769, 2766, 2762, 2763, 2764, 0, 0, 0, 0, 0, ...  \n",
       "U_998508    [25718, 2221, 2222, 2223, 2953, 2953, 28783, 7...  \n",
       "U_9988528   [160890, 160891, 160891, 160892, 160892, 16089...  \n",
       "U_9996819   [2769, 2766, 2762, 2764, 2764, 0, 0, 0, 0, 0, ...  \n",
       "U_9999820   [2769, 2766, 2763, 2764, 0, 0, 0, 0, 0, 0, 0, ...  \n",
       "\n",
       "[114150 rows x 4 columns]"
      ]
     },
     "execution_count": 104,
     "metadata": {},
     "output_type": "execute_result"
    }
   ],
   "source": [
    "val_df"
   ]
  },
  {
   "cell_type": "code",
   "execution_count": 105,
   "id": "2fcd6dff-5fd1-4488-aff8-2d267a0858e1",
   "metadata": {},
   "outputs": [
    {
     "data": {
      "text/html": [
       "<div>\n",
       "<style scoped>\n",
       "    .dataframe tbody tr th:only-of-type {\n",
       "        vertical-align: middle;\n",
       "    }\n",
       "\n",
       "    .dataframe tbody tr th {\n",
       "        vertical-align: top;\n",
       "    }\n",
       "\n",
       "    .dataframe thead th {\n",
       "        text-align: right;\n",
       "    }\n",
       "</style>\n",
       "<table border=\"1\" class=\"dataframe\">\n",
       "  <thead>\n",
       "    <tr style=\"text-align: right;\">\n",
       "      <th></th>\n",
       "      <th>seg_rep_count</th>\n",
       "      <th>concepts</th>\n",
       "      <th>fields</th>\n",
       "      <th>video_id</th>\n",
       "    </tr>\n",
       "    <tr>\n",
       "      <th>user_id</th>\n",
       "      <th></th>\n",
       "      <th></th>\n",
       "      <th></th>\n",
       "      <th></th>\n",
       "    </tr>\n",
       "  </thead>\n",
       "  <tbody>\n",
       "    <tr>\n",
       "      <th>U_10001587</th>\n",
       "      <td>[0.0, 1.0, 0.0, 0.0, 0.25, 0.0, 0, 0, 0, 0, 0,...</td>\n",
       "      <td>[[[0, 0, 0, 0, 0, 0, 0, 0, 0, 0]], [[0, 0, 0, ...</td>\n",
       "      <td>[[[0, 0, 0, 0, 0, 0, 0, 0, 0, 0]], [[0, 0, 0, ...</td>\n",
       "      <td>[11923, 11993, 11924, 11924, 0, 0, 0, 0, 0, 0,...</td>\n",
       "    </tr>\n",
       "    <tr>\n",
       "      <th>U_10008027</th>\n",
       "      <td>[0, 0, 0, 0, 0, 0, 0, 0, 0, 0, 0, 0, 0, 0, 0, ...</td>\n",
       "      <td>[[[0, 0, 0, 0, 0, 0, 0, 0, 0, 0]], [[0, 0, 0, ...</td>\n",
       "      <td>[[[0, 0, 0, 0, 0, 0, 0, 0, 0, 0]], [[0, 0, 0, ...</td>\n",
       "      <td>[12082, 34059, 12145, 12031, 0, 0, 0, 0, 0, 0,...</td>\n",
       "    </tr>\n",
       "    <tr>\n",
       "      <th>U_10012383</th>\n",
       "      <td>[0.0, 0.0, 0.0, 0.0, 0.0, 0.0, 0.0, 0.0, 0.0, ...</td>\n",
       "      <td>[[[0, 0, 0, 0, 0, 0, 0, 0, 0, 0]], [[0, 0, 0, ...</td>\n",
       "      <td>[[[0, 0, 0, 0, 0, 0, 0, 0, 0, 0]], [[0, 0, 0, ...</td>\n",
       "      <td>[12147, 12143, 12082, 12080, 34059, 12145, 121...</td>\n",
       "    </tr>\n",
       "    <tr>\n",
       "      <th>U_10018910</th>\n",
       "      <td>[0, 0, 0, 0, 0, 0, 0, 0, 0, 0, 0, 0, 0, 0, 0, ...</td>\n",
       "      <td>[[[0, 0, 0, 0, 0, 0, 0, 0, 0, 0]], [[0, 0, 0, ...</td>\n",
       "      <td>[[[0, 0, 0, 0, 0, 0, 0, 0, 0, 0]], [[0, 0, 0, ...</td>\n",
       "      <td>[2766, 2762, 2763, 2764, 0, 0, 0, 0, 0, 0, 0, ...</td>\n",
       "    </tr>\n",
       "    <tr>\n",
       "      <th>U_100203</th>\n",
       "      <td>[0.0, 0.0, 0.0, 1.0, 0.0, 0.0, 0.0, 0.0, 0.0, ...</td>\n",
       "      <td>[[[22186, 2450, 39251, 47053, 4908, 4915, 0, 0...</td>\n",
       "      <td>[[[6, 6, 6, 6, 6, 6, 0, 0, 0, 0]], [[6, 6, 6, ...</td>\n",
       "      <td>[142499, 142500, 87277, 125176, 125177, 142500...</td>\n",
       "    </tr>\n",
       "    <tr>\n",
       "      <th>...</th>\n",
       "      <td>...</td>\n",
       "      <td>...</td>\n",
       "      <td>...</td>\n",
       "      <td>...</td>\n",
       "    </tr>\n",
       "    <tr>\n",
       "      <th>U_9979639</th>\n",
       "      <td>[0, 0, 0, 0, 0, 0, 0, 0, 0, 0, 0, 0, 0, 0, 0, ...</td>\n",
       "      <td>[[[0, 0, 0, 0, 0, 0, 0, 0, 0, 0]], [[0, 0, 0, ...</td>\n",
       "      <td>[[[0, 0, 0, 0, 0, 0, 0, 0, 0, 0]], [[0, 0, 0, ...</td>\n",
       "      <td>[2769, 2766, 2762, 2763, 0, 0, 0, 0, 0, 0, 0, ...</td>\n",
       "    </tr>\n",
       "    <tr>\n",
       "      <th>U_998508</th>\n",
       "      <td>[0.0, 0.0, 0.0, 1.0, 0.0, 0.0, 0.0, 0.0, 0.0, ...</td>\n",
       "      <td>[[[2577, 2579, 59554, 59555, 2649, 7814, 35747...</td>\n",
       "      <td>[[[18, 18, 18, 18, 18, 18, 18, 18, 19, 18]], [...</td>\n",
       "      <td>[25718, 2221, 2222, 2223, 2953, 2953, 28783, 7...</td>\n",
       "    </tr>\n",
       "    <tr>\n",
       "      <th>U_9988528</th>\n",
       "      <td>[0.3333333333333333, 0.0, 0.3333333333333333, ...</td>\n",
       "      <td>[[[0, 0, 0, 0, 0, 0, 0, 0, 0, 0]], [[0, 0, 0, ...</td>\n",
       "      <td>[[[0, 0, 0, 0, 0, 0, 0, 0, 0, 0]], [[0, 0, 0, ...</td>\n",
       "      <td>[160890, 160891, 160891, 160892, 160892, 16089...</td>\n",
       "    </tr>\n",
       "    <tr>\n",
       "      <th>U_9996819</th>\n",
       "      <td>[0, 0, 0, 0, 0, 0, 0, 0, 0, 0, 0, 0, 0, 0, 0, ...</td>\n",
       "      <td>[[[0, 0, 0, 0, 0, 0, 0, 0, 0, 0]], [[0, 0, 0, ...</td>\n",
       "      <td>[[[0, 0, 0, 0, 0, 0, 0, 0, 0, 0]], [[0, 0, 0, ...</td>\n",
       "      <td>[2769, 2766, 2762, 2764, 0, 0, 0, 0, 0, 0, 0, ...</td>\n",
       "    </tr>\n",
       "    <tr>\n",
       "      <th>U_9999820</th>\n",
       "      <td>[0, 0, 0, 0, 0, 0, 0, 0, 0, 0, 0, 0, 0, 0, 0, ...</td>\n",
       "      <td>[[[0, 0, 0, 0, 0, 0, 0, 0, 0, 0]], [[0, 0, 0, ...</td>\n",
       "      <td>[[[0, 0, 0, 0, 0, 0, 0, 0, 0, 0]], [[0, 0, 0, ...</td>\n",
       "      <td>[2769, 2766, 2763, 0, 0, 0, 0, 0, 0, 0, 0, 0, ...</td>\n",
       "    </tr>\n",
       "  </tbody>\n",
       "</table>\n",
       "<p>114150 rows × 4 columns</p>\n",
       "</div>"
      ],
      "text/plain": [
       "                                                seg_rep_count  \\\n",
       "user_id                                                         \n",
       "U_10001587  [0.0, 1.0, 0.0, 0.0, 0.25, 0.0, 0, 0, 0, 0, 0,...   \n",
       "U_10008027  [0, 0, 0, 0, 0, 0, 0, 0, 0, 0, 0, 0, 0, 0, 0, ...   \n",
       "U_10012383  [0.0, 0.0, 0.0, 0.0, 0.0, 0.0, 0.0, 0.0, 0.0, ...   \n",
       "U_10018910  [0, 0, 0, 0, 0, 0, 0, 0, 0, 0, 0, 0, 0, 0, 0, ...   \n",
       "U_100203    [0.0, 0.0, 0.0, 1.0, 0.0, 0.0, 0.0, 0.0, 0.0, ...   \n",
       "...                                                       ...   \n",
       "U_9979639   [0, 0, 0, 0, 0, 0, 0, 0, 0, 0, 0, 0, 0, 0, 0, ...   \n",
       "U_998508    [0.0, 0.0, 0.0, 1.0, 0.0, 0.0, 0.0, 0.0, 0.0, ...   \n",
       "U_9988528   [0.3333333333333333, 0.0, 0.3333333333333333, ...   \n",
       "U_9996819   [0, 0, 0, 0, 0, 0, 0, 0, 0, 0, 0, 0, 0, 0, 0, ...   \n",
       "U_9999820   [0, 0, 0, 0, 0, 0, 0, 0, 0, 0, 0, 0, 0, 0, 0, ...   \n",
       "\n",
       "                                                     concepts  \\\n",
       "user_id                                                         \n",
       "U_10001587  [[[0, 0, 0, 0, 0, 0, 0, 0, 0, 0]], [[0, 0, 0, ...   \n",
       "U_10008027  [[[0, 0, 0, 0, 0, 0, 0, 0, 0, 0]], [[0, 0, 0, ...   \n",
       "U_10012383  [[[0, 0, 0, 0, 0, 0, 0, 0, 0, 0]], [[0, 0, 0, ...   \n",
       "U_10018910  [[[0, 0, 0, 0, 0, 0, 0, 0, 0, 0]], [[0, 0, 0, ...   \n",
       "U_100203    [[[22186, 2450, 39251, 47053, 4908, 4915, 0, 0...   \n",
       "...                                                       ...   \n",
       "U_9979639   [[[0, 0, 0, 0, 0, 0, 0, 0, 0, 0]], [[0, 0, 0, ...   \n",
       "U_998508    [[[2577, 2579, 59554, 59555, 2649, 7814, 35747...   \n",
       "U_9988528   [[[0, 0, 0, 0, 0, 0, 0, 0, 0, 0]], [[0, 0, 0, ...   \n",
       "U_9996819   [[[0, 0, 0, 0, 0, 0, 0, 0, 0, 0]], [[0, 0, 0, ...   \n",
       "U_9999820   [[[0, 0, 0, 0, 0, 0, 0, 0, 0, 0]], [[0, 0, 0, ...   \n",
       "\n",
       "                                                       fields  \\\n",
       "user_id                                                         \n",
       "U_10001587  [[[0, 0, 0, 0, 0, 0, 0, 0, 0, 0]], [[0, 0, 0, ...   \n",
       "U_10008027  [[[0, 0, 0, 0, 0, 0, 0, 0, 0, 0]], [[0, 0, 0, ...   \n",
       "U_10012383  [[[0, 0, 0, 0, 0, 0, 0, 0, 0, 0]], [[0, 0, 0, ...   \n",
       "U_10018910  [[[0, 0, 0, 0, 0, 0, 0, 0, 0, 0]], [[0, 0, 0, ...   \n",
       "U_100203    [[[6, 6, 6, 6, 6, 6, 0, 0, 0, 0]], [[6, 6, 6, ...   \n",
       "...                                                       ...   \n",
       "U_9979639   [[[0, 0, 0, 0, 0, 0, 0, 0, 0, 0]], [[0, 0, 0, ...   \n",
       "U_998508    [[[18, 18, 18, 18, 18, 18, 18, 18, 19, 18]], [...   \n",
       "U_9988528   [[[0, 0, 0, 0, 0, 0, 0, 0, 0, 0]], [[0, 0, 0, ...   \n",
       "U_9996819   [[[0, 0, 0, 0, 0, 0, 0, 0, 0, 0]], [[0, 0, 0, ...   \n",
       "U_9999820   [[[0, 0, 0, 0, 0, 0, 0, 0, 0, 0]], [[0, 0, 0, ...   \n",
       "\n",
       "                                                     video_id  \n",
       "user_id                                                        \n",
       "U_10001587  [11923, 11993, 11924, 11924, 0, 0, 0, 0, 0, 0,...  \n",
       "U_10008027  [12082, 34059, 12145, 12031, 0, 0, 0, 0, 0, 0,...  \n",
       "U_10012383  [12147, 12143, 12082, 12080, 34059, 12145, 121...  \n",
       "U_10018910  [2766, 2762, 2763, 2764, 0, 0, 0, 0, 0, 0, 0, ...  \n",
       "U_100203    [142499, 142500, 87277, 125176, 125177, 142500...  \n",
       "...                                                       ...  \n",
       "U_9979639   [2769, 2766, 2762, 2763, 0, 0, 0, 0, 0, 0, 0, ...  \n",
       "U_998508    [25718, 2221, 2222, 2223, 2953, 2953, 28783, 7...  \n",
       "U_9988528   [160890, 160891, 160891, 160892, 160892, 16089...  \n",
       "U_9996819   [2769, 2766, 2762, 2764, 0, 0, 0, 0, 0, 0, 0, ...  \n",
       "U_9999820   [2769, 2766, 2763, 0, 0, 0, 0, 0, 0, 0, 0, 0, ...  \n",
       "\n",
       "[114150 rows x 4 columns]"
      ]
     },
     "execution_count": 105,
     "metadata": {},
     "output_type": "execute_result"
    }
   ],
   "source": [
    "train_df"
   ]
  },
  {
   "cell_type": "code",
   "execution_count": 106,
   "id": "32e71bf7-e6d0-4b08-a92d-e9f959deb7c5",
   "metadata": {},
   "outputs": [
    {
     "data": {
      "text/html": [
       "<div>\n",
       "<style scoped>\n",
       "    .dataframe tbody tr th:only-of-type {\n",
       "        vertical-align: middle;\n",
       "    }\n",
       "\n",
       "    .dataframe tbody tr th {\n",
       "        vertical-align: top;\n",
       "    }\n",
       "\n",
       "    .dataframe thead th {\n",
       "        text-align: right;\n",
       "    }\n",
       "</style>\n",
       "<table border=\"1\" class=\"dataframe\">\n",
       "  <thead>\n",
       "    <tr style=\"text-align: right;\">\n",
       "      <th></th>\n",
       "      <th>seg_rep_count</th>\n",
       "      <th>concepts</th>\n",
       "      <th>fields</th>\n",
       "      <th>video_id</th>\n",
       "    </tr>\n",
       "    <tr>\n",
       "      <th>user_id</th>\n",
       "      <th></th>\n",
       "      <th></th>\n",
       "      <th></th>\n",
       "      <th></th>\n",
       "    </tr>\n",
       "  </thead>\n",
       "  <tbody>\n",
       "    <tr>\n",
       "      <th>U_10001587</th>\n",
       "      <td>[0.0, 1.0, 0.0, 0.0, 0.25, 0.0, 0, 0, 0, 0, 0,...</td>\n",
       "      <td>[[[0, 0, 0, 0, 0, 0, 0, 0, 0, 0]], [[0, 0, 0, ...</td>\n",
       "      <td>[[[0, 0, 0, 0, 0, 0, 0, 0, 0, 0]], [[0, 0, 0, ...</td>\n",
       "      <td>[11923, 11993, 11924, 11924, 11924, 12024, 0, ...</td>\n",
       "    </tr>\n",
       "    <tr>\n",
       "      <th>U_10008027</th>\n",
       "      <td>[0, 0, 0, 0, 0, 0, 0, 0, 0, 0, 0, 0, 0, 0, 0, ...</td>\n",
       "      <td>[[[0, 0, 0, 0, 0, 0, 0, 0, 0, 0]], [[0, 0, 0, ...</td>\n",
       "      <td>[[[0, 0, 0, 0, 0, 0, 0, 0, 0, 0]], [[0, 0, 0, ...</td>\n",
       "      <td>[12082, 34059, 12145, 12031, 12036, 11924, 0, ...</td>\n",
       "    </tr>\n",
       "    <tr>\n",
       "      <th>U_10012383</th>\n",
       "      <td>[0.0, 0.0, 0.0, 0.0, 0.0, 0.0, 0.0, 0.0, 0.0, ...</td>\n",
       "      <td>[[[0, 0, 0, 0, 0, 0, 0, 0, 0, 0]], [[0, 0, 0, ...</td>\n",
       "      <td>[[[0, 0, 0, 0, 0, 0, 0, 0, 0, 0]], [[0, 0, 0, ...</td>\n",
       "      <td>[12147, 12143, 12082, 12080, 34059, 12145, 121...</td>\n",
       "    </tr>\n",
       "    <tr>\n",
       "      <th>U_10018910</th>\n",
       "      <td>[0, 0, 0, 0, 0, 0, 0, 0, 0, 0, 0, 0, 0, 0, 0, ...</td>\n",
       "      <td>[[[0, 0, 0, 0, 0, 0, 0, 0, 0, 0]], [[0, 0, 0, ...</td>\n",
       "      <td>[[[0, 0, 0, 0, 0, 0, 0, 0, 0, 0]], [[0, 0, 0, ...</td>\n",
       "      <td>[2766, 2762, 2763, 2764, 2765, 2768, 0, 0, 0, ...</td>\n",
       "    </tr>\n",
       "    <tr>\n",
       "      <th>U_100203</th>\n",
       "      <td>[0.0, 0.0, 0.0, 1.0, 0.0, 0.0, 0.0, 0.0, 0.0, ...</td>\n",
       "      <td>[[[22186, 2450, 39251, 47053, 4908, 4915, 0, 0...</td>\n",
       "      <td>[[[6, 6, 6, 6, 6, 6, 0, 0, 0, 0]], [[6, 6, 6, ...</td>\n",
       "      <td>[142499, 142500, 87277, 125176, 125177, 142500...</td>\n",
       "    </tr>\n",
       "    <tr>\n",
       "      <th>...</th>\n",
       "      <td>...</td>\n",
       "      <td>...</td>\n",
       "      <td>...</td>\n",
       "      <td>...</td>\n",
       "    </tr>\n",
       "    <tr>\n",
       "      <th>U_9979639</th>\n",
       "      <td>[0, 0, 0, 0, 0, 0, 0, 0, 0, 0, 0, 0, 0, 0, 0, ...</td>\n",
       "      <td>[[[0, 0, 0, 0, 0, 0, 0, 0, 0, 0]], [[0, 0, 0, ...</td>\n",
       "      <td>[[[0, 0, 0, 0, 0, 0, 0, 0, 0, 0]], [[0, 0, 0, ...</td>\n",
       "      <td>[2769, 2766, 2762, 2763, 2764, 2768, 0, 0, 0, ...</td>\n",
       "    </tr>\n",
       "    <tr>\n",
       "      <th>U_998508</th>\n",
       "      <td>[0.0, 0.0, 0.0, 1.0, 0.0, 0.0, 0.0, 0.0, 0.0, ...</td>\n",
       "      <td>[[[2577, 2579, 59554, 59555, 2649, 7814, 35747...</td>\n",
       "      <td>[[[18, 18, 18, 18, 18, 18, 18, 18, 19, 18]], [...</td>\n",
       "      <td>[25718, 2221, 2222, 2223, 2953, 2953, 28783, 7...</td>\n",
       "    </tr>\n",
       "    <tr>\n",
       "      <th>U_9988528</th>\n",
       "      <td>[0.3333333333333333, 0.0, 0.3333333333333333, ...</td>\n",
       "      <td>[[[0, 0, 0, 0, 0, 0, 0, 0, 0, 0]], [[0, 0, 0, ...</td>\n",
       "      <td>[[[0, 0, 0, 0, 0, 0, 0, 0, 0, 0]], [[0, 0, 0, ...</td>\n",
       "      <td>[160890, 160891, 160891, 160892, 160892, 16089...</td>\n",
       "    </tr>\n",
       "    <tr>\n",
       "      <th>U_9996819</th>\n",
       "      <td>[0, 0, 0, 0, 0, 0, 0, 0, 0, 0, 0, 0, 0, 0, 0, ...</td>\n",
       "      <td>[[[0, 0, 0, 0, 0, 0, 0, 0, 0, 0]], [[0, 0, 0, ...</td>\n",
       "      <td>[[[0, 0, 0, 0, 0, 0, 0, 0, 0, 0]], [[0, 0, 0, ...</td>\n",
       "      <td>[2769, 2766, 2762, 2764, 2764, 2765, 0, 0, 0, ...</td>\n",
       "    </tr>\n",
       "    <tr>\n",
       "      <th>U_9999820</th>\n",
       "      <td>[0, 0, 0, 0, 0, 0, 0, 0, 0, 0, 0, 0, 0, 0, 0, ...</td>\n",
       "      <td>[[[0, 0, 0, 0, 0, 0, 0, 0, 0, 0]], [[0, 0, 0, ...</td>\n",
       "      <td>[[[0, 0, 0, 0, 0, 0, 0, 0, 0, 0]], [[0, 0, 0, ...</td>\n",
       "      <td>[2769, 2766, 2763, 2764, 2765, 0, 0, 0, 0, 0, ...</td>\n",
       "    </tr>\n",
       "  </tbody>\n",
       "</table>\n",
       "<p>114150 rows × 4 columns</p>\n",
       "</div>"
      ],
      "text/plain": [
       "                                                seg_rep_count  \\\n",
       "user_id                                                         \n",
       "U_10001587  [0.0, 1.0, 0.0, 0.0, 0.25, 0.0, 0, 0, 0, 0, 0,...   \n",
       "U_10008027  [0, 0, 0, 0, 0, 0, 0, 0, 0, 0, 0, 0, 0, 0, 0, ...   \n",
       "U_10012383  [0.0, 0.0, 0.0, 0.0, 0.0, 0.0, 0.0, 0.0, 0.0, ...   \n",
       "U_10018910  [0, 0, 0, 0, 0, 0, 0, 0, 0, 0, 0, 0, 0, 0, 0, ...   \n",
       "U_100203    [0.0, 0.0, 0.0, 1.0, 0.0, 0.0, 0.0, 0.0, 0.0, ...   \n",
       "...                                                       ...   \n",
       "U_9979639   [0, 0, 0, 0, 0, 0, 0, 0, 0, 0, 0, 0, 0, 0, 0, ...   \n",
       "U_998508    [0.0, 0.0, 0.0, 1.0, 0.0, 0.0, 0.0, 0.0, 0.0, ...   \n",
       "U_9988528   [0.3333333333333333, 0.0, 0.3333333333333333, ...   \n",
       "U_9996819   [0, 0, 0, 0, 0, 0, 0, 0, 0, 0, 0, 0, 0, 0, 0, ...   \n",
       "U_9999820   [0, 0, 0, 0, 0, 0, 0, 0, 0, 0, 0, 0, 0, 0, 0, ...   \n",
       "\n",
       "                                                     concepts  \\\n",
       "user_id                                                         \n",
       "U_10001587  [[[0, 0, 0, 0, 0, 0, 0, 0, 0, 0]], [[0, 0, 0, ...   \n",
       "U_10008027  [[[0, 0, 0, 0, 0, 0, 0, 0, 0, 0]], [[0, 0, 0, ...   \n",
       "U_10012383  [[[0, 0, 0, 0, 0, 0, 0, 0, 0, 0]], [[0, 0, 0, ...   \n",
       "U_10018910  [[[0, 0, 0, 0, 0, 0, 0, 0, 0, 0]], [[0, 0, 0, ...   \n",
       "U_100203    [[[22186, 2450, 39251, 47053, 4908, 4915, 0, 0...   \n",
       "...                                                       ...   \n",
       "U_9979639   [[[0, 0, 0, 0, 0, 0, 0, 0, 0, 0]], [[0, 0, 0, ...   \n",
       "U_998508    [[[2577, 2579, 59554, 59555, 2649, 7814, 35747...   \n",
       "U_9988528   [[[0, 0, 0, 0, 0, 0, 0, 0, 0, 0]], [[0, 0, 0, ...   \n",
       "U_9996819   [[[0, 0, 0, 0, 0, 0, 0, 0, 0, 0]], [[0, 0, 0, ...   \n",
       "U_9999820   [[[0, 0, 0, 0, 0, 0, 0, 0, 0, 0]], [[0, 0, 0, ...   \n",
       "\n",
       "                                                       fields  \\\n",
       "user_id                                                         \n",
       "U_10001587  [[[0, 0, 0, 0, 0, 0, 0, 0, 0, 0]], [[0, 0, 0, ...   \n",
       "U_10008027  [[[0, 0, 0, 0, 0, 0, 0, 0, 0, 0]], [[0, 0, 0, ...   \n",
       "U_10012383  [[[0, 0, 0, 0, 0, 0, 0, 0, 0, 0]], [[0, 0, 0, ...   \n",
       "U_10018910  [[[0, 0, 0, 0, 0, 0, 0, 0, 0, 0]], [[0, 0, 0, ...   \n",
       "U_100203    [[[6, 6, 6, 6, 6, 6, 0, 0, 0, 0]], [[6, 6, 6, ...   \n",
       "...                                                       ...   \n",
       "U_9979639   [[[0, 0, 0, 0, 0, 0, 0, 0, 0, 0]], [[0, 0, 0, ...   \n",
       "U_998508    [[[18, 18, 18, 18, 18, 18, 18, 18, 19, 18]], [...   \n",
       "U_9988528   [[[0, 0, 0, 0, 0, 0, 0, 0, 0, 0]], [[0, 0, 0, ...   \n",
       "U_9996819   [[[0, 0, 0, 0, 0, 0, 0, 0, 0, 0]], [[0, 0, 0, ...   \n",
       "U_9999820   [[[0, 0, 0, 0, 0, 0, 0, 0, 0, 0]], [[0, 0, 0, ...   \n",
       "\n",
       "                                                     video_id  \n",
       "user_id                                                        \n",
       "U_10001587  [11923, 11993, 11924, 11924, 11924, 12024, 0, ...  \n",
       "U_10008027  [12082, 34059, 12145, 12031, 12036, 11924, 0, ...  \n",
       "U_10012383  [12147, 12143, 12082, 12080, 34059, 12145, 121...  \n",
       "U_10018910  [2766, 2762, 2763, 2764, 2765, 2768, 0, 0, 0, ...  \n",
       "U_100203    [142499, 142500, 87277, 125176, 125177, 142500...  \n",
       "...                                                       ...  \n",
       "U_9979639   [2769, 2766, 2762, 2763, 2764, 2768, 0, 0, 0, ...  \n",
       "U_998508    [25718, 2221, 2222, 2223, 2953, 2953, 28783, 7...  \n",
       "U_9988528   [160890, 160891, 160891, 160892, 160892, 16089...  \n",
       "U_9996819   [2769, 2766, 2762, 2764, 2764, 2765, 0, 0, 0, ...  \n",
       "U_9999820   [2769, 2766, 2763, 2764, 2765, 0, 0, 0, 0, 0, ...  \n",
       "\n",
       "[114150 rows x 4 columns]"
      ]
     },
     "execution_count": 106,
     "metadata": {},
     "output_type": "execute_result"
    }
   ],
   "source": [
    "test_df"
   ]
  },
  {
   "cell_type": "code",
   "execution_count": 121,
   "id": "e211a836-ab4d-4516-b08e-f1b04c1fa988",
   "metadata": {},
   "outputs": [],
   "source": [
    "# Deprecated\n",
    "def debug(row):\n",
    "    for col in [CONCEPT_COL, FIELD_COL]:\n",
    "        if np.array(row[col]).shape != (50, 1, 300):\n",
    "            print(f\"something isn't as expected, {col}, {row.name}\")\n",
    "    return row\n"
   ]
  },
  {
   "cell_type": "code",
   "execution_count": 58,
   "id": "dffb9767-6340-4449-8b0d-ff0834446d85",
   "metadata": {},
   "outputs": [],
   "source": [
    "import pyarrow as pa"
   ]
  },
  {
   "cell_type": "code",
   "execution_count": 120,
   "id": "f054eac7-5a3d-4d78-a35f-e79d6949831f",
   "metadata": {},
   "outputs": [
    {
     "data": {
      "text/plain": [
       "seg_rep_count: fixed_size_list<item: float>[50]\n",
       "  child 0, item: float\n",
       "video_id: fixed_size_list<item: int64>[50]\n",
       "  child 0, item: int64\n",
       "concepts: fixed_size_list<item: fixed_size_list<item: fixed_size_list<item: int64>[10]>[1]>[50]\n",
       "  child 0, item: fixed_size_list<item: fixed_size_list<item: int64>[10]>[1]\n",
       "      child 0, item: fixed_size_list<item: int64>[10]\n",
       "          child 0, item: int64\n",
       "fields: fixed_size_list<item: fixed_size_list<item: fixed_size_list<item: int64>[10]>[1]>[50]\n",
       "  child 0, item: fixed_size_list<item: fixed_size_list<item: int64>[10]>[1]\n",
       "      child 0, item: fixed_size_list<item: int64>[10]\n",
       "          child 0, item: int64"
      ]
     },
     "execution_count": 120,
     "metadata": {},
     "output_type": "execute_result"
    }
   ],
   "source": [
    "# Define a PyArrow schema to improve convertion/storage speed, as well as size\n",
    "pa_fields = [\n",
    "    pa.field(CONTINUOUS_COL, pa.list_(pa.float32(), list_size=MAX_SEQUENCE_LENGTH)),\n",
    "    pa.field(ITEM_COL, pa.list_(pa.int64(), list_size=MAX_SEQUENCE_LENGTH)),\n",
    "    pa.field(CONCEPT_COL, pa.list_(\n",
    "        pa.list_(\n",
    "            pa.list_(\n",
    "                pa.int64(), list_size=MAX_CONCEPT_LENGTH\n",
    "            )\n",
    "            , list_size=1\n",
    "        ), \n",
    "        list_size=MAX_SEQUENCE_LENGTH)\n",
    "    ),\n",
    "    pa.field(FIELD_COL, pa.list_(\n",
    "        pa.list_(\n",
    "            pa.list_(\n",
    "                pa.int64(), list_size=MAX_CONCEPT_LENGTH\n",
    "            )\n",
    "            , list_size=1\n",
    "        ), \n",
    "        list_size=MAX_SEQUENCE_LENGTH)\n",
    "    )\n",
    "]\n",
    "pa_schema = pa.schema(pa_fields)\n",
    "pa_schema"
   ]
  },
  {
   "cell_type": "code",
   "execution_count": 114,
   "id": "c44d0186-2e6f-4763-88f5-653128177cdb",
   "metadata": {},
   "outputs": [],
   "source": [
    "out_name2df =  {\"test_pa.parquet\": test_df, \"val_pa.parquet\": val_df, \"train_pa.parquet\": train_df}"
   ]
  },
  {
   "cell_type": "code",
   "execution_count": 117,
   "id": "b7b36ed7-c37a-482b-828c-bab735e9c6fc",
   "metadata": {},
   "outputs": [
    {
     "name": "stdout",
     "output_type": "stream",
     "text": [
      "14.8 s ± 84 ms per loop (mean ± std. dev. of 7 runs, 1 loop each)\n"
     ]
    }
   ],
   "source": [
    "%%timeit\n",
    "#pa.Table.from_pandas(test_df, schema=pa_schema)\n",
    "#pa.Table.from_pandas(val_df, schema=pa_schema)\n",
    "#pa.Table.from_pandas(train_df, schema=pa_schema)    "
   ]
  },
  {
   "cell_type": "code",
   "execution_count": 118,
   "id": "b0992ced-8e4c-4d40-b884-0b8546fe3838",
   "metadata": {},
   "outputs": [
    {
     "name": "stdout",
     "output_type": "stream",
     "text": [
      "26.1 s ± 193 ms per loop (mean ± std. dev. of 7 runs, 1 loop each)\n"
     ]
    }
   ],
   "source": [
    "%%timeit\n",
    "#pa.Table.from_pandas(test_df)\n",
    "#pa.Table.from_pandas(val_df)\n",
    "#pa.Table.from_pandas(train_df)"
   ]
  },
  {
   "cell_type": "code",
   "execution_count": 7,
   "id": "a3331405-a41c-45ec-a8ca-24c12f9dc1b4",
   "metadata": {},
   "outputs": [],
   "source": [
    "out_path = Path(\"data-concepts-embed\")"
   ]
  },
  {
   "cell_type": "code",
   "execution_count": 258,
   "id": "1d605f8c-29f3-4a5e-93d7-ac681db12637",
   "metadata": {},
   "outputs": [
    {
     "name": "stdout",
     "output_type": "stream",
     "text": [
      "CPU times: user 31.6 s, sys: 2.58 s, total: 34.2 s\n",
      "Wall time: 34.4 s\n"
     ]
    }
   ],
   "source": [
    "%%time\n",
    "# fixed_size_list is not recognized further down the pipeline\n",
    "test_df.to_parquet(out_path / \"test.parquet\")#, schema=pa_schema)\n",
    "val_df.to_parquet(out_path / \"val.parquet\")#, schema=pa_schema)\n",
    "train_df.to_parquet(out_path / \"train.parquet\")#, schema=pa_schema)"
   ]
  },
  {
   "cell_type": "markdown",
   "id": "4fb8dcbd-e2aa-455e-89e4-20bf524f1892",
   "metadata": {},
   "source": [
    "### Create manual schema"
   ]
  },
  {
   "cell_type": "code",
   "execution_count": 8,
   "id": "ea48b24e-325d-4c06-b0c7-fccd38bc0e0a",
   "metadata": {},
   "outputs": [],
   "source": [
    "from merlin_standard_lib import Schema, Tag, ColumnSchema\n",
    "from merlin.schema.tags import Tags\n",
    "from merlin_standard_lib.proto.schema_bp import ValueCount, IntDomain"
   ]
  },
  {
   "cell_type": "code",
   "execution_count": 126,
   "id": "fbe25253-559a-47e7-a44b-9f7fb99b9da4",
   "metadata": {},
   "outputs": [],
   "source": [
    "schema = Schema([\n",
    "        ColumnSchema.create_categorical(ITEM_COL, MAX_VIDEO_ID, \n",
    "                                        value_count= ValueCount(0, MAX_SEQUENCE_LENGTH),\n",
    "                                        min_index=0,\n",
    "                                        tags=[Tag.CATEGORICAL, Tag.LIST, Tag.ITEM, Tag.ITEM_ID]\n",
    "                                       ),\n",
    "        ColumnSchema.create_continuous(CONTINUOUS_COL, \n",
    "                                       min_value=0, max_value=1, \n",
    "                                       value_count=ValueCount(0, MAX_SEQUENCE_LENGTH), \n",
    "                                       tags=[Tag.CONTINUOUS, Tag.LIST]),\n",
    "        ColumnSchema.create_categorical(CONCEPT_COL, MAX_CONCEPT, \n",
    "                                    min_index=0,\n",
    "                                    shape=(MAX_SEQUENCE_LENGTH, 1, MAX_CONCEPT_LENGTH),\n",
    "                                    tags=[Tag.CATEGORICAL, Tag.LIST]\n",
    "                                   ),\n",
    "        ColumnSchema.create_categorical(FIELD_COL, MAX_FIELD, \n",
    "                                    #value_count= ValueCount(0, MAX_SEQUENCE_LENGTH),\n",
    "                                    min_index=0,\n",
    "                                    shape=(MAX_SEQUENCE_LENGTH, 1, MAX_CONCEPT_LENGTH),\n",
    "                                    tags=[Tag.CATEGORICAL, Tag.LIST]\n",
    "                                   ),\n",
    "    ])"
   ]
  },
  {
   "cell_type": "code",
   "execution_count": 249,
   "id": "82b3d2d3-5241-4465-8d60-4964c6953244",
   "metadata": {},
   "outputs": [
    {
     "data": {
      "text/plain": [
       "[ColumnSchema(name='video_id', deprecated=False, presence=FeaturePresence(min_fraction=0.0, min_count=0), group_presence=FeaturePresenceWithinGroup(required=False), shape=FixedShape(dim=[]), value_count=ValueCount(min=0, max=50), value_counts=ValueCountList(value_count=[]), type=2, domain='', int_domain=IntDomain(name='video_id', min=0, max=185637, is_categorical=True), float_domain=FloatDomain(name='', min=0.0, max=0.0, disallow_nan=False, disallow_inf=False, is_embedding=False), string_domain=StringDomain(name='', value=[]), bool_domain=BoolDomain(name='', true_value='', false_value=''), struct_domain=StructDomain(feature=[], sparse_feature=[]), natural_language_domain=NaturalLanguageDomain(vocabulary='', coverage=FeatureCoverageConstraints(min_coverage=0.0, min_avg_token_length=0.0, excluded_string_tokens=[], excluded_int_tokens=[], oov_string_tokens=[]), token_constraints=[], sequence_length_constraints=SequenceLengthConstraints(excluded_int_value=[], excluded_string_value=[], min_sequence_length=0, max_sequence_length=0), location_constraint_regex=''), image_domain=ImageDomain(minimum_supported_image_fraction=0.0, max_image_byte_size=0), mid_domain=MIDDomain(), url_domain=URLDomain(), time_domain=TimeDomain(string_format='', integer_format=0), time_of_day_domain=TimeOfDayDomain(string_format='', integer_format=0), distribution_constraints=DistributionConstraints(min_domain_mass=0.0), annotation=Annotation(tag=['list', 'item', 'item_id', 'categorical'], comment=[], extra_metadata=[]), skew_comparator=FeatureComparator(infinity_norm=InfinityNorm(threshold=0.0), jensen_shannon_divergence=JensenShannonDivergence(threshold=0.0)), drift_comparator=FeatureComparator(infinity_norm=InfinityNorm(threshold=0.0), jensen_shannon_divergence=JensenShannonDivergence(threshold=0.0)), in_environment=[], not_in_environment=[], lifecycle_stage=0, unique_constraints=UniqueConstraints(min=0, max=0))]"
      ]
     },
     "execution_count": 249,
     "metadata": {},
     "output_type": "execute_result"
    }
   ],
   "source": [
    "schema.select_by_name(ITEM_COL).column_schemas"
   ]
  },
  {
   "cell_type": "code",
   "execution_count": 127,
   "id": "d618ba6b-cf3b-4769-b3b8-134916857bb9",
   "metadata": {},
   "outputs": [
    {
     "data": {
      "text/plain": [
       "[{'name': 'concepts', 'shape': {'dim': [{'size': '50'}, {'size': '1'}, {'size': '10'}]}, 'type': 'INT', 'int_domain': {'name': 'concepts', 'max': '171411', 'is_categorical': True}, 'annotation': {'tag': ['list', 'categorical']}}]"
      ]
     },
     "execution_count": 127,
     "metadata": {},
     "output_type": "execute_result"
    }
   ],
   "source": [
    "schema.select_by_name(CONCEPT_COL)"
   ]
  },
  {
   "cell_type": "code",
   "execution_count": 128,
   "id": "b503a9a4-4181-48fe-b513-b91369f1ed0c",
   "metadata": {},
   "outputs": [],
   "source": [
    "with open(out_path/\"schema.pb\", \"w\") as file:\n",
    "    file.write(schema.to_proto_text())"
   ]
  },
  {
   "cell_type": "markdown",
   "id": "fa33d269-e139-48cf-86de-a147e07c7fd1",
   "metadata": {},
   "source": [
    "# XLNet Config and such"
   ]
  },
  {
   "cell_type": "code",
   "execution_count": 20,
   "id": "61b88e42-06ed-4317-a159-218783b9988d",
   "metadata": {},
   "outputs": [
    {
     "name": "stderr",
     "output_type": "stream",
     "text": [
      "/usr/local/lib/python3.8/dist-packages/tqdm/auto.py:22: TqdmWarning: IProgress not found. Please update jupyter and ipywidgets. See https://ipywidgets.readthedocs.io/en/stable/user_install.html\n",
      "  from .autonotebook import tqdm as notebook_tqdm\n"
     ]
    }
   ],
   "source": [
    "import os\n",
    "\n",
    "#os.environ[\"CUDA_VISIBLE_DEVICES\"]=\"0\"\n",
    "import glob\n",
    "import torch \n",
    "\n",
    "from transformers4rec import torch as tr\n",
    "from transformers4rec.torch.ranking_metric import NDCGAt, AvgPrecisionAt, RecallAt\n",
    "from transformers4rec.torch.utils.examples_utils import wipe_memory\n",
    "from transformers4rec.config.transformer import BertConfig\n",
    "import random as pyrandom"
   ]
  },
  {
   "cell_type": "code",
   "execution_count": 9,
   "id": "53c643da-efec-4e97-936c-51700a87b765",
   "metadata": {},
   "outputs": [
    {
     "data": {
      "text/plain": [
       "[{'name': 'video_id', 'value_count': {'max': '50'}, 'type': 'INT', 'int_domain': {'name': 'video_id', 'max': '185637', 'is_categorical': True}, 'annotation': {'tag': ['list', 'item', 'item_id', 'categorical']}}, {'name': 'seg_rep_count', 'value_count': {'max': '50'}, 'type': 'FLOAT', 'float_domain': {'name': 'seg_rep_count', 'max': 1.0}, 'annotation': {'tag': ['list', 'continuous']}}, {'name': 'concepts', 'shape': {'dim': [{'size': '50'}, {'size': '1'}, {'size': '10'}]}, 'type': 'INT', 'int_domain': {'name': 'concepts', 'max': '171411', 'is_categorical': True}, 'annotation': {'tag': ['list', 'categorical']}}, {'name': 'fields', 'shape': {'dim': [{'size': '50'}, {'size': '1'}, {'size': '10'}]}, 'type': 'INT', 'int_domain': {'name': 'fields', 'max': '74', 'is_categorical': True}, 'annotation': {'tag': ['list', 'categorical']}}]"
      ]
     },
     "execution_count": 9,
     "metadata": {},
     "output_type": "execute_result"
    }
   ],
   "source": [
    "schema = Schema().from_proto_text(out_path / \"schema.pb\")\n",
    "schema"
   ]
  },
  {
   "cell_type": "markdown",
   "id": "c91932e5-36c3-4124-a5bb-c4d59ad2ac59",
   "metadata": {},
   "source": [
    "#### Creating the embedding module"
   ]
  },
  {
   "cell_type": "code",
   "execution_count": 15,
   "id": "3c73b99a-f351-427e-80c6-e733a1f52f93",
   "metadata": {},
   "outputs": [],
   "source": [
    "# Loading the weight matrices\n",
    "emb_path = Path(\"embeddings\")\n",
    "pre_trained_concepts = load_embedding_table(CONCEPT_COL)\n",
    "pre_trained_fields = load_embedding_table(FIELD_COL)\n",
    "if SAVE:\n",
    "    assert pre_trained_concepts.shape == (len(concept_enc2float), TXT_EMBED_DIM), f\"Concept embedding mismatch, actual: {pre_trained_concepts.shape}\"\n",
    "    assert pre_trained_fields.shape == (len(field_enc2float), TXT_EMBED_DIM), f\"Concept embedding mismatch, actual: {pre_trained_fields.shape}\""
   ]
  },
  {
   "cell_type": "code",
   "execution_count": 46,
   "id": "32daa1e3-8fee-49be-b409-4b28f6c3bb64",
   "metadata": {},
   "outputs": [],
   "source": [
    "# Define embedding module parameters\n",
    "TRAINABLE=False\n",
    "INTERACTION_EMB=512\n",
    "seed = 53\n",
    "PRE_TRAINED_COLS = LIST_COLS[:]"
   ]
  },
  {
   "cell_type": "code",
   "execution_count": 47,
   "id": "b6688de9-e8c6-4d9b-a3a9-c2656a95f481",
   "metadata": {},
   "outputs": [],
   "source": [
    "embed_dims = {col: TXT_EMBED_DIM for col in PRE_TRAINED_COLS}\n",
    "embed_init = {\n",
    "    FIELD_COL: tr.PretrainedEmbeddingsInitializer(\n",
    "                pre_trained_fields, trainable=TRAINABLE\n",
    "                ),\n",
    "    CONCEPT_COL: tr.PretrainedEmbeddingsInitializer(\n",
    "                pre_trained_concepts, trainable=TRAINABLE\n",
    "                ),\n",
    "}"
   ]
  },
  {
   "cell_type": "code",
   "execution_count": 65,
   "id": "f15a64b4-1df8-46f7-9add-c18b4f29f91c",
   "metadata": {},
   "outputs": [
    {
     "data": {
      "text/plain": [
       "TabularSequenceFeatures(\n",
       "  (to_merge): ModuleDict(\n",
       "    (continuous_module): ContinuousFeatures(\n",
       "      (filter_features): FilterFeatures()\n",
       "    )\n",
       "    (categorical_module): SequenceEmbeddingFeatures(\n",
       "      (filter_features): FilterFeatures()\n",
       "      (embedding_tables): ModuleDict(\n",
       "        (video_id): Embedding(185638, 64, padding_idx=0)\n",
       "        (concepts): Embedding(171412, 300, padding_idx=0)\n",
       "        (fields): Embedding(75, 300, padding_idx=0)\n",
       "      )\n",
       "    )\n",
       "  )\n",
       "  (_aggregation): ConcatFeatures()\n",
       "  (projection_module): SequentialBlock(\n",
       "    (0): DenseBlock(\n",
       "      (0): Linear(in_features=665, out_features=512, bias=True)\n",
       "      (1): ReLU(inplace=True)\n",
       "    )\n",
       "  )\n",
       "  (_masking): MaskedLanguageModeling()\n",
       ")"
      ]
     },
     "execution_count": 65,
     "metadata": {},
     "output_type": "execute_result"
    }
   ],
   "source": [
    "input_module = tr.TabularSequenceFeatures.from_schema(\n",
    "        schema,\n",
    "        max_sequence_length=MAX_SEQUENCE_LENGTH,\n",
    "        masking=\"mlm\",\n",
    "        d_output=INTERACTION_EMB,\n",
    "        # Categorical embedding kwargs\n",
    "        embedding_dims=embed_dims,\n",
    "        embeddings_initializers=embed_init,\n",
    ")\n",
    "# HARD CODED FOR NOW - Size of all features\n",
    "input_module.projection_module[0][0] = torch.nn.Linear(in_features=64+TXT_EMBED_DIM*2+1, out_features=INTERACTION_EMB)\n",
    "input_module"
   ]
  },
  {
   "cell_type": "code",
   "execution_count": 66,
   "id": "c8f6e5de-f72a-4877-8fed-9edc8b3268df",
   "metadata": {},
   "outputs": [
    {
     "name": "stderr",
     "output_type": "stream",
     "text": [
      "Projecting inputs of NextItemPredictionTask to'64' As weight tying requires the input dimension '512' to be equal to the item-id embedding dimension '64'\n"
     ]
    },
    {
     "data": {
      "text/plain": [
       "Model(\n",
       "  (heads): ModuleList(\n",
       "    (0): Head(\n",
       "      (body): SequentialBlock(\n",
       "        (0): TabularSequenceFeatures(\n",
       "          (to_merge): ModuleDict(\n",
       "            (continuous_module): ContinuousFeatures(\n",
       "              (filter_features): FilterFeatures()\n",
       "            )\n",
       "            (categorical_module): SequenceEmbeddingFeatures(\n",
       "              (filter_features): FilterFeatures()\n",
       "              (embedding_tables): ModuleDict(\n",
       "                (video_id): Embedding(185638, 64, padding_idx=0)\n",
       "                (concepts): Embedding(171412, 300, padding_idx=0)\n",
       "                (fields): Embedding(75, 300, padding_idx=0)\n",
       "              )\n",
       "            )\n",
       "          )\n",
       "          (_aggregation): ConcatFeatures()\n",
       "          (projection_module): SequentialBlock(\n",
       "            (0): DenseBlock(\n",
       "              (0): Linear(in_features=665, out_features=512, bias=True)\n",
       "              (1): ReLU(inplace=True)\n",
       "            )\n",
       "          )\n",
       "          (_masking): MaskedLanguageModeling()\n",
       "        )\n",
       "        (1): TansformerBlock(\n",
       "          (transformer): XLNetModel(\n",
       "            (word_embedding): Embedding(1, 512)\n",
       "            (layer): ModuleList(\n",
       "              (0): XLNetLayer(\n",
       "                (rel_attn): XLNetRelativeAttention(\n",
       "                  (layer_norm): LayerNorm((512,), eps=0.03, elementwise_affine=True)\n",
       "                  (dropout): Dropout(p=0.3, inplace=False)\n",
       "                )\n",
       "                (ff): XLNetFeedForward(\n",
       "                  (layer_norm): LayerNorm((512,), eps=0.03, elementwise_affine=True)\n",
       "                  (layer_1): Linear(in_features=512, out_features=2048, bias=True)\n",
       "                  (layer_2): Linear(in_features=2048, out_features=512, bias=True)\n",
       "                  (dropout): Dropout(p=0.3, inplace=False)\n",
       "                )\n",
       "                (dropout): Dropout(p=0.3, inplace=False)\n",
       "              )\n",
       "              (1): XLNetLayer(\n",
       "                (rel_attn): XLNetRelativeAttention(\n",
       "                  (layer_norm): LayerNorm((512,), eps=0.03, elementwise_affine=True)\n",
       "                  (dropout): Dropout(p=0.3, inplace=False)\n",
       "                )\n",
       "                (ff): XLNetFeedForward(\n",
       "                  (layer_norm): LayerNorm((512,), eps=0.03, elementwise_affine=True)\n",
       "                  (layer_1): Linear(in_features=512, out_features=2048, bias=True)\n",
       "                  (layer_2): Linear(in_features=2048, out_features=512, bias=True)\n",
       "                  (dropout): Dropout(p=0.3, inplace=False)\n",
       "                )\n",
       "                (dropout): Dropout(p=0.3, inplace=False)\n",
       "              )\n",
       "            )\n",
       "            (dropout): Dropout(p=0.3, inplace=False)\n",
       "          )\n",
       "          (masking): MaskedLanguageModeling()\n",
       "        )\n",
       "      )\n",
       "      (prediction_task_dict): ModuleDict(\n",
       "        (next-item): NextItemPredictionTask(\n",
       "          (sequence_summary): SequenceSummary(\n",
       "            (summary): Identity()\n",
       "            (activation): Identity()\n",
       "            (first_dropout): Identity()\n",
       "            (last_dropout): Identity()\n",
       "          )\n",
       "          (metrics): ModuleList(\n",
       "            (0): NDCGAt()\n",
       "            (1): RecallAt()\n",
       "            (2): AvgPrecisionAt()\n",
       "          )\n",
       "          (loss): NLLLoss()\n",
       "          (embeddings): SequenceEmbeddingFeatures(\n",
       "            (filter_features): FilterFeatures()\n",
       "            (embedding_tables): ModuleDict(\n",
       "              (video_id): Embedding(185638, 64, padding_idx=0)\n",
       "              (concepts): Embedding(171412, 300, padding_idx=0)\n",
       "              (fields): Embedding(75, 300, padding_idx=0)\n",
       "            )\n",
       "          )\n",
       "          (item_embedding_table): Embedding(185638, 64, padding_idx=0)\n",
       "          (masking): MaskedLanguageModeling()\n",
       "          (task_block): SequentialBlock(\n",
       "            (0): DenseBlock(\n",
       "              (0): Linear(in_features=512, out_features=64, bias=True)\n",
       "              (1): ReLU(inplace=True)\n",
       "            )\n",
       "          )\n",
       "          (pre): Block(\n",
       "            (module): NextItemPredictionTask(\n",
       "              (item_embedding_table): Embedding(185638, 64, padding_idx=0)\n",
       "              (log_softmax): LogSoftmax(dim=-1)\n",
       "            )\n",
       "          )\n",
       "        )\n",
       "      )\n",
       "    )\n",
       "  )\n",
       ")"
      ]
     },
     "execution_count": 66,
     "metadata": {},
     "output_type": "execute_result"
    }
   ],
   "source": [
    "#Setting all seeds, maybe redundant\n",
    "torch.manual_seed(seed)\n",
    "np.random.default_rng(seed)\n",
    "pyrandom.seed(seed)\n",
    "# Define XLNetConfig class and set default parameters for HF XLNet config  \n",
    "transformer_config = tr.XLNetConfig.build(\n",
    "    d_model=INTERACTION_EMB, n_head=4, n_layer=2, total_seq_length=MAX_SEQUENCE_LENGTH\n",
    ")\n",
    "\n",
    "metrics = [NDCGAt(top_ks=[5, 10], labels_onehot=True),  \n",
    "           RecallAt(top_ks=[5, 10], labels_onehot=True),\n",
    "           AvgPrecisionAt(top_ks=[5, 10], labels_onehot=True)\n",
    "          ]\n",
    "\n",
    "prediction_task = tr.NextItemPredictionTask(\n",
    "    weight_tying=True, metrics=metrics, loss=torch.nn.NLLLoss(ignore_index=0)\n",
    ")\n",
    "model = transformer_config.to_torch_model(input_module, prediction_task)\n",
    "model"
   ]
  },
  {
   "cell_type": "code",
   "execution_count": 24,
   "id": "62c364a2-35a7-48d2-88bd-76f7000fb8e6",
   "metadata": {},
   "outputs": [],
   "source": [
    "from transformers4rec.config.trainer import T4RecTrainingArguments\n",
    "from transformers4rec.torch import Trainer"
   ]
  },
  {
   "cell_type": "code",
   "execution_count": 27,
   "id": "cedcb1fb-6c06-419d-bfaa-cd6897974d9b",
   "metadata": {},
   "outputs": [],
   "source": [
    "model_path = Path(\"./xlnet-concept-embed\")"
   ]
  },
  {
   "cell_type": "code",
   "execution_count": 67,
   "id": "ce249c65-809d-4d16-b0d1-785ddc162a3e",
   "metadata": {},
   "outputs": [
    {
     "name": "stderr",
     "output_type": "stream",
     "text": [
      "PyTorch: setting up devices\n"
     ]
    }
   ],
   "source": [
    "#Setting all seeds, maybe redundant\n",
    "seed = 53\n",
    "torch.manual_seed(seed)\n",
    "np.random.default_rng(seed)\n",
    "pyrandom.seed(seed)\n",
    "\n",
    "# Set hyperparameters for training \n",
    "TRAIN_BATCH_SIZE = 512\n",
    "EVAL_BATCH_SIZE = 512\n",
    "train_args = T4RecTrainingArguments(data_loader_engine='merlin', \n",
    "                                    per_device_train_batch_size = TRAIN_BATCH_SIZE,\n",
    "                                    per_device_eval_batch_size = EVAL_BATCH_SIZE,\n",
    "                                    output_dir = model_path, \n",
    "                                    save_total_limit=5,\n",
    "                                    logging_steps=100,\n",
    "                                    report_to = [],\n",
    "                                    num_train_epochs=2,\n",
    "                                    max_sequence_length=MAX_SEQUENCE_LENGTH, \n",
    "                                    no_cuda=False,\n",
    "                                    seed=seed,\n",
    "                                    #save_strategy=\"steps\",\n",
    "                                    evaluation_strategy=\"steps\",\n",
    "                                    eval_steps=250,\n",
    "                                    save_steps=500,\n",
    "                                    load_best_model_at_end=True,\n",
    "                                    metric_for_best_model=\"/loss\",\n",
    "                                    greater_is_better=False,\n",
    "                                    # Optimizer - Adapted from Keras Adam default params\n",
    "                                    learning_rate=0.001,\n",
    "                                    lr_scheduler_type='cosine', \n",
    "                                    learning_rate_num_cosine_cycles_by_epoch=1.5,\n",
    "                                   )\n",
    "trainer = Trainer(\n",
    "    model=model,\n",
    "    args=train_args,\n",
    "    schema=schema,\n",
    "    compute_metrics=True,\n",
    "    train_dataset_or_path = str(out_path / \"train.parquet\"),\n",
    "    eval_dataset_or_path = str(out_path / \"val.parquet\")\n",
    ")"
   ]
  },
  {
   "cell_type": "code",
   "execution_count": 68,
   "id": "f396424b-6256-43ff-8885-cec342fa3bac",
   "metadata": {},
   "outputs": [
    {
     "name": "stderr",
     "output_type": "stream",
     "text": [
      "***** Running training *****\n",
      "  Num examples = 114176\n",
      "  Num Epochs = 2\n",
      "  Instantaneous batch size per device = 512\n",
      "  Total train batch size (w. parallel, distributed & accumulation) = 512\n",
      "  Gradient Accumulation steps = 1\n",
      "  Total optimization steps = 446\n"
     ]
    },
    {
     "data": {
      "text/html": [
       "\n",
       "    <div>\n",
       "      \n",
       "      <progress value='446' max='446' style='width:300px; height:20px; vertical-align: middle;'></progress>\n",
       "      [446/446 01:34, Epoch 2/2]\n",
       "    </div>\n",
       "    <table border=\"1\" class=\"dataframe\">\n",
       "  <thead>\n",
       "    <tr style=\"text-align: left;\">\n",
       "      <th>Step</th>\n",
       "      <th>Training Loss</th>\n",
       "      <th>Validation Loss</th>\n",
       "      <th>/next-item/ndcg At 5</th>\n",
       "      <th>/next-item/ndcg At 10</th>\n",
       "      <th>/next-item/recall At 5</th>\n",
       "      <th>/next-item/recall At 10</th>\n",
       "      <th>/next-item/avg Precision At 5</th>\n",
       "      <th>/next-item/avg Precision At 10</th>\n",
       "      <th>/loss</th>\n",
       "    </tr>\n",
       "  </thead>\n",
       "  <tbody>\n",
       "    <tr>\n",
       "      <td>250</td>\n",
       "      <td>8.801500</td>\n",
       "      <td>No log</td>\n",
       "      <td>0.019530</td>\n",
       "      <td>0.043930</td>\n",
       "      <td>0.040648</td>\n",
       "      <td>0.116575</td>\n",
       "      <td>0.012821</td>\n",
       "      <td>0.022791</td>\n",
       "      <td>9.191959</td>\n",
       "    </tr>\n",
       "  </tbody>\n",
       "</table><p>"
      ],
      "text/plain": [
       "<IPython.core.display.HTML object>"
      ]
     },
     "metadata": {},
     "output_type": "display_data"
    },
    {
     "name": "stderr",
     "output_type": "stream",
     "text": [
      "\n",
      "\n",
      "Training completed. Do not forget to share your model on huggingface.co/models =)\n",
      "\n",
      "\n"
     ]
    },
    {
     "data": {
      "text/plain": [
       "TrainOutput(global_step=446, training_loss=8.643563309057946, metrics={'train_runtime': 95.0891, 'train_samples_per_second': 0.021, 'train_steps_per_second': 4.69, 'total_flos': 0.0, 'train_loss': 8.643563309057946})"
      ]
     },
     "execution_count": 68,
     "metadata": {},
     "output_type": "execute_result"
    }
   ],
   "source": [
    "trainer.train()"
   ]
  },
  {
   "cell_type": "code",
   "execution_count": 45,
   "id": "f81fc459-8349-494b-8f3a-922a25542274",
   "metadata": {},
   "outputs": [
    {
     "data": {
      "text/plain": [
       "{'eval_/next-item/ndcg_at_5': 0.7819878458976746,\n",
       " 'eval_/next-item/ndcg_at_10': 0.7975867390632629,\n",
       " 'eval_/next-item/recall_at_5': 0.8756811022758484,\n",
       " 'eval_/next-item/recall_at_10': 0.9234866499900818,\n",
       " 'eval_/next-item/avg_precision_at_5': 0.750555694103241,\n",
       " 'eval_/next-item/avg_precision_at_10': 0.7570745944976807,\n",
       " 'eval_/loss': 1.5988435745239258}"
      ]
     },
     "execution_count": 45,
     "metadata": {},
     "output_type": "execute_result"
    }
   ],
   "source": [
    "trainer.eval_dataset_or_path = str(out_path / \"train.parquet\")\n",
    "trainer.evaluate()"
   ]
  }
 ],
 "metadata": {
  "kernelspec": {
   "display_name": "Python 3 (ipykernel)",
   "language": "python",
   "name": "python3"
  },
  "language_info": {
   "codemirror_mode": {
    "name": "ipython",
    "version": 3
   },
   "file_extension": ".py",
   "mimetype": "text/x-python",
   "name": "python",
   "nbconvert_exporter": "python",
   "pygments_lexer": "ipython3",
   "version": "3.8.10"
  }
 },
 "nbformat": 4,
 "nbformat_minor": 5
}
