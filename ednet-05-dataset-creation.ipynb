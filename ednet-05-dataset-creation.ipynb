{
 "cells": [
  {
   "cell_type": "markdown",
   "id": "3512ccfd-7861-4c3b-92a0-8fcad861fd5e",
   "metadata": {},
   "source": [
    "# EdNet 05 - Dataset creation\n",
    "1. Remove cold users\n",
    "2. Slice\n",
    "3. Encoding tables\n",
    "4. Split datasets\n",
    "5. Feature scale test and validation based on training scales \n",
    "6. Listify"
   ]
  },
  {
   "cell_type": "code",
   "execution_count": 1,
   "id": "3d3338bd-2a15-4961-b24d-8d7436080b5b",
   "metadata": {
    "tags": []
   },
   "outputs": [],
   "source": [
    "import pandas as pd\n",
    "import numpy as np\n",
    "from pathlib import Path\n",
    "import dask.dataframe as dd\n",
    "# from multiprocesspandas import applyparallel\n",
    "from tqdm import tqdm\n",
    "tqdm.pandas()\n",
    "import os"
   ]
  },
  {
   "cell_type": "code",
   "execution_count": 2,
   "id": "f8dc87a9-0dfc-423b-a7c1-05070b032d9e",
   "metadata": {
    "tags": []
   },
   "outputs": [],
   "source": [
    "if (cpu_count:= int(os.environ.get(\"SLURM_JOB_CPUS_PER_NODE\"))) > 1:\n",
    "    print(f\"{cpu_count} cores are available -> Using multiprocesspandas\")\n",
    "    apply_fn = \"apply_parallel\"\n",
    "else:\n",
    "    apply_fn = \"progress_apply\"\n",
    "\n",
    "get_apply_op = lambda df: getattr(df, apply_fn)\n"
   ]
  },
  {
   "cell_type": "code",
   "execution_count": 3,
   "id": "8b54679a-0104-41c6-ab0c-674319d69d57",
   "metadata": {
    "tags": []
   },
   "outputs": [],
   "source": [
    "ednet_path = Path(\"../EdNet\")"
   ]
  },
  {
   "cell_type": "code",
   "execution_count": 4,
   "id": "8d479e3a-8eed-4ba5-84ed-5e32466d0b31",
   "metadata": {
    "tags": []
   },
   "outputs": [],
   "source": [
    "ITEM_COL = \"item_id\"\n",
    "USER_COL = \"user_id\"\n",
    "TIME_COL = \"timestamp\"\n",
    "SESSION_COL = \"session_id\"\n",
    "CONSECUTIVE_COL = \"item_consecutive_id\""
   ]
  },
  {
   "cell_type": "code",
   "execution_count": 5,
   "id": "776ba589-37fa-4409-92eb-03840fa64dd2",
   "metadata": {
    "tags": []
   },
   "outputs": [
    {
     "name": "stdout",
     "output_type": "stream",
     "text": [
      "CPU times: user 491 ms, sys: 93.8 ms, total: 584 ms\n",
      "Wall time: 632 ms\n"
     ]
    }
   ],
   "source": [
    "%%time\n",
    "interactions = dd.read_parquet(ednet_path / \"KT4_session_features_fix\").drop(columns=[\"back_gap\", \"forward_gap\", \"user_answer\", \"action_type\", \"cursor_time\", \"source\", \"platform\", \"length\"]).compute()"
   ]
  },
  {
   "cell_type": "code",
   "execution_count": 6,
   "id": "ff2bd399-c3a9-4471-a630-746e87ac6322",
   "metadata": {
    "tags": []
   },
   "outputs": [
    {
     "data": {
      "text/html": [
       "<div>\n",
       "<style scoped>\n",
       "    .dataframe tbody tr th:only-of-type {\n",
       "        vertical-align: middle;\n",
       "    }\n",
       "\n",
       "    .dataframe tbody tr th {\n",
       "        vertical-align: top;\n",
       "    }\n",
       "\n",
       "    .dataframe thead th {\n",
       "        text-align: right;\n",
       "    }\n",
       "</style>\n",
       "<table border=\"1\" class=\"dataframe\">\n",
       "  <thead>\n",
       "    <tr style=\"text-align: right;\">\n",
       "      <th></th>\n",
       "      <th></th>\n",
       "      <th></th>\n",
       "      <th>time_spent</th>\n",
       "      <th>num_forward</th>\n",
       "      <th>num_backward</th>\n",
       "      <th>num_pause</th>\n",
       "      <th>median_pause</th>\n",
       "      <th>seg_rep_0</th>\n",
       "      <th>seg_rep_1</th>\n",
       "      <th>seg_rep_2</th>\n",
       "      <th>seg_rep_3</th>\n",
       "      <th>seg_rep_4</th>\n",
       "      <th>...</th>\n",
       "      <th>seg_rep_30</th>\n",
       "      <th>seg_rep_45</th>\n",
       "      <th>seg_rep_60</th>\n",
       "      <th>time_comp</th>\n",
       "      <th>time_played</th>\n",
       "      <th>replay_length</th>\n",
       "      <th>skipped_length</th>\n",
       "      <th>tags</th>\n",
       "      <th>item_id</th>\n",
       "      <th>timestamp</th>\n",
       "    </tr>\n",
       "    <tr>\n",
       "      <th>user_id</th>\n",
       "      <th>item_consecutive_id</th>\n",
       "      <th>session_id</th>\n",
       "      <th></th>\n",
       "      <th></th>\n",
       "      <th></th>\n",
       "      <th></th>\n",
       "      <th></th>\n",
       "      <th></th>\n",
       "      <th></th>\n",
       "      <th></th>\n",
       "      <th></th>\n",
       "      <th></th>\n",
       "      <th></th>\n",
       "      <th></th>\n",
       "      <th></th>\n",
       "      <th></th>\n",
       "      <th></th>\n",
       "      <th></th>\n",
       "      <th></th>\n",
       "      <th></th>\n",
       "      <th></th>\n",
       "      <th></th>\n",
       "      <th></th>\n",
       "    </tr>\n",
       "  </thead>\n",
       "  <tbody>\n",
       "    <tr>\n",
       "      <th rowspan=\"5\" valign=\"top\">1</th>\n",
       "      <th>1</th>\n",
       "      <th>0</th>\n",
       "      <td>369.981</td>\n",
       "      <td>1</td>\n",
       "      <td>0</td>\n",
       "      <td>1</td>\n",
       "      <td>1.7</td>\n",
       "      <td>0.0</td>\n",
       "      <td>0.0</td>\n",
       "      <td>0.0</td>\n",
       "      <td>0.0</td>\n",
       "      <td>0.0</td>\n",
       "      <td>...</td>\n",
       "      <td>0.0</td>\n",
       "      <td>0.0</td>\n",
       "      <td>0.0</td>\n",
       "      <td>357.911</td>\n",
       "      <td>357.911</td>\n",
       "      <td>0.000</td>\n",
       "      <td>0.187</td>\n",
       "      <td>103</td>\n",
       "      <td>l504</td>\n",
       "      <td>1565096637922</td>\n",
       "    </tr>\n",
       "    <tr>\n",
       "      <th>2</th>\n",
       "      <th>0</th>\n",
       "      <td>338.240</td>\n",
       "      <td>0</td>\n",
       "      <td>0</td>\n",
       "      <td>1</td>\n",
       "      <td>72.0</td>\n",
       "      <td>0.0</td>\n",
       "      <td>0.0</td>\n",
       "      <td>0.0</td>\n",
       "      <td>0.0</td>\n",
       "      <td>0.0</td>\n",
       "      <td>...</td>\n",
       "      <td>0.0</td>\n",
       "      <td>0.0</td>\n",
       "      <td>0.0</td>\n",
       "      <td>260.249</td>\n",
       "      <td>260.249</td>\n",
       "      <td>0.000</td>\n",
       "      <td>0.000</td>\n",
       "      <td>52</td>\n",
       "      <td>l464</td>\n",
       "      <td>1568120237376</td>\n",
       "    </tr>\n",
       "    <tr>\n",
       "      <th>3</th>\n",
       "      <th>0</th>\n",
       "      <td>309.277</td>\n",
       "      <td>1</td>\n",
       "      <td>0</td>\n",
       "      <td>1</td>\n",
       "      <td>2.6</td>\n",
       "      <td>0.0</td>\n",
       "      <td>0.0</td>\n",
       "      <td>0.0</td>\n",
       "      <td>0.0</td>\n",
       "      <td>0.0</td>\n",
       "      <td>...</td>\n",
       "      <td>0.0</td>\n",
       "      <td>0.0</td>\n",
       "      <td>0.0</td>\n",
       "      <td>204.026</td>\n",
       "      <td>204.026</td>\n",
       "      <td>0.000</td>\n",
       "      <td>0.905</td>\n",
       "      <td>53</td>\n",
       "      <td>l463</td>\n",
       "      <td>1568120575929</td>\n",
       "    </tr>\n",
       "    <tr>\n",
       "      <th>4</th>\n",
       "      <th>0</th>\n",
       "      <td>371.762</td>\n",
       "      <td>0</td>\n",
       "      <td>0</td>\n",
       "      <td>1</td>\n",
       "      <td>31.1</td>\n",
       "      <td>0.0</td>\n",
       "      <td>0.0</td>\n",
       "      <td>0.0</td>\n",
       "      <td>0.0</td>\n",
       "      <td>0.0</td>\n",
       "      <td>...</td>\n",
       "      <td>0.0</td>\n",
       "      <td>0.0</td>\n",
       "      <td>0.0</td>\n",
       "      <td>334.948</td>\n",
       "      <td>334.948</td>\n",
       "      <td>0.000</td>\n",
       "      <td>0.000</td>\n",
       "      <td>55</td>\n",
       "      <td>l462</td>\n",
       "      <td>1568120885352</td>\n",
       "    </tr>\n",
       "    <tr>\n",
       "      <th>5</th>\n",
       "      <th>0</th>\n",
       "      <td>369.912</td>\n",
       "      <td>0</td>\n",
       "      <td>0</td>\n",
       "      <td>1</td>\n",
       "      <td>159.0</td>\n",
       "      <td>0.0</td>\n",
       "      <td>0.0</td>\n",
       "      <td>0.0</td>\n",
       "      <td>0.0</td>\n",
       "      <td>0.0</td>\n",
       "      <td>...</td>\n",
       "      <td>0.0</td>\n",
       "      <td>0.0</td>\n",
       "      <td>0.0</td>\n",
       "      <td>205.357</td>\n",
       "      <td>205.357</td>\n",
       "      <td>0.000</td>\n",
       "      <td>0.000</td>\n",
       "      <td>0</td>\n",
       "      <td>l316</td>\n",
       "      <td>1568121279019</td>\n",
       "    </tr>\n",
       "    <tr>\n",
       "      <th>...</th>\n",
       "      <th>...</th>\n",
       "      <th>...</th>\n",
       "      <td>...</td>\n",
       "      <td>...</td>\n",
       "      <td>...</td>\n",
       "      <td>...</td>\n",
       "      <td>...</td>\n",
       "      <td>...</td>\n",
       "      <td>...</td>\n",
       "      <td>...</td>\n",
       "      <td>...</td>\n",
       "      <td>...</td>\n",
       "      <td>...</td>\n",
       "      <td>...</td>\n",
       "      <td>...</td>\n",
       "      <td>...</td>\n",
       "      <td>...</td>\n",
       "      <td>...</td>\n",
       "      <td>...</td>\n",
       "      <td>...</td>\n",
       "      <td>...</td>\n",
       "      <td>...</td>\n",
       "      <td>...</td>\n",
       "    </tr>\n",
       "    <tr>\n",
       "      <th>832028</th>\n",
       "      <th>3</th>\n",
       "      <th>0</th>\n",
       "      <td>342.948</td>\n",
       "      <td>1</td>\n",
       "      <td>0</td>\n",
       "      <td>2</td>\n",
       "      <td>18.4</td>\n",
       "      <td>0.0</td>\n",
       "      <td>0.0</td>\n",
       "      <td>0.0</td>\n",
       "      <td>0.0</td>\n",
       "      <td>0.0</td>\n",
       "      <td>...</td>\n",
       "      <td>0.0</td>\n",
       "      <td>0.0</td>\n",
       "      <td>0.0</td>\n",
       "      <td>292.763</td>\n",
       "      <td>292.763</td>\n",
       "      <td>0.000</td>\n",
       "      <td>0.326</td>\n",
       "      <td>111</td>\n",
       "      <td>l536</td>\n",
       "      <td>1574766579325</td>\n",
       "    </tr>\n",
       "    <tr>\n",
       "      <th>832056</th>\n",
       "      <th>1</th>\n",
       "      <th>0</th>\n",
       "      <td>233.981</td>\n",
       "      <td>0</td>\n",
       "      <td>0</td>\n",
       "      <td>1</td>\n",
       "      <td>17.4</td>\n",
       "      <td>0.0</td>\n",
       "      <td>0.0</td>\n",
       "      <td>0.0</td>\n",
       "      <td>0.0</td>\n",
       "      <td>0.0</td>\n",
       "      <td>...</td>\n",
       "      <td>0.0</td>\n",
       "      <td>0.0</td>\n",
       "      <td>0.0</td>\n",
       "      <td>207.474</td>\n",
       "      <td>207.474</td>\n",
       "      <td>0.000</td>\n",
       "      <td>0.000</td>\n",
       "      <td>33</td>\n",
       "      <td>l447</td>\n",
       "      <td>1574801905337</td>\n",
       "    </tr>\n",
       "    <tr>\n",
       "      <th>832072</th>\n",
       "      <th>1</th>\n",
       "      <th>0</th>\n",
       "      <td>18.340</td>\n",
       "      <td>3</td>\n",
       "      <td>1</td>\n",
       "      <td>1</td>\n",
       "      <td>1.4</td>\n",
       "      <td>0.0</td>\n",
       "      <td>0.0</td>\n",
       "      <td>0.0</td>\n",
       "      <td>0.0</td>\n",
       "      <td>0.0</td>\n",
       "      <td>...</td>\n",
       "      <td>0.0</td>\n",
       "      <td>0.0</td>\n",
       "      <td>0.0</td>\n",
       "      <td>5.091</td>\n",
       "      <td>5.091</td>\n",
       "      <td>0.000</td>\n",
       "      <td>0.230</td>\n",
       "      <td>102</td>\n",
       "      <td>l553</td>\n",
       "      <td>1574771559317</td>\n",
       "    </tr>\n",
       "    <tr>\n",
       "      <th>832396</th>\n",
       "      <th>1</th>\n",
       "      <th>0</th>\n",
       "      <td>219.064</td>\n",
       "      <td>0</td>\n",
       "      <td>1</td>\n",
       "      <td>1</td>\n",
       "      <td>17.9</td>\n",
       "      <td>1.0</td>\n",
       "      <td>0.0</td>\n",
       "      <td>0.0</td>\n",
       "      <td>0.0</td>\n",
       "      <td>0.0</td>\n",
       "      <td>...</td>\n",
       "      <td>0.0</td>\n",
       "      <td>0.0</td>\n",
       "      <td>0.0</td>\n",
       "      <td>174.748</td>\n",
       "      <td>174.816</td>\n",
       "      <td>0.068</td>\n",
       "      <td>0.000</td>\n",
       "      <td>79</td>\n",
       "      <td>l546</td>\n",
       "      <td>1574760296296</td>\n",
       "    </tr>\n",
       "    <tr>\n",
       "      <th>832452</th>\n",
       "      <th>1</th>\n",
       "      <th>0</th>\n",
       "      <td>146.428</td>\n",
       "      <td>0</td>\n",
       "      <td>0</td>\n",
       "      <td>1</td>\n",
       "      <td>5.3</td>\n",
       "      <td>0.0</td>\n",
       "      <td>0.0</td>\n",
       "      <td>0.0</td>\n",
       "      <td>0.0</td>\n",
       "      <td>0.0</td>\n",
       "      <td>...</td>\n",
       "      <td>0.0</td>\n",
       "      <td>0.0</td>\n",
       "      <td>0.0</td>\n",
       "      <td>134.038</td>\n",
       "      <td>134.038</td>\n",
       "      <td>0.000</td>\n",
       "      <td>0.000</td>\n",
       "      <td>0</td>\n",
       "      <td>l357</td>\n",
       "      <td>1574846959021</td>\n",
       "    </tr>\n",
       "  </tbody>\n",
       "</table>\n",
       "<p>538649 rows × 25 columns</p>\n",
       "</div>"
      ],
      "text/plain": [
       "                                        time_spent  num_forward  num_backward  \\\n",
       "user_id item_consecutive_id session_id                                          \n",
       "1       1                   0              369.981            1             0   \n",
       "        2                   0              338.240            0             0   \n",
       "        3                   0              309.277            1             0   \n",
       "        4                   0              371.762            0             0   \n",
       "        5                   0              369.912            0             0   \n",
       "...                                            ...          ...           ...   \n",
       "832028  3                   0              342.948            1             0   \n",
       "832056  1                   0              233.981            0             0   \n",
       "832072  1                   0               18.340            3             1   \n",
       "832396  1                   0              219.064            0             1   \n",
       "832452  1                   0              146.428            0             0   \n",
       "\n",
       "                                        num_pause  median_pause  seg_rep_0  \\\n",
       "user_id item_consecutive_id session_id                                       \n",
       "1       1                   0                   1           1.7        0.0   \n",
       "        2                   0                   1          72.0        0.0   \n",
       "        3                   0                   1           2.6        0.0   \n",
       "        4                   0                   1          31.1        0.0   \n",
       "        5                   0                   1         159.0        0.0   \n",
       "...                                           ...           ...        ...   \n",
       "832028  3                   0                   2          18.4        0.0   \n",
       "832056  1                   0                   1          17.4        0.0   \n",
       "832072  1                   0                   1           1.4        0.0   \n",
       "832396  1                   0                   1          17.9        1.0   \n",
       "832452  1                   0                   1           5.3        0.0   \n",
       "\n",
       "                                        seg_rep_1  seg_rep_2  seg_rep_3  \\\n",
       "user_id item_consecutive_id session_id                                    \n",
       "1       1                   0                 0.0        0.0        0.0   \n",
       "        2                   0                 0.0        0.0        0.0   \n",
       "        3                   0                 0.0        0.0        0.0   \n",
       "        4                   0                 0.0        0.0        0.0   \n",
       "        5                   0                 0.0        0.0        0.0   \n",
       "...                                           ...        ...        ...   \n",
       "832028  3                   0                 0.0        0.0        0.0   \n",
       "832056  1                   0                 0.0        0.0        0.0   \n",
       "832072  1                   0                 0.0        0.0        0.0   \n",
       "832396  1                   0                 0.0        0.0        0.0   \n",
       "832452  1                   0                 0.0        0.0        0.0   \n",
       "\n",
       "                                        seg_rep_4  ...  seg_rep_30  \\\n",
       "user_id item_consecutive_id session_id             ...               \n",
       "1       1                   0                 0.0  ...         0.0   \n",
       "        2                   0                 0.0  ...         0.0   \n",
       "        3                   0                 0.0  ...         0.0   \n",
       "        4                   0                 0.0  ...         0.0   \n",
       "        5                   0                 0.0  ...         0.0   \n",
       "...                                           ...  ...         ...   \n",
       "832028  3                   0                 0.0  ...         0.0   \n",
       "832056  1                   0                 0.0  ...         0.0   \n",
       "832072  1                   0                 0.0  ...         0.0   \n",
       "832396  1                   0                 0.0  ...         0.0   \n",
       "832452  1                   0                 0.0  ...         0.0   \n",
       "\n",
       "                                        seg_rep_45  seg_rep_60  time_comp  \\\n",
       "user_id item_consecutive_id session_id                                      \n",
       "1       1                   0                  0.0         0.0    357.911   \n",
       "        2                   0                  0.0         0.0    260.249   \n",
       "        3                   0                  0.0         0.0    204.026   \n",
       "        4                   0                  0.0         0.0    334.948   \n",
       "        5                   0                  0.0         0.0    205.357   \n",
       "...                                            ...         ...        ...   \n",
       "832028  3                   0                  0.0         0.0    292.763   \n",
       "832056  1                   0                  0.0         0.0    207.474   \n",
       "832072  1                   0                  0.0         0.0      5.091   \n",
       "832396  1                   0                  0.0         0.0    174.748   \n",
       "832452  1                   0                  0.0         0.0    134.038   \n",
       "\n",
       "                                        time_played  replay_length  \\\n",
       "user_id item_consecutive_id session_id                               \n",
       "1       1                   0               357.911          0.000   \n",
       "        2                   0               260.249          0.000   \n",
       "        3                   0               204.026          0.000   \n",
       "        4                   0               334.948          0.000   \n",
       "        5                   0               205.357          0.000   \n",
       "...                                             ...            ...   \n",
       "832028  3                   0               292.763          0.000   \n",
       "832056  1                   0               207.474          0.000   \n",
       "832072  1                   0                 5.091          0.000   \n",
       "832396  1                   0               174.816          0.068   \n",
       "832452  1                   0               134.038          0.000   \n",
       "\n",
       "                                        skipped_length  tags  item_id  \\\n",
       "user_id item_consecutive_id session_id                                  \n",
       "1       1                   0                    0.187   103     l504   \n",
       "        2                   0                    0.000    52     l464   \n",
       "        3                   0                    0.905    53     l463   \n",
       "        4                   0                    0.000    55     l462   \n",
       "        5                   0                    0.000     0     l316   \n",
       "...                                                ...   ...      ...   \n",
       "832028  3                   0                    0.326   111     l536   \n",
       "832056  1                   0                    0.000    33     l447   \n",
       "832072  1                   0                    0.230   102     l553   \n",
       "832396  1                   0                    0.000    79     l546   \n",
       "832452  1                   0                    0.000     0     l357   \n",
       "\n",
       "                                            timestamp  \n",
       "user_id item_consecutive_id session_id                 \n",
       "1       1                   0           1565096637922  \n",
       "        2                   0           1568120237376  \n",
       "        3                   0           1568120575929  \n",
       "        4                   0           1568120885352  \n",
       "        5                   0           1568121279019  \n",
       "...                                               ...  \n",
       "832028  3                   0           1574766579325  \n",
       "832056  1                   0           1574801905337  \n",
       "832072  1                   0           1574771559317  \n",
       "832396  1                   0           1574760296296  \n",
       "832452  1                   0           1574846959021  \n",
       "\n",
       "[538649 rows x 25 columns]"
      ]
     },
     "execution_count": 6,
     "metadata": {},
     "output_type": "execute_result"
    }
   ],
   "source": [
    "VIDEO_NORM_FEATS = [\"replay_length\", \"time_played\", \"time_comp\", \"skipped_length\", \"time_spent\"]\n",
    "interactions[\"median_pause\"] = interactions[\"median_pause\"].dt.total_seconds().fillna(0)\n",
    "interactions[VIDEO_NORM_FEATS] = interactions[VIDEO_NORM_FEATS] / 1e3\n",
    "# Rename seg rep columns\n",
    "SEG_REP_FEATURES = interactions.filter(regex=\"seg_rep_.*\").columns.tolist()\n",
    "renamed_seg_feats = [f\"seg_rep_{int(int(name.split('_')[-1])/1e3)}\" for name in SEG_REP_FEATURES]\n",
    "interactions = interactions.rename(columns=dict(zip(SEG_REP_FEATURES, renamed_seg_feats)))\n",
    "interactions"
   ]
  },
  {
   "cell_type": "code",
   "execution_count": 7,
   "id": "fde11f9c-3673-425b-ae00-594c0864933b",
   "metadata": {
    "tags": []
   },
   "outputs": [
    {
     "data": {
      "text/plain": [
       "count    5.386490e+05\n",
       "mean     3.877606e+02\n",
       "std      3.483124e+04\n",
       "min      0.000000e+00\n",
       "25%      5.000000e-01\n",
       "50%      2.500000e+00\n",
       "75%      8.800000e+00\n",
       "max      1.004903e+07\n",
       "Name: median_pause, dtype: float64"
      ]
     },
     "execution_count": 7,
     "metadata": {},
     "output_type": "execute_result"
    }
   ],
   "source": [
    "interactions[\"median_pause\"].describe()"
   ]
  },
  {
   "cell_type": "code",
   "execution_count": 25,
   "id": "bc4b304a-8b96-4a3a-aa67-5143afd0f6f1",
   "metadata": {
    "tags": []
   },
   "outputs": [
    {
     "data": {
      "text/plain": [
       "(538649, 42826, 971)"
      ]
     },
     "execution_count": 25,
     "metadata": {},
     "output_type": "execute_result"
    }
   ],
   "source": [
    "interactions.shape[0], interactions.index.get_level_values(USER_COL).nunique(), interactions[ITEM_COL].nunique()"
   ]
  },
  {
   "cell_type": "markdown",
   "id": "fe80668b-b33d-477b-a1b2-5d793a41e305",
   "metadata": {},
   "source": [
    "# Dataset creation"
   ]
  },
  {
   "cell_type": "markdown",
   "id": "42d6a607-7ec4-442d-8f4b-e91576e9ec27",
   "metadata": {},
   "source": [
    "### Remove cold users"
   ]
  },
  {
   "cell_type": "code",
   "execution_count": 27,
   "id": "03a5af80-ba9d-451d-b02a-51bb1b739662",
   "metadata": {
    "tags": []
   },
   "outputs": [
    {
     "data": {
      "text/plain": [
       "user_id\n",
       "1          25\n",
       "4          17\n",
       "5           9\n",
       "7         103\n",
       "9           8\n",
       "         ... \n",
       "830559     10\n",
       "830677      5\n",
       "831416     19\n",
       "831612     10\n",
       "831764     15\n",
       "Length: 18194, dtype: int64"
      ]
     },
     "execution_count": 27,
     "metadata": {},
     "output_type": "execute_result"
    }
   ],
   "source": [
    "user_session_count = interactions.groupby(USER_COL).size()\n",
    "warm_thresh = 5\n",
    "warm_users = user_session_count[user_session_count >= warm_thresh]\n",
    "warm_users"
   ]
  },
  {
   "cell_type": "code",
   "execution_count": 28,
   "id": "30149589-e56b-4548-b50e-e00d5c32a22f",
   "metadata": {
    "tags": []
   },
   "outputs": [
    {
     "data": {
      "text/html": [
       "<div>\n",
       "<style scoped>\n",
       "    .dataframe tbody tr th:only-of-type {\n",
       "        vertical-align: middle;\n",
       "    }\n",
       "\n",
       "    .dataframe tbody tr th {\n",
       "        vertical-align: top;\n",
       "    }\n",
       "\n",
       "    .dataframe thead th {\n",
       "        text-align: right;\n",
       "    }\n",
       "</style>\n",
       "<table border=\"1\" class=\"dataframe\">\n",
       "  <thead>\n",
       "    <tr style=\"text-align: right;\">\n",
       "      <th></th>\n",
       "      <th></th>\n",
       "      <th></th>\n",
       "      <th>time_spent</th>\n",
       "      <th>num_forward</th>\n",
       "      <th>num_backward</th>\n",
       "      <th>num_pause</th>\n",
       "      <th>median_pause</th>\n",
       "      <th>seg_rep_0</th>\n",
       "      <th>seg_rep_1</th>\n",
       "      <th>seg_rep_2</th>\n",
       "      <th>seg_rep_3</th>\n",
       "      <th>seg_rep_4</th>\n",
       "      <th>...</th>\n",
       "      <th>seg_rep_30</th>\n",
       "      <th>seg_rep_45</th>\n",
       "      <th>seg_rep_60</th>\n",
       "      <th>time_comp</th>\n",
       "      <th>time_played</th>\n",
       "      <th>replay_length</th>\n",
       "      <th>skipped_length</th>\n",
       "      <th>tags</th>\n",
       "      <th>item_id</th>\n",
       "      <th>timestamp</th>\n",
       "    </tr>\n",
       "    <tr>\n",
       "      <th>user_id</th>\n",
       "      <th>item_consecutive_id</th>\n",
       "      <th>session_id</th>\n",
       "      <th></th>\n",
       "      <th></th>\n",
       "      <th></th>\n",
       "      <th></th>\n",
       "      <th></th>\n",
       "      <th></th>\n",
       "      <th></th>\n",
       "      <th></th>\n",
       "      <th></th>\n",
       "      <th></th>\n",
       "      <th></th>\n",
       "      <th></th>\n",
       "      <th></th>\n",
       "      <th></th>\n",
       "      <th></th>\n",
       "      <th></th>\n",
       "      <th></th>\n",
       "      <th></th>\n",
       "      <th></th>\n",
       "      <th></th>\n",
       "      <th></th>\n",
       "    </tr>\n",
       "  </thead>\n",
       "  <tbody>\n",
       "    <tr>\n",
       "      <th rowspan=\"5\" valign=\"top\">1</th>\n",
       "      <th>1</th>\n",
       "      <th>0</th>\n",
       "      <td>369.981</td>\n",
       "      <td>1</td>\n",
       "      <td>0</td>\n",
       "      <td>1</td>\n",
       "      <td>1.7</td>\n",
       "      <td>0.0</td>\n",
       "      <td>0.0</td>\n",
       "      <td>0.0</td>\n",
       "      <td>0.0</td>\n",
       "      <td>0.0</td>\n",
       "      <td>...</td>\n",
       "      <td>0.0</td>\n",
       "      <td>0.0</td>\n",
       "      <td>0.0</td>\n",
       "      <td>357.911</td>\n",
       "      <td>357.911</td>\n",
       "      <td>0.000</td>\n",
       "      <td>0.187</td>\n",
       "      <td>103</td>\n",
       "      <td>l504</td>\n",
       "      <td>1565096637922</td>\n",
       "    </tr>\n",
       "    <tr>\n",
       "      <th>2</th>\n",
       "      <th>0</th>\n",
       "      <td>338.240</td>\n",
       "      <td>0</td>\n",
       "      <td>0</td>\n",
       "      <td>1</td>\n",
       "      <td>72.0</td>\n",
       "      <td>0.0</td>\n",
       "      <td>0.0</td>\n",
       "      <td>0.0</td>\n",
       "      <td>0.0</td>\n",
       "      <td>0.0</td>\n",
       "      <td>...</td>\n",
       "      <td>0.0</td>\n",
       "      <td>0.0</td>\n",
       "      <td>0.0</td>\n",
       "      <td>260.249</td>\n",
       "      <td>260.249</td>\n",
       "      <td>0.000</td>\n",
       "      <td>0.000</td>\n",
       "      <td>52</td>\n",
       "      <td>l464</td>\n",
       "      <td>1568120237376</td>\n",
       "    </tr>\n",
       "    <tr>\n",
       "      <th>3</th>\n",
       "      <th>0</th>\n",
       "      <td>309.277</td>\n",
       "      <td>1</td>\n",
       "      <td>0</td>\n",
       "      <td>1</td>\n",
       "      <td>2.6</td>\n",
       "      <td>0.0</td>\n",
       "      <td>0.0</td>\n",
       "      <td>0.0</td>\n",
       "      <td>0.0</td>\n",
       "      <td>0.0</td>\n",
       "      <td>...</td>\n",
       "      <td>0.0</td>\n",
       "      <td>0.0</td>\n",
       "      <td>0.0</td>\n",
       "      <td>204.026</td>\n",
       "      <td>204.026</td>\n",
       "      <td>0.000</td>\n",
       "      <td>0.905</td>\n",
       "      <td>53</td>\n",
       "      <td>l463</td>\n",
       "      <td>1568120575929</td>\n",
       "    </tr>\n",
       "    <tr>\n",
       "      <th>4</th>\n",
       "      <th>0</th>\n",
       "      <td>371.762</td>\n",
       "      <td>0</td>\n",
       "      <td>0</td>\n",
       "      <td>1</td>\n",
       "      <td>31.1</td>\n",
       "      <td>0.0</td>\n",
       "      <td>0.0</td>\n",
       "      <td>0.0</td>\n",
       "      <td>0.0</td>\n",
       "      <td>0.0</td>\n",
       "      <td>...</td>\n",
       "      <td>0.0</td>\n",
       "      <td>0.0</td>\n",
       "      <td>0.0</td>\n",
       "      <td>334.948</td>\n",
       "      <td>334.948</td>\n",
       "      <td>0.000</td>\n",
       "      <td>0.000</td>\n",
       "      <td>55</td>\n",
       "      <td>l462</td>\n",
       "      <td>1568120885352</td>\n",
       "    </tr>\n",
       "    <tr>\n",
       "      <th>5</th>\n",
       "      <th>0</th>\n",
       "      <td>369.912</td>\n",
       "      <td>0</td>\n",
       "      <td>0</td>\n",
       "      <td>1</td>\n",
       "      <td>159.0</td>\n",
       "      <td>0.0</td>\n",
       "      <td>0.0</td>\n",
       "      <td>0.0</td>\n",
       "      <td>0.0</td>\n",
       "      <td>0.0</td>\n",
       "      <td>...</td>\n",
       "      <td>0.0</td>\n",
       "      <td>0.0</td>\n",
       "      <td>0.0</td>\n",
       "      <td>205.357</td>\n",
       "      <td>205.357</td>\n",
       "      <td>0.000</td>\n",
       "      <td>0.000</td>\n",
       "      <td>0</td>\n",
       "      <td>l316</td>\n",
       "      <td>1568121279019</td>\n",
       "    </tr>\n",
       "    <tr>\n",
       "      <th>...</th>\n",
       "      <th>...</th>\n",
       "      <th>...</th>\n",
       "      <td>...</td>\n",
       "      <td>...</td>\n",
       "      <td>...</td>\n",
       "      <td>...</td>\n",
       "      <td>...</td>\n",
       "      <td>...</td>\n",
       "      <td>...</td>\n",
       "      <td>...</td>\n",
       "      <td>...</td>\n",
       "      <td>...</td>\n",
       "      <td>...</td>\n",
       "      <td>...</td>\n",
       "      <td>...</td>\n",
       "      <td>...</td>\n",
       "      <td>...</td>\n",
       "      <td>...</td>\n",
       "      <td>...</td>\n",
       "      <td>...</td>\n",
       "      <td>...</td>\n",
       "      <td>...</td>\n",
       "      <td>...</td>\n",
       "    </tr>\n",
       "    <tr>\n",
       "      <th rowspan=\"5\" valign=\"top\">831764</th>\n",
       "      <th>10</th>\n",
       "      <th>0</th>\n",
       "      <td>389.067</td>\n",
       "      <td>0</td>\n",
       "      <td>2</td>\n",
       "      <td>2</td>\n",
       "      <td>2.9</td>\n",
       "      <td>1.0</td>\n",
       "      <td>1.0</td>\n",
       "      <td>1.0</td>\n",
       "      <td>1.0</td>\n",
       "      <td>1.0</td>\n",
       "      <td>...</td>\n",
       "      <td>0.0</td>\n",
       "      <td>0.0</td>\n",
       "      <td>0.0</td>\n",
       "      <td>358.143</td>\n",
       "      <td>369.062</td>\n",
       "      <td>10.919</td>\n",
       "      <td>0.000</td>\n",
       "      <td>103</td>\n",
       "      <td>l504</td>\n",
       "      <td>1574765372527</td>\n",
       "    </tr>\n",
       "    <tr>\n",
       "      <th>11</th>\n",
       "      <th>0</th>\n",
       "      <td>514.073</td>\n",
       "      <td>0</td>\n",
       "      <td>1</td>\n",
       "      <td>1</td>\n",
       "      <td>1.7</td>\n",
       "      <td>1.0</td>\n",
       "      <td>1.0</td>\n",
       "      <td>1.0</td>\n",
       "      <td>1.0</td>\n",
       "      <td>1.0</td>\n",
       "      <td>...</td>\n",
       "      <td>0.0</td>\n",
       "      <td>0.0</td>\n",
       "      <td>0.0</td>\n",
       "      <td>486.857</td>\n",
       "      <td>498.017</td>\n",
       "      <td>11.160</td>\n",
       "      <td>0.000</td>\n",
       "      <td>100</td>\n",
       "      <td>l505</td>\n",
       "      <td>1574765764861</td>\n",
       "    </tr>\n",
       "    <tr>\n",
       "      <th>12</th>\n",
       "      <th>0</th>\n",
       "      <td>453.015</td>\n",
       "      <td>0</td>\n",
       "      <td>0</td>\n",
       "      <td>1</td>\n",
       "      <td>5.2</td>\n",
       "      <td>0.0</td>\n",
       "      <td>0.0</td>\n",
       "      <td>0.0</td>\n",
       "      <td>0.0</td>\n",
       "      <td>0.0</td>\n",
       "      <td>...</td>\n",
       "      <td>0.0</td>\n",
       "      <td>0.0</td>\n",
       "      <td>0.0</td>\n",
       "      <td>441.086</td>\n",
       "      <td>441.086</td>\n",
       "      <td>0.000</td>\n",
       "      <td>0.000</td>\n",
       "      <td>106</td>\n",
       "      <td>l506</td>\n",
       "      <td>1574766296581</td>\n",
       "    </tr>\n",
       "    <tr>\n",
       "      <th>13</th>\n",
       "      <th>0</th>\n",
       "      <td>638.514</td>\n",
       "      <td>0</td>\n",
       "      <td>1</td>\n",
       "      <td>1</td>\n",
       "      <td>3.6</td>\n",
       "      <td>1.0</td>\n",
       "      <td>1.0</td>\n",
       "      <td>1.0</td>\n",
       "      <td>1.0</td>\n",
       "      <td>1.0</td>\n",
       "      <td>...</td>\n",
       "      <td>1.0</td>\n",
       "      <td>0.0</td>\n",
       "      <td>0.0</td>\n",
       "      <td>586.075</td>\n",
       "      <td>622.422</td>\n",
       "      <td>36.347</td>\n",
       "      <td>0.000</td>\n",
       "      <td>84</td>\n",
       "      <td>l507</td>\n",
       "      <td>1574766766311</td>\n",
       "    </tr>\n",
       "    <tr>\n",
       "      <th>14</th>\n",
       "      <th>0</th>\n",
       "      <td>636.634</td>\n",
       "      <td>0</td>\n",
       "      <td>6</td>\n",
       "      <td>1</td>\n",
       "      <td>0.9</td>\n",
       "      <td>12.0</td>\n",
       "      <td>6.0</td>\n",
       "      <td>6.0</td>\n",
       "      <td>6.0</td>\n",
       "      <td>6.0</td>\n",
       "      <td>...</td>\n",
       "      <td>1.0</td>\n",
       "      <td>1.0</td>\n",
       "      <td>0.0</td>\n",
       "      <td>489.624</td>\n",
       "      <td>613.357</td>\n",
       "      <td>169.233</td>\n",
       "      <td>0.000</td>\n",
       "      <td>96</td>\n",
       "      <td>l508</td>\n",
       "      <td>1574767431117</td>\n",
       "    </tr>\n",
       "  </tbody>\n",
       "</table>\n",
       "<p>494763 rows × 25 columns</p>\n",
       "</div>"
      ],
      "text/plain": [
       "                                        time_spent  num_forward  num_backward  \\\n",
       "user_id item_consecutive_id session_id                                          \n",
       "1       1                   0              369.981            1             0   \n",
       "        2                   0              338.240            0             0   \n",
       "        3                   0              309.277            1             0   \n",
       "        4                   0              371.762            0             0   \n",
       "        5                   0              369.912            0             0   \n",
       "...                                            ...          ...           ...   \n",
       "831764  10                  0              389.067            0             2   \n",
       "        11                  0              514.073            0             1   \n",
       "        12                  0              453.015            0             0   \n",
       "        13                  0              638.514            0             1   \n",
       "        14                  0              636.634            0             6   \n",
       "\n",
       "                                        num_pause  median_pause  seg_rep_0  \\\n",
       "user_id item_consecutive_id session_id                                       \n",
       "1       1                   0                   1           1.7        0.0   \n",
       "        2                   0                   1          72.0        0.0   \n",
       "        3                   0                   1           2.6        0.0   \n",
       "        4                   0                   1          31.1        0.0   \n",
       "        5                   0                   1         159.0        0.0   \n",
       "...                                           ...           ...        ...   \n",
       "831764  10                  0                   2           2.9        1.0   \n",
       "        11                  0                   1           1.7        1.0   \n",
       "        12                  0                   1           5.2        0.0   \n",
       "        13                  0                   1           3.6        1.0   \n",
       "        14                  0                   1           0.9       12.0   \n",
       "\n",
       "                                        seg_rep_1  seg_rep_2  seg_rep_3  \\\n",
       "user_id item_consecutive_id session_id                                    \n",
       "1       1                   0                 0.0        0.0        0.0   \n",
       "        2                   0                 0.0        0.0        0.0   \n",
       "        3                   0                 0.0        0.0        0.0   \n",
       "        4                   0                 0.0        0.0        0.0   \n",
       "        5                   0                 0.0        0.0        0.0   \n",
       "...                                           ...        ...        ...   \n",
       "831764  10                  0                 1.0        1.0        1.0   \n",
       "        11                  0                 1.0        1.0        1.0   \n",
       "        12                  0                 0.0        0.0        0.0   \n",
       "        13                  0                 1.0        1.0        1.0   \n",
       "        14                  0                 6.0        6.0        6.0   \n",
       "\n",
       "                                        seg_rep_4  ...  seg_rep_30  \\\n",
       "user_id item_consecutive_id session_id             ...               \n",
       "1       1                   0                 0.0  ...         0.0   \n",
       "        2                   0                 0.0  ...         0.0   \n",
       "        3                   0                 0.0  ...         0.0   \n",
       "        4                   0                 0.0  ...         0.0   \n",
       "        5                   0                 0.0  ...         0.0   \n",
       "...                                           ...  ...         ...   \n",
       "831764  10                  0                 1.0  ...         0.0   \n",
       "        11                  0                 1.0  ...         0.0   \n",
       "        12                  0                 0.0  ...         0.0   \n",
       "        13                  0                 1.0  ...         1.0   \n",
       "        14                  0                 6.0  ...         1.0   \n",
       "\n",
       "                                        seg_rep_45  seg_rep_60  time_comp  \\\n",
       "user_id item_consecutive_id session_id                                      \n",
       "1       1                   0                  0.0         0.0    357.911   \n",
       "        2                   0                  0.0         0.0    260.249   \n",
       "        3                   0                  0.0         0.0    204.026   \n",
       "        4                   0                  0.0         0.0    334.948   \n",
       "        5                   0                  0.0         0.0    205.357   \n",
       "...                                            ...         ...        ...   \n",
       "831764  10                  0                  0.0         0.0    358.143   \n",
       "        11                  0                  0.0         0.0    486.857   \n",
       "        12                  0                  0.0         0.0    441.086   \n",
       "        13                  0                  0.0         0.0    586.075   \n",
       "        14                  0                  1.0         0.0    489.624   \n",
       "\n",
       "                                        time_played  replay_length  \\\n",
       "user_id item_consecutive_id session_id                               \n",
       "1       1                   0               357.911          0.000   \n",
       "        2                   0               260.249          0.000   \n",
       "        3                   0               204.026          0.000   \n",
       "        4                   0               334.948          0.000   \n",
       "        5                   0               205.357          0.000   \n",
       "...                                             ...            ...   \n",
       "831764  10                  0               369.062         10.919   \n",
       "        11                  0               498.017         11.160   \n",
       "        12                  0               441.086          0.000   \n",
       "        13                  0               622.422         36.347   \n",
       "        14                  0               613.357        169.233   \n",
       "\n",
       "                                        skipped_length  tags  item_id  \\\n",
       "user_id item_consecutive_id session_id                                  \n",
       "1       1                   0                    0.187   103     l504   \n",
       "        2                   0                    0.000    52     l464   \n",
       "        3                   0                    0.905    53     l463   \n",
       "        4                   0                    0.000    55     l462   \n",
       "        5                   0                    0.000     0     l316   \n",
       "...                                                ...   ...      ...   \n",
       "831764  10                  0                    0.000   103     l504   \n",
       "        11                  0                    0.000   100     l505   \n",
       "        12                  0                    0.000   106     l506   \n",
       "        13                  0                    0.000    84     l507   \n",
       "        14                  0                    0.000    96     l508   \n",
       "\n",
       "                                            timestamp  \n",
       "user_id item_consecutive_id session_id                 \n",
       "1       1                   0           1565096637922  \n",
       "        2                   0           1568120237376  \n",
       "        3                   0           1568120575929  \n",
       "        4                   0           1568120885352  \n",
       "        5                   0           1568121279019  \n",
       "...                                               ...  \n",
       "831764  10                  0           1574765372527  \n",
       "        11                  0           1574765764861  \n",
       "        12                  0           1574766296581  \n",
       "        13                  0           1574766766311  \n",
       "        14                  0           1574767431117  \n",
       "\n",
       "[494763 rows x 25 columns]"
      ]
     },
     "execution_count": 28,
     "metadata": {},
     "output_type": "execute_result"
    }
   ],
   "source": [
    "interactions_warm_df = interactions[interactions.index.get_level_values(USER_COL).isin(warm_users.index)]\n",
    "interactions_warm_df"
   ]
  },
  {
   "cell_type": "code",
   "execution_count": 29,
   "id": "dc5d0247-7a8d-4a34-a982-914e03323f09",
   "metadata": {
    "tags": []
   },
   "outputs": [
    {
     "data": {
      "text/plain": [
       "(494763, 18194, 971)"
      ]
     },
     "execution_count": 29,
     "metadata": {},
     "output_type": "execute_result"
    }
   ],
   "source": [
    "interactions_warm_df.shape[0], interactions_warm_df.index.get_level_values(USER_COL).nunique(), interactions_warm_df[ITEM_COL].nunique()"
   ]
  },
  {
   "cell_type": "code",
   "execution_count": 30,
   "id": "ad2cf440-ca1d-46b4-a888-4554eca18e7c",
   "metadata": {
    "tags": []
   },
   "outputs": [
    {
     "data": {
      "text/plain": [
       "user_id\n",
       "1          25\n",
       "4          17\n",
       "5           9\n",
       "7         103\n",
       "9           8\n",
       "         ... \n",
       "830559     10\n",
       "830677      5\n",
       "831416     19\n",
       "831612     10\n",
       "831764     15\n",
       "Length: 18194, dtype: int64"
      ]
     },
     "execution_count": 30,
     "metadata": {},
     "output_type": "execute_result"
    }
   ],
   "source": [
    "interactions_warm_df.groupby(USER_COL).size()"
   ]
  },
  {
   "cell_type": "markdown",
   "id": "8498b6ca-ed12-45c3-8afb-449ae8cedbea",
   "metadata": {},
   "source": [
    "#### Slice"
   ]
  },
  {
   "cell_type": "code",
   "execution_count": 31,
   "id": "d68254f7-50a0-4943-b1f8-68d291bbc31f",
   "metadata": {
    "tags": []
   },
   "outputs": [],
   "source": [
    "MAX_SEQUENCE_LEN = 30"
   ]
  },
  {
   "cell_type": "code",
   "execution_count": 32,
   "id": "03a3f8ac-72e5-45cf-acd9-cb4c31177f86",
   "metadata": {
    "tags": []
   },
   "outputs": [
    {
     "data": {
      "text/plain": [
       "74.90106628558866"
      ]
     },
     "execution_count": 32,
     "metadata": {},
     "output_type": "execute_result"
    }
   ],
   "source": [
    "from scipy import stats\n",
    "stats.percentileofscore(interactions_warm_df.groupby(USER_COL).size(), MAX_SEQUENCE_LEN)"
   ]
  },
  {
   "cell_type": "code",
   "execution_count": 33,
   "id": "5a213b75-472e-4534-8d93-95d97b00051d",
   "metadata": {
    "tags": []
   },
   "outputs": [],
   "source": [
    "from tqdm import tqdm\n",
    "tqdm.pandas()"
   ]
  },
  {
   "cell_type": "code",
   "execution_count": 34,
   "id": "8faac7a0-d4e3-4c73-8920-8b0a2486c86d",
   "metadata": {
    "tags": []
   },
   "outputs": [
    {
     "name": "stderr",
     "output_type": "stream",
     "text": [
      "100%|██████████████████████████████████████████| 18194/18194 [00:07<00:00, 2420.64it/s]\n"
     ]
    }
   ],
   "source": [
    "interactions_sliced = interactions_warm_df.sort_values(TIME_COL).groupby(USER_COL, group_keys=False, sort=False).progress_apply(lambda group: group.head(MAX_SEQUENCE_LEN))"
   ]
  },
  {
   "cell_type": "code",
   "execution_count": 35,
   "id": "ae9c1941-77ef-4931-a5dc-5eceaffe8816",
   "metadata": {
    "tags": []
   },
   "outputs": [
    {
     "data": {
      "text/html": [
       "<div>\n",
       "<style scoped>\n",
       "    .dataframe tbody tr th:only-of-type {\n",
       "        vertical-align: middle;\n",
       "    }\n",
       "\n",
       "    .dataframe tbody tr th {\n",
       "        vertical-align: top;\n",
       "    }\n",
       "\n",
       "    .dataframe thead th {\n",
       "        text-align: right;\n",
       "    }\n",
       "</style>\n",
       "<table border=\"1\" class=\"dataframe\">\n",
       "  <thead>\n",
       "    <tr style=\"text-align: right;\">\n",
       "      <th></th>\n",
       "      <th></th>\n",
       "      <th></th>\n",
       "      <th>time_spent</th>\n",
       "      <th>num_forward</th>\n",
       "      <th>num_backward</th>\n",
       "      <th>num_pause</th>\n",
       "      <th>median_pause</th>\n",
       "      <th>seg_rep_0</th>\n",
       "      <th>seg_rep_1</th>\n",
       "      <th>seg_rep_2</th>\n",
       "      <th>seg_rep_3</th>\n",
       "      <th>seg_rep_4</th>\n",
       "      <th>...</th>\n",
       "      <th>seg_rep_30</th>\n",
       "      <th>seg_rep_45</th>\n",
       "      <th>seg_rep_60</th>\n",
       "      <th>time_comp</th>\n",
       "      <th>time_played</th>\n",
       "      <th>replay_length</th>\n",
       "      <th>skipped_length</th>\n",
       "      <th>tags</th>\n",
       "      <th>item_id</th>\n",
       "      <th>timestamp</th>\n",
       "    </tr>\n",
       "    <tr>\n",
       "      <th>user_id</th>\n",
       "      <th>item_consecutive_id</th>\n",
       "      <th>session_id</th>\n",
       "      <th></th>\n",
       "      <th></th>\n",
       "      <th></th>\n",
       "      <th></th>\n",
       "      <th></th>\n",
       "      <th></th>\n",
       "      <th></th>\n",
       "      <th></th>\n",
       "      <th></th>\n",
       "      <th></th>\n",
       "      <th></th>\n",
       "      <th></th>\n",
       "      <th></th>\n",
       "      <th></th>\n",
       "      <th></th>\n",
       "      <th></th>\n",
       "      <th></th>\n",
       "      <th></th>\n",
       "      <th></th>\n",
       "      <th></th>\n",
       "      <th></th>\n",
       "    </tr>\n",
       "  </thead>\n",
       "  <tbody>\n",
       "    <tr>\n",
       "      <th rowspan=\"5\" valign=\"top\">1</th>\n",
       "      <th>1</th>\n",
       "      <th>0</th>\n",
       "      <td>369.981</td>\n",
       "      <td>1</td>\n",
       "      <td>0</td>\n",
       "      <td>1</td>\n",
       "      <td>1.7</td>\n",
       "      <td>0.0</td>\n",
       "      <td>0.0</td>\n",
       "      <td>0.0</td>\n",
       "      <td>0.0</td>\n",
       "      <td>0.0</td>\n",
       "      <td>...</td>\n",
       "      <td>0.0</td>\n",
       "      <td>0.0</td>\n",
       "      <td>0.0</td>\n",
       "      <td>357.911</td>\n",
       "      <td>357.911</td>\n",
       "      <td>0.000</td>\n",
       "      <td>0.187</td>\n",
       "      <td>103</td>\n",
       "      <td>l504</td>\n",
       "      <td>1565096637922</td>\n",
       "    </tr>\n",
       "    <tr>\n",
       "      <th>2</th>\n",
       "      <th>0</th>\n",
       "      <td>338.240</td>\n",
       "      <td>0</td>\n",
       "      <td>0</td>\n",
       "      <td>1</td>\n",
       "      <td>72.0</td>\n",
       "      <td>0.0</td>\n",
       "      <td>0.0</td>\n",
       "      <td>0.0</td>\n",
       "      <td>0.0</td>\n",
       "      <td>0.0</td>\n",
       "      <td>...</td>\n",
       "      <td>0.0</td>\n",
       "      <td>0.0</td>\n",
       "      <td>0.0</td>\n",
       "      <td>260.249</td>\n",
       "      <td>260.249</td>\n",
       "      <td>0.000</td>\n",
       "      <td>0.000</td>\n",
       "      <td>52</td>\n",
       "      <td>l464</td>\n",
       "      <td>1568120237376</td>\n",
       "    </tr>\n",
       "    <tr>\n",
       "      <th>3</th>\n",
       "      <th>0</th>\n",
       "      <td>309.277</td>\n",
       "      <td>1</td>\n",
       "      <td>0</td>\n",
       "      <td>1</td>\n",
       "      <td>2.6</td>\n",
       "      <td>0.0</td>\n",
       "      <td>0.0</td>\n",
       "      <td>0.0</td>\n",
       "      <td>0.0</td>\n",
       "      <td>0.0</td>\n",
       "      <td>...</td>\n",
       "      <td>0.0</td>\n",
       "      <td>0.0</td>\n",
       "      <td>0.0</td>\n",
       "      <td>204.026</td>\n",
       "      <td>204.026</td>\n",
       "      <td>0.000</td>\n",
       "      <td>0.905</td>\n",
       "      <td>53</td>\n",
       "      <td>l463</td>\n",
       "      <td>1568120575929</td>\n",
       "    </tr>\n",
       "    <tr>\n",
       "      <th>4</th>\n",
       "      <th>0</th>\n",
       "      <td>371.762</td>\n",
       "      <td>0</td>\n",
       "      <td>0</td>\n",
       "      <td>1</td>\n",
       "      <td>31.1</td>\n",
       "      <td>0.0</td>\n",
       "      <td>0.0</td>\n",
       "      <td>0.0</td>\n",
       "      <td>0.0</td>\n",
       "      <td>0.0</td>\n",
       "      <td>...</td>\n",
       "      <td>0.0</td>\n",
       "      <td>0.0</td>\n",
       "      <td>0.0</td>\n",
       "      <td>334.948</td>\n",
       "      <td>334.948</td>\n",
       "      <td>0.000</td>\n",
       "      <td>0.000</td>\n",
       "      <td>55</td>\n",
       "      <td>l462</td>\n",
       "      <td>1568120885352</td>\n",
       "    </tr>\n",
       "    <tr>\n",
       "      <th>5</th>\n",
       "      <th>0</th>\n",
       "      <td>369.912</td>\n",
       "      <td>0</td>\n",
       "      <td>0</td>\n",
       "      <td>1</td>\n",
       "      <td>159.0</td>\n",
       "      <td>0.0</td>\n",
       "      <td>0.0</td>\n",
       "      <td>0.0</td>\n",
       "      <td>0.0</td>\n",
       "      <td>0.0</td>\n",
       "      <td>...</td>\n",
       "      <td>0.0</td>\n",
       "      <td>0.0</td>\n",
       "      <td>0.0</td>\n",
       "      <td>205.357</td>\n",
       "      <td>205.357</td>\n",
       "      <td>0.000</td>\n",
       "      <td>0.000</td>\n",
       "      <td>0</td>\n",
       "      <td>l316</td>\n",
       "      <td>1568121279019</td>\n",
       "    </tr>\n",
       "    <tr>\n",
       "      <th>...</th>\n",
       "      <th>...</th>\n",
       "      <th>...</th>\n",
       "      <td>...</td>\n",
       "      <td>...</td>\n",
       "      <td>...</td>\n",
       "      <td>...</td>\n",
       "      <td>...</td>\n",
       "      <td>...</td>\n",
       "      <td>...</td>\n",
       "      <td>...</td>\n",
       "      <td>...</td>\n",
       "      <td>...</td>\n",
       "      <td>...</td>\n",
       "      <td>...</td>\n",
       "      <td>...</td>\n",
       "      <td>...</td>\n",
       "      <td>...</td>\n",
       "      <td>...</td>\n",
       "      <td>...</td>\n",
       "      <td>...</td>\n",
       "      <td>...</td>\n",
       "      <td>...</td>\n",
       "      <td>...</td>\n",
       "    </tr>\n",
       "    <tr>\n",
       "      <th rowspan=\"5\" valign=\"top\">831764</th>\n",
       "      <th>10</th>\n",
       "      <th>0</th>\n",
       "      <td>389.067</td>\n",
       "      <td>0</td>\n",
       "      <td>2</td>\n",
       "      <td>2</td>\n",
       "      <td>2.9</td>\n",
       "      <td>1.0</td>\n",
       "      <td>1.0</td>\n",
       "      <td>1.0</td>\n",
       "      <td>1.0</td>\n",
       "      <td>1.0</td>\n",
       "      <td>...</td>\n",
       "      <td>0.0</td>\n",
       "      <td>0.0</td>\n",
       "      <td>0.0</td>\n",
       "      <td>358.143</td>\n",
       "      <td>369.062</td>\n",
       "      <td>10.919</td>\n",
       "      <td>0.000</td>\n",
       "      <td>103</td>\n",
       "      <td>l504</td>\n",
       "      <td>1574765372527</td>\n",
       "    </tr>\n",
       "    <tr>\n",
       "      <th>11</th>\n",
       "      <th>0</th>\n",
       "      <td>514.073</td>\n",
       "      <td>0</td>\n",
       "      <td>1</td>\n",
       "      <td>1</td>\n",
       "      <td>1.7</td>\n",
       "      <td>1.0</td>\n",
       "      <td>1.0</td>\n",
       "      <td>1.0</td>\n",
       "      <td>1.0</td>\n",
       "      <td>1.0</td>\n",
       "      <td>...</td>\n",
       "      <td>0.0</td>\n",
       "      <td>0.0</td>\n",
       "      <td>0.0</td>\n",
       "      <td>486.857</td>\n",
       "      <td>498.017</td>\n",
       "      <td>11.160</td>\n",
       "      <td>0.000</td>\n",
       "      <td>100</td>\n",
       "      <td>l505</td>\n",
       "      <td>1574765764861</td>\n",
       "    </tr>\n",
       "    <tr>\n",
       "      <th>12</th>\n",
       "      <th>0</th>\n",
       "      <td>453.015</td>\n",
       "      <td>0</td>\n",
       "      <td>0</td>\n",
       "      <td>1</td>\n",
       "      <td>5.2</td>\n",
       "      <td>0.0</td>\n",
       "      <td>0.0</td>\n",
       "      <td>0.0</td>\n",
       "      <td>0.0</td>\n",
       "      <td>0.0</td>\n",
       "      <td>...</td>\n",
       "      <td>0.0</td>\n",
       "      <td>0.0</td>\n",
       "      <td>0.0</td>\n",
       "      <td>441.086</td>\n",
       "      <td>441.086</td>\n",
       "      <td>0.000</td>\n",
       "      <td>0.000</td>\n",
       "      <td>106</td>\n",
       "      <td>l506</td>\n",
       "      <td>1574766296581</td>\n",
       "    </tr>\n",
       "    <tr>\n",
       "      <th>13</th>\n",
       "      <th>0</th>\n",
       "      <td>638.514</td>\n",
       "      <td>0</td>\n",
       "      <td>1</td>\n",
       "      <td>1</td>\n",
       "      <td>3.6</td>\n",
       "      <td>1.0</td>\n",
       "      <td>1.0</td>\n",
       "      <td>1.0</td>\n",
       "      <td>1.0</td>\n",
       "      <td>1.0</td>\n",
       "      <td>...</td>\n",
       "      <td>1.0</td>\n",
       "      <td>0.0</td>\n",
       "      <td>0.0</td>\n",
       "      <td>586.075</td>\n",
       "      <td>622.422</td>\n",
       "      <td>36.347</td>\n",
       "      <td>0.000</td>\n",
       "      <td>84</td>\n",
       "      <td>l507</td>\n",
       "      <td>1574766766311</td>\n",
       "    </tr>\n",
       "    <tr>\n",
       "      <th>14</th>\n",
       "      <th>0</th>\n",
       "      <td>636.634</td>\n",
       "      <td>0</td>\n",
       "      <td>6</td>\n",
       "      <td>1</td>\n",
       "      <td>0.9</td>\n",
       "      <td>12.0</td>\n",
       "      <td>6.0</td>\n",
       "      <td>6.0</td>\n",
       "      <td>6.0</td>\n",
       "      <td>6.0</td>\n",
       "      <td>...</td>\n",
       "      <td>1.0</td>\n",
       "      <td>1.0</td>\n",
       "      <td>0.0</td>\n",
       "      <td>489.624</td>\n",
       "      <td>613.357</td>\n",
       "      <td>169.233</td>\n",
       "      <td>0.000</td>\n",
       "      <td>96</td>\n",
       "      <td>l508</td>\n",
       "      <td>1574767431117</td>\n",
       "    </tr>\n",
       "  </tbody>\n",
       "</table>\n",
       "<p>304754 rows × 25 columns</p>\n",
       "</div>"
      ],
      "text/plain": [
       "                                        time_spent  num_forward  num_backward  \\\n",
       "user_id item_consecutive_id session_id                                          \n",
       "1       1                   0              369.981            1             0   \n",
       "        2                   0              338.240            0             0   \n",
       "        3                   0              309.277            1             0   \n",
       "        4                   0              371.762            0             0   \n",
       "        5                   0              369.912            0             0   \n",
       "...                                            ...          ...           ...   \n",
       "831764  10                  0              389.067            0             2   \n",
       "        11                  0              514.073            0             1   \n",
       "        12                  0              453.015            0             0   \n",
       "        13                  0              638.514            0             1   \n",
       "        14                  0              636.634            0             6   \n",
       "\n",
       "                                        num_pause  median_pause  seg_rep_0  \\\n",
       "user_id item_consecutive_id session_id                                       \n",
       "1       1                   0                   1           1.7        0.0   \n",
       "        2                   0                   1          72.0        0.0   \n",
       "        3                   0                   1           2.6        0.0   \n",
       "        4                   0                   1          31.1        0.0   \n",
       "        5                   0                   1         159.0        0.0   \n",
       "...                                           ...           ...        ...   \n",
       "831764  10                  0                   2           2.9        1.0   \n",
       "        11                  0                   1           1.7        1.0   \n",
       "        12                  0                   1           5.2        0.0   \n",
       "        13                  0                   1           3.6        1.0   \n",
       "        14                  0                   1           0.9       12.0   \n",
       "\n",
       "                                        seg_rep_1  seg_rep_2  seg_rep_3  \\\n",
       "user_id item_consecutive_id session_id                                    \n",
       "1       1                   0                 0.0        0.0        0.0   \n",
       "        2                   0                 0.0        0.0        0.0   \n",
       "        3                   0                 0.0        0.0        0.0   \n",
       "        4                   0                 0.0        0.0        0.0   \n",
       "        5                   0                 0.0        0.0        0.0   \n",
       "...                                           ...        ...        ...   \n",
       "831764  10                  0                 1.0        1.0        1.0   \n",
       "        11                  0                 1.0        1.0        1.0   \n",
       "        12                  0                 0.0        0.0        0.0   \n",
       "        13                  0                 1.0        1.0        1.0   \n",
       "        14                  0                 6.0        6.0        6.0   \n",
       "\n",
       "                                        seg_rep_4  ...  seg_rep_30  \\\n",
       "user_id item_consecutive_id session_id             ...               \n",
       "1       1                   0                 0.0  ...         0.0   \n",
       "        2                   0                 0.0  ...         0.0   \n",
       "        3                   0                 0.0  ...         0.0   \n",
       "        4                   0                 0.0  ...         0.0   \n",
       "        5                   0                 0.0  ...         0.0   \n",
       "...                                           ...  ...         ...   \n",
       "831764  10                  0                 1.0  ...         0.0   \n",
       "        11                  0                 1.0  ...         0.0   \n",
       "        12                  0                 0.0  ...         0.0   \n",
       "        13                  0                 1.0  ...         1.0   \n",
       "        14                  0                 6.0  ...         1.0   \n",
       "\n",
       "                                        seg_rep_45  seg_rep_60  time_comp  \\\n",
       "user_id item_consecutive_id session_id                                      \n",
       "1       1                   0                  0.0         0.0    357.911   \n",
       "        2                   0                  0.0         0.0    260.249   \n",
       "        3                   0                  0.0         0.0    204.026   \n",
       "        4                   0                  0.0         0.0    334.948   \n",
       "        5                   0                  0.0         0.0    205.357   \n",
       "...                                            ...         ...        ...   \n",
       "831764  10                  0                  0.0         0.0    358.143   \n",
       "        11                  0                  0.0         0.0    486.857   \n",
       "        12                  0                  0.0         0.0    441.086   \n",
       "        13                  0                  0.0         0.0    586.075   \n",
       "        14                  0                  1.0         0.0    489.624   \n",
       "\n",
       "                                        time_played  replay_length  \\\n",
       "user_id item_consecutive_id session_id                               \n",
       "1       1                   0               357.911          0.000   \n",
       "        2                   0               260.249          0.000   \n",
       "        3                   0               204.026          0.000   \n",
       "        4                   0               334.948          0.000   \n",
       "        5                   0               205.357          0.000   \n",
       "...                                             ...            ...   \n",
       "831764  10                  0               369.062         10.919   \n",
       "        11                  0               498.017         11.160   \n",
       "        12                  0               441.086          0.000   \n",
       "        13                  0               622.422         36.347   \n",
       "        14                  0               613.357        169.233   \n",
       "\n",
       "                                        skipped_length  tags  item_id  \\\n",
       "user_id item_consecutive_id session_id                                  \n",
       "1       1                   0                    0.187   103     l504   \n",
       "        2                   0                    0.000    52     l464   \n",
       "        3                   0                    0.905    53     l463   \n",
       "        4                   0                    0.000    55     l462   \n",
       "        5                   0                    0.000     0     l316   \n",
       "...                                                ...   ...      ...   \n",
       "831764  10                  0                    0.000   103     l504   \n",
       "        11                  0                    0.000   100     l505   \n",
       "        12                  0                    0.000   106     l506   \n",
       "        13                  0                    0.000    84     l507   \n",
       "        14                  0                    0.000    96     l508   \n",
       "\n",
       "                                            timestamp  \n",
       "user_id item_consecutive_id session_id                 \n",
       "1       1                   0           1565096637922  \n",
       "        2                   0           1568120237376  \n",
       "        3                   0           1568120575929  \n",
       "        4                   0           1568120885352  \n",
       "        5                   0           1568121279019  \n",
       "...                                               ...  \n",
       "831764  10                  0           1574765372527  \n",
       "        11                  0           1574765764861  \n",
       "        12                  0           1574766296581  \n",
       "        13                  0           1574766766311  \n",
       "        14                  0           1574767431117  \n",
       "\n",
       "[304754 rows x 25 columns]"
      ]
     },
     "execution_count": 35,
     "metadata": {},
     "output_type": "execute_result"
    }
   ],
   "source": [
    "interactions_sliced"
   ]
  },
  {
   "cell_type": "code",
   "execution_count": 36,
   "id": "ed9f4731-e8a2-4ef4-ab59-8aeddf524c03",
   "metadata": {
    "tags": []
   },
   "outputs": [
    {
     "data": {
      "text/plain": [
       "(304754, 18194, 951)"
      ]
     },
     "execution_count": 36,
     "metadata": {},
     "output_type": "execute_result"
    }
   ],
   "source": [
    "interactions_sliced.shape[0], interactions_sliced.index.get_level_values(USER_COL).nunique(), interactions_sliced[ITEM_COL].nunique()"
   ]
  },
  {
   "cell_type": "markdown",
   "id": "7926e7dc-ced2-40be-8688-b6e2976a2aaa",
   "metadata": {},
   "source": [
    "#### Encoding of fields"
   ]
  },
  {
   "cell_type": "code",
   "execution_count": 37,
   "id": "55353898-d7c0-4bf5-9270-abe585d30ac1",
   "metadata": {
    "tags": []
   },
   "outputs": [
    {
     "data": {
      "text/plain": [
       "256"
      ]
     },
     "execution_count": 37,
     "metadata": {},
     "output_type": "execute_result"
    }
   ],
   "source": [
    "interactions_sliced[\"tags\"].sort_values().nunique()"
   ]
  },
  {
   "cell_type": "code",
   "execution_count": 38,
   "id": "b853b008-05e9-4760-84fc-d9567d09d7a6",
   "metadata": {
    "tags": []
   },
   "outputs": [
    {
     "name": "stdout",
     "output_type": "stream",
     "text": [
      "CPU times: user 27.1 ms, sys: 0 ns, total: 27.1 ms\n",
      "Wall time: 27.9 ms\n"
     ]
    }
   ],
   "source": [
    "%%time\n",
    "# item id mapping, saving 0 for padding\n",
    "item_id2int = {val: i for i, val in enumerate(interactions_sliced[ITEM_COL].unique(), start=1)}\n",
    "int2item_id = {i: item_id2int for item_id2int, i in item_id2int.items()}\n",
    "\n",
    "# tags mapping, tags at 0 is already encoded as np.nan\n",
    "tag2int = {int(val): i for i, val in enumerate(interactions_sliced[\"tags\"].sort_values().unique())}\n",
    "int2tag = {i: tag for tag, i in tag2int.items()}"
   ]
  },
  {
   "cell_type": "code",
   "execution_count": 39,
   "id": "9dca7f6b-ab8c-459d-8a10-82f660d11c74",
   "metadata": {
    "tags": []
   },
   "outputs": [
    {
     "data": {
      "text/plain": [
       "(951, 255)"
      ]
     },
     "execution_count": 39,
     "metadata": {},
     "output_type": "execute_result"
    }
   ],
   "source": [
    "# Exlucdes np.nan which is mapped to 0 for concepts and fields\n",
    "MAX_ITEM_ID, MAX_TAG = max(item_id2int.values()), max(tag2int.values()),\n",
    "MAX_ITEM_ID, MAX_TAG"
   ]
  },
  {
   "cell_type": "code",
   "execution_count": 40,
   "id": "12358c43-2d21-405e-b7c6-9db259d8052e",
   "metadata": {
    "tags": []
   },
   "outputs": [],
   "source": [
    "from utils.io import save_enc"
   ]
  },
  {
   "cell_type": "code",
   "execution_count": 41,
   "id": "7b041d7f-3732-452f-b2c4-9b30d16a705b",
   "metadata": {
    "tags": []
   },
   "outputs": [],
   "source": [
    "embeddings_path = Path(\"embeddings\")\n",
    "save_enc(item_id2int, embeddings_path / \"item_id2int.json\" )\n",
    "save_enc(tag2int, embeddings_path / \"tag2int.json\" )"
   ]
  },
  {
   "cell_type": "markdown",
   "id": "95ac1905-de3b-47ab-983c-6247a95bc21f",
   "metadata": {},
   "source": [
    "**Encoding columns**"
   ]
  },
  {
   "cell_type": "code",
   "execution_count": 42,
   "id": "da4be90a-28be-4ac9-8996-809ecedc508a",
   "metadata": {
    "tags": []
   },
   "outputs": [
    {
     "name": "stdout",
     "output_type": "stream",
     "text": [
      "CPU times: user 557 ms, sys: 34.8 ms, total: 592 ms\n",
      "Wall time: 597 ms\n"
     ]
    }
   ],
   "source": [
    "%%time\n",
    "# Basic video_id, encoding, stripping as they where embedded cleanly\n",
    "interactions_encoded = interactions_sliced.copy()\n",
    "interactions_encoded.loc[:,ITEM_COL] = interactions_encoded[ITEM_COL].map(item_id2int)\n",
    "interactions_encoded.loc[:,\"tags\"] = interactions_encoded[\"tags\"].map(tag2int)"
   ]
  },
  {
   "cell_type": "markdown",
   "id": "9ef2091a-74fa-43a9-9bc5-556a5befd712",
   "metadata": {},
   "source": [
    "#### Split"
   ]
  },
  {
   "cell_type": "code",
   "execution_count": 43,
   "id": "3a80754d-b645-45ea-bd28-f003123d237d",
   "metadata": {
    "tags": []
   },
   "outputs": [
    {
     "name": "stderr",
     "output_type": "stream",
     "text": [
      "100%|██████████████████████████████████████████| 18194/18194 [00:04<00:00, 3810.64it/s]\n",
      "100%|██████████████████████████████████████████| 18194/18194 [00:04<00:00, 3680.95it/s]\n"
     ]
    }
   ],
   "source": [
    "test_raw = interactions_encoded.copy()\n",
    "val_raw = test_raw.groupby(USER_COL, group_keys=False, sort=False).progress_apply(lambda group: group[:-1])\n",
    "train_raw = val_raw.groupby(USER_COL, group_keys=False, sort=False).progress_apply(lambda group: group[:-1])"
   ]
  },
  {
   "cell_type": "code",
   "execution_count": 46,
   "id": "99f633c5-9889-499c-bfdd-e975484d30e3",
   "metadata": {
    "tags": []
   },
   "outputs": [],
   "source": [
    "NUM_USERS = 18194"
   ]
  },
  {
   "cell_type": "code",
   "execution_count": 47,
   "id": "93022b17-7d7b-4037-a1ee-3e579532fbfa",
   "metadata": {
    "tags": []
   },
   "outputs": [],
   "source": [
    "assert test_raw.shape[0] -1 * NUM_USERS   == val_raw.shape[0]\n",
    "assert test_raw.shape[0] - 2 * NUM_USERS   == train_raw.shape[0]"
   ]
  },
  {
   "cell_type": "markdown",
   "id": "00031e11-fb2b-498f-a3cf-c6bb93f8f544",
   "metadata": {},
   "source": [
    "#### Video normalize"
   ]
  },
  {
   "cell_type": "code",
   "execution_count": 48,
   "id": "96daeafe-1acc-46ff-b01c-1a08ee82b8af",
   "metadata": {
    "tags": []
   },
   "outputs": [
    {
     "data": {
      "text/plain": [
       "Int64Index([574, 928, 933], dtype='int64')"
      ]
     },
     "execution_count": 48,
     "metadata": {},
     "output_type": "execute_result"
    }
   ],
   "source": [
    "pd.Index(test_raw[ITEM_COL].unique()).difference(train_raw[ITEM_COL].unique())"
   ]
  },
  {
   "cell_type": "code",
   "execution_count": 49,
   "id": "0ff42fd6-76e3-436c-91b5-6137c4afddd2",
   "metadata": {
    "tags": []
   },
   "outputs": [
    {
     "data": {
      "text/html": [
       "<div>\n",
       "<style scoped>\n",
       "    .dataframe tbody tr th:only-of-type {\n",
       "        vertical-align: middle;\n",
       "    }\n",
       "\n",
       "    .dataframe tbody tr th {\n",
       "        vertical-align: top;\n",
       "    }\n",
       "\n",
       "    .dataframe thead th {\n",
       "        text-align: right;\n",
       "    }\n",
       "</style>\n",
       "<table border=\"1\" class=\"dataframe\">\n",
       "  <thead>\n",
       "    <tr style=\"text-align: right;\">\n",
       "      <th></th>\n",
       "      <th>replay_length</th>\n",
       "      <th>time_played</th>\n",
       "      <th>time_comp</th>\n",
       "      <th>skipped_length</th>\n",
       "      <th>time_spent</th>\n",
       "    </tr>\n",
       "  </thead>\n",
       "  <tbody>\n",
       "    <tr>\n",
       "      <th>1</th>\n",
       "      <td>1661.767</td>\n",
       "      <td>1071.846</td>\n",
       "      <td>358.327</td>\n",
       "      <td>334.261</td>\n",
       "      <td>2768.057</td>\n",
       "    </tr>\n",
       "    <tr>\n",
       "      <th>2</th>\n",
       "      <td>1561.494</td>\n",
       "      <td>1040.996</td>\n",
       "      <td>260.299</td>\n",
       "      <td>248.103</td>\n",
       "      <td>2404.391</td>\n",
       "    </tr>\n",
       "    <tr>\n",
       "      <th>3</th>\n",
       "      <td>2050.780</td>\n",
       "      <td>1025.390</td>\n",
       "      <td>205.084</td>\n",
       "      <td>182.035</td>\n",
       "      <td>2096.133</td>\n",
       "    </tr>\n",
       "    <tr>\n",
       "      <th>4</th>\n",
       "      <td>2004.945</td>\n",
       "      <td>1338.257</td>\n",
       "      <td>335.152</td>\n",
       "      <td>221.685</td>\n",
       "      <td>2484.868</td>\n",
       "    </tr>\n",
       "    <tr>\n",
       "      <th>5</th>\n",
       "      <td>2423.725</td>\n",
       "      <td>1100.816</td>\n",
       "      <td>206.136</td>\n",
       "      <td>198.204</td>\n",
       "      <td>2308.235</td>\n",
       "    </tr>\n",
       "    <tr>\n",
       "      <th>...</th>\n",
       "      <td>...</td>\n",
       "      <td>...</td>\n",
       "      <td>...</td>\n",
       "      <td>...</td>\n",
       "      <td>...</td>\n",
       "    </tr>\n",
       "    <tr>\n",
       "      <th>947</th>\n",
       "      <td>0.000</td>\n",
       "      <td>13.465</td>\n",
       "      <td>13.465</td>\n",
       "      <td>0.000</td>\n",
       "      <td>13.465</td>\n",
       "    </tr>\n",
       "    <tr>\n",
       "      <th>948</th>\n",
       "      <td>8.500</td>\n",
       "      <td>596.367</td>\n",
       "      <td>587.867</td>\n",
       "      <td>0.000</td>\n",
       "      <td>605.176</td>\n",
       "    </tr>\n",
       "    <tr>\n",
       "      <th>949</th>\n",
       "      <td>0.000</td>\n",
       "      <td>308.196</td>\n",
       "      <td>308.196</td>\n",
       "      <td>0.164</td>\n",
       "      <td>409.885</td>\n",
       "    </tr>\n",
       "    <tr>\n",
       "      <th>950</th>\n",
       "      <td>32.826</td>\n",
       "      <td>242.219</td>\n",
       "      <td>216.770</td>\n",
       "      <td>0.032</td>\n",
       "      <td>855.309</td>\n",
       "    </tr>\n",
       "    <tr>\n",
       "      <th>951</th>\n",
       "      <td>0.000</td>\n",
       "      <td>678.934</td>\n",
       "      <td>678.934</td>\n",
       "      <td>0.000</td>\n",
       "      <td>748.442</td>\n",
       "    </tr>\n",
       "  </tbody>\n",
       "</table>\n",
       "<p>951 rows × 5 columns</p>\n",
       "</div>"
      ],
      "text/plain": [
       "     replay_length  time_played  time_comp  skipped_length  time_spent\n",
       "1         1661.767     1071.846    358.327         334.261    2768.057\n",
       "2         1561.494     1040.996    260.299         248.103    2404.391\n",
       "3         2050.780     1025.390    205.084         182.035    2096.133\n",
       "4         2004.945     1338.257    335.152         221.685    2484.868\n",
       "5         2423.725     1100.816    206.136         198.204    2308.235\n",
       "..             ...          ...        ...             ...         ...\n",
       "947          0.000       13.465     13.465           0.000      13.465\n",
       "948          8.500      596.367    587.867           0.000     605.176\n",
       "949          0.000      308.196    308.196           0.164     409.885\n",
       "950         32.826      242.219    216.770           0.032     855.309\n",
       "951          0.000      678.934    678.934           0.000     748.442\n",
       "\n",
       "[951 rows x 5 columns]"
      ]
     },
     "execution_count": 49,
     "metadata": {},
     "output_type": "execute_result"
    }
   ],
   "source": [
    "# Include OOV videos to the max video feature length index to properly handle missing videos\n",
    "video_max = train_raw.groupby(ITEM_COL)[VIDEO_NORM_FEATS].max().reindex(pd.Index(test_raw[ITEM_COL].unique()), fill_value=0).sort_index()\n",
    "video_max"
   ]
  },
  {
   "cell_type": "code",
   "execution_count": 50,
   "id": "f515168a-ee5b-4ff8-9d37-bde2e067f11c",
   "metadata": {
    "tags": []
   },
   "outputs": [],
   "source": [
    "from utils.pre_processing import norm_vid_feats"
   ]
  },
  {
   "cell_type": "code",
   "execution_count": 51,
   "id": "ae217624-6cd6-407c-9ed1-6f90002bae12",
   "metadata": {
    "tags": []
   },
   "outputs": [
    {
     "name": "stderr",
     "output_type": "stream",
     "text": [
      "100%|██████████████████████████████████████████████| 951/951 [00:00<00:00, 1085.28it/s]\n",
      "100%|███████████████████████████████████████████████| 949/949 [00:01<00:00, 940.43it/s]\n",
      "100%|██████████████████████████████████████████████| 948/948 [00:00<00:00, 1043.43it/s]"
     ]
    },
    {
     "name": "stdout",
     "output_type": "stream",
     "text": [
      "CPU times: user 2.9 s, sys: 89.1 ms, total: 2.99 s\n",
      "Wall time: 3.03 s\n"
     ]
    },
    {
     "name": "stderr",
     "output_type": "stream",
     "text": [
      "\n"
     ]
    }
   ],
   "source": [
    "%%time\n",
    "test_norm = norm_vid_feats(test_raw, video_max)\n",
    "val_norm = norm_vid_feats(val_raw, video_max)\n",
    "train_norm = norm_vid_feats(train_raw, video_max)"
   ]
  },
  {
   "cell_type": "code",
   "execution_count": 52,
   "id": "9d23d276-2a4b-4287-ad93-246c72ab4abf",
   "metadata": {
    "tags": []
   },
   "outputs": [],
   "source": [
    "datasets_path = Path(\"ednet\")\n",
    "conv_path = datasets_path / \"conventional\"\n",
    "seq_path = datasets_path / \"sequential\""
   ]
  },
  {
   "cell_type": "code",
   "execution_count": 53,
   "id": "23440c99-284b-417c-8d49-d4ddc8716b99",
   "metadata": {
    "tags": []
   },
   "outputs": [],
   "source": [
    "conv_vid_norm_path = conv_path / \"video_normalized\""
   ]
  },
  {
   "cell_type": "code",
   "execution_count": 54,
   "id": "a721b8e7-61a9-4a87-8c49-2fe6b75a3e9b",
   "metadata": {
    "tags": []
   },
   "outputs": [
    {
     "name": "stderr",
     "output_type": "stream",
     "text": [
      "100%|██████████████████████████████████████████| 18194/18194 [00:04<00:00, 3971.10it/s]\n",
      "100%|██████████████████████████████████████████| 18194/18194 [00:04<00:00, 3669.76it/s]\n"
     ]
    },
    {
     "name": "stdout",
     "output_type": "stream",
     "text": [
      "CPU times: user 9.13 s, sys: 217 ms, total: 9.35 s\n",
      "Wall time: 9.98 s\n"
     ]
    }
   ],
   "source": [
    "%%time\n",
    "test_norm.groupby(USER_COL, sort=False, group_keys=False).progress_apply(lambda group: group.tail(1)).to_parquet(conv_vid_norm_path / \"test.parquet\")\n",
    "val_norm.groupby(USER_COL, sort=False, group_keys=False).progress_apply(lambda group: group.tail(1)).to_parquet(conv_vid_norm_path / \"val.parquet\")\n",
    "train_norm.to_parquet(conv_vid_norm_path / \"train.parquet\")"
   ]
  },
  {
   "cell_type": "code",
   "execution_count": 55,
   "id": "7cbcafaa-6337-4030-bff4-80feeb7c362c",
   "metadata": {
    "tags": []
   },
   "outputs": [],
   "source": [
    "# Stored for ease of access for sequential methods, but not listified so stored in convential folders\n",
    "test_norm.to_parquet(conv_vid_norm_path / \"test_full.parquet\")\n",
    "val_norm.to_parquet(conv_vid_norm_path / \"val_full.parquet\")"
   ]
  },
  {
   "cell_type": "code",
   "execution_count": 56,
   "id": "698bbbf3-5059-499e-a4f5-3990a2303ca6",
   "metadata": {
    "tags": []
   },
   "outputs": [],
   "source": [
    "# Describes all features besides encoding of concepts and fields, which must be added manually\n",
    "test_norm.describe().to_parquet(conv_vid_norm_path / \"feature_stats.parquet\")"
   ]
  },
  {
   "cell_type": "markdown",
   "id": "09e78a82-276c-4388-af8b-b6a8327592ec",
   "metadata": {},
   "source": [
    "**Yeo Johnson all feature scaling/normalization**\n",
    "\n",
    "Using Train-dataset as basis for the normalization. Will apply zero-mean, unit-variance normalization"
   ]
  },
  {
   "cell_type": "code",
   "execution_count": 57,
   "id": "fd1f4528-89c6-4555-a1de-2b9d81338592",
   "metadata": {
    "tags": []
   },
   "outputs": [],
   "source": [
    "val_loo_norm = pd.read_parquet(conv_vid_norm_path / \"val.parquet\")\n",
    "test_loo_norm = pd.read_parquet(conv_vid_norm_path / \"test.parquet\")"
   ]
  },
  {
   "cell_type": "code",
   "execution_count": 58,
   "id": "90e22233-2640-415a-b272-a233c92af93a",
   "metadata": {
    "tags": []
   },
   "outputs": [],
   "source": [
    "from sklearn.preprocessing import PowerTransformer"
   ]
  },
  {
   "cell_type": "code",
   "execution_count": 59,
   "id": "70f9ce83-f93c-4d9e-8148-3fb445db8cf4",
   "metadata": {
    "tags": []
   },
   "outputs": [
    {
     "data": {
      "text/plain": [
       "Index(['time_spent', 'num_forward', 'num_backward', 'num_pause',\n",
       "       'median_pause', 'seg_rep_0', 'seg_rep_1', 'seg_rep_2', 'seg_rep_3',\n",
       "       'seg_rep_4', 'seg_rep_5', 'seg_rep_10', 'seg_rep_15', 'seg_rep_20',\n",
       "       'seg_rep_25', 'seg_rep_30', 'seg_rep_45', 'seg_rep_60', 'time_comp',\n",
       "       'time_played', 'replay_length', 'skipped_length'],\n",
       "      dtype='object')"
      ]
     },
     "execution_count": 59,
     "metadata": {},
     "output_type": "execute_result"
    }
   ],
   "source": [
    "# All numerical Feature normalize using Yeo-Johnson\n",
    "numeric_cols = train_norm.select_dtypes(include=\"number\").drop(columns=[\"tags\", TIME_COL, ITEM_COL]).columns\n",
    "numeric_cols"
   ]
  },
  {
   "cell_type": "code",
   "execution_count": 60,
   "id": "c3301a3f-e333-4056-8757-5a31e2b481e3",
   "metadata": {
    "tags": []
   },
   "outputs": [],
   "source": [
    "pt = PowerTransformer(\"yeo-johnson\")"
   ]
  },
  {
   "cell_type": "code",
   "execution_count": 61,
   "id": "58ff0239-5079-450d-abf6-5dee7a59d309",
   "metadata": {
    "tags": []
   },
   "outputs": [
    {
     "name": "stdout",
     "output_type": "stream",
     "text": [
      "CPU times: user 3.27 s, sys: 93.1 ms, total: 3.37 s\n",
      "Wall time: 3.5 s\n"
     ]
    }
   ],
   "source": [
    "%%time\n",
    "train_scaled = train_norm.copy()\n",
    "train_scaled.loc[:,numeric_cols] = pt.fit_transform(train_norm[numeric_cols])\n",
    "val_scaled = val_loo_norm.copy()\n",
    "val_scaled.loc[:,numeric_cols]  = pt.transform(val_loo_norm[numeric_cols])\n",
    "test_scaled = test_loo_norm.copy()\n",
    "test_scaled.loc[:,numeric_cols]  = pt.transform(test_loo_norm[numeric_cols])"
   ]
  },
  {
   "cell_type": "code",
   "execution_count": 62,
   "id": "323821f4-f4b2-4938-bc5e-7126712428cd",
   "metadata": {
    "tags": []
   },
   "outputs": [
    {
     "name": "stdout",
     "output_type": "stream",
     "text": [
      "CPU times: user 1.29 s, sys: 215 ms, total: 1.5 s\n",
      "Wall time: 1.51 s\n"
     ]
    }
   ],
   "source": [
    "%%time\n",
    "# For Sequential dataset down stream\n",
    "val_full_scaled = val_norm.copy()\n",
    "val_full_scaled.loc[:,numeric_cols] = pt.transform(val_full_scaled[numeric_cols])\n",
    "test_full_scaled = test_norm.copy()\n",
    "test_full_scaled.loc[:,numeric_cols] = pt.transform(test_full_scaled[numeric_cols])"
   ]
  },
  {
   "cell_type": "code",
   "execution_count": 63,
   "id": "bf232631-6bd2-4898-a898-e63cb8d3a5db",
   "metadata": {
    "tags": []
   },
   "outputs": [],
   "source": [
    "conv_scaled_path = conv_path / \"all_scaled\""
   ]
  },
  {
   "cell_type": "code",
   "execution_count": 64,
   "id": "0c7fa881-462c-4809-b155-c554c8f788d7",
   "metadata": {
    "tags": []
   },
   "outputs": [],
   "source": [
    "train_scaled.to_parquet(conv_scaled_path / \"train.parquet\")\n",
    "val_scaled.to_parquet(conv_scaled_path / \"val.parquet\")\n",
    "test_scaled.to_parquet(conv_scaled_path / \"test.parquet\")"
   ]
  },
  {
   "cell_type": "code",
   "execution_count": 65,
   "id": "8b4d2d20-d5c9-456b-bfc5-cd2b0b37d901",
   "metadata": {
    "tags": []
   },
   "outputs": [],
   "source": [
    "# For Sequential datasets downstream\n",
    "val_full_scaled.to_parquet(conv_scaled_path / \"val_full.parquet\")\n",
    "test_full_scaled.to_parquet(conv_scaled_path / \"test_full.parquet\")"
   ]
  },
  {
   "cell_type": "code",
   "execution_count": 66,
   "id": "c37af848-a00b-439b-a236-057675a4cfa8",
   "metadata": {
    "tags": []
   },
   "outputs": [],
   "source": [
    "# storing min and mix of each continuous feature\n",
    "test_full_scaled.describe().to_parquet(conv_scaled_path / \"feature_stats.parquet\")"
   ]
  },
  {
   "cell_type": "markdown",
   "id": "6b9af041-d63d-4429-98c3-704054cdb956",
   "metadata": {},
   "source": [
    "#### Scaled and bias adjusted\n",
    "Re-done - Adjust bias before scaling, not after.\n",
    "Video normalization doesn't scale/change it"
   ]
  },
  {
   "cell_type": "code",
   "execution_count": 67,
   "id": "7142b414-f540-45d7-a33b-c511d64af69b",
   "metadata": {
    "tags": []
   },
   "outputs": [],
   "source": [
    "from utils.pre_processing import adaptive_bias"
   ]
  },
  {
   "cell_type": "code",
   "execution_count": 68,
   "id": "c46561ac",
   "metadata": {
    "tags": []
   },
   "outputs": [],
   "source": [
    "# Load existing datasets\n",
    "if conv_vid_norm_path.exists():\n",
    "    train_norm = pd.read_parquet(conv_vid_norm_path / \"train.parquet\")\n",
    "    val_full_norm = pd.read_parquet(conv_vid_norm_path / \"val_full.parquet\")\n",
    "    test_full_norm = pd.read_parquet(conv_vid_norm_path / \"test_full.parquet\")\n",
    "    numeric_cols = train_norm.select_dtypes(include=\"number\").drop(columns=[ITEM_COL, TIME_COL, \"tags\"]).columns\n",
    "else:\n",
    "    raise RuntimeError(f\"Need to create {conv_vid_norm_path.name} datasets first\")"
   ]
  },
  {
   "cell_type": "code",
   "execution_count": 69,
   "id": "76fc195d",
   "metadata": {
    "tags": []
   },
   "outputs": [],
   "source": [
    "pt2 = PowerTransformer(\"yeo-johnson\")"
   ]
  },
  {
   "cell_type": "code",
   "execution_count": 70,
   "id": "03750800-2de5-494c-bc1e-7da8d3336482",
   "metadata": {
    "tags": []
   },
   "outputs": [
    {
     "name": "stderr",
     "output_type": "stream",
     "text": [
      "100%|███████████████████████████████████████████| 18194/18194 [01:16<00:00, 237.18it/s]\n"
     ]
    },
    {
     "name": "stdout",
     "output_type": "stream",
     "text": [
      "CPU times: user 1min 18s, sys: 393 ms, total: 1min 19s\n",
      "Wall time: 1min 21s\n"
     ]
    }
   ],
   "source": [
    "%%time\n",
    "# Since it is an expanding bias -> Doesn't make sense to apply it to the LOO splits\n",
    "# -> Must apply it to the full splits and then save it as LOO\n",
    "train_bias_adj = train_norm.copy()\n",
    "train_bias_adj.loc[:,numeric_cols] = pt2.fit_transform(get_apply_op(train_bias_adj[numeric_cols]\n",
    "                                                                    .groupby(USER_COL, group_keys=False, sort=False)\n",
    "                                                                   )(lambda col: col.transform(adaptive_bias))\n",
    "                                                      )"
   ]
  },
  {
   "cell_type": "code",
   "execution_count": 71,
   "id": "b308ed73-2ea7-4eb3-8614-606fc6c4aea1",
   "metadata": {
    "tags": []
   },
   "outputs": [
    {
     "data": {
      "text/html": [
       "<div>\n",
       "<style scoped>\n",
       "    .dataframe tbody tr th:only-of-type {\n",
       "        vertical-align: middle;\n",
       "    }\n",
       "\n",
       "    .dataframe tbody tr th {\n",
       "        vertical-align: top;\n",
       "    }\n",
       "\n",
       "    .dataframe thead th {\n",
       "        text-align: right;\n",
       "    }\n",
       "</style>\n",
       "<table border=\"1\" class=\"dataframe\">\n",
       "  <thead>\n",
       "    <tr style=\"text-align: right;\">\n",
       "      <th></th>\n",
       "      <th></th>\n",
       "      <th></th>\n",
       "      <th>time_spent</th>\n",
       "      <th>num_forward</th>\n",
       "      <th>num_backward</th>\n",
       "      <th>num_pause</th>\n",
       "      <th>median_pause</th>\n",
       "      <th>seg_rep_0</th>\n",
       "      <th>seg_rep_1</th>\n",
       "      <th>seg_rep_2</th>\n",
       "      <th>seg_rep_3</th>\n",
       "      <th>seg_rep_4</th>\n",
       "      <th>...</th>\n",
       "      <th>seg_rep_30</th>\n",
       "      <th>seg_rep_45</th>\n",
       "      <th>seg_rep_60</th>\n",
       "      <th>time_comp</th>\n",
       "      <th>time_played</th>\n",
       "      <th>replay_length</th>\n",
       "      <th>skipped_length</th>\n",
       "      <th>tags</th>\n",
       "      <th>item_id</th>\n",
       "      <th>timestamp</th>\n",
       "    </tr>\n",
       "    <tr>\n",
       "      <th>user_id</th>\n",
       "      <th>item_consecutive_id</th>\n",
       "      <th>session_id</th>\n",
       "      <th></th>\n",
       "      <th></th>\n",
       "      <th></th>\n",
       "      <th></th>\n",
       "      <th></th>\n",
       "      <th></th>\n",
       "      <th></th>\n",
       "      <th></th>\n",
       "      <th></th>\n",
       "      <th></th>\n",
       "      <th></th>\n",
       "      <th></th>\n",
       "      <th></th>\n",
       "      <th></th>\n",
       "      <th></th>\n",
       "      <th></th>\n",
       "      <th></th>\n",
       "      <th></th>\n",
       "      <th></th>\n",
       "      <th></th>\n",
       "      <th></th>\n",
       "    </tr>\n",
       "  </thead>\n",
       "  <tbody>\n",
       "    <tr>\n",
       "      <th rowspan=\"5\" valign=\"top\">1</th>\n",
       "      <th>1</th>\n",
       "      <th>0</th>\n",
       "      <td>0.063300</td>\n",
       "      <td>0.078834</td>\n",
       "      <td>0.097627</td>\n",
       "      <td>0.072830</td>\n",
       "      <td>0.007534</td>\n",
       "      <td>0.063478</td>\n",
       "      <td>0.070438</td>\n",
       "      <td>0.075614</td>\n",
       "      <td>0.078449</td>\n",
       "      <td>0.080292</td>\n",
       "      <td>...</td>\n",
       "      <td>0.067506</td>\n",
       "      <td>0.055008</td>\n",
       "      <td>0.044493</td>\n",
       "      <td>-0.084609</td>\n",
       "      <td>0.005759</td>\n",
       "      <td>0.087217</td>\n",
       "      <td>0.085685</td>\n",
       "      <td>94</td>\n",
       "      <td>1</td>\n",
       "      <td>1565096637922</td>\n",
       "    </tr>\n",
       "    <tr>\n",
       "      <th>2</th>\n",
       "      <th>0</th>\n",
       "      <td>0.101227</td>\n",
       "      <td>-0.100228</td>\n",
       "      <td>0.097627</td>\n",
       "      <td>0.072830</td>\n",
       "      <td>0.008709</td>\n",
       "      <td>0.063478</td>\n",
       "      <td>0.070438</td>\n",
       "      <td>0.075614</td>\n",
       "      <td>0.078449</td>\n",
       "      <td>0.080292</td>\n",
       "      <td>...</td>\n",
       "      <td>0.067506</td>\n",
       "      <td>0.055008</td>\n",
       "      <td>0.044493</td>\n",
       "      <td>-0.083012</td>\n",
       "      <td>-0.281423</td>\n",
       "      <td>0.087217</td>\n",
       "      <td>0.081267</td>\n",
       "      <td>43</td>\n",
       "      <td>2</td>\n",
       "      <td>1568120237376</td>\n",
       "    </tr>\n",
       "    <tr>\n",
       "      <th>3</th>\n",
       "      <th>0</th>\n",
       "      <td>0.137784</td>\n",
       "      <td>0.190092</td>\n",
       "      <td>0.097627</td>\n",
       "      <td>0.072830</td>\n",
       "      <td>0.006792</td>\n",
       "      <td>0.063478</td>\n",
       "      <td>0.070438</td>\n",
       "      <td>0.075614</td>\n",
       "      <td>0.078449</td>\n",
       "      <td>0.080292</td>\n",
       "      <td>...</td>\n",
       "      <td>0.067506</td>\n",
       "      <td>0.055008</td>\n",
       "      <td>0.044493</td>\n",
       "      <td>-0.094449</td>\n",
       "      <td>-0.421574</td>\n",
       "      <td>0.087217</td>\n",
       "      <td>0.134819</td>\n",
       "      <td>44</td>\n",
       "      <td>3</td>\n",
       "      <td>1568120575929</td>\n",
       "    </tr>\n",
       "    <tr>\n",
       "      <th>4</th>\n",
       "      <th>0</th>\n",
       "      <td>0.135844</td>\n",
       "      <td>-0.100228</td>\n",
       "      <td>0.097627</td>\n",
       "      <td>0.072830</td>\n",
       "      <td>0.007675</td>\n",
       "      <td>0.063478</td>\n",
       "      <td>0.070438</td>\n",
       "      <td>0.075614</td>\n",
       "      <td>0.078449</td>\n",
       "      <td>0.080292</td>\n",
       "      <td>...</td>\n",
       "      <td>0.067506</td>\n",
       "      <td>0.055008</td>\n",
       "      <td>0.044493</td>\n",
       "      <td>-0.080746</td>\n",
       "      <td>-0.048379</td>\n",
       "      <td>0.087217</td>\n",
       "      <td>0.063809</td>\n",
       "      <td>46</td>\n",
       "      <td>4</td>\n",
       "      <td>1568120885352</td>\n",
       "    </tr>\n",
       "    <tr>\n",
       "      <th>5</th>\n",
       "      <th>0</th>\n",
       "      <td>0.211688</td>\n",
       "      <td>-0.063346</td>\n",
       "      <td>0.097627</td>\n",
       "      <td>0.072830</td>\n",
       "      <td>0.011089</td>\n",
       "      <td>0.063478</td>\n",
       "      <td>0.070438</td>\n",
       "      <td>0.075614</td>\n",
       "      <td>0.078449</td>\n",
       "      <td>0.080292</td>\n",
       "      <td>...</td>\n",
       "      <td>0.067506</td>\n",
       "      <td>0.055008</td>\n",
       "      <td>0.044493</td>\n",
       "      <td>-0.089877</td>\n",
       "      <td>-0.389254</td>\n",
       "      <td>0.087217</td>\n",
       "      <td>0.068192</td>\n",
       "      <td>0</td>\n",
       "      <td>5</td>\n",
       "      <td>1568121279019</td>\n",
       "    </tr>\n",
       "    <tr>\n",
       "      <th>...</th>\n",
       "      <th>...</th>\n",
       "      <th>...</th>\n",
       "      <td>...</td>\n",
       "      <td>...</td>\n",
       "      <td>...</td>\n",
       "      <td>...</td>\n",
       "      <td>...</td>\n",
       "      <td>...</td>\n",
       "      <td>...</td>\n",
       "      <td>...</td>\n",
       "      <td>...</td>\n",
       "      <td>...</td>\n",
       "      <td>...</td>\n",
       "      <td>...</td>\n",
       "      <td>...</td>\n",
       "      <td>...</td>\n",
       "      <td>...</td>\n",
       "      <td>...</td>\n",
       "      <td>...</td>\n",
       "      <td>...</td>\n",
       "      <td>...</td>\n",
       "      <td>...</td>\n",
       "      <td>...</td>\n",
       "    </tr>\n",
       "    <tr>\n",
       "      <th rowspan=\"5\" valign=\"top\">831764</th>\n",
       "      <th>8</th>\n",
       "      <th>2</th>\n",
       "      <td>-0.183279</td>\n",
       "      <td>-0.039035</td>\n",
       "      <td>1.297894</td>\n",
       "      <td>0.132674</td>\n",
       "      <td>0.007444</td>\n",
       "      <td>0.639629</td>\n",
       "      <td>0.767032</td>\n",
       "      <td>0.890615</td>\n",
       "      <td>1.071205</td>\n",
       "      <td>0.535843</td>\n",
       "      <td>...</td>\n",
       "      <td>-2.922814</td>\n",
       "      <td>-1.957621</td>\n",
       "      <td>-2.530637</td>\n",
       "      <td>0.375767</td>\n",
       "      <td>-0.047743</td>\n",
       "      <td>-0.949430</td>\n",
       "      <td>0.025146</td>\n",
       "      <td>124</td>\n",
       "      <td>139</td>\n",
       "      <td>1574764191758</td>\n",
       "    </tr>\n",
       "    <tr>\n",
       "      <th>9</th>\n",
       "      <th>0</th>\n",
       "      <td>0.803611</td>\n",
       "      <td>-0.026965</td>\n",
       "      <td>3.015015</td>\n",
       "      <td>0.126745</td>\n",
       "      <td>0.007445</td>\n",
       "      <td>2.322427</td>\n",
       "      <td>2.737729</td>\n",
       "      <td>3.122304</td>\n",
       "      <td>3.503102</td>\n",
       "      <td>3.421359</td>\n",
       "      <td>...</td>\n",
       "      <td>-0.156445</td>\n",
       "      <td>-1.736013</td>\n",
       "      <td>-2.247220</td>\n",
       "      <td>0.328549</td>\n",
       "      <td>2.055936</td>\n",
       "      <td>3.606615</td>\n",
       "      <td>0.031232</td>\n",
       "      <td>110</td>\n",
       "      <td>135</td>\n",
       "      <td>1574764713578</td>\n",
       "    </tr>\n",
       "    <tr>\n",
       "      <th>10</th>\n",
       "      <th>0</th>\n",
       "      <td>-0.391562</td>\n",
       "      <td>-0.017134</td>\n",
       "      <td>-0.962232</td>\n",
       "      <td>0.576904</td>\n",
       "      <td>0.007518</td>\n",
       "      <td>-1.005021</td>\n",
       "      <td>-1.277674</td>\n",
       "      <td>-1.571933</td>\n",
       "      <td>-1.726969</td>\n",
       "      <td>-1.657983</td>\n",
       "      <td>...</td>\n",
       "      <td>-2.579004</td>\n",
       "      <td>-1.557885</td>\n",
       "      <td>-2.019391</td>\n",
       "      <td>0.288065</td>\n",
       "      <td>-1.703018</td>\n",
       "      <td>-2.700738</td>\n",
       "      <td>0.036207</td>\n",
       "      <td>94</td>\n",
       "      <td>1</td>\n",
       "      <td>1574765372527</td>\n",
       "    </tr>\n",
       "    <tr>\n",
       "      <th>11</th>\n",
       "      <th>0</th>\n",
       "      <td>-0.300393</td>\n",
       "      <td>-0.008973</td>\n",
       "      <td>-1.693709</td>\n",
       "      <td>0.072830</td>\n",
       "      <td>0.007483</td>\n",
       "      <td>-0.908112</td>\n",
       "      <td>-1.153823</td>\n",
       "      <td>-1.418587</td>\n",
       "      <td>-1.557684</td>\n",
       "      <td>-1.494826</td>\n",
       "      <td>...</td>\n",
       "      <td>-2.327086</td>\n",
       "      <td>-1.411671</td>\n",
       "      <td>-1.832366</td>\n",
       "      <td>0.256676</td>\n",
       "      <td>-0.396641</td>\n",
       "      <td>-2.352806</td>\n",
       "      <td>0.040349</td>\n",
       "      <td>91</td>\n",
       "      <td>127</td>\n",
       "      <td>1574765764861</td>\n",
       "    </tr>\n",
       "    <tr>\n",
       "      <th>12</th>\n",
       "      <th>0</th>\n",
       "      <td>-0.597922</td>\n",
       "      <td>-0.002089</td>\n",
       "      <td>-2.437839</td>\n",
       "      <td>0.072830</td>\n",
       "      <td>0.007594</td>\n",
       "      <td>-1.138481</td>\n",
       "      <td>-1.448566</td>\n",
       "      <td>-1.783941</td>\n",
       "      <td>-1.992328</td>\n",
       "      <td>-2.006057</td>\n",
       "      <td>...</td>\n",
       "      <td>-2.117994</td>\n",
       "      <td>-1.289550</td>\n",
       "      <td>-1.676151</td>\n",
       "      <td>-1.170654</td>\n",
       "      <td>-1.117802</td>\n",
       "      <td>-2.351518</td>\n",
       "      <td>0.043851</td>\n",
       "      <td>97</td>\n",
       "      <td>22</td>\n",
       "      <td>1574766296581</td>\n",
       "    </tr>\n",
       "  </tbody>\n",
       "</table>\n",
       "<p>268366 rows × 25 columns</p>\n",
       "</div>"
      ],
      "text/plain": [
       "                                        time_spent  num_forward  num_backward  \\\n",
       "user_id item_consecutive_id session_id                                          \n",
       "1       1                   0             0.063300     0.078834      0.097627   \n",
       "        2                   0             0.101227    -0.100228      0.097627   \n",
       "        3                   0             0.137784     0.190092      0.097627   \n",
       "        4                   0             0.135844    -0.100228      0.097627   \n",
       "        5                   0             0.211688    -0.063346      0.097627   \n",
       "...                                            ...          ...           ...   \n",
       "831764  8                   2            -0.183279    -0.039035      1.297894   \n",
       "        9                   0             0.803611    -0.026965      3.015015   \n",
       "        10                  0            -0.391562    -0.017134     -0.962232   \n",
       "        11                  0            -0.300393    -0.008973     -1.693709   \n",
       "        12                  0            -0.597922    -0.002089     -2.437839   \n",
       "\n",
       "                                        num_pause  median_pause  seg_rep_0  \\\n",
       "user_id item_consecutive_id session_id                                       \n",
       "1       1                   0            0.072830      0.007534   0.063478   \n",
       "        2                   0            0.072830      0.008709   0.063478   \n",
       "        3                   0            0.072830      0.006792   0.063478   \n",
       "        4                   0            0.072830      0.007675   0.063478   \n",
       "        5                   0            0.072830      0.011089   0.063478   \n",
       "...                                           ...           ...        ...   \n",
       "831764  8                   2            0.132674      0.007444   0.639629   \n",
       "        9                   0            0.126745      0.007445   2.322427   \n",
       "        10                  0            0.576904      0.007518  -1.005021   \n",
       "        11                  0            0.072830      0.007483  -0.908112   \n",
       "        12                  0            0.072830      0.007594  -1.138481   \n",
       "\n",
       "                                        seg_rep_1  seg_rep_2  seg_rep_3  \\\n",
       "user_id item_consecutive_id session_id                                    \n",
       "1       1                   0            0.070438   0.075614   0.078449   \n",
       "        2                   0            0.070438   0.075614   0.078449   \n",
       "        3                   0            0.070438   0.075614   0.078449   \n",
       "        4                   0            0.070438   0.075614   0.078449   \n",
       "        5                   0            0.070438   0.075614   0.078449   \n",
       "...                                           ...        ...        ...   \n",
       "831764  8                   2            0.767032   0.890615   1.071205   \n",
       "        9                   0            2.737729   3.122304   3.503102   \n",
       "        10                  0           -1.277674  -1.571933  -1.726969   \n",
       "        11                  0           -1.153823  -1.418587  -1.557684   \n",
       "        12                  0           -1.448566  -1.783941  -1.992328   \n",
       "\n",
       "                                        seg_rep_4  ...  seg_rep_30  \\\n",
       "user_id item_consecutive_id session_id             ...               \n",
       "1       1                   0            0.080292  ...    0.067506   \n",
       "        2                   0            0.080292  ...    0.067506   \n",
       "        3                   0            0.080292  ...    0.067506   \n",
       "        4                   0            0.080292  ...    0.067506   \n",
       "        5                   0            0.080292  ...    0.067506   \n",
       "...                                           ...  ...         ...   \n",
       "831764  8                   2            0.535843  ...   -2.922814   \n",
       "        9                   0            3.421359  ...   -0.156445   \n",
       "        10                  0           -1.657983  ...   -2.579004   \n",
       "        11                  0           -1.494826  ...   -2.327086   \n",
       "        12                  0           -2.006057  ...   -2.117994   \n",
       "\n",
       "                                        seg_rep_45  seg_rep_60  time_comp  \\\n",
       "user_id item_consecutive_id session_id                                      \n",
       "1       1                   0             0.055008    0.044493  -0.084609   \n",
       "        2                   0             0.055008    0.044493  -0.083012   \n",
       "        3                   0             0.055008    0.044493  -0.094449   \n",
       "        4                   0             0.055008    0.044493  -0.080746   \n",
       "        5                   0             0.055008    0.044493  -0.089877   \n",
       "...                                            ...         ...        ...   \n",
       "831764  8                   2            -1.957621   -2.530637   0.375767   \n",
       "        9                   0            -1.736013   -2.247220   0.328549   \n",
       "        10                  0            -1.557885   -2.019391   0.288065   \n",
       "        11                  0            -1.411671   -1.832366   0.256676   \n",
       "        12                  0            -1.289550   -1.676151  -1.170654   \n",
       "\n",
       "                                        time_played  replay_length  \\\n",
       "user_id item_consecutive_id session_id                               \n",
       "1       1                   0              0.005759       0.087217   \n",
       "        2                   0             -0.281423       0.087217   \n",
       "        3                   0             -0.421574       0.087217   \n",
       "        4                   0             -0.048379       0.087217   \n",
       "        5                   0             -0.389254       0.087217   \n",
       "...                                             ...            ...   \n",
       "831764  8                   2             -0.047743      -0.949430   \n",
       "        9                   0              2.055936       3.606615   \n",
       "        10                  0             -1.703018      -2.700738   \n",
       "        11                  0             -0.396641      -2.352806   \n",
       "        12                  0             -1.117802      -2.351518   \n",
       "\n",
       "                                        skipped_length  tags  item_id  \\\n",
       "user_id item_consecutive_id session_id                                  \n",
       "1       1                   0                 0.085685    94        1   \n",
       "        2                   0                 0.081267    43        2   \n",
       "        3                   0                 0.134819    44        3   \n",
       "        4                   0                 0.063809    46        4   \n",
       "        5                   0                 0.068192     0        5   \n",
       "...                                                ...   ...      ...   \n",
       "831764  8                   2                 0.025146   124      139   \n",
       "        9                   0                 0.031232   110      135   \n",
       "        10                  0                 0.036207    94        1   \n",
       "        11                  0                 0.040349    91      127   \n",
       "        12                  0                 0.043851    97       22   \n",
       "\n",
       "                                            timestamp  \n",
       "user_id item_consecutive_id session_id                 \n",
       "1       1                   0           1565096637922  \n",
       "        2                   0           1568120237376  \n",
       "        3                   0           1568120575929  \n",
       "        4                   0           1568120885352  \n",
       "        5                   0           1568121279019  \n",
       "...                                               ...  \n",
       "831764  8                   2           1574764191758  \n",
       "        9                   0           1574764713578  \n",
       "        10                  0           1574765372527  \n",
       "        11                  0           1574765764861  \n",
       "        12                  0           1574766296581  \n",
       "\n",
       "[268366 rows x 25 columns]"
      ]
     },
     "execution_count": 71,
     "metadata": {},
     "output_type": "execute_result"
    }
   ],
   "source": [
    "train_bias_adj"
   ]
  },
  {
   "cell_type": "code",
   "execution_count": 72,
   "id": "c6316b08-6969-44ac-98bd-20b2e5d5a63d",
   "metadata": {
    "tags": []
   },
   "outputs": [
    {
     "name": "stderr",
     "output_type": "stream",
     "text": [
      "100%|███████████████████████████████████████████| 18194/18194 [01:36<00:00, 188.13it/s]\n",
      "100%|███████████████████████████████████████████| 18194/18194 [01:36<00:00, 187.61it/s]\n"
     ]
    },
    {
     "name": "stdout",
     "output_type": "stream",
     "text": [
      "CPU times: user 2min 34s, sys: 740 ms, total: 2min 35s\n",
      "Wall time: 3min 16s\n"
     ]
    }
   ],
   "source": [
    "%%time\n",
    "# For Sequential dataset down stream and to be saved as LOO\n",
    "val_full_bias_adj = val_full_norm.copy()\n",
    "val_full_bias_adj.loc[:,numeric_cols] = pt2.transform(get_apply_op(val_full_bias_adj[numeric_cols]\n",
    "                                                                   .groupby(USER_COL, group_keys=False, sort=False)\n",
    "                                                                  )(lambda col: col.transform(adaptive_bias))\n",
    "                                                     )\n",
    "test_full_bias_adj = test_full_norm.copy()\n",
    "test_full_bias_adj.loc[:,numeric_cols] = pt2.transform(get_apply_op(test_full_bias_adj[numeric_cols]\n",
    "                                                                    .groupby(USER_COL, group_keys=False, sort=False)\n",
    "                                                                   )(lambda col: col.transform(adaptive_bias))\n",
    "                                                      )"
   ]
  },
  {
   "cell_type": "code",
   "execution_count": 73,
   "id": "25cdc3f6-72b3-407f-8eba-052e97a1b439",
   "metadata": {
    "tags": []
   },
   "outputs": [],
   "source": [
    "conv_scaled_bias_path = conv_path / \"bias_adj_all_scaled\""
   ]
  },
  {
   "cell_type": "code",
   "execution_count": 74,
   "id": "521b4050-8ade-4a31-921c-edb6c0aac79e",
   "metadata": {
    "tags": []
   },
   "outputs": [
    {
     "name": "stderr",
     "output_type": "stream",
     "text": [
      "100%|██████████████████████████████████████████| 18194/18194 [00:03<00:00, 5493.82it/s]\n",
      "100%|██████████████████████████████████████████| 18194/18194 [00:03<00:00, 5326.39it/s]\n"
     ]
    }
   ],
   "source": [
    "train_bias_adj.to_parquet(conv_scaled_bias_path / \"train.parquet\")\n",
    "# Had to calculate the bias based on the complete row -> Save only last (Includes features in the case of Simulation/feature prediction)\n",
    "val_full_bias_adj.groupby(USER_COL, sort=False, group_keys=False).progress_apply(lambda group: group.tail(1)).to_parquet(conv_scaled_bias_path / \"val.parquet\")\n",
    "test_full_bias_adj.groupby(USER_COL, sort=False, group_keys=False).progress_apply(lambda group: group.tail(1)).to_parquet(conv_scaled_bias_path / \"test.parquet\")"
   ]
  },
  {
   "cell_type": "code",
   "execution_count": 75,
   "id": "45b5cd0e-d339-46e6-90b0-78e25467f64f",
   "metadata": {
    "tags": []
   },
   "outputs": [],
   "source": [
    "# For Sequential datasets downstream\n",
    "val_full_bias_adj.to_parquet(conv_scaled_bias_path / \"val_full.parquet\")\n",
    "test_full_bias_adj.to_parquet(conv_scaled_bias_path / \"test_full.parquet\")"
   ]
  },
  {
   "cell_type": "code",
   "execution_count": 76,
   "id": "497d7d30-fb50-4272-b084-b50f4f09f01f",
   "metadata": {
    "tags": []
   },
   "outputs": [],
   "source": [
    "# storing min and mix of each continuous feature\n",
    "test_full_bias_adj.describe().to_parquet(conv_scaled_bias_path / \"feature_stats.parquet\")"
   ]
  },
  {
   "cell_type": "markdown",
   "id": "273ab9ad-3993-4371-b5df-f2bd3361c121",
   "metadata": {},
   "source": [
    "### Listify By user\n",
    "**Raw, without video_norm**"
   ]
  },
  {
   "cell_type": "code",
   "execution_count": 77,
   "id": "d501fd6a-8d27-41a3-9346-f2d080795d49",
   "metadata": {
    "tags": []
   },
   "outputs": [],
   "source": [
    "LIST_COLS = []\n",
    "REG_COLS = list(set(test_full_bias_adj.reset_index().drop(columns=[\"user_id\"]).columns) - set(LIST_COLS))"
   ]
  },
  {
   "cell_type": "code",
   "execution_count": 78,
   "id": "c9711a6f-f9a9-4706-a025-95af7fe8dcbd",
   "metadata": {
    "tags": []
   },
   "outputs": [
    {
     "data": {
      "text/plain": [
       "(['num_backward',\n",
       "  'skipped_length',\n",
       "  'seg_rep_10',\n",
       "  'seg_rep_30',\n",
       "  'seg_rep_1',\n",
       "  'seg_rep_2',\n",
       "  'timestamp',\n",
       "  'seg_rep_60',\n",
       "  'tags',\n",
       "  'seg_rep_0',\n",
       "  'item_consecutive_id',\n",
       "  'seg_rep_4',\n",
       "  'seg_rep_5',\n",
       "  'item_id',\n",
       "  'time_played',\n",
       "  'session_id',\n",
       "  'seg_rep_45',\n",
       "  'seg_rep_15',\n",
       "  'seg_rep_25',\n",
       "  'seg_rep_20',\n",
       "  'replay_length',\n",
       "  'num_pause',\n",
       "  'time_spent',\n",
       "  'seg_rep_3',\n",
       "  'num_forward',\n",
       "  'median_pause',\n",
       "  'time_comp'],\n",
       " [])"
      ]
     },
     "execution_count": 78,
     "metadata": {},
     "output_type": "execute_result"
    }
   ],
   "source": [
    "REG_COLS, LIST_COLS"
   ]
  },
  {
   "cell_type": "code",
   "execution_count": 79,
   "id": "91a741f9-0d7d-4aab-a349-07254aaa3d40",
   "metadata": {
    "tags": []
   },
   "outputs": [],
   "source": [
    "import importlib\n",
    "utils = importlib.import_module(\"utils\")\n",
    "importlib.reload(utils)\n",
    "from utils.pre_processing import bulk_listify, bulk_pad_split, save_splits"
   ]
  },
  {
   "cell_type": "code",
   "execution_count": 80,
   "id": "0cda564a-866d-4d22-ba2f-4c7bd190d3e1",
   "metadata": {
    "tags": []
   },
   "outputs": [],
   "source": [
    "PAD_TOKEN = 0"
   ]
  },
  {
   "cell_type": "markdown",
   "id": "bbd4edce-b9af-4c8d-99ee-21267a762bdc",
   "metadata": {},
   "source": [
    "**Raw sequential dataset**"
   ]
  },
  {
   "cell_type": "code",
   "execution_count": 81,
   "id": "6ae4e588-df7c-486e-a6a9-543ebc37fb9d",
   "metadata": {
    "tags": []
   },
   "outputs": [
    {
     "name": "stdout",
     "output_type": "stream",
     "text": [
      "CPU times: user 10.6 s, sys: 394 ms, total: 11 s\n",
      "Wall time: 11.2 s\n"
     ]
    }
   ],
   "source": [
    "%%time\n",
    "train_raw_seq_pad, val_raw_seq_pad, test_raw_seq_pad =  bulk_pad_split(\n",
    "                                                            *bulk_listify(train_raw, val_raw, test_raw), \n",
    "                                                            reg_cols=REG_COLS,\n",
    "                                                        )"
   ]
  },
  {
   "cell_type": "code",
   "execution_count": 82,
   "id": "74f3b90f-9dcb-4875-a161-e345dd60d682",
   "metadata": {
    "tags": []
   },
   "outputs": [
    {
     "name": "stdout",
     "output_type": "stream",
     "text": [
      "CPU times: user 2.61 s, sys: 92.6 ms, total: 2.71 s\n",
      "Wall time: 2.77 s\n"
     ]
    }
   ],
   "source": [
    "%%time\n",
    "raw_seq_splits = {\n",
    "    \"train\": train_raw_seq_pad,\n",
    "    \"val\": val_raw_seq_pad,\n",
    "    \"test\": test_raw_seq_pad\n",
    "}\n",
    "seq_raw_path = seq_path / \"raw_dataset\"\n",
    "save_splits(seq_raw_path, raw_seq_splits)\n",
    "test_raw.describe().to_parquet(seq_raw_path / \"feature_stats.parquet\")"
   ]
  },
  {
   "cell_type": "markdown",
   "id": "fc20f0f0-a653-46a2-ab6e-6632fd2a4d9a",
   "metadata": {},
   "source": [
    "###"
   ]
  },
  {
   "cell_type": "markdown",
   "id": "bfe47e04-74ba-43e7-8f1b-7a087d54e031",
   "metadata": {},
   "source": [
    "**Sequential Video Normalized**"
   ]
  },
  {
   "cell_type": "code",
   "execution_count": 83,
   "id": "37f9c36b-a9e4-478d-9bd0-c6185a7c8ae0",
   "metadata": {
    "tags": []
   },
   "outputs": [
    {
     "name": "stdout",
     "output_type": "stream",
     "text": [
      "CPU times: user 10.5 s, sys: 408 ms, total: 10.9 s\n",
      "Wall time: 11.1 s\n"
     ]
    }
   ],
   "source": [
    "%%time\n",
    "train_norm_seq_pad, val_norm_seq_pad, test_norm_seq_pad =  bulk_pad_split(\n",
    "                                                            *bulk_listify(train_norm, val_norm, test_norm), \n",
    "                                                            reg_cols=REG_COLS\n",
    "                                                        )"
   ]
  },
  {
   "cell_type": "code",
   "execution_count": 84,
   "id": "81558ad4-f546-43e4-b563-4df45414c82e",
   "metadata": {
    "tags": []
   },
   "outputs": [
    {
     "name": "stdout",
     "output_type": "stream",
     "text": [
      "CPU times: user 2.58 s, sys: 52.8 ms, total: 2.64 s\n",
      "Wall time: 2.7 s\n"
     ]
    }
   ],
   "source": [
    "%%time\n",
    "norm_seq_splits = {\n",
    "    \"train\": train_norm_seq_pad,\n",
    "    \"val\": val_norm_seq_pad,\n",
    "    \"test\": test_norm_seq_pad\n",
    "}\n",
    "seq_video_norm_path = seq_path / \"video_normalized\"\n",
    "save_splits(seq_video_norm_path, norm_seq_splits)\n",
    "test_norm.describe().to_parquet(seq_video_norm_path / \"feature_stats.parquet\")"
   ]
  },
  {
   "cell_type": "markdown",
   "id": "139fd9c1-90f6-4e94-8908-3f5dcac89f09",
   "metadata": {},
   "source": [
    "###"
   ]
  },
  {
   "cell_type": "markdown",
   "id": "1fbdc01f-eba8-4b7a-8a47-ab78e4acb746",
   "metadata": {},
   "source": [
    "**Sequential All features scaled**"
   ]
  },
  {
   "cell_type": "code",
   "execution_count": 85,
   "id": "3387d109-a28c-4ef4-8629-7d3686387d0a",
   "metadata": {
    "tags": []
   },
   "outputs": [
    {
     "name": "stdout",
     "output_type": "stream",
     "text": [
      "CPU times: user 11 s, sys: 392 ms, total: 11.4 s\n",
      "Wall time: 11.6 s\n"
     ]
    }
   ],
   "source": [
    "%%time\n",
    "train_scaled_seq, val_scaled_seq, test_scaled_seq =  bulk_pad_split(\n",
    "                                                            *bulk_listify(train_scaled, val_full_scaled, test_full_scaled), \n",
    "                                                            reg_cols=REG_COLS\n",
    "                                                        )"
   ]
  },
  {
   "cell_type": "code",
   "execution_count": 86,
   "id": "a41e7689-a66c-4a81-8d57-8f24adb07d3f",
   "metadata": {
    "tags": []
   },
   "outputs": [
    {
     "name": "stdout",
     "output_type": "stream",
     "text": [
      "CPU times: user 2.61 s, sys: 62.8 ms, total: 2.67 s\n",
      "Wall time: 2.74 s\n"
     ]
    }
   ],
   "source": [
    "%%time\n",
    "scaled_seq_splits = {\n",
    "    \"train\": train_scaled_seq,\n",
    "    \"val\": val_scaled_seq,\n",
    "    \"test\": test_scaled_seq\n",
    "}\n",
    "seq_scaled_path = seq_path / \"all_scaled\"\n",
    "save_splits(seq_scaled_path, scaled_seq_splits)\n",
    "test_full_scaled.describe().to_parquet(seq_scaled_path / \"feature_stats.parquet\")"
   ]
  },
  {
   "cell_type": "markdown",
   "id": "4172f446-8c01-4470-ac14-a23724aab425",
   "metadata": {},
   "source": [
    "####"
   ]
  },
  {
   "cell_type": "markdown",
   "id": "5c91a766-dd3f-47a1-9c2b-ecc7c70f4e63",
   "metadata": {},
   "source": [
    "**Sequential Expanding bias adjustment**"
   ]
  },
  {
   "cell_type": "code",
   "execution_count": 87,
   "id": "36f45b89-ced6-4ab3-906d-e948cdfbf8e7",
   "metadata": {
    "tags": []
   },
   "outputs": [
    {
     "name": "stdout",
     "output_type": "stream",
     "text": [
      "CPU times: user 10.7 s, sys: 419 ms, total: 11.1 s\n",
      "Wall time: 11.5 s\n"
     ]
    }
   ],
   "source": [
    "%%time\n",
    "train_scaled_bias_adj_seq, val_scaled_bias_adj_seq, test_scaled_bias_adj_seq =  bulk_pad_split(\n",
    "                                                            *bulk_listify(train_bias_adj, val_full_bias_adj, test_full_bias_adj), \n",
    "                                                            reg_cols=REG_COLS\n",
    "                                                        )"
   ]
  },
  {
   "cell_type": "code",
   "execution_count": 88,
   "id": "a28b0319-0f4d-4270-b993-0b1b6a27095a",
   "metadata": {
    "tags": []
   },
   "outputs": [
    {
     "name": "stdout",
     "output_type": "stream",
     "text": [
      "CPU times: user 2.68 s, sys: 56.7 ms, total: 2.74 s\n",
      "Wall time: 2.8 s\n"
     ]
    }
   ],
   "source": [
    "%%time\n",
    "scaled_bias_seq_splits = {\n",
    "    \"train\": train_scaled_bias_adj_seq,\n",
    "    \"val\": val_scaled_bias_adj_seq,\n",
    "    \"test\": test_scaled_bias_adj_seq\n",
    "}\n",
    "seq_scaled_bias_adj_path = seq_path / \"bias_adj_all_scaled\"\n",
    "save_splits(seq_scaled_bias_adj_path, scaled_bias_seq_splits)\n",
    "test_full_bias_adj.describe().to_parquet(seq_scaled_bias_adj_path / \"feature_stats.parquet\")"
   ]
  }
 ],
 "metadata": {
  "kernelspec": {
   "display_name": "Python 3 (ipykernel)",
   "language": "python",
   "name": "python3"
  },
  "language_info": {
   "codemirror_mode": {
    "name": "ipython",
    "version": 3
   },
   "file_extension": ".py",
   "mimetype": "text/x-python",
   "name": "python",
   "nbconvert_exporter": "python",
   "pygments_lexer": "ipython3",
   "version": "3.8.10"
  }
 },
 "nbformat": 4,
 "nbformat_minor": 5
}
