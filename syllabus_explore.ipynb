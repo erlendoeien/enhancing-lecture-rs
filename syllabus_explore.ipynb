{
 "cells": [
  {
   "cell_type": "markdown",
   "id": "4d198d40-b4b4-483b-a301-f7743de162de",
   "metadata": {},
   "source": [
    "Roughly 200K syllabus video resources, but only 17K are in the logs\n",
    "-> Syllabus will be really poor predictor.\n",
    "\n",
    "- Only 98 446 of interactions are of videos in a syllabus\n",
    "\n",
    "-> Few videos in the logs are in the syllabus defined by the courses\n",
    "\n",
    "- Every video in the log is in some syllabus\n",
    "- End of syllabus -> Recommend MostPop \n",
    "- Out of Syllabus -> Recommend MostPop\n",
    "- Fill out predictions -> MostPop"
   ]
  },
  {
   "cell_type": "code",
   "execution_count": 1,
   "id": "074de0d8-9c75-4abd-84bb-498557c9b330",
   "metadata": {
    "tags": []
   },
   "outputs": [],
   "source": [
    "import pandas as pd\n",
    "from pathlib import Path\n",
    "import numpy as np\n",
    "import typing as t"
   ]
  },
  {
   "cell_type": "code",
   "execution_count": 2,
   "id": "24b54cd4-f068-4f98-82f8-4ddf19b599d7",
   "metadata": {
    "tags": []
   },
   "outputs": [],
   "source": [
    "courses = pd.read_json(\"../MOOCCubeX/entities/course.json\", lines=True)"
   ]
  },
  {
   "cell_type": "code",
   "execution_count": 3,
   "id": "7a01d010-204c-4e54-97e8-9f804e04d698",
   "metadata": {
    "tags": []
   },
   "outputs": [],
   "source": [
    "exploded = courses.drop(columns=[\"name\", \"prerequisites\", \"about\"]).explode(\"resource\")\n",
    "course_flat = pd.concat([exploded.reset_index()[\"id\"], pd.DataFrame(exploded[\"resource\"].values.tolist())], axis=1).set_index(\"id\")"
   ]
  },
  {
   "cell_type": "code",
   "execution_count": 4,
   "id": "6ca3bbd7-a10a-4052-80c5-b4a497c065be",
   "metadata": {
    "tags": []
   },
   "outputs": [
    {
     "name": "stdout",
     "output_type": "stream",
     "text": [
      "CPU times: user 142 ms, sys: 0 ns, total: 142 ms\n",
      "Wall time: 147 ms\n"
     ]
    }
   ],
   "source": [
    "%%time\n",
    "# Assumes order is as published -> Generated order as chapter is not stable\n",
    "# Or maybe just sort on chapter and replace \"0\" with \"0.0.1\" or something\n",
    "courses_videos = course_flat[course_flat[\"resource_id\"].str.startswith(\"V_\")]\n",
    "#courses_numbered = course_flat.assign(resource_order=course_flat.groupby(\"id\")[[\"chapter\"]].transform(lambda col: range(len(col))))"
   ]
  },
  {
   "cell_type": "code",
   "execution_count": 5,
   "id": "a663ccf3-08cd-474e-930d-ba761fc5db54",
   "metadata": {
    "tags": []
   },
   "outputs": [
    {
     "name": "stderr",
     "output_type": "stream",
     "text": [
      "/usr/local/lib/python3.8/dist-packages/pandas/core/indexing.py:1732: SettingWithCopyWarning: \n",
      "A value is trying to be set on a copy of a slice from a DataFrame\n",
      "\n",
      "See the caveats in the documentation: https://pandas.pydata.org/pandas-docs/stable/user_guide/indexing.html#returning-a-view-versus-a-copy\n",
      "  self._setitem_single_block(indexer, value, name)\n",
      "/usr/local/lib/python3.8/dist-packages/pandas/core/indexing.py:723: SettingWithCopyWarning: \n",
      "A value is trying to be set on a copy of a slice from a DataFrame\n",
      "\n",
      "See the caveats in the documentation: https://pandas.pydata.org/pandas-docs/stable/user_guide/indexing.html#returning-a-view-versus-a-copy\n",
      "  iloc._setitem_with_indexer(indexer, value, self.name)\n"
     ]
    },
    {
     "data": {
      "text/html": [
       "<div>\n",
       "<style scoped>\n",
       "    .dataframe tbody tr th:only-of-type {\n",
       "        vertical-align: middle;\n",
       "    }\n",
       "\n",
       "    .dataframe tbody tr th {\n",
       "        vertical-align: top;\n",
       "    }\n",
       "\n",
       "    .dataframe thead th {\n",
       "        text-align: right;\n",
       "    }\n",
       "</style>\n",
       "<table border=\"1\" class=\"dataframe\">\n",
       "  <thead>\n",
       "    <tr style=\"text-align: right;\">\n",
       "      <th></th>\n",
       "      <th>titles</th>\n",
       "      <th>resource_id</th>\n",
       "      <th>chapter</th>\n",
       "    </tr>\n",
       "    <tr>\n",
       "      <th>id</th>\n",
       "      <th></th>\n",
       "      <th></th>\n",
       "      <th></th>\n",
       "    </tr>\n",
       "  </thead>\n",
       "  <tbody>\n",
       "    <tr>\n",
       "      <th>C_584313</th>\n",
       "      <td>[第一课 导论与三家分晋, 导论, 导论]</td>\n",
       "      <td>V_849</td>\n",
       "      <td>1.1.1</td>\n",
       "    </tr>\n",
       "    <tr>\n",
       "      <th>C_584313</th>\n",
       "      <td>[第一课 导论与三家分晋, 智伯的覆亡, 智伯的覆亡]</td>\n",
       "      <td>V_850</td>\n",
       "      <td>1.2.1</td>\n",
       "    </tr>\n",
       "    <tr>\n",
       "      <th>C_584313</th>\n",
       "      <td>[第一课 导论与三家分晋, 智伯悲剧的反思, 智伯的覆亡讨论]</td>\n",
       "      <td>V_851</td>\n",
       "      <td>1.3.1</td>\n",
       "    </tr>\n",
       "    <tr>\n",
       "      <th>C_584313</th>\n",
       "      <td>[第二课 战国前期的政治, 魏文侯治国, 魏文侯治国]</td>\n",
       "      <td>V_857</td>\n",
       "      <td>2.1.1</td>\n",
       "    </tr>\n",
       "    <tr>\n",
       "      <th>C_584313</th>\n",
       "      <td>[第二课 战国前期的政治, 吴起的悲剧, 吴起的悲剧]</td>\n",
       "      <td>V_859</td>\n",
       "      <td>2.2.1</td>\n",
       "    </tr>\n",
       "    <tr>\n",
       "      <th>...</th>\n",
       "      <td>...</td>\n",
       "      <td>...</td>\n",
       "      <td>...</td>\n",
       "    </tr>\n",
       "    <tr>\n",
       "      <th>C_2329163</th>\n",
       "      <td>[第四章  红色之旅实践写作, 4.15  论文写作规范, 4.15  论文写作规范]</td>\n",
       "      <td>V_8630133</td>\n",
       "      <td>3.14</td>\n",
       "    </tr>\n",
       "    <tr>\n",
       "      <th>C_2329163</th>\n",
       "      <td>[第四章  红色之旅实践写作, 4.16  求职简历, 4.16  求职简历]</td>\n",
       "      <td>V_8630134</td>\n",
       "      <td>3.15</td>\n",
       "    </tr>\n",
       "    <tr>\n",
       "      <th>C_2329163</th>\n",
       "      <td>[第四章  红色之旅实践写作, 4.17  实践—演讲稿, 4.17  实践—演讲稿]</td>\n",
       "      <td>V_8630135</td>\n",
       "      <td>3.16</td>\n",
       "    </tr>\n",
       "    <tr>\n",
       "      <th>C_2329163</th>\n",
       "      <td>[第四章  红色之旅实践写作, 4.18  延安保育院观后感, 4.18  延安保育院观后感]</td>\n",
       "      <td>V_8630136</td>\n",
       "      <td>3.17</td>\n",
       "    </tr>\n",
       "    <tr>\n",
       "      <th>C_2329163</th>\n",
       "      <td>[第四章  红色之旅实践写作, 4.19  杂文随笔, 4.19  杂文随笔]</td>\n",
       "      <td>V_8630137</td>\n",
       "      <td>3.18</td>\n",
       "    </tr>\n",
       "  </tbody>\n",
       "</table>\n",
       "<p>203718 rows × 3 columns</p>\n",
       "</div>"
      ],
      "text/plain": [
       "                                                    titles resource_id chapter\n",
       "id                                                                            \n",
       "C_584313                             [第一课 导论与三家分晋, 导论, 导论]       V_849   1.1.1\n",
       "C_584313                       [第一课 导论与三家分晋, 智伯的覆亡, 智伯的覆亡]       V_850   1.2.1\n",
       "C_584313                   [第一课 导论与三家分晋, 智伯悲剧的反思, 智伯的覆亡讨论]       V_851   1.3.1\n",
       "C_584313                       [第二课 战国前期的政治, 魏文侯治国, 魏文侯治国]       V_857   2.1.1\n",
       "C_584313                       [第二课 战国前期的政治, 吴起的悲剧, 吴起的悲剧]       V_859   2.2.1\n",
       "...                                                    ...         ...     ...\n",
       "C_2329163      [第四章  红色之旅实践写作, 4.15  论文写作规范, 4.15  论文写作规范]   V_8630133    3.14\n",
       "C_2329163          [第四章  红色之旅实践写作, 4.16  求职简历, 4.16  求职简历]   V_8630134    3.15\n",
       "C_2329163      [第四章  红色之旅实践写作, 4.17  实践—演讲稿, 4.17  实践—演讲稿]   V_8630135    3.16\n",
       "C_2329163  [第四章  红色之旅实践写作, 4.18  延安保育院观后感, 4.18  延安保育院观后感]   V_8630136    3.17\n",
       "C_2329163          [第四章  红色之旅实践写作, 4.19  杂文随笔, 4.19  杂文随笔]   V_8630137    3.18\n",
       "\n",
       "[203718 rows x 3 columns]"
      ]
     },
     "execution_count": 5,
     "metadata": {},
     "output_type": "execute_result"
    }
   ],
   "source": [
    "# Convert numbers to correct versions\n",
    "invalid_chapters = courses_videos.loc[:,\"chapter\"].str.isnumeric()\n",
    "courses_videos.loc[invalid_chapters, \"chapter\"] = courses_videos.loc[invalid_chapters, \"chapter\"].transform(lambda num: f\"{num}.0\")\n",
    "courses_videos"
   ]
  },
  {
   "cell_type": "code",
   "execution_count": 6,
   "id": "05470c09-a335-445d-b442-5d4e170b1039",
   "metadata": {
    "tags": []
   },
   "outputs": [
    {
     "data": {
      "text/html": [
       "<div>\n",
       "<style scoped>\n",
       "    .dataframe tbody tr th:only-of-type {\n",
       "        vertical-align: middle;\n",
       "    }\n",
       "\n",
       "    .dataframe tbody tr th {\n",
       "        vertical-align: top;\n",
       "    }\n",
       "\n",
       "    .dataframe thead th {\n",
       "        text-align: right;\n",
       "    }\n",
       "</style>\n",
       "<table border=\"1\" class=\"dataframe\">\n",
       "  <thead>\n",
       "    <tr style=\"text-align: right;\">\n",
       "      <th></th>\n",
       "      <th>titles</th>\n",
       "      <th>resource_id</th>\n",
       "      <th>chapter</th>\n",
       "      <th>next_video_id</th>\n",
       "    </tr>\n",
       "    <tr>\n",
       "      <th>id</th>\n",
       "      <th></th>\n",
       "      <th></th>\n",
       "      <th></th>\n",
       "      <th></th>\n",
       "    </tr>\n",
       "  </thead>\n",
       "  <tbody>\n",
       "    <tr>\n",
       "      <th>C_584313</th>\n",
       "      <td>[第一课 导论与三家分晋, 导论, 导论]</td>\n",
       "      <td>V_849</td>\n",
       "      <td>1.1.1</td>\n",
       "      <td>V_850</td>\n",
       "    </tr>\n",
       "    <tr>\n",
       "      <th>C_584313</th>\n",
       "      <td>[第一课 导论与三家分晋, 智伯的覆亡, 智伯的覆亡]</td>\n",
       "      <td>V_850</td>\n",
       "      <td>1.2.1</td>\n",
       "      <td>V_851</td>\n",
       "    </tr>\n",
       "    <tr>\n",
       "      <th>C_584313</th>\n",
       "      <td>[第一课 导论与三家分晋, 智伯悲剧的反思, 智伯的覆亡讨论]</td>\n",
       "      <td>V_851</td>\n",
       "      <td>1.3.1</td>\n",
       "      <td>V_857</td>\n",
       "    </tr>\n",
       "    <tr>\n",
       "      <th>C_584313</th>\n",
       "      <td>[第二课 战国前期的政治, 魏文侯治国, 魏文侯治国]</td>\n",
       "      <td>V_857</td>\n",
       "      <td>2.1.1</td>\n",
       "      <td>V_859</td>\n",
       "    </tr>\n",
       "    <tr>\n",
       "      <th>C_584313</th>\n",
       "      <td>[第二课 战国前期的政治, 吴起的悲剧, 吴起的悲剧]</td>\n",
       "      <td>V_859</td>\n",
       "      <td>2.2.1</td>\n",
       "      <td>V_861</td>\n",
       "    </tr>\n",
       "    <tr>\n",
       "      <th>...</th>\n",
       "      <td>...</td>\n",
       "      <td>...</td>\n",
       "      <td>...</td>\n",
       "      <td>...</td>\n",
       "    </tr>\n",
       "    <tr>\n",
       "      <th>C_2329163</th>\n",
       "      <td>[第四章  红色之旅实践写作, 4.15  论文写作规范, 4.15  论文写作规范]</td>\n",
       "      <td>V_8630133</td>\n",
       "      <td>3.14</td>\n",
       "      <td>V_8630134</td>\n",
       "    </tr>\n",
       "    <tr>\n",
       "      <th>C_2329163</th>\n",
       "      <td>[第四章  红色之旅实践写作, 4.16  求职简历, 4.16  求职简历]</td>\n",
       "      <td>V_8630134</td>\n",
       "      <td>3.15</td>\n",
       "      <td>V_8630135</td>\n",
       "    </tr>\n",
       "    <tr>\n",
       "      <th>C_2329163</th>\n",
       "      <td>[第四章  红色之旅实践写作, 4.17  实践—演讲稿, 4.17  实践—演讲稿]</td>\n",
       "      <td>V_8630135</td>\n",
       "      <td>3.16</td>\n",
       "      <td>V_8630136</td>\n",
       "    </tr>\n",
       "    <tr>\n",
       "      <th>C_2329163</th>\n",
       "      <td>[第四章  红色之旅实践写作, 4.18  延安保育院观后感, 4.18  延安保育院观后感]</td>\n",
       "      <td>V_8630136</td>\n",
       "      <td>3.17</td>\n",
       "      <td>V_8630137</td>\n",
       "    </tr>\n",
       "    <tr>\n",
       "      <th>C_2329163</th>\n",
       "      <td>[第四章  红色之旅实践写作, 4.19  杂文随笔, 4.19  杂文随笔]</td>\n",
       "      <td>V_8630137</td>\n",
       "      <td>3.18</td>\n",
       "      <td>NaN</td>\n",
       "    </tr>\n",
       "  </tbody>\n",
       "</table>\n",
       "<p>203718 rows × 4 columns</p>\n",
       "</div>"
      ],
      "text/plain": [
       "                                                    titles resource_id  \\\n",
       "id                                                                       \n",
       "C_584313                             [第一课 导论与三家分晋, 导论, 导论]       V_849   \n",
       "C_584313                       [第一课 导论与三家分晋, 智伯的覆亡, 智伯的覆亡]       V_850   \n",
       "C_584313                   [第一课 导论与三家分晋, 智伯悲剧的反思, 智伯的覆亡讨论]       V_851   \n",
       "C_584313                       [第二课 战国前期的政治, 魏文侯治国, 魏文侯治国]       V_857   \n",
       "C_584313                       [第二课 战国前期的政治, 吴起的悲剧, 吴起的悲剧]       V_859   \n",
       "...                                                    ...         ...   \n",
       "C_2329163      [第四章  红色之旅实践写作, 4.15  论文写作规范, 4.15  论文写作规范]   V_8630133   \n",
       "C_2329163          [第四章  红色之旅实践写作, 4.16  求职简历, 4.16  求职简历]   V_8630134   \n",
       "C_2329163      [第四章  红色之旅实践写作, 4.17  实践—演讲稿, 4.17  实践—演讲稿]   V_8630135   \n",
       "C_2329163  [第四章  红色之旅实践写作, 4.18  延安保育院观后感, 4.18  延安保育院观后感]   V_8630136   \n",
       "C_2329163          [第四章  红色之旅实践写作, 4.19  杂文随笔, 4.19  杂文随笔]   V_8630137   \n",
       "\n",
       "          chapter next_video_id  \n",
       "id                               \n",
       "C_584313    1.1.1         V_850  \n",
       "C_584313    1.2.1         V_851  \n",
       "C_584313    1.3.1         V_857  \n",
       "C_584313    2.1.1         V_859  \n",
       "C_584313    2.2.1         V_861  \n",
       "...           ...           ...  \n",
       "C_2329163    3.14     V_8630134  \n",
       "C_2329163    3.15     V_8630135  \n",
       "C_2329163    3.16     V_8630136  \n",
       "C_2329163    3.17     V_8630137  \n",
       "C_2329163    3.18           NaN  \n",
       "\n",
       "[203718 rows x 4 columns]"
      ]
     },
     "execution_count": 6,
     "metadata": {},
     "output_type": "execute_result"
    }
   ],
   "source": [
    "video_list_by_natural_order = courses_videos.assign(next_video_id=courses_videos.groupby(\"id\")[\"resource_id\"].shift(-1))\n",
    "video_list_by_natural_order"
   ]
  },
  {
   "cell_type": "code",
   "execution_count": 7,
   "id": "c654c3a5-35a0-46ba-9715-be6847b71172",
   "metadata": {
    "tags": []
   },
   "outputs": [],
   "source": [
    "# Checking uniqueness of video_id within course\n",
    "vid_lists = courses_videos.groupby(\"id\")[\"resource_id\"].agg(list)"
   ]
  },
  {
   "cell_type": "code",
   "execution_count": 8,
   "id": "01061161-de58-430f-8ab2-186485f31e80",
   "metadata": {
    "tags": []
   },
   "outputs": [
    {
     "ename": "KeyboardInterrupt",
     "evalue": "",
     "output_type": "error",
     "traceback": [
      "\u001b[0;31m---------------------------------------------------------------------------\u001b[0m",
      "\u001b[0;31mKeyboardInterrupt\u001b[0m                         Traceback (most recent call last)",
      "Cell \u001b[0;32mIn[8], line 4\u001b[0m\n\u001b[1;32m      2\u001b[0m set_out \u001b[38;5;241m=\u001b[39m \u001b[38;5;28mset\u001b[39m(vid_lists\u001b[38;5;241m.\u001b[39miloc[i])\n\u001b[1;32m      3\u001b[0m \u001b[38;5;28;01mfor\u001b[39;00m j \u001b[38;5;129;01min\u001b[39;00m \u001b[38;5;28mrange\u001b[39m(i\u001b[38;5;241m+\u001b[39m\u001b[38;5;241m1\u001b[39m, \u001b[38;5;28mlen\u001b[39m(vid_lists)):\n\u001b[0;32m----> 4\u001b[0m     set_in \u001b[38;5;241m=\u001b[39m \u001b[38;5;28;43mset\u001b[39;49m\u001b[43m(\u001b[49m\u001b[43mvid_lists\u001b[49m\u001b[38;5;241;43m.\u001b[39;49m\u001b[43miloc\u001b[49m\u001b[43m[\u001b[49m\u001b[43mj\u001b[49m\u001b[43m]\u001b[49m\u001b[43m)\u001b[49m\n\u001b[1;32m      5\u001b[0m     \u001b[38;5;28;01mif\u001b[39;00m \u001b[38;5;28mlen\u001b[39m(set_out\u001b[38;5;241m.\u001b[39mintersection(set_in)) \u001b[38;5;241m>\u001b[39m \u001b[38;5;241m0\u001b[39m:\n\u001b[1;32m      6\u001b[0m         \u001b[38;5;28mprint\u001b[39m(\u001b[38;5;124m\"\u001b[39m\u001b[38;5;124mOverlap between rows \u001b[39m\u001b[38;5;132;01m{i}\u001b[39;00m\u001b[38;5;124m and \u001b[39m\u001b[38;5;132;01m{j}\u001b[39;00m\u001b[38;5;124m\"\u001b[39m)\n",
      "\u001b[0;31mKeyboardInterrupt\u001b[0m: "
     ]
    }
   ],
   "source": [
    "for i in range(len(vid_lists)):\n",
    "    set_out = set(vid_lists.iloc[i])\n",
    "    for j in range(i+1, len(vid_lists)):\n",
    "        set_in = set(vid_lists.iloc[j])\n",
    "        if len(set_out.intersection(set_in)) > 0:\n",
    "            print(\"Overlap between rows {i} and {j}\")"
   ]
  },
  {
   "cell_type": "code",
   "execution_count": 9,
   "id": "6f527b7e-3b2f-40b4-9fac-d5f79b51154e",
   "metadata": {
    "tags": []
   },
   "outputs": [],
   "source": [
    "import json\n",
    "with open(\"embeddings_fix/video_id2int.json\") as f:\n",
    "    video_id2int = json.load(f)"
   ]
  },
  {
   "cell_type": "code",
   "execution_count": 10,
   "id": "fbe08791-11ed-4e71-b172-4197da8890b5",
   "metadata": {
    "tags": []
   },
   "outputs": [
    {
     "data": {
      "text/html": [
       "<div>\n",
       "<style scoped>\n",
       "    .dataframe tbody tr th:only-of-type {\n",
       "        vertical-align: middle;\n",
       "    }\n",
       "\n",
       "    .dataframe tbody tr th {\n",
       "        vertical-align: top;\n",
       "    }\n",
       "\n",
       "    .dataframe thead th {\n",
       "        text-align: right;\n",
       "    }\n",
       "</style>\n",
       "<table border=\"1\" class=\"dataframe\">\n",
       "  <thead>\n",
       "    <tr style=\"text-align: right;\">\n",
       "      <th></th>\n",
       "      <th>ccid</th>\n",
       "    </tr>\n",
       "    <tr>\n",
       "      <th>video_id</th>\n",
       "      <th></th>\n",
       "    </tr>\n",
       "  </thead>\n",
       "  <tbody>\n",
       "    <tr>\n",
       "      <th>V_234845</th>\n",
       "      <td>0000363DB5B6E0869C33DC5901307461</td>\n",
       "    </tr>\n",
       "    <tr>\n",
       "      <th>V_234876</th>\n",
       "      <td>0000363DB5B6E0869C33DC5901307461</td>\n",
       "    </tr>\n",
       "    <tr>\n",
       "      <th>V_234907</th>\n",
       "      <td>0000363DB5B6E0869C33DC5901307461</td>\n",
       "    </tr>\n",
       "    <tr>\n",
       "      <th>V_293392</th>\n",
       "      <td>0000363DB5B6E0869C33DC5901307461</td>\n",
       "    </tr>\n",
       "    <tr>\n",
       "      <th>V_293445</th>\n",
       "      <td>0000363DB5B6E0869C33DC5901307461</td>\n",
       "    </tr>\n",
       "    <tr>\n",
       "      <th>...</th>\n",
       "      <td>...</td>\n",
       "    </tr>\n",
       "    <tr>\n",
       "      <th>V_6123337</th>\n",
       "      <td>FFFF5932EB4EC1A79C33DC5901307461</td>\n",
       "    </tr>\n",
       "    <tr>\n",
       "      <th>V_6123546</th>\n",
       "      <td>FFFF5932EB4EC1A79C33DC5901307461</td>\n",
       "    </tr>\n",
       "    <tr>\n",
       "      <th>V_6420181</th>\n",
       "      <td>FFFFD001230958A39C33DC5901307461</td>\n",
       "    </tr>\n",
       "    <tr>\n",
       "      <th>V_6420556</th>\n",
       "      <td>FFFFD001230958A39C33DC5901307461</td>\n",
       "    </tr>\n",
       "    <tr>\n",
       "      <th>V_6420620</th>\n",
       "      <td>FFFFD001230958A39C33DC5901307461</td>\n",
       "    </tr>\n",
       "  </tbody>\n",
       "</table>\n",
       "<p>2798892 rows × 1 columns</p>\n",
       "</div>"
      ],
      "text/plain": [
       "                                       ccid\n",
       "video_id                                   \n",
       "V_234845   0000363DB5B6E0869C33DC5901307461\n",
       "V_234876   0000363DB5B6E0869C33DC5901307461\n",
       "V_234907   0000363DB5B6E0869C33DC5901307461\n",
       "V_293392   0000363DB5B6E0869C33DC5901307461\n",
       "V_293445   0000363DB5B6E0869C33DC5901307461\n",
       "...                                     ...\n",
       "V_6123337  FFFF5932EB4EC1A79C33DC5901307461\n",
       "V_6123546  FFFF5932EB4EC1A79C33DC5901307461\n",
       "V_6420181  FFFFD001230958A39C33DC5901307461\n",
       "V_6420556  FFFFD001230958A39C33DC5901307461\n",
       "V_6420620  FFFFD001230958A39C33DC5901307461\n",
       "\n",
       "[2798892 rows x 1 columns]"
      ]
     },
     "execution_count": 10,
     "metadata": {},
     "output_type": "execute_result"
    }
   ],
   "source": [
    "video_id2ccid = pd.read_csv(\"../MOOCCubeX/relations/video_id-ccid.txt\", sep=\"\\t\", names=[\"video_id\", \"ccid\"], index_col=\"video_id\")\n",
    "video_id2ccid"
   ]
  },
  {
   "cell_type": "markdown",
   "id": "708796a9-9fbe-4cc4-8387-9068490f0d86",
   "metadata": {},
   "source": [
    "### Lookup process\n",
    "1. Lookup video id\n",
    "    - If not in lookup table:\n",
    "        - video_id2ccid (OPT: partitioned by field (merge)) \n",
    "        - Find first syllabus_video_id from ccid\n",
    "            -> Use that to look up\n",
    "\n",
    "**Doesn't work because even if reversed video_ids -> Not certain that they are not OOV as well**"
   ]
  },
  {
   "cell_type": "code",
   "execution_count": 11,
   "id": "54a2f86a-637e-4ed3-820a-1464a7963322",
   "metadata": {
    "tags": []
   },
   "outputs": [],
   "source": [
    "int2video_id = {num: video_id for video_id, num in video_id2int.items()}"
   ]
  },
  {
   "cell_type": "code",
   "execution_count": 12,
   "id": "3a220bf7-2e16-42a3-86a3-8010b3499410",
   "metadata": {
    "tags": []
   },
   "outputs": [
    {
     "ename": "NameError",
     "evalue": "name 'most_pop' is not defined",
     "output_type": "error",
     "traceback": [
      "\u001b[0;31m---------------------------------------------------------------------------\u001b[0m",
      "\u001b[0;31mNameError\u001b[0m                                 Traceback (most recent call last)",
      "Cell \u001b[0;32mIn[12], line 1\u001b[0m\n\u001b[0;32m----> 1\u001b[0m most_pop_video \u001b[38;5;241m=\u001b[39m \u001b[43mmost_pop\u001b[49m\u001b[38;5;241m.\u001b[39mcopy()\n\u001b[1;32m      2\u001b[0m most_pop_video\u001b[38;5;241m.\u001b[39mloc[:, \u001b[38;5;124m\"\u001b[39m\u001b[38;5;124mitem_id\u001b[39m\u001b[38;5;124m\"\u001b[39m] \u001b[38;5;241m=\u001b[39m most_pop_video[\u001b[38;5;124m\"\u001b[39m\u001b[38;5;124mitem_id\u001b[39m\u001b[38;5;124m\"\u001b[39m]\u001b[38;5;241m.\u001b[39mmap(int2video_id)\n\u001b[1;32m      3\u001b[0m most_pop_video\n",
      "\u001b[0;31mNameError\u001b[0m: name 'most_pop' is not defined"
     ]
    }
   ],
   "source": [
    "most_pop_video = most_pop.copy()\n",
    "most_pop_video.loc[:, \"item_id\"] = most_pop_video[\"item_id\"].map(int2video_id)\n",
    "most_pop_video"
   ]
  },
  {
   "cell_type": "code",
   "execution_count": 44,
   "id": "dfeb4a9e-067e-4671-85d4-378fa9b6bd17",
   "metadata": {
    "tags": []
   },
   "outputs": [
    {
     "data": {
      "text/plain": [
       "1448772"
      ]
     },
     "execution_count": 44,
     "metadata": {},
     "output_type": "execute_result"
    }
   ],
   "source": [
    "most_pop_video[\"view_count\"].sum()"
   ]
  },
  {
   "cell_type": "code",
   "execution_count": 46,
   "id": "c61da6b7-d90e-4de6-8189-e8279f86ac4b",
   "metadata": {
    "tags": []
   },
   "outputs": [
    {
     "data": {
      "text/plain": [
       "item_id       V_6074344V_6392107V_6392106V_6074382V_4412435V...\n",
       "view_count                                                98446\n",
       "dtype: object"
      ]
     },
     "execution_count": 46,
     "metadata": {},
     "output_type": "execute_result"
    }
   ],
   "source": [
    "most_pop_video[most_pop_video[\"item_id\"].isin(courses_videos[\"resource_id\"])].sum()"
   ]
  },
  {
   "cell_type": "code",
   "execution_count": 52,
   "id": "35800ae4-98dc-4d99-a6db-bff2a8b188a7",
   "metadata": {
    "tags": []
   },
   "outputs": [
    {
     "data": {
      "text/html": [
       "<div>\n",
       "<style scoped>\n",
       "    .dataframe tbody tr th:only-of-type {\n",
       "        vertical-align: middle;\n",
       "    }\n",
       "\n",
       "    .dataframe tbody tr th {\n",
       "        vertical-align: top;\n",
       "    }\n",
       "\n",
       "    .dataframe thead th {\n",
       "        text-align: right;\n",
       "    }\n",
       "</style>\n",
       "<table border=\"1\" class=\"dataframe\">\n",
       "  <thead>\n",
       "    <tr style=\"text-align: right;\">\n",
       "      <th></th>\n",
       "      <th>titles</th>\n",
       "      <th>resource_id</th>\n",
       "      <th>chapter</th>\n",
       "      <th>ccid</th>\n",
       "    </tr>\n",
       "  </thead>\n",
       "  <tbody>\n",
       "    <tr>\n",
       "      <th>0</th>\n",
       "      <td>[第一课 导论与三家分晋, 导论, 导论]</td>\n",
       "      <td>V_849</td>\n",
       "      <td>1.1.1</td>\n",
       "      <td>ED9C27449691B2E29C33DC5901307461</td>\n",
       "    </tr>\n",
       "    <tr>\n",
       "      <th>1</th>\n",
       "      <td>[第一课 导论与三家分晋, 智伯的覆亡, 智伯的覆亡]</td>\n",
       "      <td>V_850</td>\n",
       "      <td>1.2.1</td>\n",
       "      <td>E8B8262C55C901979C33DC5901307461</td>\n",
       "    </tr>\n",
       "    <tr>\n",
       "      <th>2</th>\n",
       "      <td>[第一课 导论与三家分晋, 智伯悲剧的反思, 智伯的覆亡讨论]</td>\n",
       "      <td>V_851</td>\n",
       "      <td>1.3.1</td>\n",
       "      <td>133CE70E0CC0D11E9C33DC5901307461</td>\n",
       "    </tr>\n",
       "    <tr>\n",
       "      <th>3</th>\n",
       "      <td>[第二课 战国前期的政治, 魏文侯治国, 魏文侯治国]</td>\n",
       "      <td>V_857</td>\n",
       "      <td>2.1.1</td>\n",
       "      <td>0C0D94E7D81D43199C33DC5901307461</td>\n",
       "    </tr>\n",
       "    <tr>\n",
       "      <th>4</th>\n",
       "      <td>[第二课 战国前期的政治, 吴起的悲剧, 吴起的悲剧]</td>\n",
       "      <td>V_859</td>\n",
       "      <td>2.2.1</td>\n",
       "      <td>7A22C8182D07E81E9C33DC5901307461</td>\n",
       "    </tr>\n",
       "    <tr>\n",
       "      <th>...</th>\n",
       "      <td>...</td>\n",
       "      <td>...</td>\n",
       "      <td>...</td>\n",
       "      <td>...</td>\n",
       "    </tr>\n",
       "    <tr>\n",
       "      <th>2801284</th>\n",
       "      <td>NaN</td>\n",
       "      <td>NaN</td>\n",
       "      <td>NaN</td>\n",
       "      <td>FFFF3CC4C6F66F849C33DC5901307461</td>\n",
       "    </tr>\n",
       "    <tr>\n",
       "      <th>2801285</th>\n",
       "      <td>NaN</td>\n",
       "      <td>NaN</td>\n",
       "      <td>NaN</td>\n",
       "      <td>FFFF5932EB4EC1A79C33DC5901307461</td>\n",
       "    </tr>\n",
       "    <tr>\n",
       "      <th>2801286</th>\n",
       "      <td>NaN</td>\n",
       "      <td>NaN</td>\n",
       "      <td>NaN</td>\n",
       "      <td>FFFF5932EB4EC1A79C33DC5901307461</td>\n",
       "    </tr>\n",
       "    <tr>\n",
       "      <th>2801287</th>\n",
       "      <td>NaN</td>\n",
       "      <td>NaN</td>\n",
       "      <td>NaN</td>\n",
       "      <td>FFFFD001230958A39C33DC5901307461</td>\n",
       "    </tr>\n",
       "    <tr>\n",
       "      <th>2801288</th>\n",
       "      <td>NaN</td>\n",
       "      <td>NaN</td>\n",
       "      <td>NaN</td>\n",
       "      <td>FFFFD001230958A39C33DC5901307461</td>\n",
       "    </tr>\n",
       "  </tbody>\n",
       "</table>\n",
       "<p>2801289 rows × 4 columns</p>\n",
       "</div>"
      ],
      "text/plain": [
       "                                  titles resource_id chapter  \\\n",
       "0                  [第一课 导论与三家分晋, 导论, 导论]       V_849   1.1.1   \n",
       "1            [第一课 导论与三家分晋, 智伯的覆亡, 智伯的覆亡]       V_850   1.2.1   \n",
       "2        [第一课 导论与三家分晋, 智伯悲剧的反思, 智伯的覆亡讨论]       V_851   1.3.1   \n",
       "3            [第二课 战国前期的政治, 魏文侯治国, 魏文侯治国]       V_857   2.1.1   \n",
       "4            [第二课 战国前期的政治, 吴起的悲剧, 吴起的悲剧]       V_859   2.2.1   \n",
       "...                                  ...         ...     ...   \n",
       "2801284                              NaN         NaN     NaN   \n",
       "2801285                              NaN         NaN     NaN   \n",
       "2801286                              NaN         NaN     NaN   \n",
       "2801287                              NaN         NaN     NaN   \n",
       "2801288                              NaN         NaN     NaN   \n",
       "\n",
       "                                     ccid  \n",
       "0        ED9C27449691B2E29C33DC5901307461  \n",
       "1        E8B8262C55C901979C33DC5901307461  \n",
       "2        133CE70E0CC0D11E9C33DC5901307461  \n",
       "3        0C0D94E7D81D43199C33DC5901307461  \n",
       "4        7A22C8182D07E81E9C33DC5901307461  \n",
       "...                                   ...  \n",
       "2801284  FFFF3CC4C6F66F849C33DC5901307461  \n",
       "2801285  FFFF5932EB4EC1A79C33DC5901307461  \n",
       "2801286  FFFF5932EB4EC1A79C33DC5901307461  \n",
       "2801287  FFFFD001230958A39C33DC5901307461  \n",
       "2801288  FFFFD001230958A39C33DC5901307461  \n",
       "\n",
       "[2801289 rows x 4 columns]"
      ]
     },
     "execution_count": 52,
     "metadata": {},
     "output_type": "execute_result"
    }
   ],
   "source": [
    "syllabus_vid2ccid=courses_videos.merge(video_id2ccid, left_on=\"resource_id\", right_on=\"video_id\", how=\"outer\")#.set_index(\"resource_id\")\n",
    "syllabus_vid2ccid"
   ]
  },
  {
   "cell_type": "code",
   "execution_count": null,
   "id": "60884a91-44de-481f-a96e-8282aa05d81e",
   "metadata": {},
   "outputs": [],
   "source": [
    "len(set(video_id2ccid.index.unique()).intersection(set(.keys())))"
   ]
  },
  {
   "cell_type": "code",
   "execution_count": 32,
   "id": "a42c45c1-6979-4c23-89ee-c3596300f043",
   "metadata": {
    "tags": []
   },
   "outputs": [
    {
     "data": {
      "text/plain": [
       "201321"
      ]
     },
     "execution_count": 32,
     "metadata": {},
     "output_type": "execute_result"
    }
   ],
   "source": [
    "len(set(video_id2ccid.index.unique()).intersection(set(courses_videos[\"resource_id\"].unique())))"
   ]
  },
  {
   "cell_type": "code",
   "execution_count": 21,
   "id": "6d2a7ae4-0df6-4660-b851-e98e0e786626",
   "metadata": {
    "tags": []
   },
   "outputs": [
    {
     "data": {
      "text/plain": [
       "set()"
      ]
     },
     "execution_count": 21,
     "metadata": {},
     "output_type": "execute_result"
    }
   ],
   "source": [
    "set(video_id2ccid.index.unique()).intersection(set(video_id2ccid.keys()))"
   ]
  },
  {
   "cell_type": "code",
   "execution_count": 13,
   "id": "bf0e8a22-b096-48fb-b398-9631fb21c3cf",
   "metadata": {
    "tags": []
   },
   "outputs": [
    {
     "data": {
      "text/plain": [
       "203718"
      ]
     },
     "execution_count": 13,
     "metadata": {},
     "output_type": "execute_result"
    }
   ],
   "source": [
    "courses_videos[\"resource_id\"].nunique()"
   ]
  },
  {
   "cell_type": "code",
   "execution_count": 23,
   "id": "788f7ec3-ac51-4fb0-b79d-91d99d691759",
   "metadata": {
    "tags": []
   },
   "outputs": [
    {
     "data": {
      "text/plain": [
       "17433"
      ]
     },
     "execution_count": 23,
     "metadata": {},
     "output_type": "execute_result"
    }
   ],
   "source": [
    "(video_list_by_natural_order[\"resource_id\"].isin(video_id2int.keys())).sum()"
   ]
  },
  {
   "cell_type": "code",
   "execution_count": 24,
   "id": "4fadc59f-8cd9-4a5d-b622-a11acf42a8e4",
   "metadata": {
    "tags": []
   },
   "outputs": [
    {
     "data": {
      "text/plain": [
       "158062"
      ]
     },
     "execution_count": 24,
     "metadata": {},
     "output_type": "execute_result"
    }
   ],
   "source": [
    "len(video_id2int.keys())"
   ]
  },
  {
   "cell_type": "code",
   "execution_count": 25,
   "id": "5f8e5319-fe46-4d72-bd5c-bad6437b2a6a",
   "metadata": {
    "tags": []
   },
   "outputs": [
    {
     "data": {
      "text/plain": [
       "17433"
      ]
     },
     "execution_count": 25,
     "metadata": {},
     "output_type": "execute_result"
    }
   ],
   "source": [
    "len(set(video_id2int.keys()).intersection(set(video_list_by_natural_order[\"resource_id\"].unique())))"
   ]
  },
  {
   "cell_type": "code",
   "execution_count": 13,
   "id": "2596ba4a-0fb2-4c80-935e-69c178474f95",
   "metadata": {
    "tags": []
   },
   "outputs": [],
   "source": [
    "if (most_pop_path := Path(\"mooc/most_pop.parquet\")).exists():\n",
    "    most_pop = pd.read_parquet(most_pop_path)\n",
    "else:\n",
    "    interactions = pd.read_parquet(\"mooc/conventional/all_scaled/test_full.parquet\", columns=[\"item_id\"])    \n",
    "    most_pop = interactions.value_counts().rename(\"view_count\").reset_index()\n",
    "    most_pop.to_parquet(\"mooc/most_pop.parquet\")"
   ]
  },
  {
   "cell_type": "markdown",
   "id": "7fdfef4c-f4a6-4d28-9d7a-6dfd64411dad",
   "metadata": {},
   "source": [
    "#### Generate syllabus predictions"
   ]
  },
  {
   "cell_type": "code",
   "execution_count": 14,
   "id": "f195fc0b-0843-4e10-a69c-6078374021cd",
   "metadata": {
    "tags": []
   },
   "outputs": [],
   "source": [
    "def listify(col, most_pop=most_pop[\"item_id\"], top_k=20):\n",
    "    next_cols = []    \n",
    "    for idx, row in enumerate(col.iteritems()):\n",
    "        # if X is nan (interacted item) -> Rec mostpop because can't reverse it\n",
    "        if np.isnan(col.iloc[idx]):\n",
    "            next_cols.append(most_pop[:top_k].tolist())\n",
    "        else:\n",
    "            # Fill in OOV items in the syllabus because low overlap between items and syllabus resources\n",
    "            next_in_syllabus = col[idx+1:]\n",
    "            is_nans = next_in_syllabus.isna()\n",
    "            num_nans = is_nans.sum()\n",
    "            nan_fill = pd.Series(most_pop[:num_nans].values, index=next_in_syllabus[is_nans].index, dtype=int)\n",
    "            #print(\"num nans\", num_nans)\n",
    "            #print(nan_fill)\n",
    "            #print(\"filled\")\n",
    "            #print(next_in_syllabus.fillna(nan_fill))\n",
    "            next_cols.append((next_in_syllabus.fillna(nan_fill).astype(int).tolist() + most_pop[num_nans:top_k].tolist())[:top_k])\n",
    "    return next_cols\n",
    "#test = pd.DataFrame({\"id\":range(10)}, index=list(\"aabbccddee\"))\n",
    "#test.groupby(test.index)[\"id\"].transform(listify)#.explode()\n"
   ]
  },
  {
   "cell_type": "code",
   "execution_count": 15,
   "id": "eb3ae6bd-e369-4d6a-97f7-41b86b73a50c",
   "metadata": {
    "tags": []
   },
   "outputs": [],
   "source": [
    "mapped_courses = courses_videos.copy()\n",
    "mapped_courses.loc[:, \"resource_id\"] = mapped_courses[\"resource_id\"].map(video_id2int)\n",
    "#mapped_courses[:10].groupby(\"id\")[\"resource_id\"].transform(listify)"
   ]
  },
  {
   "cell_type": "code",
   "execution_count": 16,
   "id": "149ac5bd-3b26-47e6-afbc-7ce1e088f65a",
   "metadata": {
    "tags": []
   },
   "outputs": [
    {
     "name": "stdout",
     "output_type": "stream",
     "text": [
      "CPU times: user 14.1 s, sys: 154 ms, total: 14.2 s\n",
      "Wall time: 14.8 s\n"
     ]
    }
   ],
   "source": [
    "%%time\n",
    "syllabus_predictions = mapped_courses.reset_index().groupby(\"id\", group_keys=False)[\"resource_id\"].transform(listify)"
   ]
  },
  {
   "cell_type": "code",
   "execution_count": 17,
   "id": "834d1d52-9be0-4b30-8320-62c30022740c",
   "metadata": {
    "tags": []
   },
   "outputs": [
    {
     "data": {
      "text/plain": [
       "0         [102, 103, 104, 105, 106, 109, 107, 110, 108, ...\n",
       "1         [102, 103, 104, 105, 106, 109, 107, 110, 108, ...\n",
       "2         [102, 103, 104, 105, 106, 109, 107, 110, 108, ...\n",
       "3         [102, 103, 104, 105, 106, 109, 107, 110, 108, ...\n",
       "4         [102, 103, 104, 105, 106, 109, 107, 110, 108, ...\n",
       "                                ...                        \n",
       "203713    [102, 103, 104, 105, 106, 109, 107, 110, 108, ...\n",
       "203714    [102, 103, 104, 105, 106, 109, 107, 110, 108, ...\n",
       "203715    [102, 103, 104, 105, 106, 109, 107, 110, 108, ...\n",
       "203716    [102, 103, 104, 105, 106, 109, 107, 110, 108, ...\n",
       "203717    [102, 103, 104, 105, 106, 109, 107, 110, 108, ...\n",
       "Name: resource_id, Length: 203718, dtype: object"
      ]
     },
     "execution_count": 17,
     "metadata": {},
     "output_type": "execute_result"
    }
   ],
   "source": [
    "syllabus_predictions"
   ]
  },
  {
   "cell_type": "code",
   "execution_count": 18,
   "id": "94e1ab20-592c-45a1-be37-df346eeb6a07",
   "metadata": {
    "tags": []
   },
   "outputs": [],
   "source": [
    "mapped_courses_filled = mapped_courses.reset_index().copy()\n",
    "mapped_courses_filled.loc[:, \"resource_id\"] = mapped_courses_filled[\"resource_id\"].fillna(value=-1)"
   ]
  },
  {
   "cell_type": "code",
   "execution_count": 19,
   "id": "bd3acfb0-e40e-4ae7-9a27-7fb4397d80ae",
   "metadata": {
    "tags": []
   },
   "outputs": [],
   "source": [
    "syllabus_mapping = pd.concat([mapped_courses_filled[\"resource_id\"].rename(\"item_id\"), syllabus_predictions.rename(\"predictions\")], axis=1)"
   ]
  },
  {
   "cell_type": "code",
   "execution_count": 20,
   "id": "8c084257-b2c0-4d00-a9c9-d3d96a9130e6",
   "metadata": {
    "tags": []
   },
   "outputs": [
    {
     "data": {
      "text/html": [
       "<div>\n",
       "<style scoped>\n",
       "    .dataframe tbody tr th:only-of-type {\n",
       "        vertical-align: middle;\n",
       "    }\n",
       "\n",
       "    .dataframe tbody tr th {\n",
       "        vertical-align: top;\n",
       "    }\n",
       "\n",
       "    .dataframe thead th {\n",
       "        text-align: right;\n",
       "    }\n",
       "</style>\n",
       "<table border=\"1\" class=\"dataframe\">\n",
       "  <thead>\n",
       "    <tr style=\"text-align: right;\">\n",
       "      <th></th>\n",
       "      <th>item_id</th>\n",
       "      <th>predictions</th>\n",
       "    </tr>\n",
       "  </thead>\n",
       "  <tbody>\n",
       "    <tr>\n",
       "      <th>0</th>\n",
       "      <td>-1.0</td>\n",
       "      <td>[102, 103, 104, 105, 106, 109, 107, 110, 108, ...</td>\n",
       "    </tr>\n",
       "    <tr>\n",
       "      <th>1</th>\n",
       "      <td>-1.0</td>\n",
       "      <td>[102, 103, 104, 105, 106, 109, 107, 110, 108, ...</td>\n",
       "    </tr>\n",
       "    <tr>\n",
       "      <th>2</th>\n",
       "      <td>-1.0</td>\n",
       "      <td>[102, 103, 104, 105, 106, 109, 107, 110, 108, ...</td>\n",
       "    </tr>\n",
       "    <tr>\n",
       "      <th>3</th>\n",
       "      <td>-1.0</td>\n",
       "      <td>[102, 103, 104, 105, 106, 109, 107, 110, 108, ...</td>\n",
       "    </tr>\n",
       "    <tr>\n",
       "      <th>4</th>\n",
       "      <td>-1.0</td>\n",
       "      <td>[102, 103, 104, 105, 106, 109, 107, 110, 108, ...</td>\n",
       "    </tr>\n",
       "    <tr>\n",
       "      <th>...</th>\n",
       "      <td>...</td>\n",
       "      <td>...</td>\n",
       "    </tr>\n",
       "    <tr>\n",
       "      <th>203713</th>\n",
       "      <td>-1.0</td>\n",
       "      <td>[102, 103, 104, 105, 106, 109, 107, 110, 108, ...</td>\n",
       "    </tr>\n",
       "    <tr>\n",
       "      <th>203714</th>\n",
       "      <td>-1.0</td>\n",
       "      <td>[102, 103, 104, 105, 106, 109, 107, 110, 108, ...</td>\n",
       "    </tr>\n",
       "    <tr>\n",
       "      <th>203715</th>\n",
       "      <td>-1.0</td>\n",
       "      <td>[102, 103, 104, 105, 106, 109, 107, 110, 108, ...</td>\n",
       "    </tr>\n",
       "    <tr>\n",
       "      <th>203716</th>\n",
       "      <td>-1.0</td>\n",
       "      <td>[102, 103, 104, 105, 106, 109, 107, 110, 108, ...</td>\n",
       "    </tr>\n",
       "    <tr>\n",
       "      <th>203717</th>\n",
       "      <td>-1.0</td>\n",
       "      <td>[102, 103, 104, 105, 106, 109, 107, 110, 108, ...</td>\n",
       "    </tr>\n",
       "  </tbody>\n",
       "</table>\n",
       "<p>203718 rows × 2 columns</p>\n",
       "</div>"
      ],
      "text/plain": [
       "        item_id                                        predictions\n",
       "0          -1.0  [102, 103, 104, 105, 106, 109, 107, 110, 108, ...\n",
       "1          -1.0  [102, 103, 104, 105, 106, 109, 107, 110, 108, ...\n",
       "2          -1.0  [102, 103, 104, 105, 106, 109, 107, 110, 108, ...\n",
       "3          -1.0  [102, 103, 104, 105, 106, 109, 107, 110, 108, ...\n",
       "4          -1.0  [102, 103, 104, 105, 106, 109, 107, 110, 108, ...\n",
       "...         ...                                                ...\n",
       "203713     -1.0  [102, 103, 104, 105, 106, 109, 107, 110, 108, ...\n",
       "203714     -1.0  [102, 103, 104, 105, 106, 109, 107, 110, 108, ...\n",
       "203715     -1.0  [102, 103, 104, 105, 106, 109, 107, 110, 108, ...\n",
       "203716     -1.0  [102, 103, 104, 105, 106, 109, 107, 110, 108, ...\n",
       "203717     -1.0  [102, 103, 104, 105, 106, 109, 107, 110, 108, ...\n",
       "\n",
       "[203718 rows x 2 columns]"
      ]
     },
     "execution_count": 20,
     "metadata": {},
     "output_type": "execute_result"
    }
   ],
   "source": [
    "syllabus_mapping # Can basically de-dupliacte if nan, nor potentially not really\n",
    "# CAn't differentiate because don't know the video id since it isn't in the lookup so"
   ]
  },
  {
   "cell_type": "code",
   "execution_count": 21,
   "id": "c5fabacc-e8ef-49c1-b891-de3167afae18",
   "metadata": {
    "tags": []
   },
   "outputs": [
    {
     "data": {
      "text/html": [
       "<div>\n",
       "<style scoped>\n",
       "    .dataframe tbody tr th:only-of-type {\n",
       "        vertical-align: middle;\n",
       "    }\n",
       "\n",
       "    .dataframe tbody tr th {\n",
       "        vertical-align: top;\n",
       "    }\n",
       "\n",
       "    .dataframe thead th {\n",
       "        text-align: right;\n",
       "    }\n",
       "</style>\n",
       "<table border=\"1\" class=\"dataframe\">\n",
       "  <thead>\n",
       "    <tr style=\"text-align: right;\">\n",
       "      <th></th>\n",
       "      <th>0</th>\n",
       "      <th>1</th>\n",
       "      <th>2</th>\n",
       "      <th>3</th>\n",
       "      <th>4</th>\n",
       "      <th>5</th>\n",
       "      <th>6</th>\n",
       "      <th>7</th>\n",
       "      <th>8</th>\n",
       "      <th>9</th>\n",
       "      <th>10</th>\n",
       "      <th>11</th>\n",
       "      <th>12</th>\n",
       "      <th>13</th>\n",
       "      <th>14</th>\n",
       "      <th>15</th>\n",
       "      <th>16</th>\n",
       "      <th>17</th>\n",
       "      <th>18</th>\n",
       "      <th>19</th>\n",
       "    </tr>\n",
       "  </thead>\n",
       "  <tbody>\n",
       "    <tr>\n",
       "      <th>0</th>\n",
       "      <td>102</td>\n",
       "      <td>103</td>\n",
       "      <td>104</td>\n",
       "      <td>105</td>\n",
       "      <td>106</td>\n",
       "      <td>109</td>\n",
       "      <td>107</td>\n",
       "      <td>110</td>\n",
       "      <td>108</td>\n",
       "      <td>94</td>\n",
       "      <td>112</td>\n",
       "      <td>248</td>\n",
       "      <td>111</td>\n",
       "      <td>95</td>\n",
       "      <td>113</td>\n",
       "      <td>249</td>\n",
       "      <td>561</td>\n",
       "      <td>161</td>\n",
       "      <td>123</td>\n",
       "      <td>160</td>\n",
       "    </tr>\n",
       "    <tr>\n",
       "      <th>1</th>\n",
       "      <td>102</td>\n",
       "      <td>103</td>\n",
       "      <td>104</td>\n",
       "      <td>105</td>\n",
       "      <td>106</td>\n",
       "      <td>109</td>\n",
       "      <td>107</td>\n",
       "      <td>110</td>\n",
       "      <td>108</td>\n",
       "      <td>94</td>\n",
       "      <td>112</td>\n",
       "      <td>248</td>\n",
       "      <td>111</td>\n",
       "      <td>95</td>\n",
       "      <td>113</td>\n",
       "      <td>249</td>\n",
       "      <td>561</td>\n",
       "      <td>161</td>\n",
       "      <td>123</td>\n",
       "      <td>160</td>\n",
       "    </tr>\n",
       "    <tr>\n",
       "      <th>2</th>\n",
       "      <td>102</td>\n",
       "      <td>103</td>\n",
       "      <td>104</td>\n",
       "      <td>105</td>\n",
       "      <td>106</td>\n",
       "      <td>109</td>\n",
       "      <td>107</td>\n",
       "      <td>110</td>\n",
       "      <td>108</td>\n",
       "      <td>94</td>\n",
       "      <td>112</td>\n",
       "      <td>248</td>\n",
       "      <td>111</td>\n",
       "      <td>95</td>\n",
       "      <td>113</td>\n",
       "      <td>249</td>\n",
       "      <td>561</td>\n",
       "      <td>161</td>\n",
       "      <td>123</td>\n",
       "      <td>160</td>\n",
       "    </tr>\n",
       "    <tr>\n",
       "      <th>3</th>\n",
       "      <td>102</td>\n",
       "      <td>103</td>\n",
       "      <td>104</td>\n",
       "      <td>105</td>\n",
       "      <td>106</td>\n",
       "      <td>109</td>\n",
       "      <td>107</td>\n",
       "      <td>110</td>\n",
       "      <td>108</td>\n",
       "      <td>94</td>\n",
       "      <td>112</td>\n",
       "      <td>248</td>\n",
       "      <td>111</td>\n",
       "      <td>95</td>\n",
       "      <td>113</td>\n",
       "      <td>249</td>\n",
       "      <td>561</td>\n",
       "      <td>161</td>\n",
       "      <td>123</td>\n",
       "      <td>160</td>\n",
       "    </tr>\n",
       "    <tr>\n",
       "      <th>4</th>\n",
       "      <td>102</td>\n",
       "      <td>103</td>\n",
       "      <td>104</td>\n",
       "      <td>105</td>\n",
       "      <td>106</td>\n",
       "      <td>109</td>\n",
       "      <td>107</td>\n",
       "      <td>110</td>\n",
       "      <td>108</td>\n",
       "      <td>94</td>\n",
       "      <td>112</td>\n",
       "      <td>248</td>\n",
       "      <td>111</td>\n",
       "      <td>95</td>\n",
       "      <td>113</td>\n",
       "      <td>249</td>\n",
       "      <td>561</td>\n",
       "      <td>161</td>\n",
       "      <td>123</td>\n",
       "      <td>160</td>\n",
       "    </tr>\n",
       "    <tr>\n",
       "      <th>...</th>\n",
       "      <td>...</td>\n",
       "      <td>...</td>\n",
       "      <td>...</td>\n",
       "      <td>...</td>\n",
       "      <td>...</td>\n",
       "      <td>...</td>\n",
       "      <td>...</td>\n",
       "      <td>...</td>\n",
       "      <td>...</td>\n",
       "      <td>...</td>\n",
       "      <td>...</td>\n",
       "      <td>...</td>\n",
       "      <td>...</td>\n",
       "      <td>...</td>\n",
       "      <td>...</td>\n",
       "      <td>...</td>\n",
       "      <td>...</td>\n",
       "      <td>...</td>\n",
       "      <td>...</td>\n",
       "      <td>...</td>\n",
       "    </tr>\n",
       "    <tr>\n",
       "      <th>203713</th>\n",
       "      <td>102</td>\n",
       "      <td>103</td>\n",
       "      <td>104</td>\n",
       "      <td>105</td>\n",
       "      <td>106</td>\n",
       "      <td>109</td>\n",
       "      <td>107</td>\n",
       "      <td>110</td>\n",
       "      <td>108</td>\n",
       "      <td>94</td>\n",
       "      <td>112</td>\n",
       "      <td>248</td>\n",
       "      <td>111</td>\n",
       "      <td>95</td>\n",
       "      <td>113</td>\n",
       "      <td>249</td>\n",
       "      <td>561</td>\n",
       "      <td>161</td>\n",
       "      <td>123</td>\n",
       "      <td>160</td>\n",
       "    </tr>\n",
       "    <tr>\n",
       "      <th>203714</th>\n",
       "      <td>102</td>\n",
       "      <td>103</td>\n",
       "      <td>104</td>\n",
       "      <td>105</td>\n",
       "      <td>106</td>\n",
       "      <td>109</td>\n",
       "      <td>107</td>\n",
       "      <td>110</td>\n",
       "      <td>108</td>\n",
       "      <td>94</td>\n",
       "      <td>112</td>\n",
       "      <td>248</td>\n",
       "      <td>111</td>\n",
       "      <td>95</td>\n",
       "      <td>113</td>\n",
       "      <td>249</td>\n",
       "      <td>561</td>\n",
       "      <td>161</td>\n",
       "      <td>123</td>\n",
       "      <td>160</td>\n",
       "    </tr>\n",
       "    <tr>\n",
       "      <th>203715</th>\n",
       "      <td>102</td>\n",
       "      <td>103</td>\n",
       "      <td>104</td>\n",
       "      <td>105</td>\n",
       "      <td>106</td>\n",
       "      <td>109</td>\n",
       "      <td>107</td>\n",
       "      <td>110</td>\n",
       "      <td>108</td>\n",
       "      <td>94</td>\n",
       "      <td>112</td>\n",
       "      <td>248</td>\n",
       "      <td>111</td>\n",
       "      <td>95</td>\n",
       "      <td>113</td>\n",
       "      <td>249</td>\n",
       "      <td>561</td>\n",
       "      <td>161</td>\n",
       "      <td>123</td>\n",
       "      <td>160</td>\n",
       "    </tr>\n",
       "    <tr>\n",
       "      <th>203716</th>\n",
       "      <td>102</td>\n",
       "      <td>103</td>\n",
       "      <td>104</td>\n",
       "      <td>105</td>\n",
       "      <td>106</td>\n",
       "      <td>109</td>\n",
       "      <td>107</td>\n",
       "      <td>110</td>\n",
       "      <td>108</td>\n",
       "      <td>94</td>\n",
       "      <td>112</td>\n",
       "      <td>248</td>\n",
       "      <td>111</td>\n",
       "      <td>95</td>\n",
       "      <td>113</td>\n",
       "      <td>249</td>\n",
       "      <td>561</td>\n",
       "      <td>161</td>\n",
       "      <td>123</td>\n",
       "      <td>160</td>\n",
       "    </tr>\n",
       "    <tr>\n",
       "      <th>203717</th>\n",
       "      <td>102</td>\n",
       "      <td>103</td>\n",
       "      <td>104</td>\n",
       "      <td>105</td>\n",
       "      <td>106</td>\n",
       "      <td>109</td>\n",
       "      <td>107</td>\n",
       "      <td>110</td>\n",
       "      <td>108</td>\n",
       "      <td>94</td>\n",
       "      <td>112</td>\n",
       "      <td>248</td>\n",
       "      <td>111</td>\n",
       "      <td>95</td>\n",
       "      <td>113</td>\n",
       "      <td>249</td>\n",
       "      <td>561</td>\n",
       "      <td>161</td>\n",
       "      <td>123</td>\n",
       "      <td>160</td>\n",
       "    </tr>\n",
       "  </tbody>\n",
       "</table>\n",
       "<p>203718 rows × 20 columns</p>\n",
       "</div>"
      ],
      "text/plain": [
       "         0    1    2    3    4    5    6    7    8   9    10   11   12  13  \\\n",
       "0       102  103  104  105  106  109  107  110  108  94  112  248  111  95   \n",
       "1       102  103  104  105  106  109  107  110  108  94  112  248  111  95   \n",
       "2       102  103  104  105  106  109  107  110  108  94  112  248  111  95   \n",
       "3       102  103  104  105  106  109  107  110  108  94  112  248  111  95   \n",
       "4       102  103  104  105  106  109  107  110  108  94  112  248  111  95   \n",
       "...     ...  ...  ...  ...  ...  ...  ...  ...  ...  ..  ...  ...  ...  ..   \n",
       "203713  102  103  104  105  106  109  107  110  108  94  112  248  111  95   \n",
       "203714  102  103  104  105  106  109  107  110  108  94  112  248  111  95   \n",
       "203715  102  103  104  105  106  109  107  110  108  94  112  248  111  95   \n",
       "203716  102  103  104  105  106  109  107  110  108  94  112  248  111  95   \n",
       "203717  102  103  104  105  106  109  107  110  108  94  112  248  111  95   \n",
       "\n",
       "         14   15   16   17   18   19  \n",
       "0       113  249  561  161  123  160  \n",
       "1       113  249  561  161  123  160  \n",
       "2       113  249  561  161  123  160  \n",
       "3       113  249  561  161  123  160  \n",
       "4       113  249  561  161  123  160  \n",
       "...     ...  ...  ...  ...  ...  ...  \n",
       "203713  113  249  561  161  123  160  \n",
       "203714  113  249  561  161  123  160  \n",
       "203715  113  249  561  161  123  160  \n",
       "203716  113  249  561  161  123  160  \n",
       "203717  113  249  561  161  123  160  \n",
       "\n",
       "[203718 rows x 20 columns]"
      ]
     },
     "execution_count": 21,
     "metadata": {},
     "output_type": "execute_result"
    }
   ],
   "source": [
    "flat_predictions = pd.DataFrame(np.array(syllabus_mapping[[\"predictions\"]].values.tolist()).squeeze())\n",
    "flat_predictions"
   ]
  },
  {
   "cell_type": "code",
   "execution_count": 22,
   "id": "0dfccaf9-e781-4952-bd2e-035b6e0540e5",
   "metadata": {
    "tags": []
   },
   "outputs": [
    {
     "data": {
      "text/html": [
       "<div>\n",
       "<style scoped>\n",
       "    .dataframe tbody tr th:only-of-type {\n",
       "        vertical-align: middle;\n",
       "    }\n",
       "\n",
       "    .dataframe tbody tr th {\n",
       "        vertical-align: top;\n",
       "    }\n",
       "\n",
       "    .dataframe thead th {\n",
       "        text-align: right;\n",
       "    }\n",
       "</style>\n",
       "<table border=\"1\" class=\"dataframe\">\n",
       "  <thead>\n",
       "    <tr style=\"text-align: right;\">\n",
       "      <th></th>\n",
       "      <th>predictions</th>\n",
       "    </tr>\n",
       "    <tr>\n",
       "      <th>item_id</th>\n",
       "      <th></th>\n",
       "    </tr>\n",
       "  </thead>\n",
       "  <tbody>\n",
       "    <tr>\n",
       "      <th>-1</th>\n",
       "      <td>[102, 103, 104, 105, 106, 109, 107, 110, 108, ...</td>\n",
       "    </tr>\n",
       "    <tr>\n",
       "      <th>28231</th>\n",
       "      <td>[102, 103, 28232, 104, 35700, 35701, 105, 2057...</td>\n",
       "    </tr>\n",
       "    <tr>\n",
       "      <th>28232</th>\n",
       "      <td>[102, 35700, 35701, 103, 20579, 104, 105, 5274...</td>\n",
       "    </tr>\n",
       "    <tr>\n",
       "      <th>35700</th>\n",
       "      <td>[35701, 102, 20579, 103, 104, 52747, 105, 5031...</td>\n",
       "    </tr>\n",
       "    <tr>\n",
       "      <th>35701</th>\n",
       "      <td>[102, 20579, 103, 104, 52747, 105, 50310, 1479...</td>\n",
       "    </tr>\n",
       "    <tr>\n",
       "      <th>...</th>\n",
       "      <td>...</td>\n",
       "    </tr>\n",
       "    <tr>\n",
       "      <th>3545</th>\n",
       "      <td>[122109, 35241, 34913, 34914, 49605, 102, 103,...</td>\n",
       "    </tr>\n",
       "    <tr>\n",
       "      <th>122109</th>\n",
       "      <td>[35241, 34913, 34914, 49605, 102, 103, 104, 10...</td>\n",
       "    </tr>\n",
       "    <tr>\n",
       "      <th>35241</th>\n",
       "      <td>[34913, 34914, 49605, 102, 103, 104, 105, 106,...</td>\n",
       "    </tr>\n",
       "    <tr>\n",
       "      <th>34913</th>\n",
       "      <td>[34914, 49605, 102, 103, 104, 105, 106, 109, 1...</td>\n",
       "    </tr>\n",
       "    <tr>\n",
       "      <th>34914</th>\n",
       "      <td>[49605, 102, 103, 104, 105, 106, 109, 107, 110...</td>\n",
       "    </tr>\n",
       "  </tbody>\n",
       "</table>\n",
       "<p>16443 rows × 1 columns</p>\n",
       "</div>"
      ],
      "text/plain": [
       "                                               predictions\n",
       "item_id                                                   \n",
       "-1       [102, 103, 104, 105, 106, 109, 107, 110, 108, ...\n",
       " 28231   [102, 103, 28232, 104, 35700, 35701, 105, 2057...\n",
       " 28232   [102, 35700, 35701, 103, 20579, 104, 105, 5274...\n",
       " 35700   [35701, 102, 20579, 103, 104, 52747, 105, 5031...\n",
       " 35701   [102, 20579, 103, 104, 52747, 105, 50310, 1479...\n",
       "...                                                    ...\n",
       " 3545    [122109, 35241, 34913, 34914, 49605, 102, 103,...\n",
       " 122109  [35241, 34913, 34914, 49605, 102, 103, 104, 10...\n",
       " 35241   [34913, 34914, 49605, 102, 103, 104, 105, 106,...\n",
       " 34913   [34914, 49605, 102, 103, 104, 105, 106, 109, 1...\n",
       " 34914   [49605, 102, 103, 104, 105, 106, 109, 107, 110...\n",
       "\n",
       "[16443 rows x 1 columns]"
      ]
     },
     "execution_count": 22,
     "metadata": {},
     "output_type": "execute_result"
    }
   ],
   "source": [
    "deduped_syllabus_mapping = syllabus_mapping.loc[flat_predictions.drop_duplicates().index].set_index(\"item_id\")\n",
    "deduped_syllabus_mapping.index = deduped_syllabus_mapping.index.astype(int)\n",
    "deduped_syllabus_mapping"
   ]
  },
  {
   "cell_type": "code",
   "execution_count": 23,
   "id": "190b7c85-9a7b-4497-afb0-588970ad1c95",
   "metadata": {
    "tags": []
   },
   "outputs": [],
   "source": [
    "deduped_syllabus_mapping.to_parquet(\"mooc/deduped_syllabus_mapping.parquet\")"
   ]
  }
 ],
 "metadata": {
  "kernelspec": {
   "display_name": "Python 3 (ipykernel)",
   "language": "python",
   "name": "python3"
  },
  "language_info": {
   "codemirror_mode": {
    "name": "ipython",
    "version": 3
   },
   "file_extension": ".py",
   "mimetype": "text/x-python",
   "name": "python",
   "nbconvert_exporter": "python",
   "pygments_lexer": "ipython3",
   "version": "3.8.10"
  }
 },
 "nbformat": 4,
 "nbformat_minor": 5
}
