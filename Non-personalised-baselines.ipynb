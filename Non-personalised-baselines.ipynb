{
 "cells": [
  {
   "attachments": {},
   "cell_type": "markdown",
   "id": "63a099a1",
   "metadata": {},
   "source": [
    "# Non-personalised baselines"
   ]
  },
  {
   "cell_type": "code",
   "execution_count": 1,
   "id": "f463c6b2",
   "metadata": {
    "tags": []
   },
   "outputs": [
    {
     "name": "stderr",
     "output_type": "stream",
     "text": [
      "/usr/local/lib/python3.8/dist-packages/tqdm/auto.py:22: TqdmWarning: IProgress not found. Please update jupyter and ipywidgets. See https://ipywidgets.readthedocs.io/en/stable/user_install.html\n",
      "  from .autonotebook import tqdm as notebook_tqdm\n"
     ]
    }
   ],
   "source": [
    "from utils import SavePredictionsCallback\n",
    "from collections import defaultdict\n",
    "import torch\n",
    "import pandas as pd\n",
    "from pathlib import Path\n",
    "import numpy as np\n",
    "import typing as t\n",
    "from tqdm.auto import tqdm\n",
    "SEED = 481424852"
   ]
  },
  {
   "cell_type": "code",
   "execution_count": 2,
   "id": "4864368a",
   "metadata": {
    "tags": []
   },
   "outputs": [],
   "source": [
    "PREDICT_K=20\n",
    "ks = [5, 10]\n",
    "BATCH_SIZE = 1024*4"
   ]
  },
  {
   "cell_type": "code",
   "execution_count": 25,
   "id": "5841c355",
   "metadata": {
    "tags": []
   },
   "outputs": [],
   "source": [
    "#from utils.analysis import calculate_metrics, save_eval\n",
    "from utils.t4r_analysis import get_metrics\n",
    "from utils.analysis import calculate_metrics, save_eval\n",
    "\n",
    "\n",
    "def predict(loader, seed=SEED):    \n",
    "    metrics = get_metrics()\n",
    "    storage_container = SavePredictionsCallback()\n",
    "    for predictions, targets in tqdm(loader):\n",
    "        targets = targets.view(-1, 1)\n",
    "        scores = torch.ones_like(predictions, dtype=float) / torch.arange(1, predictions.shape[1]+1)\n",
    "        labels = (predictions == targets).int()\n",
    "        for metric_name, metric in metrics.items():\n",
    "            metric.update(scores, labels)\n",
    "        storage_container(pred_item_ids=predictions, pred_item_scores=scores, labels=targets.view(-1))\n",
    "    return metrics, storage_container\n",
    "\n",
    "def evaluate(loader, **kwargs):\n",
    "    batch_metrics, storage_container = predict(loader, **kwargs)\n",
    "    return calculate_metrics(batch_metrics), storage_container\n"
   ]
  },
  {
   "attachments": {},
   "cell_type": "markdown",
   "id": "20f4e5e8",
   "metadata": {},
   "source": [
    "##### Loading necessary data"
   ]
  },
  {
   "cell_type": "code",
   "execution_count": 4,
   "id": "b78b5eaf",
   "metadata": {
    "tags": []
   },
   "outputs": [],
   "source": [
    "ednet_path = Path(\"ednet/conventional/all_scaled/\")\n",
    "mooc_path = Path(\"mooc/conventional/all_scaled/\")"
   ]
  },
  {
   "cell_type": "code",
   "execution_count": 5,
   "id": "ffdc4300",
   "metadata": {
    "tags": []
   },
   "outputs": [],
   "source": [
    "mooc_val = pd.read_parquet(mooc_path / \"val.parquet\", columns=[\"item_id\"]).droplevel([1,2])"
   ]
  },
  {
   "cell_type": "code",
   "execution_count": 6,
   "id": "fe2bbd00",
   "metadata": {
    "tags": []
   },
   "outputs": [],
   "source": [
    "mooc_test = pd.read_parquet(mooc_path / \"test.parquet\", columns=[\"item_id\"]).droplevel([1,2])\n",
    "ednet_test = pd.read_parquet(ednet_path / \"test.parquet\", columns=[\"item_id\"]).droplevel([1,2])"
   ]
  },
  {
   "attachments": {},
   "cell_type": "markdown",
   "id": "5f00f923",
   "metadata": {},
   "source": [
    "### Random recommender"
   ]
  },
  {
   "cell_type": "code",
   "execution_count": 7,
   "id": "17a220f2",
   "metadata": {
    "tags": []
   },
   "outputs": [],
   "source": [
    "class RandomDataset(torch.utils.data.Dataset):\n",
    "    def __init__(self, labels:pd.DataFrame, cardinality: int, generator: torch.Generator, predict_k=20):\n",
    "        \"\"\"Initialization\n",
    "        Labels  - pd.DataFrame, indexed by `user_id` and with column `item_id` \"\"\"\n",
    "        self.labels = labels\n",
    "        self.cardinality = cardinality\n",
    "        self.generator = generator\n",
    "        self.predict_k = predict_k\n",
    "\n",
    "    def __len__(self):\n",
    "        'Denotes the total number of samples'\n",
    "        return len(self.labels)\n",
    "\n",
    "    def __getitem__(self, index):\n",
    "        'Generates one sample of data'\n",
    "        # Load data and get label\n",
    "        X = torch.randperm(self.cardinality, generator=self.generator)[:self.predict_k]\n",
    "        # First column is the target item id\n",
    "        y = self.labels.iloc[index, 0]\n",
    "\n",
    "        return X, y"
   ]
  },
  {
   "attachments": {},
   "cell_type": "markdown",
   "id": "d1550fb3",
   "metadata": {},
   "source": [
    "##### Ednet"
   ]
  },
  {
   "cell_type": "code",
   "execution_count": 8,
   "id": "206dfc5e",
   "metadata": {
    "tags": []
   },
   "outputs": [],
   "source": [
    "ednet_stats = pd.read_parquet(ednet_path / \"feature_stats.parquet\")\n",
    "EDNET_CARDINALITY = ednet_stats.loc[\"max\", \"item_id\"].astype(int)"
   ]
  },
  {
   "cell_type": "code",
   "execution_count": 9,
   "id": "30b03482",
   "metadata": {
    "tags": []
   },
   "outputs": [],
   "source": [
    "random_ednet_gen = torch.Generator().manual_seed(SEED)\n",
    "random_ednet_dataset = RandomDataset(ednet_test, EDNET_CARDINALITY, random_ednet_gen, predict_k=PREDICT_K)\n",
    "random_ednet_loader = torch.utils.data.DataLoader(random_ednet_dataset, batch_size=BATCH_SIZE, shuffle=False, generator=random_ednet_gen)"
   ]
  },
  {
   "cell_type": "code",
   "execution_count": 10,
   "id": "64c8de87",
   "metadata": {
    "tags": []
   },
   "outputs": [
    {
     "name": "stderr",
     "output_type": "stream",
     "text": [
      "100%|████████████████████████████████████████████████████| 5/5 [00:00<00:00,  5.49it/s]\n"
     ]
    },
    {
     "data": {
      "text/plain": [
       "{'map': {5: 0.003066029166802764, 10: 0.0037128934636712074},\n",
       " 'recall': {5: 0.006210838910192251, 10: 0.011212487705051899},\n",
       " 'ndcg': {5: 0.0038427680265158415, 10: 0.005439006723463535}}"
      ]
     },
     "execution_count": 10,
     "metadata": {},
     "output_type": "execute_result"
    }
   ],
   "source": [
    "random_ednet_metrics, random_ednet_storage_container = evaluate(random_ednet_loader)\n",
    "random_ednet_metrics"
   ]
  },
  {
   "cell_type": "code",
   "execution_count": 11,
   "id": "60a9e61d",
   "metadata": {
    "tags": []
   },
   "outputs": [],
   "source": [
    "save_eval(random_ednet_metrics, random_ednet_storage_container, \"ednet_baseline_random_eval\")"
   ]
  },
  {
   "attachments": {},
   "cell_type": "markdown",
   "id": "96e091bd",
   "metadata": {},
   "source": [
    "##### Mooc"
   ]
  },
  {
   "cell_type": "code",
   "execution_count": 14,
   "id": "2cc26356",
   "metadata": {
    "tags": []
   },
   "outputs": [],
   "source": [
    "mooc_stats = pd.read_parquet(mooc_path / \"cont_feature_stats.parquet\")\n",
    "MOOC_CARDINALITY = mooc_stats.loc[\"max\", \"item_id\"].astype(int)"
   ]
  },
  {
   "cell_type": "code",
   "execution_count": 16,
   "id": "472fc548",
   "metadata": {
    "tags": []
   },
   "outputs": [],
   "source": [
    "random_mooc_gen = torch.Generator().manual_seed(SEED)\n",
    "random_mooc_dataset = RandomDataset(mooc_test, MOOC_CARDINALITY, random_mooc_gen, predict_k=PREDICT_K)\n",
    "random_mooc_loader = torch.utils.data.DataLoader(random_mooc_dataset, batch_size=BATCH_SIZE, shuffle=False, generator=random_mooc_gen)"
   ]
  },
  {
   "cell_type": "code",
   "execution_count": 17,
   "id": "235cec30-5816-4b3b-a8af-7dda60db9406",
   "metadata": {
    "tags": []
   },
   "outputs": [
    {
     "name": "stderr",
     "output_type": "stream",
     "text": [
      "100%|██████████████████████████████████████████████████| 29/29 [02:14<00:00,  4.63s/it]\n"
     ]
    },
    {
     "data": {
      "text/plain": [
       "{'map': {5: 1.6715097444830462e-05, 10: 2.645026324898936e-05},\n",
       " 'recall': {5: 3.428737909416668e-05, 10: 0.00010286214092047885},\n",
       " 'ndcg': {5: 2.0987812604289502e-05, 10: 4.374848504085094e-05}}"
      ]
     },
     "execution_count": 17,
     "metadata": {},
     "output_type": "execute_result"
    }
   ],
   "source": [
    "random_mooc_metrics, random_mooc_storage_container = evaluate(random_mooc_loader)\n",
    "random_mooc_metrics"
   ]
  },
  {
   "cell_type": "code",
   "execution_count": 18,
   "id": "3473db32",
   "metadata": {
    "tags": []
   },
   "outputs": [],
   "source": [
    "save_eval(random_mooc_metrics, random_mooc_storage_container, \"mooc_baseline_random_eval\")"
   ]
  },
  {
   "cell_type": "code",
   "execution_count": 19,
   "id": "2921361b-463b-4e8c-8306-435e0f0a2168",
   "metadata": {
    "tags": []
   },
   "outputs": [],
   "source": [
    "def predict(last_interaction: pd.DataFrame, labels: pd.DataFrame, lookup_df:pd.DataFrame, predict_k=PREDICT_K, item_col=\"item_id\",\n",
    "            user_col=\"user_col\", seed=SEED, most_pop_only=False, batch_size=1024*4):\n",
    "    #print(\"Creating data loader\")\n",
    "    gen = torch.Generator().manual_seed(seed)\n",
    "    dataset = SyllabusDataset(last_interaction, labels, lookup_df, predict_k=predict_k, most_pop_only=most_pop_only)\n",
    "    loader = torch.utils.data.DataLoader(dataset, batch_size=batch_size, shuffle=False, generator=gen)\n",
    "    \n",
    "    \n",
    "    metrics = get_metrics()\n",
    "    storage_container = SavePredictionsCallback()\n",
    "    print(\"Predicting\")\n",
    "    for predictions, targets in tqdm(loader):\n",
    "        targets = targets.view(-1, 1)\n",
    "        scores = torch.ones_like(predictions, dtype=float) / torch.arange(1, predictions.shape[1]+1)\n",
    "        labels = (predictions == targets).int()\n",
    "        for metric_name, metric in metrics.items():\n",
    "            metric.update(scores, labels)\n",
    "        storage_container(pred_item_ids=predictions, pred_item_scores=scores, labels=targets.view(-1))\n",
    "\n",
    "    \n",
    "    \n",
    "    print(\"Calculating metrics\")\n",
    "    results = {metric_name: torch.cat(metric.metric_mean, axis=0).mean(axis=0) for metric_name, metric in metrics.items()}\n",
    "    metric_results = defaultdict(dict)\n",
    "\n",
    "    for metric_name, result in results.items():\n",
    "        for k_idx, topk in enumerate(ks):\n",
    "            metric_results[metric_name][f\"at_{topk}\"] = result[k_idx].item()\n",
    "    return dict(metric_results), storage_container"
   ]
  },
  {
   "attachments": {},
   "cell_type": "markdown",
   "id": "e33de621",
   "metadata": {},
   "source": [
    "### Most Pop"
   ]
  },
  {
   "cell_type": "code",
   "execution_count": 20,
   "id": "4702d685",
   "metadata": {
    "tags": []
   },
   "outputs": [],
   "source": [
    "def get_most_pop(dataset_name: t.Literal[\"mooc\",\"ednet\"]):\n",
    "    dataset_path = Path(dataset_name)\n",
    "    if (most_pop_path := dataset_path / \"most_pop.parquet\").exists():\n",
    "        most_pop = pd.read_parquet(most_pop_path)\n",
    "    else:\n",
    "        # Most popular uptil test interaction\n",
    "        interactions = pd.read_parquet(dataset_path / \"conventional/all_scaled/val_full.parquet\", columns=[\"item_id\"])    \n",
    "        most_pop = interactions.value_counts().rename(\"view_count\").reset_index()\n",
    "        most_pop.to_parquet(dataset_path / \"most_pop.parquet\")\n",
    "    return most_pop"
   ]
  },
  {
   "cell_type": "code",
   "execution_count": 21,
   "id": "c46e61ad",
   "metadata": {
    "tags": []
   },
   "outputs": [],
   "source": [
    "class MostPopDataset(torch.utils.data.Dataset):\n",
    "    \"\"\"Takes in the interaction_dict indexed by user_id, and interacted item_id\n",
    "        `labels`      pd.DataFrame - Ground truth, indexed by user_id\n",
    "        `most_pop`    pd.DataFrame - View count, with columns `item_id` and `view_count`\n",
    "    \"\"\"\n",
    "    def __init__(self, labels: pd.DataFrame, most_pop: t.List[int], predict_k=20):\n",
    "        'Initialization'\n",
    "        self.labels = labels\n",
    "        self.most_pop = most_pop\n",
    "        self.predict_k = predict_k\n",
    "\n",
    "    def __len__(self):\n",
    "        'Denotes the total number of samples'\n",
    "        return len(self.labels)\n",
    "\n",
    "    def __getitem__(self, index):\n",
    "        'Generates one sample of data'\n",
    "        # Select sample\n",
    "        # Load most_pop\n",
    "        X = torch.tensor(self.most_pop.nlargest(self.predict_k, \"view_count\")[\"item_id\"].values)\n",
    "        y = torch.tensor(self.labels.iloc[index][\"item_id\"])\n",
    "\n",
    "        return X, y"
   ]
  },
  {
   "attachments": {},
   "cell_type": "markdown",
   "id": "982be1c4-4cf8-4962-909f-3a62ee7b2c02",
   "metadata": {},
   "source": [
    "#### Ednet"
   ]
  },
  {
   "cell_type": "code",
   "execution_count": 22,
   "id": "6e3f8fc8",
   "metadata": {
    "tags": []
   },
   "outputs": [
    {
     "data": {
      "text/plain": [
       "array([ 80,  27,  37,  84,  44, 316,   6,   2,   7,   5,  69,  20,  97,\n",
       "       154,  46,   1,   8,  41,  94,  19])"
      ]
     },
     "execution_count": 22,
     "metadata": {},
     "output_type": "execute_result"
    }
   ],
   "source": [
    "ednet_most_pop = get_most_pop(\"ednet\")\n",
    "ednet_most_pop.nlargest(20, \"view_count\")[\"item_id\"].values"
   ]
  },
  {
   "cell_type": "code",
   "execution_count": 23,
   "id": "239a30ea",
   "metadata": {
    "tags": []
   },
   "outputs": [],
   "source": [
    "most_pop_ednet_gen = torch.Generator().manual_seed(SEED)\n",
    "most_pop_ednet_dataset = MostPopDataset(ednet_test, ednet_most_pop, predict_k=PREDICT_K)\n",
    "most_pop_ednet_loader = torch.utils.data.DataLoader(most_pop_ednet_dataset, batch_size=len(ednet_test), shuffle=False, generator=most_pop_ednet_gen)"
   ]
  },
  {
   "cell_type": "code",
   "execution_count": 26,
   "id": "e7645c97",
   "metadata": {
    "tags": []
   },
   "outputs": [
    {
     "name": "stderr",
     "output_type": "stream",
     "text": [
      "100%|████████████████████████████████████████████████████| 1/1 [00:10<00:00, 10.90s/it]\n"
     ]
    },
    {
     "data": {
      "text/plain": [
       "{'map': {5: 0.029045291244983673, 10: 0.032812077552080154},\n",
       " 'recall': {5: 0.05501813814043999, 10: 0.0826646164059639},\n",
       " 'ndcg': {5: 0.03542815148830414, 10: 0.04444465786218643}}"
      ]
     },
     "execution_count": 26,
     "metadata": {},
     "output_type": "execute_result"
    }
   ],
   "source": [
    "metrics, storage_container = evaluate(most_pop_ednet_loader)\n",
    "metrics"
   ]
  },
  {
   "cell_type": "code",
   "execution_count": 27,
   "id": "230951a7",
   "metadata": {
    "tags": []
   },
   "outputs": [],
   "source": [
    "save_eval(metrics, storage_container, \"ednet_baseline_most_pop_eval\")"
   ]
  },
  {
   "attachments": {},
   "cell_type": "markdown",
   "id": "52592ad0",
   "metadata": {},
   "source": [
    "#### Mooc"
   ]
  },
  {
   "cell_type": "code",
   "execution_count": 28,
   "id": "8c8c3547",
   "metadata": {
    "tags": []
   },
   "outputs": [
    {
     "data": {
      "text/plain": [
       "array([102, 103, 104, 105, 106, 109, 107, 110, 108,  94, 112, 248, 111,\n",
       "        95, 113, 249, 561, 161, 123, 160])"
      ]
     },
     "execution_count": 28,
     "metadata": {},
     "output_type": "execute_result"
    }
   ],
   "source": [
    "mooc_most_pop = get_most_pop(\"mooc\")\n",
    "mooc_most_pop.nlargest(20, \"view_count\")[\"item_id\"].values"
   ]
  },
  {
   "cell_type": "code",
   "execution_count": 29,
   "id": "fbcfe9f4",
   "metadata": {
    "tags": []
   },
   "outputs": [],
   "source": [
    "most_pop_mooc_gen = torch.Generator().manual_seed(SEED)\n",
    "most_pop_mooc_dataset = MostPopDataset(mooc_test, mooc_most_pop, predict_k=PREDICT_K)\n",
    "most_pop_mooc_loader = torch.utils.data.DataLoader(most_pop_mooc_dataset, batch_size=BATCH_SIZE, shuffle=False, generator=most_pop_mooc_gen)"
   ]
  },
  {
   "cell_type": "code",
   "execution_count": 30,
   "id": "78baa412",
   "metadata": {
    "tags": []
   },
   "outputs": [
    {
     "name": "stderr",
     "output_type": "stream",
     "text": [
      "100%|██████████████████████████████████████████████████| 29/29 [04:22<00:00,  9.06s/it]\n"
     ]
    },
    {
     "data": {
      "text/plain": [
       "{'map': {5: 0.006099153310060501, 10: 0.013897158205509186},\n",
       " 'recall': {5: 0.017692288383841515, 10: 0.07427503913640976},\n",
       " 'ndcg': {5: 0.008882351219654083, 10: 0.027426179498434067}}"
      ]
     },
     "execution_count": 30,
     "metadata": {},
     "output_type": "execute_result"
    }
   ],
   "source": [
    "most_pop_mooc_metrics, most_pop_mooc_storage_container = evaluate(most_pop_mooc_loader)\n",
    "most_pop_mooc_metrics"
   ]
  },
  {
   "cell_type": "code",
   "execution_count": 31,
   "id": "7eb11e51",
   "metadata": {
    "tags": []
   },
   "outputs": [],
   "source": [
    "save_eval(most_pop_mooc_metrics, most_pop_mooc_storage_container, \"mooc_baseline_most_pop_eval\")"
   ]
  },
  {
   "attachments": {},
   "cell_type": "markdown",
   "id": "f83e60ee-bd9d-42ce-9b1f-2f97f1763aed",
   "metadata": {},
   "source": [
    "### Syllabus recommender\n",
    "Get next $x$ vidoes in syllabus, excluding NaN. Pad with MostPop until $k$ predictions\n"
   ]
  },
  {
   "cell_type": "code",
   "execution_count": 32,
   "id": "cb71e12e-57ac-4fd5-9a9a-2ed602e45ce6",
   "metadata": {
    "tags": []
   },
   "outputs": [],
   "source": [
    "class SyllabusDataset(torch.utils.data.Dataset):\n",
    "    \"\"\"Takes in the interaction_dict indexed by user_id, and interacted item_id\n",
    "        `last_interaction`   pd.DataFrame, with user_id and item_id as columns\n",
    "        `labels`         pd.DataFrame - Ground truth, indexed by user_id\n",
    "        `item_lookup`    pd.DataFrame - Indexed by item_id, where -1 is Out of syllabus video_ids\n",
    "    \"\"\"\n",
    "    def __init__(self, last_interaction: pd.DataFrame, labels: pd.DataFrame, item_lookup: pd.DataFrame, most_pop_only=False, predict_k=20):\n",
    "        'Initialization'\n",
    "        self.last_interaction = last_interaction\n",
    "        self.labels = labels\n",
    "        self.item_lookup = item_lookup\n",
    "        self.predict_k = predict_k\n",
    "        self.most_pop_only = most_pop_only\n",
    "\n",
    "    def __len__(self):\n",
    "        'Denotes the total number of samples'\n",
    "        return self.last_interaction.shape[0]\n",
    "\n",
    "    def __getitem__(self, index):\n",
    "        'Generates one sample of data'\n",
    "        # Select sample\n",
    "        user_id, item_id = self.last_interaction.iloc[index].values\n",
    "        # Load syllabus based predictions\n",
    "        if item_id not in self.item_lookup.index or self.most_pop_only:\n",
    "            X = torch.tensor(self.item_lookup.loc[-1].iat[0]) # Default -> Most pop\n",
    "        else:\n",
    "            X = torch.tensor(self.item_lookup.loc[item_id].iat[0])\n",
    "        y = torch.tensor(self.labels.loc[user_id].iat[0])\n",
    "\n",
    "        return X, y"
   ]
  },
  {
   "cell_type": "code",
   "execution_count": 33,
   "id": "caf02a7e-b5aa-475c-b79f-ae36ec7b5e5f",
   "metadata": {
    "tags": []
   },
   "outputs": [
    {
     "data": {
      "text/html": [
       "<div>\n",
       "<style scoped>\n",
       "    .dataframe tbody tr th:only-of-type {\n",
       "        vertical-align: middle;\n",
       "    }\n",
       "\n",
       "    .dataframe tbody tr th {\n",
       "        vertical-align: top;\n",
       "    }\n",
       "\n",
       "    .dataframe thead th {\n",
       "        text-align: right;\n",
       "    }\n",
       "</style>\n",
       "<table border=\"1\" class=\"dataframe\">\n",
       "  <thead>\n",
       "    <tr style=\"text-align: right;\">\n",
       "      <th></th>\n",
       "      <th>predictions</th>\n",
       "    </tr>\n",
       "    <tr>\n",
       "      <th>item_id</th>\n",
       "      <th></th>\n",
       "    </tr>\n",
       "  </thead>\n",
       "  <tbody>\n",
       "    <tr>\n",
       "      <th>-1</th>\n",
       "      <td>[102, 103, 104, 105, 106, 109, 107, 110, 108, ...</td>\n",
       "    </tr>\n",
       "    <tr>\n",
       "      <th>28231</th>\n",
       "      <td>[102, 103, 28232, 104, 35700, 35701, 105, 2057...</td>\n",
       "    </tr>\n",
       "    <tr>\n",
       "      <th>28232</th>\n",
       "      <td>[102, 35700, 35701, 103, 20579, 104, 105, 5274...</td>\n",
       "    </tr>\n",
       "    <tr>\n",
       "      <th>35700</th>\n",
       "      <td>[35701, 102, 20579, 103, 104, 52747, 105, 5031...</td>\n",
       "    </tr>\n",
       "    <tr>\n",
       "      <th>35701</th>\n",
       "      <td>[102, 20579, 103, 104, 52747, 105, 50310, 1479...</td>\n",
       "    </tr>\n",
       "    <tr>\n",
       "      <th>...</th>\n",
       "      <td>...</td>\n",
       "    </tr>\n",
       "    <tr>\n",
       "      <th>3545</th>\n",
       "      <td>[122109, 35241, 34913, 34914, 49605, 102, 103,...</td>\n",
       "    </tr>\n",
       "    <tr>\n",
       "      <th>122109</th>\n",
       "      <td>[35241, 34913, 34914, 49605, 102, 103, 104, 10...</td>\n",
       "    </tr>\n",
       "    <tr>\n",
       "      <th>35241</th>\n",
       "      <td>[34913, 34914, 49605, 102, 103, 104, 105, 106,...</td>\n",
       "    </tr>\n",
       "    <tr>\n",
       "      <th>34913</th>\n",
       "      <td>[34914, 49605, 102, 103, 104, 105, 106, 109, 1...</td>\n",
       "    </tr>\n",
       "    <tr>\n",
       "      <th>34914</th>\n",
       "      <td>[49605, 102, 103, 104, 105, 106, 109, 107, 110...</td>\n",
       "    </tr>\n",
       "  </tbody>\n",
       "</table>\n",
       "<p>16443 rows × 1 columns</p>\n",
       "</div>"
      ],
      "text/plain": [
       "                                               predictions\n",
       "item_id                                                   \n",
       "-1       [102, 103, 104, 105, 106, 109, 107, 110, 108, ...\n",
       " 28231   [102, 103, 28232, 104, 35700, 35701, 105, 2057...\n",
       " 28232   [102, 35700, 35701, 103, 20579, 104, 105, 5274...\n",
       " 35700   [35701, 102, 20579, 103, 104, 52747, 105, 5031...\n",
       " 35701   [102, 20579, 103, 104, 52747, 105, 50310, 1479...\n",
       "...                                                    ...\n",
       " 3545    [122109, 35241, 34913, 34914, 49605, 102, 103,...\n",
       " 122109  [35241, 34913, 34914, 49605, 102, 103, 104, 10...\n",
       " 35241   [34913, 34914, 49605, 102, 103, 104, 105, 106,...\n",
       " 34913   [34914, 49605, 102, 103, 104, 105, 106, 109, 1...\n",
       " 34914   [49605, 102, 103, 104, 105, 106, 109, 107, 110...\n",
       "\n",
       "[16443 rows x 1 columns]"
      ]
     },
     "execution_count": 33,
     "metadata": {},
     "output_type": "execute_result"
    }
   ],
   "source": [
    "deduped_syllabus_mapping_val = pd.read_parquet(\"mooc/deduped_syllabus_mapping.parquet\")\n",
    "deduped_syllabus_mapping_val"
   ]
  },
  {
   "cell_type": "code",
   "execution_count": 34,
   "id": "7b459324",
   "metadata": {
    "tags": []
   },
   "outputs": [],
   "source": [
    "syllabus_gen = torch.Generator().manual_seed(SEED)\n",
    "syllabus_dataset = SyllabusDataset(mooc_val.reset_index(), mooc_test, deduped_syllabus_mapping_val, predict_k=PREDICT_K)\n",
    "syllabus_loader = torch.utils.data.DataLoader(syllabus_dataset, batch_size=BATCH_SIZE, shuffle=False, generator=syllabus_gen)"
   ]
  },
  {
   "cell_type": "code",
   "execution_count": 35,
   "id": "c989bb97",
   "metadata": {
    "tags": []
   },
   "outputs": [
    {
     "name": "stderr",
     "output_type": "stream",
     "text": [
      "100%|██████████████████████████████████████████████████| 29/29 [00:23<00:00,  1.26it/s]\n"
     ]
    },
    {
     "data": {
      "text/plain": [
       "{'map': {5: 0.05349645018577576, 10: 0.06180594116449356},\n",
       " 'recall': {5: 0.07178062945604324, 10: 0.13219499588012695},\n",
       " 'ndcg': {5: 0.05795250087976456, 10: 0.07773541659116745}}"
      ]
     },
     "execution_count": 35,
     "metadata": {},
     "output_type": "execute_result"
    }
   ],
   "source": [
    "syllabus_metrics, syllabus_storage_container = evaluate(syllabus_loader)\n",
    "syllabus_metrics"
   ]
  },
  {
   "cell_type": "code",
   "execution_count": 37,
   "id": "2e437f73",
   "metadata": {
    "tags": []
   },
   "outputs": [],
   "source": [
    "save_eval(syllabus_metrics, syllabus_storage_container, \"mooc_baseline_syllabus_eval\")"
   ]
  }
 ],
 "metadata": {
  "kernelspec": {
   "display_name": "Python 3 (ipykernel)",
   "language": "python",
   "name": "python3"
  },
  "language_info": {
   "codemirror_mode": {
    "name": "ipython",
    "version": 3
   },
   "file_extension": ".py",
   "mimetype": "text/x-python",
   "name": "python",
   "nbconvert_exporter": "python",
   "pygments_lexer": "ipython3",
   "version": "3.9.13"
  }
 },
 "nbformat": 4,
 "nbformat_minor": 5
}
