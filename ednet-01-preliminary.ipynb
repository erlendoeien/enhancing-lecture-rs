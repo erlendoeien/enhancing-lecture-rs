{
 "cells": [
  {
   "cell_type": "markdown",
   "id": "274346d2-e309-42e9-9a81-fceda50ff005",
   "metadata": {},
   "source": [
    "# EdNet cleaning and preprocessing\n",
    "Define similar interfaces/signatures for pre-processing both EdNet and MOOCCubeX\n",
    "- Remove all users with more than 50 repetitions of the same video (as with MOOCCubeX)\n",
    "    1. Select only video lectures records and store them\n",
    "    2. Select only enter types - Might have to verify that the time between enter-events are larger then 10 minutes\n",
    "- Aggregate into interactions sessions where gap is less than 10m (New, but based on the behaviour papers)\n",
    "- Easier to do aggregations and users with more than THRESH interaction sessions for each video is removed\n",
    "\n",
    "### Statistics\n",
    "- ~462K user-lecture interactions (\"enter\"-events\") of EdNet, 99% of user-video view count is <=4\n",
    "    - No user has viewed the same video within the interaction threshold (10 minutes) -> Can use only enter events as blacklist\n",
    "- 99.31% of all actions for each user, for each consecutive item interaction are less than 10% minutes\n",
    "- The number of \"enter\"ss of a video per user is maximum 40, where the user overall had ~2k interactions of all platformss\n",
    "    - No too unnatural behaviour\n",
    "- #OLD 3334 records are related to sessions without an explicit start and end event, so they are removed\n",
    "- #OLD 622,316 base sessions are found, where 15,729 base sessions have one (raw, not adjusted for watch time) gap larger than 10 minutes"
   ]
  },
  {
   "cell_type": "code",
   "execution_count": 1,
   "id": "06b5cc93-2798-47c6-a36d-edf69f26b470",
   "metadata": {
    "tags": []
   },
   "outputs": [],
   "source": [
    "import pandas as pd\n",
    "import numpy as np\n",
    "import matplotlib.pyplot as plt\n",
    "from pathlib import Path\n",
    "import dask.dataframe as dd"
   ]
  },
  {
   "cell_type": "code",
   "execution_count": 2,
   "id": "af0b108e-4a67-4db4-aea6-2b9a2e6dc5e5",
   "metadata": {
    "tags": []
   },
   "outputs": [],
   "source": [
    "ITEM_COL = \"item_id\"\n",
    "USER_COL = \"user_id\"\n",
    "TIME_COL = \"timestamp\"\n",
    "SESSION_COL = \"session_id\"\n",
    "CONSECUTIVE_ID = \"item_consecutive_id\""
   ]
  },
  {
   "cell_type": "code",
   "execution_count": 15,
   "id": "50c2ac42-0415-42ec-9548-14f7325cd80f",
   "metadata": {
    "tags": []
   },
   "outputs": [],
   "source": [
    "def get_only_lecture_events(events_ddf, event_col=ITEM_COL):\n",
    "    \"\"\"Returns only the lecture events.\"\"\"\n",
    "    #logging.info(\"Fetching only lecture events\")\n",
    "    return events_ddf[events_ddf[event_col].str.startswith(\"l\")]"
   ]
  },
  {
   "cell_type": "code",
   "execution_count": 5,
   "id": "883472ea-76dd-442b-9bef-2dd6bd90a3bb",
   "metadata": {
    "tags": []
   },
   "outputs": [],
   "source": [
    "ednet_path = Path(\"../EdNet\")"
   ]
  },
  {
   "cell_type": "code",
   "execution_count": 11,
   "id": "eb8759ef-a651-4705-869f-815a98c85ce1",
   "metadata": {
    "tags": []
   },
   "outputs": [
    {
     "name": "stdout",
     "output_type": "stream",
     "text": [
      "CPU times: user 14.3 s, sys: 6.31 s, total: 20.6 s\n",
      "Wall time: 21.1 s\n"
     ]
    },
    {
     "data": {
      "text/html": [
       "<div>\n",
       "<style scoped>\n",
       "    .dataframe tbody tr th:only-of-type {\n",
       "        vertical-align: middle;\n",
       "    }\n",
       "\n",
       "    .dataframe tbody tr th {\n",
       "        vertical-align: top;\n",
       "    }\n",
       "\n",
       "    .dataframe thead th {\n",
       "        text-align: right;\n",
       "    }\n",
       "</style>\n",
       "<table border=\"1\" class=\"dataframe\">\n",
       "  <thead>\n",
       "    <tr style=\"text-align: right;\">\n",
       "      <th></th>\n",
       "      <th>timestamp</th>\n",
       "      <th>action_type</th>\n",
       "      <th>item_id</th>\n",
       "      <th>cursor_time</th>\n",
       "      <th>source</th>\n",
       "      <th>user_answer</th>\n",
       "      <th>platform</th>\n",
       "      <th>user_id</th>\n",
       "    </tr>\n",
       "  </thead>\n",
       "  <tbody>\n",
       "    <tr>\n",
       "      <th>0</th>\n",
       "      <td>1565096151269</td>\n",
       "      <td>enter</td>\n",
       "      <td>b3544</td>\n",
       "      <td>NaN</td>\n",
       "      <td>diagnosis</td>\n",
       "      <td></td>\n",
       "      <td>mobile</td>\n",
       "      <td>1</td>\n",
       "    </tr>\n",
       "    <tr>\n",
       "      <th>1</th>\n",
       "      <td>1565096187972</td>\n",
       "      <td>respond</td>\n",
       "      <td>q5012</td>\n",
       "      <td>NaN</td>\n",
       "      <td>diagnosis</td>\n",
       "      <td>b</td>\n",
       "      <td>mobile</td>\n",
       "      <td>1</td>\n",
       "    </tr>\n",
       "    <tr>\n",
       "      <th>2</th>\n",
       "      <td>1565096194904</td>\n",
       "      <td>submit</td>\n",
       "      <td>b3544</td>\n",
       "      <td>NaN</td>\n",
       "      <td>diagnosis</td>\n",
       "      <td></td>\n",
       "      <td>mobile</td>\n",
       "      <td>1</td>\n",
       "    </tr>\n",
       "    <tr>\n",
       "      <th>3</th>\n",
       "      <td>1565096195001</td>\n",
       "      <td>enter</td>\n",
       "      <td>b3238</td>\n",
       "      <td>NaN</td>\n",
       "      <td>diagnosis</td>\n",
       "      <td></td>\n",
       "      <td>mobile</td>\n",
       "      <td>1</td>\n",
       "    </tr>\n",
       "    <tr>\n",
       "      <th>4</th>\n",
       "      <td>1565096218682</td>\n",
       "      <td>respond</td>\n",
       "      <td>q4706</td>\n",
       "      <td>NaN</td>\n",
       "      <td>diagnosis</td>\n",
       "      <td>c</td>\n",
       "      <td>mobile</td>\n",
       "      <td>1</td>\n",
       "    </tr>\n",
       "    <tr>\n",
       "      <th>...</th>\n",
       "      <td>...</td>\n",
       "      <td>...</td>\n",
       "      <td>...</td>\n",
       "      <td>...</td>\n",
       "      <td>...</td>\n",
       "      <td>...</td>\n",
       "      <td>...</td>\n",
       "      <td>...</td>\n",
       "    </tr>\n",
       "    <tr>\n",
       "      <th>131441533</th>\n",
       "      <td>1574241377745</td>\n",
       "      <td>erase_choice</td>\n",
       "      <td>q7454</td>\n",
       "      <td>NaN</td>\n",
       "      <td>sprint</td>\n",
       "      <td>b</td>\n",
       "      <td>mobile</td>\n",
       "      <td>837094</td>\n",
       "    </tr>\n",
       "    <tr>\n",
       "      <th>131441534</th>\n",
       "      <td>1574241382243</td>\n",
       "      <td>respond</td>\n",
       "      <td>q7454</td>\n",
       "      <td>NaN</td>\n",
       "      <td>sprint</td>\n",
       "      <td>d</td>\n",
       "      <td>mobile</td>\n",
       "      <td>837094</td>\n",
       "    </tr>\n",
       "    <tr>\n",
       "      <th>131441535</th>\n",
       "      <td>1574241397373</td>\n",
       "      <td>submit</td>\n",
       "      <td>b5352</td>\n",
       "      <td>NaN</td>\n",
       "      <td>sprint</td>\n",
       "      <td></td>\n",
       "      <td>mobile</td>\n",
       "      <td>837094</td>\n",
       "    </tr>\n",
       "    <tr>\n",
       "      <th>131441536</th>\n",
       "      <td>1574241397417</td>\n",
       "      <td>enter</td>\n",
       "      <td>e5352</td>\n",
       "      <td>NaN</td>\n",
       "      <td>sprint</td>\n",
       "      <td></td>\n",
       "      <td>mobile</td>\n",
       "      <td>837094</td>\n",
       "    </tr>\n",
       "    <tr>\n",
       "      <th>131441537</th>\n",
       "      <td>1574241455073</td>\n",
       "      <td>quit</td>\n",
       "      <td>e5352</td>\n",
       "      <td>NaN</td>\n",
       "      <td>sprint</td>\n",
       "      <td></td>\n",
       "      <td>mobile</td>\n",
       "      <td>837094</td>\n",
       "    </tr>\n",
       "  </tbody>\n",
       "</table>\n",
       "<p>131441538 rows × 8 columns</p>\n",
       "</div>"
      ],
      "text/plain": [
       "               timestamp   action_type item_id  cursor_time     source  \\\n",
       "0          1565096151269         enter   b3544          NaN  diagnosis   \n",
       "1          1565096187972       respond   q5012          NaN  diagnosis   \n",
       "2          1565096194904        submit   b3544          NaN  diagnosis   \n",
       "3          1565096195001         enter   b3238          NaN  diagnosis   \n",
       "4          1565096218682       respond   q4706          NaN  diagnosis   \n",
       "...                  ...           ...     ...          ...        ...   \n",
       "131441533  1574241377745  erase_choice   q7454          NaN     sprint   \n",
       "131441534  1574241382243       respond   q7454          NaN     sprint   \n",
       "131441535  1574241397373        submit   b5352          NaN     sprint   \n",
       "131441536  1574241397417         enter   e5352          NaN     sprint   \n",
       "131441537  1574241455073          quit   e5352          NaN     sprint   \n",
       "\n",
       "          user_answer platform  user_id  \n",
       "0                       mobile        1  \n",
       "1                   b   mobile        1  \n",
       "2                       mobile        1  \n",
       "3                       mobile        1  \n",
       "4                   c   mobile        1  \n",
       "...               ...      ...      ...  \n",
       "131441533           b   mobile   837094  \n",
       "131441534           d   mobile   837094  \n",
       "131441535               mobile   837094  \n",
       "131441536               mobile   837094  \n",
       "131441537               mobile   837094  \n",
       "\n",
       "[131441538 rows x 8 columns]"
      ]
     },
     "execution_count": 11,
     "metadata": {},
     "output_type": "execute_result"
    }
   ],
   "source": [
    "%%time\n",
    "ednet_raw = pd.read_feather(ednet_path / \"KT4_merged.feather\")\n",
    "ednet_raw"
   ]
  },
  {
   "cell_type": "code",
   "execution_count": 12,
   "id": "80e37366-c3f8-4117-94a3-4b39aae76ce9",
   "metadata": {
    "tags": []
   },
   "outputs": [
    {
     "data": {
      "text/plain": [
       "((131441538, 8), 297915, 29642)"
      ]
     },
     "execution_count": 12,
     "metadata": {},
     "output_type": "execute_result"
    }
   ],
   "source": [
    "ednet_raw.shape, ednet_raw[\"user_id\"].nunique(), ednet_raw[\"item_id\"].nunique()"
   ]
  },
  {
   "cell_type": "code",
   "execution_count": 16,
   "id": "01a2607a-d044-4f99-a189-e8d4699ca4b1",
   "metadata": {
    "tags": []
   },
   "outputs": [
    {
     "data": {
      "text/html": [
       "<div>\n",
       "<style scoped>\n",
       "    .dataframe tbody tr th:only-of-type {\n",
       "        vertical-align: middle;\n",
       "    }\n",
       "\n",
       "    .dataframe tbody tr th {\n",
       "        vertical-align: top;\n",
       "    }\n",
       "\n",
       "    .dataframe thead th {\n",
       "        text-align: right;\n",
       "    }\n",
       "</style>\n",
       "<table border=\"1\" class=\"dataframe\">\n",
       "  <thead>\n",
       "    <tr style=\"text-align: right;\">\n",
       "      <th></th>\n",
       "      <th>timestamp</th>\n",
       "      <th>action_type</th>\n",
       "      <th>item_id</th>\n",
       "      <th>cursor_time</th>\n",
       "      <th>source</th>\n",
       "      <th>user_answer</th>\n",
       "      <th>platform</th>\n",
       "      <th>user_id</th>\n",
       "    </tr>\n",
       "  </thead>\n",
       "  <tbody>\n",
       "    <tr>\n",
       "      <th>21</th>\n",
       "      <td>1565096637922</td>\n",
       "      <td>enter</td>\n",
       "      <td>l504</td>\n",
       "      <td>NaN</td>\n",
       "      <td>archive</td>\n",
       "      <td></td>\n",
       "      <td>mobile</td>\n",
       "      <td>1</td>\n",
       "    </tr>\n",
       "    <tr>\n",
       "      <th>22</th>\n",
       "      <td>1565096645773</td>\n",
       "      <td>play_video</td>\n",
       "      <td>l504</td>\n",
       "      <td>0.0</td>\n",
       "      <td>archive</td>\n",
       "      <td></td>\n",
       "      <td>mobile</td>\n",
       "      <td>1</td>\n",
       "    </tr>\n",
       "    <tr>\n",
       "      <th>23</th>\n",
       "      <td>1565096651182</td>\n",
       "      <td>pause_video</td>\n",
       "      <td>l504</td>\n",
       "      <td>4805.0</td>\n",
       "      <td>archive</td>\n",
       "      <td></td>\n",
       "      <td>mobile</td>\n",
       "      <td>1</td>\n",
       "    </tr>\n",
       "    <tr>\n",
       "      <th>24</th>\n",
       "      <td>1565096652123</td>\n",
       "      <td>play_video</td>\n",
       "      <td>l504</td>\n",
       "      <td>4992.0</td>\n",
       "      <td>archive</td>\n",
       "      <td></td>\n",
       "      <td>mobile</td>\n",
       "      <td>1</td>\n",
       "    </tr>\n",
       "    <tr>\n",
       "      <th>25</th>\n",
       "      <td>1565097005408</td>\n",
       "      <td>pause_video</td>\n",
       "      <td>l504</td>\n",
       "      <td>358098.0</td>\n",
       "      <td>archive</td>\n",
       "      <td></td>\n",
       "      <td>mobile</td>\n",
       "      <td>1</td>\n",
       "    </tr>\n",
       "    <tr>\n",
       "      <th>...</th>\n",
       "      <td>...</td>\n",
       "      <td>...</td>\n",
       "      <td>...</td>\n",
       "      <td>...</td>\n",
       "      <td>...</td>\n",
       "      <td>...</td>\n",
       "      <td>...</td>\n",
       "      <td>...</td>\n",
       "    </tr>\n",
       "    <tr>\n",
       "      <th>131438712</th>\n",
       "      <td>1574760515360</td>\n",
       "      <td>quit</td>\n",
       "      <td>l546</td>\n",
       "      <td>NaN</td>\n",
       "      <td>adaptive_offer</td>\n",
       "      <td></td>\n",
       "      <td>mobile</td>\n",
       "      <td>832396</td>\n",
       "    </tr>\n",
       "    <tr>\n",
       "      <th>131440043</th>\n",
       "      <td>1574846959021</td>\n",
       "      <td>enter</td>\n",
       "      <td>l357</td>\n",
       "      <td>NaN</td>\n",
       "      <td>archive</td>\n",
       "      <td></td>\n",
       "      <td>mobile</td>\n",
       "      <td>832452</td>\n",
       "    </tr>\n",
       "    <tr>\n",
       "      <th>131440044</th>\n",
       "      <td>1574846966153</td>\n",
       "      <td>play_video</td>\n",
       "      <td>l357</td>\n",
       "      <td>0.0</td>\n",
       "      <td>archive</td>\n",
       "      <td></td>\n",
       "      <td>mobile</td>\n",
       "      <td>832452</td>\n",
       "    </tr>\n",
       "    <tr>\n",
       "      <th>131440045</th>\n",
       "      <td>1574847100157</td>\n",
       "      <td>pause_video</td>\n",
       "      <td>l357</td>\n",
       "      <td>134038.0</td>\n",
       "      <td>archive</td>\n",
       "      <td></td>\n",
       "      <td>mobile</td>\n",
       "      <td>832452</td>\n",
       "    </tr>\n",
       "    <tr>\n",
       "      <th>131440046</th>\n",
       "      <td>1574847105449</td>\n",
       "      <td>quit</td>\n",
       "      <td>l357</td>\n",
       "      <td>NaN</td>\n",
       "      <td>archive</td>\n",
       "      <td></td>\n",
       "      <td>mobile</td>\n",
       "      <td>832452</td>\n",
       "    </tr>\n",
       "  </tbody>\n",
       "</table>\n",
       "<p>5029324 rows × 8 columns</p>\n",
       "</div>"
      ],
      "text/plain": [
       "               timestamp  action_type item_id  cursor_time          source  \\\n",
       "21         1565096637922        enter    l504          NaN         archive   \n",
       "22         1565096645773   play_video    l504          0.0         archive   \n",
       "23         1565096651182  pause_video    l504       4805.0         archive   \n",
       "24         1565096652123   play_video    l504       4992.0         archive   \n",
       "25         1565097005408  pause_video    l504     358098.0         archive   \n",
       "...                  ...          ...     ...          ...             ...   \n",
       "131438712  1574760515360         quit    l546          NaN  adaptive_offer   \n",
       "131440043  1574846959021        enter    l357          NaN         archive   \n",
       "131440044  1574846966153   play_video    l357          0.0         archive   \n",
       "131440045  1574847100157  pause_video    l357     134038.0         archive   \n",
       "131440046  1574847105449         quit    l357          NaN         archive   \n",
       "\n",
       "          user_answer platform  user_id  \n",
       "21                      mobile        1  \n",
       "22                      mobile        1  \n",
       "23                      mobile        1  \n",
       "24                      mobile        1  \n",
       "25                      mobile        1  \n",
       "...               ...      ...      ...  \n",
       "131438712               mobile   832396  \n",
       "131440043               mobile   832452  \n",
       "131440044               mobile   832452  \n",
       "131440045               mobile   832452  \n",
       "131440046               mobile   832452  \n",
       "\n",
       "[5029324 rows x 8 columns]"
      ]
     },
     "execution_count": 16,
     "metadata": {},
     "output_type": "execute_result"
    }
   ],
   "source": [
    "ednet_lectures = get_only_lecture_events(ednet_raw)\n",
    "ednet_lectures"
   ]
  },
  {
   "cell_type": "code",
   "execution_count": 17,
   "id": "7d1cf5e1-4f35-49f2-8767-a457de0cc300",
   "metadata": {
    "tags": []
   },
   "outputs": [
    {
     "data": {
      "text/plain": [
       "((5029324, 8), 42828, 971)"
      ]
     },
     "execution_count": 17,
     "metadata": {},
     "output_type": "execute_result"
    }
   ],
   "source": [
    "ednet_lectures.shape, ednet_lectures[USER_COL].nunique(), ednet_lectures[\"item_id\"].nunique()"
   ]
  },
  {
   "cell_type": "code",
   "execution_count": 18,
   "id": "d4649f9d-dc36-4fb5-8a52-b3c3ebb66260",
   "metadata": {
    "tags": []
   },
   "outputs": [],
   "source": [
    "lectures_deduped = ednet_lectures.drop_duplicates()"
   ]
  },
  {
   "cell_type": "code",
   "execution_count": 19,
   "id": "84aafd41-26a1-4794-97e3-4f22dac44aac",
   "metadata": {
    "tags": []
   },
   "outputs": [
    {
     "data": {
      "text/plain": [
       "((5009098, 8), 42828, 971)"
      ]
     },
     "execution_count": 19,
     "metadata": {},
     "output_type": "execute_result"
    }
   ],
   "source": [
    "lectures_deduped.shape, lectures_deduped[USER_COL].nunique(), lectures_deduped[\"item_id\"].nunique()"
   ]
  },
  {
   "cell_type": "code",
   "execution_count": 20,
   "id": "f021d0f5-2d7b-4875-b168-0c7bc2684978",
   "metadata": {
    "tags": []
   },
   "outputs": [
    {
     "name": "stdout",
     "output_type": "stream",
     "text": [
      "CPU times: user 88.3 ms, sys: 98.5 ms, total: 187 ms\n",
      "Wall time: 188 ms\n"
     ]
    }
   ],
   "source": [
    "%%time\n",
    "lectured_user_index = lectures_deduped.set_index(USER_COL)"
   ]
  },
  {
   "cell_type": "code",
   "execution_count": null,
   "id": "792be3cd-1994-4029-bebb-f6ebebf7d79e",
   "metadata": {
    "tags": []
   },
   "outputs": [],
   "source": [
    "lectures_ddf = dd.from_pandas(lectured_user_index, npartitions=10)"
   ]
  },
  {
   "cell_type": "code",
   "execution_count": null,
   "id": "47871806-c57b-4922-87ab-35f1fd8fe7e6",
   "metadata": {
    "tags": []
   },
   "outputs": [],
   "source": [
    "lectures_ddf.divisions"
   ]
  },
  {
   "cell_type": "code",
   "execution_count": null,
   "id": "4ed903e0-2297-46fa-acf7-9345a8e4071a",
   "metadata": {
    "tags": []
   },
   "outputs": [],
   "source": [
    "lectures_ddf.compute().shape"
   ]
  },
  {
   "cell_type": "code",
   "execution_count": 56,
   "id": "ea4c93e8-c820-4deb-951d-a7513dcddf3e",
   "metadata": {},
   "outputs": [],
   "source": [
    "lectures_ddf.to_parquet(ednet_path / \"KT4_lectures\")"
   ]
  },
  {
   "cell_type": "code",
   "execution_count": null,
   "id": "e442976f-8650-4611-854d-078ba30ad49e",
   "metadata": {
    "tags": []
   },
   "outputs": [],
   "source": [
    "lectures_ddf.memory_usage_per_partition().compute()"
   ]
  },
  {
   "cell_type": "markdown",
   "id": "33407de1-f776-49fe-ae37-63664c60572c",
   "metadata": {},
   "source": [
    "#### Verify partitions"
   ]
  },
  {
   "cell_type": "code",
   "execution_count": 3,
   "id": "ac264b82-c6d1-4a73-9cce-25a51aed3b66",
   "metadata": {
    "tags": []
   },
   "outputs": [],
   "source": [
    "import itertools\n",
    "import piso"
   ]
  },
  {
   "cell_type": "code",
   "execution_count": 7,
   "id": "755c0be0-06bc-404b-8051-acf1ac96048c",
   "metadata": {
    "tags": []
   },
   "outputs": [],
   "source": [
    "#Verify partitions\n",
    "partitions_path = ednet_path / \"KT4_lectures\"\n",
    "part2user_id = {i: pd.read_parquet(partitions_path / f\"part.{i}.parquet\", columns=[USER_COL]).index.unique().values for i in range(8)}\n",
    "for i, j in itertools.combinations(part2user_id.keys(), 2):\n",
    "    shared_users = set(part2user_id[i]).intersection(set(part2user_id[j]))\n",
    "    if shared_users:\n",
    "        print(f\"SHARED USERS BETWEEN partition {i} and {j},\\t{len(shared_users)} users\")"
   ]
  }
 ],
 "metadata": {
  "kernelspec": {
   "display_name": "Python 3 (ipykernel)",
   "language": "python",
   "name": "python3"
  },
  "language_info": {
   "codemirror_mode": {
    "name": "ipython",
    "version": 3
   },
   "file_extension": ".py",
   "mimetype": "text/x-python",
   "name": "python",
   "nbconvert_exporter": "python",
   "pygments_lexer": "ipython3",
   "version": "3.8.10"
  }
 },
 "nbformat": 4,
 "nbformat_minor": 5
}
